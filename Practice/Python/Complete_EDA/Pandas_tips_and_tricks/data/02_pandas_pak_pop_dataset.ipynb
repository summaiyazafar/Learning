{
 "cells": [
  {
   "cell_type": "markdown",
   "id": "f3affb5e",
   "metadata": {},
   "source": [
    "## Population dataset in Pakistan:"
   ]
  },
  {
   "cell_type": "code",
   "execution_count": 1,
   "id": "60b3904b",
   "metadata": {},
   "outputs": [],
   "source": [
    "import pandas as pd\n",
    "import seaborn as sns\n",
    "import matplotlib.pyplot as plt"
   ]
  },
  {
   "cell_type": "code",
   "execution_count": 2,
   "id": "75ba4e26",
   "metadata": {},
   "outputs": [],
   "source": [
    "#import the data\n",
    "df = pd.read_csv('data.csv')\n"
   ]
  },
  {
   "cell_type": "markdown",
   "id": "5bacf9db",
   "metadata": {},
   "source": [
    "## Explore the dataset(coomposition):"
   ]
  },
  {
   "cell_type": "code",
   "execution_count": 3,
   "id": "6f9f5ff1",
   "metadata": {},
   "outputs": [
    {
     "name": "stdout",
     "output_type": "stream",
     "text": [
      "<class 'pandas.core.frame.DataFrame'>\n",
      "RangeIndex: 528 entries, 0 to 527\n",
      "Data columns (total 21 columns):\n",
      " #   Column                      Non-Null Count  Dtype  \n",
      "---  ------                      --------------  -----  \n",
      " 0   PROVINCE                    528 non-null    object \n",
      " 1   DIVISION                    528 non-null    object \n",
      " 2   DISTRICT                    528 non-null    object \n",
      " 3   SUB DIVISION                528 non-null    object \n",
      " 4   AREA (sq.km)                528 non-null    float64\n",
      " 5   ALL SEXES (RURAL)           528 non-null    int64  \n",
      " 6   MALE (RURAL)                528 non-null    int64  \n",
      " 7   FEMALE (RURAL)              528 non-null    int64  \n",
      " 8   TRANSGENDER (RURAL)         528 non-null    int64  \n",
      " 9   SEX RATIO (RURAL)           528 non-null    float64\n",
      " 10  AVG HOUSEHOLD SIZE (RURAL)  528 non-null    float64\n",
      " 11  POPULATION 1998 (RURAL)     528 non-null    int64  \n",
      " 12  ANNUAL GROWTH RATE (RURAL)  528 non-null    float64\n",
      " 13  ALL SEXES (URBAN)           528 non-null    int64  \n",
      " 14  MALE (URBAN)                528 non-null    int64  \n",
      " 15  FEMALE (URBAN)              528 non-null    int64  \n",
      " 16  TRANSGENDER (URBAN)         528 non-null    int64  \n",
      " 17  SEX RATIO (URBAN)           528 non-null    float64\n",
      " 18  AVG HOUSEHOLD SIZE (URBAN)  528 non-null    float64\n",
      " 19  POPULATION 1998 (URBAN)     528 non-null    int64  \n",
      " 20  ANNUAL GROWTH RATE (URBAN)  528 non-null    float64\n",
      "dtypes: float64(7), int64(10), object(4)\n",
      "memory usage: 86.8+ KB\n"
     ]
    }
   ],
   "source": [
    "df.info()"
   ]
  },
  {
   "cell_type": "code",
   "execution_count": 4,
   "id": "f6be2308",
   "metadata": {},
   "outputs": [
    {
     "data": {
      "text/html": [
       "<div>\n",
       "<style scoped>\n",
       "    .dataframe tbody tr th:only-of-type {\n",
       "        vertical-align: middle;\n",
       "    }\n",
       "\n",
       "    .dataframe tbody tr th {\n",
       "        vertical-align: top;\n",
       "    }\n",
       "\n",
       "    .dataframe thead th {\n",
       "        text-align: right;\n",
       "    }\n",
       "</style>\n",
       "<table border=\"1\" class=\"dataframe\">\n",
       "  <thead>\n",
       "    <tr style=\"text-align: right;\">\n",
       "      <th></th>\n",
       "      <th>PROVINCE</th>\n",
       "      <th>DIVISION</th>\n",
       "      <th>DISTRICT</th>\n",
       "      <th>SUB DIVISION</th>\n",
       "      <th>AREA (sq.km)</th>\n",
       "      <th>ALL SEXES (RURAL)</th>\n",
       "      <th>MALE (RURAL)</th>\n",
       "      <th>FEMALE (RURAL)</th>\n",
       "      <th>TRANSGENDER (RURAL)</th>\n",
       "      <th>SEX RATIO (RURAL)</th>\n",
       "      <th>...</th>\n",
       "      <th>POPULATION 1998 (RURAL)</th>\n",
       "      <th>ANNUAL GROWTH RATE (RURAL)</th>\n",
       "      <th>ALL SEXES (URBAN)</th>\n",
       "      <th>MALE (URBAN)</th>\n",
       "      <th>FEMALE (URBAN)</th>\n",
       "      <th>TRANSGENDER (URBAN)</th>\n",
       "      <th>SEX RATIO (URBAN)</th>\n",
       "      <th>AVG HOUSEHOLD SIZE (URBAN)</th>\n",
       "      <th>POPULATION 1998 (URBAN)</th>\n",
       "      <th>ANNUAL GROWTH RATE (URBAN)</th>\n",
       "    </tr>\n",
       "  </thead>\n",
       "  <tbody>\n",
       "    <tr>\n",
       "      <th>0</th>\n",
       "      <td>PUNJAB</td>\n",
       "      <td>BAHAWALPUR DIVISION</td>\n",
       "      <td>BAHAWALNAGAR DISTRICT</td>\n",
       "      <td>BAHAWALNAGAR TEHSIL</td>\n",
       "      <td>1729.0</td>\n",
       "      <td>619550</td>\n",
       "      <td>316864</td>\n",
       "      <td>302644</td>\n",
       "      <td>42</td>\n",
       "      <td>104.70</td>\n",
       "      <td>...</td>\n",
       "      <td>407768</td>\n",
       "      <td>2.22</td>\n",
       "      <td>193840</td>\n",
       "      <td>98391</td>\n",
       "      <td>95402</td>\n",
       "      <td>47</td>\n",
       "      <td>103.13</td>\n",
       "      <td>6.02</td>\n",
       "      <td>133785</td>\n",
       "      <td>1.97</td>\n",
       "    </tr>\n",
       "    <tr>\n",
       "      <th>1</th>\n",
       "      <td>PUNJAB</td>\n",
       "      <td>BAHAWALPUR DIVISION</td>\n",
       "      <td>BAHAWALNAGAR DISTRICT</td>\n",
       "      <td>CHISHTIAN TEHSIL</td>\n",
       "      <td>1500.0</td>\n",
       "      <td>540342</td>\n",
       "      <td>273788</td>\n",
       "      <td>266500</td>\n",
       "      <td>54</td>\n",
       "      <td>102.73</td>\n",
       "      <td>...</td>\n",
       "      <td>395983</td>\n",
       "      <td>1.65</td>\n",
       "      <td>149424</td>\n",
       "      <td>75546</td>\n",
       "      <td>73851</td>\n",
       "      <td>27</td>\n",
       "      <td>102.30</td>\n",
       "      <td>6.01</td>\n",
       "      <td>102287</td>\n",
       "      <td>2.01</td>\n",
       "    </tr>\n",
       "    <tr>\n",
       "      <th>2</th>\n",
       "      <td>PUNJAB</td>\n",
       "      <td>BAHAWALPUR DIVISION</td>\n",
       "      <td>BAHAWALNAGAR DISTRICT</td>\n",
       "      <td>FORT ABBAS TEHSIL</td>\n",
       "      <td>2536.0</td>\n",
       "      <td>361240</td>\n",
       "      <td>182655</td>\n",
       "      <td>178541</td>\n",
       "      <td>44</td>\n",
       "      <td>102.30</td>\n",
       "      <td>...</td>\n",
       "      <td>250959</td>\n",
       "      <td>1.93</td>\n",
       "      <td>61528</td>\n",
       "      <td>31360</td>\n",
       "      <td>30150</td>\n",
       "      <td>18</td>\n",
       "      <td>104.01</td>\n",
       "      <td>6.00</td>\n",
       "      <td>34637</td>\n",
       "      <td>3.06</td>\n",
       "    </tr>\n",
       "    <tr>\n",
       "      <th>3</th>\n",
       "      <td>PUNJAB</td>\n",
       "      <td>BAHAWALPUR DIVISION</td>\n",
       "      <td>BAHAWALNAGAR DISTRICT</td>\n",
       "      <td>HAROONABAD TEHSIL</td>\n",
       "      <td>1295.0</td>\n",
       "      <td>382115</td>\n",
       "      <td>192278</td>\n",
       "      <td>189808</td>\n",
       "      <td>29</td>\n",
       "      <td>101.30</td>\n",
       "      <td>...</td>\n",
       "      <td>297343</td>\n",
       "      <td>1.33</td>\n",
       "      <td>142600</td>\n",
       "      <td>71345</td>\n",
       "      <td>71236</td>\n",
       "      <td>19</td>\n",
       "      <td>100.15</td>\n",
       "      <td>6.02</td>\n",
       "      <td>84424</td>\n",
       "      <td>2.79</td>\n",
       "    </tr>\n",
       "    <tr>\n",
       "      <th>4</th>\n",
       "      <td>PUNJAB</td>\n",
       "      <td>BAHAWALPUR DIVISION</td>\n",
       "      <td>BAHAWALNAGAR DISTRICT</td>\n",
       "      <td>MINCHINABAD TEHSIL</td>\n",
       "      <td>1818.0</td>\n",
       "      <td>452723</td>\n",
       "      <td>231506</td>\n",
       "      <td>221178</td>\n",
       "      <td>39</td>\n",
       "      <td>104.67</td>\n",
       "      <td>...</td>\n",
       "      <td>316593</td>\n",
       "      <td>1.90</td>\n",
       "      <td>72294</td>\n",
       "      <td>36694</td>\n",
       "      <td>35590</td>\n",
       "      <td>10</td>\n",
       "      <td>103.10</td>\n",
       "      <td>6.34</td>\n",
       "      <td>37668</td>\n",
       "      <td>3.48</td>\n",
       "    </tr>\n",
       "  </tbody>\n",
       "</table>\n",
       "<p>5 rows × 21 columns</p>\n",
       "</div>"
      ],
      "text/plain": [
       "  PROVINCE             DIVISION               DISTRICT         SUB DIVISION  \\\n",
       "0   PUNJAB  BAHAWALPUR DIVISION  BAHAWALNAGAR DISTRICT  BAHAWALNAGAR TEHSIL   \n",
       "1   PUNJAB  BAHAWALPUR DIVISION  BAHAWALNAGAR DISTRICT     CHISHTIAN TEHSIL   \n",
       "2   PUNJAB  BAHAWALPUR DIVISION  BAHAWALNAGAR DISTRICT    FORT ABBAS TEHSIL   \n",
       "3   PUNJAB  BAHAWALPUR DIVISION  BAHAWALNAGAR DISTRICT    HAROONABAD TEHSIL   \n",
       "4   PUNJAB  BAHAWALPUR DIVISION  BAHAWALNAGAR DISTRICT   MINCHINABAD TEHSIL   \n",
       "\n",
       "   AREA (sq.km)  ALL SEXES (RURAL)  MALE (RURAL)  FEMALE (RURAL)  \\\n",
       "0        1729.0             619550        316864          302644   \n",
       "1        1500.0             540342        273788          266500   \n",
       "2        2536.0             361240        182655          178541   \n",
       "3        1295.0             382115        192278          189808   \n",
       "4        1818.0             452723        231506          221178   \n",
       "\n",
       "   TRANSGENDER (RURAL)  SEX RATIO (RURAL)  ...  POPULATION 1998 (RURAL)  \\\n",
       "0                   42             104.70  ...                   407768   \n",
       "1                   54             102.73  ...                   395983   \n",
       "2                   44             102.30  ...                   250959   \n",
       "3                   29             101.30  ...                   297343   \n",
       "4                   39             104.67  ...                   316593   \n",
       "\n",
       "   ANNUAL GROWTH RATE (RURAL)  ALL SEXES (URBAN)  MALE (URBAN)  \\\n",
       "0                        2.22             193840         98391   \n",
       "1                        1.65             149424         75546   \n",
       "2                        1.93              61528         31360   \n",
       "3                        1.33             142600         71345   \n",
       "4                        1.90              72294         36694   \n",
       "\n",
       "   FEMALE (URBAN)  TRANSGENDER (URBAN)  SEX RATIO (URBAN)  \\\n",
       "0           95402                   47             103.13   \n",
       "1           73851                   27             102.30   \n",
       "2           30150                   18             104.01   \n",
       "3           71236                   19             100.15   \n",
       "4           35590                   10             103.10   \n",
       "\n",
       "   AVG HOUSEHOLD SIZE (URBAN)  POPULATION 1998 (URBAN)  \\\n",
       "0                        6.02                   133785   \n",
       "1                        6.01                   102287   \n",
       "2                        6.00                    34637   \n",
       "3                        6.02                    84424   \n",
       "4                        6.34                    37668   \n",
       "\n",
       "   ANNUAL GROWTH RATE (URBAN)  \n",
       "0                        1.97  \n",
       "1                        2.01  \n",
       "2                        3.06  \n",
       "3                        2.79  \n",
       "4                        3.48  \n",
       "\n",
       "[5 rows x 21 columns]"
      ]
     },
     "execution_count": 4,
     "metadata": {},
     "output_type": "execute_result"
    }
   ],
   "source": [
    "df.head()"
   ]
  },
  {
   "cell_type": "markdown",
   "id": "71c3d055",
   "metadata": {},
   "source": [
    "## Max columns printing option(i.e. remove the .... and print the all columns):"
   ]
  },
  {
   "cell_type": "code",
   "execution_count": 5,
   "id": "441998f0",
   "metadata": {},
   "outputs": [],
   "source": [
    "pd.set_option('display.max_columns', None)"
   ]
  },
  {
   "cell_type": "code",
   "execution_count": 6,
   "id": "714a794e",
   "metadata": {},
   "outputs": [
    {
     "data": {
      "text/html": [
       "<div>\n",
       "<style scoped>\n",
       "    .dataframe tbody tr th:only-of-type {\n",
       "        vertical-align: middle;\n",
       "    }\n",
       "\n",
       "    .dataframe tbody tr th {\n",
       "        vertical-align: top;\n",
       "    }\n",
       "\n",
       "    .dataframe thead th {\n",
       "        text-align: right;\n",
       "    }\n",
       "</style>\n",
       "<table border=\"1\" class=\"dataframe\">\n",
       "  <thead>\n",
       "    <tr style=\"text-align: right;\">\n",
       "      <th></th>\n",
       "      <th>PROVINCE</th>\n",
       "      <th>DIVISION</th>\n",
       "      <th>DISTRICT</th>\n",
       "      <th>SUB DIVISION</th>\n",
       "      <th>AREA (sq.km)</th>\n",
       "      <th>ALL SEXES (RURAL)</th>\n",
       "      <th>MALE (RURAL)</th>\n",
       "      <th>FEMALE (RURAL)</th>\n",
       "      <th>TRANSGENDER (RURAL)</th>\n",
       "      <th>SEX RATIO (RURAL)</th>\n",
       "      <th>AVG HOUSEHOLD SIZE (RURAL)</th>\n",
       "      <th>POPULATION 1998 (RURAL)</th>\n",
       "      <th>ANNUAL GROWTH RATE (RURAL)</th>\n",
       "      <th>ALL SEXES (URBAN)</th>\n",
       "      <th>MALE (URBAN)</th>\n",
       "      <th>FEMALE (URBAN)</th>\n",
       "      <th>TRANSGENDER (URBAN)</th>\n",
       "      <th>SEX RATIO (URBAN)</th>\n",
       "      <th>AVG HOUSEHOLD SIZE (URBAN)</th>\n",
       "      <th>POPULATION 1998 (URBAN)</th>\n",
       "      <th>ANNUAL GROWTH RATE (URBAN)</th>\n",
       "    </tr>\n",
       "  </thead>\n",
       "  <tbody>\n",
       "    <tr>\n",
       "      <th>0</th>\n",
       "      <td>PUNJAB</td>\n",
       "      <td>BAHAWALPUR DIVISION</td>\n",
       "      <td>BAHAWALNAGAR DISTRICT</td>\n",
       "      <td>BAHAWALNAGAR TEHSIL</td>\n",
       "      <td>1729.0</td>\n",
       "      <td>619550</td>\n",
       "      <td>316864</td>\n",
       "      <td>302644</td>\n",
       "      <td>42</td>\n",
       "      <td>104.70</td>\n",
       "      <td>6.10</td>\n",
       "      <td>407768</td>\n",
       "      <td>2.22</td>\n",
       "      <td>193840</td>\n",
       "      <td>98391</td>\n",
       "      <td>95402</td>\n",
       "      <td>47</td>\n",
       "      <td>103.13</td>\n",
       "      <td>6.02</td>\n",
       "      <td>133785</td>\n",
       "      <td>1.97</td>\n",
       "    </tr>\n",
       "    <tr>\n",
       "      <th>1</th>\n",
       "      <td>PUNJAB</td>\n",
       "      <td>BAHAWALPUR DIVISION</td>\n",
       "      <td>BAHAWALNAGAR DISTRICT</td>\n",
       "      <td>CHISHTIAN TEHSIL</td>\n",
       "      <td>1500.0</td>\n",
       "      <td>540342</td>\n",
       "      <td>273788</td>\n",
       "      <td>266500</td>\n",
       "      <td>54</td>\n",
       "      <td>102.73</td>\n",
       "      <td>6.15</td>\n",
       "      <td>395983</td>\n",
       "      <td>1.65</td>\n",
       "      <td>149424</td>\n",
       "      <td>75546</td>\n",
       "      <td>73851</td>\n",
       "      <td>27</td>\n",
       "      <td>102.30</td>\n",
       "      <td>6.01</td>\n",
       "      <td>102287</td>\n",
       "      <td>2.01</td>\n",
       "    </tr>\n",
       "    <tr>\n",
       "      <th>2</th>\n",
       "      <td>PUNJAB</td>\n",
       "      <td>BAHAWALPUR DIVISION</td>\n",
       "      <td>BAHAWALNAGAR DISTRICT</td>\n",
       "      <td>FORT ABBAS TEHSIL</td>\n",
       "      <td>2536.0</td>\n",
       "      <td>361240</td>\n",
       "      <td>182655</td>\n",
       "      <td>178541</td>\n",
       "      <td>44</td>\n",
       "      <td>102.30</td>\n",
       "      <td>6.32</td>\n",
       "      <td>250959</td>\n",
       "      <td>1.93</td>\n",
       "      <td>61528</td>\n",
       "      <td>31360</td>\n",
       "      <td>30150</td>\n",
       "      <td>18</td>\n",
       "      <td>104.01</td>\n",
       "      <td>6.00</td>\n",
       "      <td>34637</td>\n",
       "      <td>3.06</td>\n",
       "    </tr>\n",
       "    <tr>\n",
       "      <th>3</th>\n",
       "      <td>PUNJAB</td>\n",
       "      <td>BAHAWALPUR DIVISION</td>\n",
       "      <td>BAHAWALNAGAR DISTRICT</td>\n",
       "      <td>HAROONABAD TEHSIL</td>\n",
       "      <td>1295.0</td>\n",
       "      <td>382115</td>\n",
       "      <td>192278</td>\n",
       "      <td>189808</td>\n",
       "      <td>29</td>\n",
       "      <td>101.30</td>\n",
       "      <td>6.15</td>\n",
       "      <td>297343</td>\n",
       "      <td>1.33</td>\n",
       "      <td>142600</td>\n",
       "      <td>71345</td>\n",
       "      <td>71236</td>\n",
       "      <td>19</td>\n",
       "      <td>100.15</td>\n",
       "      <td>6.02</td>\n",
       "      <td>84424</td>\n",
       "      <td>2.79</td>\n",
       "    </tr>\n",
       "    <tr>\n",
       "      <th>4</th>\n",
       "      <td>PUNJAB</td>\n",
       "      <td>BAHAWALPUR DIVISION</td>\n",
       "      <td>BAHAWALNAGAR DISTRICT</td>\n",
       "      <td>MINCHINABAD TEHSIL</td>\n",
       "      <td>1818.0</td>\n",
       "      <td>452723</td>\n",
       "      <td>231506</td>\n",
       "      <td>221178</td>\n",
       "      <td>39</td>\n",
       "      <td>104.67</td>\n",
       "      <td>6.29</td>\n",
       "      <td>316593</td>\n",
       "      <td>1.90</td>\n",
       "      <td>72294</td>\n",
       "      <td>36694</td>\n",
       "      <td>35590</td>\n",
       "      <td>10</td>\n",
       "      <td>103.10</td>\n",
       "      <td>6.34</td>\n",
       "      <td>37668</td>\n",
       "      <td>3.48</td>\n",
       "    </tr>\n",
       "  </tbody>\n",
       "</table>\n",
       "</div>"
      ],
      "text/plain": [
       "  PROVINCE             DIVISION               DISTRICT         SUB DIVISION  \\\n",
       "0   PUNJAB  BAHAWALPUR DIVISION  BAHAWALNAGAR DISTRICT  BAHAWALNAGAR TEHSIL   \n",
       "1   PUNJAB  BAHAWALPUR DIVISION  BAHAWALNAGAR DISTRICT     CHISHTIAN TEHSIL   \n",
       "2   PUNJAB  BAHAWALPUR DIVISION  BAHAWALNAGAR DISTRICT    FORT ABBAS TEHSIL   \n",
       "3   PUNJAB  BAHAWALPUR DIVISION  BAHAWALNAGAR DISTRICT    HAROONABAD TEHSIL   \n",
       "4   PUNJAB  BAHAWALPUR DIVISION  BAHAWALNAGAR DISTRICT   MINCHINABAD TEHSIL   \n",
       "\n",
       "   AREA (sq.km)  ALL SEXES (RURAL)  MALE (RURAL)  FEMALE (RURAL)  \\\n",
       "0        1729.0             619550        316864          302644   \n",
       "1        1500.0             540342        273788          266500   \n",
       "2        2536.0             361240        182655          178541   \n",
       "3        1295.0             382115        192278          189808   \n",
       "4        1818.0             452723        231506          221178   \n",
       "\n",
       "   TRANSGENDER (RURAL)  SEX RATIO (RURAL)  AVG HOUSEHOLD SIZE (RURAL)  \\\n",
       "0                   42             104.70                        6.10   \n",
       "1                   54             102.73                        6.15   \n",
       "2                   44             102.30                        6.32   \n",
       "3                   29             101.30                        6.15   \n",
       "4                   39             104.67                        6.29   \n",
       "\n",
       "   POPULATION 1998 (RURAL)  ANNUAL GROWTH RATE (RURAL)  ALL SEXES (URBAN)  \\\n",
       "0                   407768                        2.22             193840   \n",
       "1                   395983                        1.65             149424   \n",
       "2                   250959                        1.93              61528   \n",
       "3                   297343                        1.33             142600   \n",
       "4                   316593                        1.90              72294   \n",
       "\n",
       "   MALE (URBAN)  FEMALE (URBAN)  TRANSGENDER (URBAN)  SEX RATIO (URBAN)  \\\n",
       "0         98391           95402                   47             103.13   \n",
       "1         75546           73851                   27             102.30   \n",
       "2         31360           30150                   18             104.01   \n",
       "3         71345           71236                   19             100.15   \n",
       "4         36694           35590                   10             103.10   \n",
       "\n",
       "   AVG HOUSEHOLD SIZE (URBAN)  POPULATION 1998 (URBAN)  \\\n",
       "0                        6.02                   133785   \n",
       "1                        6.01                   102287   \n",
       "2                        6.00                    34637   \n",
       "3                        6.02                    84424   \n",
       "4                        6.34                    37668   \n",
       "\n",
       "   ANNUAL GROWTH RATE (URBAN)  \n",
       "0                        1.97  \n",
       "1                        2.01  \n",
       "2                        3.06  \n",
       "3                        2.79  \n",
       "4                        3.48  "
      ]
     },
     "execution_count": 6,
     "metadata": {},
     "output_type": "execute_result"
    }
   ],
   "source": [
    "df.head()"
   ]
  },
  {
   "cell_type": "markdown",
   "id": "537b7f85",
   "metadata": {},
   "source": [
    "## See columns name:"
   ]
  },
  {
   "cell_type": "code",
   "execution_count": 7,
   "id": "51b817fa",
   "metadata": {},
   "outputs": [
    {
     "data": {
      "text/plain": [
       "Index(['PROVINCE', 'DIVISION', 'DISTRICT', 'SUB DIVISION', 'AREA (sq.km)',\n",
       "       'ALL SEXES (RURAL)', 'MALE (RURAL)', 'FEMALE (RURAL)',\n",
       "       'TRANSGENDER (RURAL)', 'SEX RATIO (RURAL)',\n",
       "       'AVG HOUSEHOLD SIZE (RURAL)', 'POPULATION 1998 (RURAL)',\n",
       "       'ANNUAL GROWTH RATE (RURAL)', 'ALL SEXES (URBAN)', 'MALE (URBAN)',\n",
       "       'FEMALE (URBAN)', 'TRANSGENDER (URBAN)', 'SEX RATIO (URBAN)',\n",
       "       'AVG HOUSEHOLD SIZE (URBAN)', 'POPULATION 1998 (URBAN)',\n",
       "       'ANNUAL GROWTH RATE (URBAN)'],\n",
       "      dtype='object')"
      ]
     },
     "execution_count": 7,
     "metadata": {},
     "output_type": "execute_result"
    }
   ],
   "source": [
    "df.columns"
   ]
  },
  {
   "cell_type": "markdown",
   "id": "96b556ec",
   "metadata": {},
   "source": [
    "## Check datatypes(we can sea dtypes in info columns):"
   ]
  },
  {
   "cell_type": "code",
   "execution_count": 8,
   "id": "7b43b8bd",
   "metadata": {},
   "outputs": [
    {
     "data": {
      "text/plain": [
       "PROVINCE                       object\n",
       "DIVISION                       object\n",
       "DISTRICT                       object\n",
       "SUB DIVISION                   object\n",
       "AREA (sq.km)                  float64\n",
       "ALL SEXES (RURAL)               int64\n",
       "MALE (RURAL)                    int64\n",
       "FEMALE (RURAL)                  int64\n",
       "TRANSGENDER (RURAL)             int64\n",
       "SEX RATIO (RURAL)             float64\n",
       "AVG HOUSEHOLD SIZE (RURAL)    float64\n",
       "POPULATION 1998 (RURAL)         int64\n",
       "ANNUAL GROWTH RATE (RURAL)    float64\n",
       "ALL SEXES (URBAN)               int64\n",
       "MALE (URBAN)                    int64\n",
       "FEMALE (URBAN)                  int64\n",
       "TRANSGENDER (URBAN)             int64\n",
       "SEX RATIO (URBAN)             float64\n",
       "AVG HOUSEHOLD SIZE (URBAN)    float64\n",
       "POPULATION 1998 (URBAN)         int64\n",
       "ANNUAL GROWTH RATE (URBAN)    float64\n",
       "dtype: object"
      ]
     },
     "execution_count": 8,
     "metadata": {},
     "output_type": "execute_result"
    }
   ],
   "source": [
    "df.dtypes"
   ]
  },
  {
   "cell_type": "markdown",
   "id": "0acc90a0",
   "metadata": {},
   "source": [
    "## Summary:"
   ]
  },
  {
   "cell_type": "code",
   "execution_count": 9,
   "id": "a6df7ca1",
   "metadata": {},
   "outputs": [
    {
     "data": {
      "text/html": [
       "<div>\n",
       "<style scoped>\n",
       "    .dataframe tbody tr th:only-of-type {\n",
       "        vertical-align: middle;\n",
       "    }\n",
       "\n",
       "    .dataframe tbody tr th {\n",
       "        vertical-align: top;\n",
       "    }\n",
       "\n",
       "    .dataframe thead th {\n",
       "        text-align: right;\n",
       "    }\n",
       "</style>\n",
       "<table border=\"1\" class=\"dataframe\">\n",
       "  <thead>\n",
       "    <tr style=\"text-align: right;\">\n",
       "      <th></th>\n",
       "      <th>AREA (sq.km)</th>\n",
       "      <th>ALL SEXES (RURAL)</th>\n",
       "      <th>MALE (RURAL)</th>\n",
       "      <th>FEMALE (RURAL)</th>\n",
       "      <th>TRANSGENDER (RURAL)</th>\n",
       "      <th>SEX RATIO (RURAL)</th>\n",
       "      <th>AVG HOUSEHOLD SIZE (RURAL)</th>\n",
       "      <th>POPULATION 1998 (RURAL)</th>\n",
       "      <th>ANNUAL GROWTH RATE (RURAL)</th>\n",
       "      <th>ALL SEXES (URBAN)</th>\n",
       "      <th>MALE (URBAN)</th>\n",
       "      <th>FEMALE (URBAN)</th>\n",
       "      <th>TRANSGENDER (URBAN)</th>\n",
       "      <th>SEX RATIO (URBAN)</th>\n",
       "      <th>AVG HOUSEHOLD SIZE (URBAN)</th>\n",
       "      <th>POPULATION 1998 (URBAN)</th>\n",
       "      <th>ANNUAL GROWTH RATE (URBAN)</th>\n",
       "    </tr>\n",
       "  </thead>\n",
       "  <tbody>\n",
       "    <tr>\n",
       "      <th>count</th>\n",
       "      <td>528.000000</td>\n",
       "      <td>5.280000e+02</td>\n",
       "      <td>5.280000e+02</td>\n",
       "      <td>5.280000e+02</td>\n",
       "      <td>528.000000</td>\n",
       "      <td>528.000000</td>\n",
       "      <td>528.000000</td>\n",
       "      <td>5.280000e+02</td>\n",
       "      <td>528.000000</td>\n",
       "      <td>5.280000e+02</td>\n",
       "      <td>5.280000e+02</td>\n",
       "      <td>5.280000e+02</td>\n",
       "      <td>528.000000</td>\n",
       "      <td>528.000000</td>\n",
       "      <td>528.000000</td>\n",
       "      <td>5.280000e+02</td>\n",
       "      <td>528.000000</td>\n",
       "    </tr>\n",
       "    <tr>\n",
       "      <th>mean</th>\n",
       "      <td>1492.005871</td>\n",
       "      <td>2.462780e+05</td>\n",
       "      <td>1.252757e+05</td>\n",
       "      <td>1.209841e+05</td>\n",
       "      <td>18.174242</td>\n",
       "      <td>98.982614</td>\n",
       "      <td>6.277064</td>\n",
       "      <td>1.674280e+05</td>\n",
       "      <td>3.124792</td>\n",
       "      <td>1.408635e+05</td>\n",
       "      <td>7.284339e+04</td>\n",
       "      <td>6.799787e+04</td>\n",
       "      <td>22.276515</td>\n",
       "      <td>75.411269</td>\n",
       "      <td>4.406402</td>\n",
       "      <td>8.014457e+04</td>\n",
       "      <td>1.920814</td>\n",
       "    </tr>\n",
       "    <tr>\n",
       "      <th>std</th>\n",
       "      <td>2039.453778</td>\n",
       "      <td>2.711898e+05</td>\n",
       "      <td>1.375630e+05</td>\n",
       "      <td>1.337169e+05</td>\n",
       "      <td>25.522248</td>\n",
       "      <td>26.812660</td>\n",
       "      <td>2.074947</td>\n",
       "      <td>1.783890e+05</td>\n",
       "      <td>9.577872</td>\n",
       "      <td>3.512463e+05</td>\n",
       "      <td>1.823492e+05</td>\n",
       "      <td>1.688725e+05</td>\n",
       "      <td>66.068127</td>\n",
       "      <td>49.687341</td>\n",
       "      <td>2.948336</td>\n",
       "      <td>2.023120e+05</td>\n",
       "      <td>2.098908</td>\n",
       "    </tr>\n",
       "    <tr>\n",
       "      <th>min</th>\n",
       "      <td>0.000000</td>\n",
       "      <td>0.000000e+00</td>\n",
       "      <td>0.000000e+00</td>\n",
       "      <td>0.000000e+00</td>\n",
       "      <td>0.000000</td>\n",
       "      <td>0.000000</td>\n",
       "      <td>0.000000</td>\n",
       "      <td>0.000000e+00</td>\n",
       "      <td>0.000000</td>\n",
       "      <td>0.000000e+00</td>\n",
       "      <td>0.000000e+00</td>\n",
       "      <td>0.000000e+00</td>\n",
       "      <td>0.000000</td>\n",
       "      <td>0.000000</td>\n",
       "      <td>0.000000</td>\n",
       "      <td>0.000000e+00</td>\n",
       "      <td>0.000000</td>\n",
       "    </tr>\n",
       "    <tr>\n",
       "      <th>25%</th>\n",
       "      <td>425.000000</td>\n",
       "      <td>5.093450e+04</td>\n",
       "      <td>2.712725e+04</td>\n",
       "      <td>2.397900e+04</td>\n",
       "      <td>1.000000</td>\n",
       "      <td>101.105000</td>\n",
       "      <td>5.700000</td>\n",
       "      <td>3.527350e+04</td>\n",
       "      <td>1.440000</td>\n",
       "      <td>0.000000e+00</td>\n",
       "      <td>0.000000e+00</td>\n",
       "      <td>0.000000e+00</td>\n",
       "      <td>0.000000</td>\n",
       "      <td>0.000000</td>\n",
       "      <td>0.000000</td>\n",
       "      <td>0.000000e+00</td>\n",
       "      <td>0.000000</td>\n",
       "    </tr>\n",
       "    <tr>\n",
       "      <th>50%</th>\n",
       "      <td>882.000000</td>\n",
       "      <td>1.652410e+05</td>\n",
       "      <td>8.413450e+04</td>\n",
       "      <td>8.204400e+04</td>\n",
       "      <td>10.000000</td>\n",
       "      <td>105.285000</td>\n",
       "      <td>6.310000</td>\n",
       "      <td>1.172065e+05</td>\n",
       "      <td>2.030000</td>\n",
       "      <td>4.325450e+04</td>\n",
       "      <td>2.198000e+04</td>\n",
       "      <td>2.099900e+04</td>\n",
       "      <td>3.000000</td>\n",
       "      <td>103.195000</td>\n",
       "      <td>5.755000</td>\n",
       "      <td>2.129800e+04</td>\n",
       "      <td>1.855000</td>\n",
       "    </tr>\n",
       "    <tr>\n",
       "      <th>75%</th>\n",
       "      <td>1734.250000</td>\n",
       "      <td>3.129112e+05</td>\n",
       "      <td>1.605022e+05</td>\n",
       "      <td>1.522190e+05</td>\n",
       "      <td>25.000000</td>\n",
       "      <td>108.347500</td>\n",
       "      <td>7.200000</td>\n",
       "      <td>2.130542e+05</td>\n",
       "      <td>2.812500</td>\n",
       "      <td>1.178148e+05</td>\n",
       "      <td>6.030175e+04</td>\n",
       "      <td>5.746525e+04</td>\n",
       "      <td>19.000000</td>\n",
       "      <td>107.040000</td>\n",
       "      <td>6.340000</td>\n",
       "      <td>6.542225e+04</td>\n",
       "      <td>2.985000</td>\n",
       "    </tr>\n",
       "    <tr>\n",
       "      <th>max</th>\n",
       "      <td>18374.000000</td>\n",
       "      <td>2.297375e+06</td>\n",
       "      <td>1.172995e+06</td>\n",
       "      <td>1.124167e+06</td>\n",
       "      <td>213.000000</td>\n",
       "      <td>139.380000</td>\n",
       "      <td>12.430000</td>\n",
       "      <td>1.044035e+06</td>\n",
       "      <td>100.000000</td>\n",
       "      <td>3.653616e+06</td>\n",
       "      <td>1.905921e+06</td>\n",
       "      <td>1.746900e+06</td>\n",
       "      <td>795.000000</td>\n",
       "      <td>297.810000</td>\n",
       "      <td>10.060000</td>\n",
       "      <td>2.075867e+06</td>\n",
       "      <td>19.780000</td>\n",
       "    </tr>\n",
       "  </tbody>\n",
       "</table>\n",
       "</div>"
      ],
      "text/plain": [
       "       AREA (sq.km)  ALL SEXES (RURAL)  MALE (RURAL)  FEMALE (RURAL)  \\\n",
       "count    528.000000       5.280000e+02  5.280000e+02    5.280000e+02   \n",
       "mean    1492.005871       2.462780e+05  1.252757e+05    1.209841e+05   \n",
       "std     2039.453778       2.711898e+05  1.375630e+05    1.337169e+05   \n",
       "min        0.000000       0.000000e+00  0.000000e+00    0.000000e+00   \n",
       "25%      425.000000       5.093450e+04  2.712725e+04    2.397900e+04   \n",
       "50%      882.000000       1.652410e+05  8.413450e+04    8.204400e+04   \n",
       "75%     1734.250000       3.129112e+05  1.605022e+05    1.522190e+05   \n",
       "max    18374.000000       2.297375e+06  1.172995e+06    1.124167e+06   \n",
       "\n",
       "       TRANSGENDER (RURAL)  SEX RATIO (RURAL)  AVG HOUSEHOLD SIZE (RURAL)  \\\n",
       "count           528.000000         528.000000                  528.000000   \n",
       "mean             18.174242          98.982614                    6.277064   \n",
       "std              25.522248          26.812660                    2.074947   \n",
       "min               0.000000           0.000000                    0.000000   \n",
       "25%               1.000000         101.105000                    5.700000   \n",
       "50%              10.000000         105.285000                    6.310000   \n",
       "75%              25.000000         108.347500                    7.200000   \n",
       "max             213.000000         139.380000                   12.430000   \n",
       "\n",
       "       POPULATION 1998 (RURAL)  ANNUAL GROWTH RATE (RURAL)  ALL SEXES (URBAN)  \\\n",
       "count             5.280000e+02                  528.000000       5.280000e+02   \n",
       "mean              1.674280e+05                    3.124792       1.408635e+05   \n",
       "std               1.783890e+05                    9.577872       3.512463e+05   \n",
       "min               0.000000e+00                    0.000000       0.000000e+00   \n",
       "25%               3.527350e+04                    1.440000       0.000000e+00   \n",
       "50%               1.172065e+05                    2.030000       4.325450e+04   \n",
       "75%               2.130542e+05                    2.812500       1.178148e+05   \n",
       "max               1.044035e+06                  100.000000       3.653616e+06   \n",
       "\n",
       "       MALE (URBAN)  FEMALE (URBAN)  TRANSGENDER (URBAN)  SEX RATIO (URBAN)  \\\n",
       "count  5.280000e+02    5.280000e+02           528.000000         528.000000   \n",
       "mean   7.284339e+04    6.799787e+04            22.276515          75.411269   \n",
       "std    1.823492e+05    1.688725e+05            66.068127          49.687341   \n",
       "min    0.000000e+00    0.000000e+00             0.000000           0.000000   \n",
       "25%    0.000000e+00    0.000000e+00             0.000000           0.000000   \n",
       "50%    2.198000e+04    2.099900e+04             3.000000         103.195000   \n",
       "75%    6.030175e+04    5.746525e+04            19.000000         107.040000   \n",
       "max    1.905921e+06    1.746900e+06           795.000000         297.810000   \n",
       "\n",
       "       AVG HOUSEHOLD SIZE (URBAN)  POPULATION 1998 (URBAN)  \\\n",
       "count                  528.000000             5.280000e+02   \n",
       "mean                     4.406402             8.014457e+04   \n",
       "std                      2.948336             2.023120e+05   \n",
       "min                      0.000000             0.000000e+00   \n",
       "25%                      0.000000             0.000000e+00   \n",
       "50%                      5.755000             2.129800e+04   \n",
       "75%                      6.340000             6.542225e+04   \n",
       "max                     10.060000             2.075867e+06   \n",
       "\n",
       "       ANNUAL GROWTH RATE (URBAN)  \n",
       "count                  528.000000  \n",
       "mean                     1.920814  \n",
       "std                      2.098908  \n",
       "min                      0.000000  \n",
       "25%                      0.000000  \n",
       "50%                      1.855000  \n",
       "75%                      2.985000  \n",
       "max                     19.780000  "
      ]
     },
     "execution_count": 9,
     "metadata": {},
     "output_type": "execute_result"
    }
   ],
   "source": [
    "df.describe()"
   ]
  },
  {
   "cell_type": "markdown",
   "id": "4957e150",
   "metadata": {},
   "source": [
    "## We check the missing values:"
   ]
  },
  {
   "cell_type": "code",
   "execution_count": 10,
   "id": "0bf3e6c4",
   "metadata": {},
   "outputs": [
    {
     "data": {
      "text/plain": [
       "PROVINCE                      0\n",
       "DIVISION                      0\n",
       "DISTRICT                      0\n",
       "SUB DIVISION                  0\n",
       "AREA (sq.km)                  0\n",
       "ALL SEXES (RURAL)             0\n",
       "MALE (RURAL)                  0\n",
       "FEMALE (RURAL)                0\n",
       "TRANSGENDER (RURAL)           0\n",
       "SEX RATIO (RURAL)             0\n",
       "AVG HOUSEHOLD SIZE (RURAL)    0\n",
       "POPULATION 1998 (RURAL)       0\n",
       "ANNUAL GROWTH RATE (RURAL)    0\n",
       "ALL SEXES (URBAN)             0\n",
       "MALE (URBAN)                  0\n",
       "FEMALE (URBAN)                0\n",
       "TRANSGENDER (URBAN)           0\n",
       "SEX RATIO (URBAN)             0\n",
       "AVG HOUSEHOLD SIZE (URBAN)    0\n",
       "POPULATION 1998 (URBAN)       0\n",
       "ANNUAL GROWTH RATE (URBAN)    0\n",
       "dtype: int64"
      ]
     },
     "execution_count": 10,
     "metadata": {},
     "output_type": "execute_result"
    }
   ],
   "source": [
    "df.isnull().sum()"
   ]
  },
  {
   "cell_type": "code",
   "execution_count": 11,
   "id": "12a7a0fa",
   "metadata": {},
   "outputs": [
    {
     "data": {
      "text/plain": [
       "<Axes: ylabel='AREA (sq.km)'>"
      ]
     },
     "execution_count": 11,
     "metadata": {},
     "output_type": "execute_result"
    },
    {
     "data": {
      "image/png": "[encoded data removed]",
      "text/plain": [
       "<Figure size 640x480 with 1 Axes>"
      ]
     },
     "metadata": {},
     "output_type": "display_data"
    }
   ],
   "source": [
    "sns.boxplot(df, y='AREA (sq.km)')"
   ]
  },
  {
   "cell_type": "code",
   "execution_count": 12,
   "id": "364b1736",
   "metadata": {},
   "outputs": [
    {
     "data": {
      "text/plain": [
       "<Axes: xlabel='AREA (sq.km)', ylabel='Count'>"
      ]
     },
     "execution_count": 12,
     "metadata": {},
     "output_type": "execute_result"
    },
    {
     "data": {
      "image/png": "[encoded data removed]",
      "text/plain": [
       "<Figure size 640x480 with 1 Axes>"
      ]
     },
     "metadata": {},
     "output_type": "display_data"
    }
   ],
   "source": [
    "sns.histplot(df, x='AREA (sq.km)')"
   ]
  },
  {
   "cell_type": "code",
   "execution_count": 13,
   "id": "892bf7c2",
   "metadata": {},
   "outputs": [
    {
     "data": {
      "text/html": [
       "<div>\n",
       "<style scoped>\n",
       "    .dataframe tbody tr th:only-of-type {\n",
       "        vertical-align: middle;\n",
       "    }\n",
       "\n",
       "    .dataframe tbody tr th {\n",
       "        vertical-align: top;\n",
       "    }\n",
       "\n",
       "    .dataframe thead th {\n",
       "        text-align: right;\n",
       "    }\n",
       "</style>\n",
       "<table border=\"1\" class=\"dataframe\">\n",
       "  <thead>\n",
       "    <tr style=\"text-align: right;\">\n",
       "      <th></th>\n",
       "      <th>count</th>\n",
       "      <th>mean</th>\n",
       "      <th>std</th>\n",
       "      <th>min</th>\n",
       "      <th>25%</th>\n",
       "      <th>50%</th>\n",
       "      <th>75%</th>\n",
       "      <th>max</th>\n",
       "    </tr>\n",
       "  </thead>\n",
       "  <tbody>\n",
       "    <tr>\n",
       "      <th>AREA (sq.km)</th>\n",
       "      <td>528.0</td>\n",
       "      <td>1492.005871</td>\n",
       "      <td>2039.453778</td>\n",
       "      <td>0.0</td>\n",
       "      <td>425.000</td>\n",
       "      <td>882.000</td>\n",
       "      <td>1734.2500</td>\n",
       "      <td>18374.00</td>\n",
       "    </tr>\n",
       "    <tr>\n",
       "      <th>ALL SEXES (RURAL)</th>\n",
       "      <td>528.0</td>\n",
       "      <td>246278.011364</td>\n",
       "      <td>271189.816559</td>\n",
       "      <td>0.0</td>\n",
       "      <td>50934.500</td>\n",
       "      <td>165241.000</td>\n",
       "      <td>312911.2500</td>\n",
       "      <td>2297375.00</td>\n",
       "    </tr>\n",
       "    <tr>\n",
       "      <th>MALE (RURAL)</th>\n",
       "      <td>528.0</td>\n",
       "      <td>125275.687500</td>\n",
       "      <td>137563.021458</td>\n",
       "      <td>0.0</td>\n",
       "      <td>27127.250</td>\n",
       "      <td>84134.500</td>\n",
       "      <td>160502.2500</td>\n",
       "      <td>1172995.00</td>\n",
       "    </tr>\n",
       "    <tr>\n",
       "      <th>FEMALE (RURAL)</th>\n",
       "      <td>528.0</td>\n",
       "      <td>120984.149621</td>\n",
       "      <td>133716.898296</td>\n",
       "      <td>0.0</td>\n",
       "      <td>23979.000</td>\n",
       "      <td>82044.000</td>\n",
       "      <td>152219.0000</td>\n",
       "      <td>1124167.00</td>\n",
       "    </tr>\n",
       "    <tr>\n",
       "      <th>TRANSGENDER (RURAL)</th>\n",
       "      <td>528.0</td>\n",
       "      <td>18.174242</td>\n",
       "      <td>25.522248</td>\n",
       "      <td>0.0</td>\n",
       "      <td>1.000</td>\n",
       "      <td>10.000</td>\n",
       "      <td>25.0000</td>\n",
       "      <td>213.00</td>\n",
       "    </tr>\n",
       "    <tr>\n",
       "      <th>SEX RATIO (RURAL)</th>\n",
       "      <td>528.0</td>\n",
       "      <td>98.982614</td>\n",
       "      <td>26.812660</td>\n",
       "      <td>0.0</td>\n",
       "      <td>101.105</td>\n",
       "      <td>105.285</td>\n",
       "      <td>108.3475</td>\n",
       "      <td>139.38</td>\n",
       "    </tr>\n",
       "    <tr>\n",
       "      <th>AVG HOUSEHOLD SIZE (RURAL)</th>\n",
       "      <td>528.0</td>\n",
       "      <td>6.277064</td>\n",
       "      <td>2.074947</td>\n",
       "      <td>0.0</td>\n",
       "      <td>5.700</td>\n",
       "      <td>6.310</td>\n",
       "      <td>7.2000</td>\n",
       "      <td>12.43</td>\n",
       "    </tr>\n",
       "    <tr>\n",
       "      <th>POPULATION 1998 (RURAL)</th>\n",
       "      <td>528.0</td>\n",
       "      <td>167427.994318</td>\n",
       "      <td>178388.976993</td>\n",
       "      <td>0.0</td>\n",
       "      <td>35273.500</td>\n",
       "      <td>117206.500</td>\n",
       "      <td>213054.2500</td>\n",
       "      <td>1044035.00</td>\n",
       "    </tr>\n",
       "    <tr>\n",
       "      <th>ANNUAL GROWTH RATE (RURAL)</th>\n",
       "      <td>528.0</td>\n",
       "      <td>3.124792</td>\n",
       "      <td>9.577872</td>\n",
       "      <td>0.0</td>\n",
       "      <td>1.440</td>\n",
       "      <td>2.030</td>\n",
       "      <td>2.8125</td>\n",
       "      <td>100.00</td>\n",
       "    </tr>\n",
       "    <tr>\n",
       "      <th>ALL SEXES (URBAN)</th>\n",
       "      <td>528.0</td>\n",
       "      <td>140863.528409</td>\n",
       "      <td>351246.279136</td>\n",
       "      <td>0.0</td>\n",
       "      <td>0.000</td>\n",
       "      <td>43254.500</td>\n",
       "      <td>117814.7500</td>\n",
       "      <td>3653616.00</td>\n",
       "    </tr>\n",
       "    <tr>\n",
       "      <th>MALE (URBAN)</th>\n",
       "      <td>528.0</td>\n",
       "      <td>72843.386364</td>\n",
       "      <td>182349.241379</td>\n",
       "      <td>0.0</td>\n",
       "      <td>0.000</td>\n",
       "      <td>21980.000</td>\n",
       "      <td>60301.7500</td>\n",
       "      <td>1905921.00</td>\n",
       "    </tr>\n",
       "    <tr>\n",
       "      <th>FEMALE (URBAN)</th>\n",
       "      <td>528.0</td>\n",
       "      <td>67997.865530</td>\n",
       "      <td>168872.528212</td>\n",
       "      <td>0.0</td>\n",
       "      <td>0.000</td>\n",
       "      <td>20999.000</td>\n",
       "      <td>57465.2500</td>\n",
       "      <td>1746900.00</td>\n",
       "    </tr>\n",
       "    <tr>\n",
       "      <th>TRANSGENDER (URBAN)</th>\n",
       "      <td>528.0</td>\n",
       "      <td>22.276515</td>\n",
       "      <td>66.068127</td>\n",
       "      <td>0.0</td>\n",
       "      <td>0.000</td>\n",
       "      <td>3.000</td>\n",
       "      <td>19.0000</td>\n",
       "      <td>795.00</td>\n",
       "    </tr>\n",
       "    <tr>\n",
       "      <th>SEX RATIO (URBAN)</th>\n",
       "      <td>528.0</td>\n",
       "      <td>75.411269</td>\n",
       "      <td>49.687341</td>\n",
       "      <td>0.0</td>\n",
       "      <td>0.000</td>\n",
       "      <td>103.195</td>\n",
       "      <td>107.0400</td>\n",
       "      <td>297.81</td>\n",
       "    </tr>\n",
       "    <tr>\n",
       "      <th>AVG HOUSEHOLD SIZE (URBAN)</th>\n",
       "      <td>528.0</td>\n",
       "      <td>4.406402</td>\n",
       "      <td>2.948336</td>\n",
       "      <td>0.0</td>\n",
       "      <td>0.000</td>\n",
       "      <td>5.755</td>\n",
       "      <td>6.3400</td>\n",
       "      <td>10.06</td>\n",
       "    </tr>\n",
       "    <tr>\n",
       "      <th>POPULATION 1998 (URBAN)</th>\n",
       "      <td>528.0</td>\n",
       "      <td>80144.566288</td>\n",
       "      <td>202312.019227</td>\n",
       "      <td>0.0</td>\n",
       "      <td>0.000</td>\n",
       "      <td>21298.000</td>\n",
       "      <td>65422.2500</td>\n",
       "      <td>2075867.00</td>\n",
       "    </tr>\n",
       "    <tr>\n",
       "      <th>ANNUAL GROWTH RATE (URBAN)</th>\n",
       "      <td>528.0</td>\n",
       "      <td>1.920814</td>\n",
       "      <td>2.098908</td>\n",
       "      <td>0.0</td>\n",
       "      <td>0.000</td>\n",
       "      <td>1.855</td>\n",
       "      <td>2.9850</td>\n",
       "      <td>19.78</td>\n",
       "    </tr>\n",
       "  </tbody>\n",
       "</table>\n",
       "</div>"
      ],
      "text/plain": [
       "                            count           mean            std  min  \\\n",
       "AREA (sq.km)                528.0    1492.005871    2039.453778  0.0   \n",
       "ALL SEXES (RURAL)           528.0  246278.011364  271189.816559  0.0   \n",
       "MALE (RURAL)                528.0  125275.687500  137563.021458  0.0   \n",
       "FEMALE (RURAL)              528.0  120984.149621  133716.898296  0.0   \n",
       "TRANSGENDER (RURAL)         528.0      18.174242      25.522248  0.0   \n",
       "SEX RATIO (RURAL)           528.0      98.982614      26.812660  0.0   \n",
       "AVG HOUSEHOLD SIZE (RURAL)  528.0       6.277064       2.074947  0.0   \n",
       "POPULATION 1998 (RURAL)     528.0  167427.994318  178388.976993  0.0   \n",
       "ANNUAL GROWTH RATE (RURAL)  528.0       3.124792       9.577872  0.0   \n",
       "ALL SEXES (URBAN)           528.0  140863.528409  351246.279136  0.0   \n",
       "MALE (URBAN)                528.0   72843.386364  182349.241379  0.0   \n",
       "FEMALE (URBAN)              528.0   67997.865530  168872.528212  0.0   \n",
       "TRANSGENDER (URBAN)         528.0      22.276515      66.068127  0.0   \n",
       "SEX RATIO (URBAN)           528.0      75.411269      49.687341  0.0   \n",
       "AVG HOUSEHOLD SIZE (URBAN)  528.0       4.406402       2.948336  0.0   \n",
       "POPULATION 1998 (URBAN)     528.0   80144.566288  202312.019227  0.0   \n",
       "ANNUAL GROWTH RATE (URBAN)  528.0       1.920814       2.098908  0.0   \n",
       "\n",
       "                                  25%         50%          75%         max  \n",
       "AREA (sq.km)                  425.000     882.000    1734.2500    18374.00  \n",
       "ALL SEXES (RURAL)           50934.500  165241.000  312911.2500  2297375.00  \n",
       "MALE (RURAL)                27127.250   84134.500  160502.2500  1172995.00  \n",
       "FEMALE (RURAL)              23979.000   82044.000  152219.0000  1124167.00  \n",
       "TRANSGENDER (RURAL)             1.000      10.000      25.0000      213.00  \n",
       "SEX RATIO (RURAL)             101.105     105.285     108.3475      139.38  \n",
       "AVG HOUSEHOLD SIZE (RURAL)      5.700       6.310       7.2000       12.43  \n",
       "POPULATION 1998 (RURAL)     35273.500  117206.500  213054.2500  1044035.00  \n",
       "ANNUAL GROWTH RATE (RURAL)      1.440       2.030       2.8125      100.00  \n",
       "ALL SEXES (URBAN)               0.000   43254.500  117814.7500  3653616.00  \n",
       "MALE (URBAN)                    0.000   21980.000   60301.7500  1905921.00  \n",
       "FEMALE (URBAN)                  0.000   20999.000   57465.2500  1746900.00  \n",
       "TRANSGENDER (URBAN)             0.000       3.000      19.0000      795.00  \n",
       "SEX RATIO (URBAN)               0.000     103.195     107.0400      297.81  \n",
       "AVG HOUSEHOLD SIZE (URBAN)      0.000       5.755       6.3400       10.06  \n",
       "POPULATION 1998 (URBAN)         0.000   21298.000   65422.2500  2075867.00  \n",
       "ANNUAL GROWTH RATE (URBAN)      0.000       1.855       2.9850       19.78  "
      ]
     },
     "execution_count": 13,
     "metadata": {},
     "output_type": "execute_result"
    }
   ],
   "source": [
    "df.describe().T"
   ]
  },
  {
   "cell_type": "code",
   "execution_count": 14,
   "id": "7f67ba5b",
   "metadata": {},
   "outputs": [
    {
     "data": {
      "text/plain": [
       "28"
      ]
     },
     "execution_count": 14,
     "metadata": {},
     "output_type": "execute_result"
    }
   ],
   "source": [
    "df['DIVISION'].nunique()"
   ]
  },
  {
   "cell_type": "code",
   "execution_count": 15,
   "id": "fdbef30d",
   "metadata": {},
   "outputs": [
    {
     "data": {
      "text/plain": [
       "array(['BAHAWALPUR DIVISION', 'D.G.KHAN DIVISION', 'FAISALABAD DIVISION',\n",
       "       'GUJRANWALA DIVISION', 'LAHORE DIVISION', 'MULTAN DIVISION',\n",
       "       'RAWALPINDI DIVISION', 'SAHIWAL DIVISION', 'SARGODHA DIVISION',\n",
       "       'Badin Division', 'Hyderabad Division', 'Karachi Division',\n",
       "       'Larkana Division', 'Mirpurkhas Division',\n",
       "       'Shaheed Benazirabad Division', 'Sukkur Division',\n",
       "       'Makran Division', 'Kalat Division', 'Naseerabad Division',\n",
       "       'Quetta Division', 'Zhob Division', 'BANNU DIVISION',\n",
       "       'DERA ISMAIL KHAN DIVISION', 'HAZARA DIVISION', 'KOHAT DIVISION',\n",
       "       'MARDAN DIVISION', 'PESHAWAR DIVISION', 'MALAKAND DIVISION'],\n",
       "      dtype=object)"
      ]
     },
     "execution_count": 15,
     "metadata": {},
     "output_type": "execute_result"
    }
   ],
   "source": [
    "df['DIVISION'].unique()"
   ]
  },
  {
   "cell_type": "code",
   "execution_count": 16,
   "id": "2cfd6cbd",
   "metadata": {},
   "outputs": [
    {
     "data": {
      "text/plain": [
       "DIVISION\n",
       "Badin Division                   5\n",
       "MARDAN DIVISION                  7\n",
       "SAHIWAL DIVISION                 7\n",
       "KOHAT DIVISION                  14\n",
       "MULTAN DIVISION                 14\n",
       "D.G.KHAN DIVISION               14\n",
       "DERA ISMAIL KHAN DIVISION       15\n",
       "HAZARA DIVISION                 15\n",
       "BANNU DIVISION                  15\n",
       "Shaheed Benazirabad Division    15\n",
       "BAHAWALPUR DIVISION             15\n",
       "LAHORE DIVISION                 17\n",
       "SARGODHA DIVISION               17\n",
       "FAISALABAD DIVISION             17\n",
       "Kalat Division                  18\n",
       "PESHAWAR DIVISION               18\n",
       "Mirpurkhas Division             18\n",
       "Sukkur Division                 18\n",
       "Zhob Division                   19\n",
       "Naseerabad Division             19\n",
       "GUJRANWALA DIVISION             20\n",
       "Larkana Division                21\n",
       "RAWALPINDI DIVISION             22\n",
       "Hyderabad Division              30\n",
       "Karachi Division                30\n",
       "MALAKAND DIVISION               33\n",
       "Makran Division                 37\n",
       "Quetta Division                 38\n",
       "dtype: int64"
      ]
     },
     "execution_count": 16,
     "metadata": {},
     "output_type": "execute_result"
    }
   ],
   "source": [
    "df.groupby(['DIVISION']).size().sort_values()"
   ]
  },
  {
   "cell_type": "code",
   "execution_count": 17,
   "id": "9d47b45c",
   "metadata": {},
   "outputs": [
    {
     "data": {
      "text/plain": [
       "PROVINCE     DIVISION                      DISTRICT                    \n",
       "BALOCHISTAN  Kalat Division                KALAT DISTRICT                   40808.000000\n",
       "                                           KHUZDAR DISTRICT                 33246.444444\n",
       "                                           MASTUNG DISTRICT                 31477.000000\n",
       "             Makran Division               AWARAN DISTRICT                  29543.250000\n",
       "                                           GWADAR DISTRICT                  17069.200000\n",
       "                                                                               ...      \n",
       "SINDH        Shaheed Benazirabad Division  SANGHAR DISTRICT                164760.833333\n",
       "                                           SHAHEED BENAZIRABAD DISTRICT    205056.250000\n",
       "             Sukkur Division               GHOTKI DISTRICT                 162059.200000\n",
       "                                           KHAIRPUR DISTRICT               147816.875000\n",
       "                                           SUKKUR DISTRICT                  93856.400000\n",
       "Name: POPULATION 1998 (RURAL), Length: 131, dtype: float64"
      ]
     },
     "execution_count": 17,
     "metadata": {},
     "output_type": "execute_result"
    }
   ],
   "source": [
    "df.groupby(['PROVINCE',\"DIVISION\",'DISTRICT'])['POPULATION 1998 (RURAL)'].mean()"
   ]
  },
  {
   "cell_type": "code",
   "execution_count": 18,
   "id": "f4abe953",
   "metadata": {},
   "outputs": [
    {
     "data": {
      "text/plain": [
       "np.int64(88401981)"
      ]
     },
     "execution_count": 18,
     "metadata": {},
     "output_type": "execute_result"
    }
   ],
   "source": [
    "df['POPULATION 1998 (RURAL)'].sum()"
   ]
  },
  {
   "cell_type": "code",
   "execution_count": 19,
   "id": "b7348a62",
   "metadata": {},
   "outputs": [
    {
     "data": {
      "text/plain": [
       "np.int64(42316331)"
      ]
     },
     "execution_count": 19,
     "metadata": {},
     "output_type": "execute_result"
    }
   ],
   "source": [
    "df['POPULATION 1998 (URBAN)'].sum()"
   ]
  },
  {
   "cell_type": "code",
   "execution_count": 20,
   "id": "ab2ed787",
   "metadata": {},
   "outputs": [
    {
     "name": "stdout",
     "output_type": "stream",
     "text": [
      "Total rural population is Pakistan 1998: 88401981\n"
     ]
    }
   ],
   "source": [
    "print('Total rural population is Pakistan 1998:',df['POPULATION 1998 (RURAL)'].sum())"
   ]
  },
  {
   "cell_type": "code",
   "execution_count": 21,
   "id": "365b67e1",
   "metadata": {},
   "outputs": [
    {
     "name": "stdout",
     "output_type": "stream",
     "text": [
      "Total rural population is Pakistan 2017: 130034790\n"
     ]
    }
   ],
   "source": [
    "print('Total rural population is Pakistan 2017:',df['ALL SEXES (RURAL)'].sum())"
   ]
  },
  {
   "cell_type": "markdown",
   "id": "5c0a8753",
   "metadata": {},
   "source": [
    "## Difference or checking the increase population in 1998 to 2017:"
   ]
  },
  {
   "cell_type": "code",
   "execution_count": 22,
   "id": "8c66c33b",
   "metadata": {},
   "outputs": [
    {
     "data": {
      "text/plain": [
       "np.int64(-41632809)"
      ]
     },
     "execution_count": 22,
     "metadata": {},
     "output_type": "execute_result"
    }
   ],
   "source": [
    "pop_rural_1998=df['POPULATION 1998 (RURAL)'].sum()\n",
    "pop_rural_2017=df['ALL SEXES (RURAL)'].sum()\n",
    "pop_delta= pop_rural_1998 - pop_rural_2017\n",
    "pop_delta"
   ]
  },
  {
   "cell_type": "code",
   "execution_count": 23,
   "id": "656f2826",
   "metadata": {},
   "outputs": [
    {
     "name": "stdout",
     "output_type": "stream",
     "text": [
      "Population increase in Pakistan 1998 to 2017: -41632809\n"
     ]
    }
   ],
   "source": [
    "print(\"Population increase in Pakistan 1998 to 2017:\", pop_delta)\n"
   ]
  },
  {
   "cell_type": "code",
   "execution_count": 24,
   "id": "4e9839f1",
   "metadata": {},
   "outputs": [
    {
     "name": "stdout",
     "output_type": "stream",
     "text": [
      "percentage of increase in population: 67.98333046102508\n"
     ]
    }
   ],
   "source": [
    "print(\"percentage of increase in population:\",pop_rural_1998/pop_rural_2017*100)"
   ]
  },
  {
   "cell_type": "code",
   "execution_count": 25,
   "id": "f494b51a",
   "metadata": {},
   "outputs": [
    {
     "name": "stdout",
     "output_type": "stream",
     "text": [
      "Total urban population is Pakistan 1998: 42316331\n"
     ]
    }
   ],
   "source": [
    "print('Total urban population is Pakistan 1998:',df['POPULATION 1998 (URBAN)'].sum())"
   ]
  },
  {
   "cell_type": "code",
   "execution_count": 26,
   "id": "fc0f1077",
   "metadata": {},
   "outputs": [
    {
     "name": "stdout",
     "output_type": "stream",
     "text": [
      "Total urban population is Pakistan 1998: 130034790\n"
     ]
    }
   ],
   "source": [
    "print('Total urban population is Pakistan 1998:',df['ALL SEXES (RURAL)'].sum())"
   ]
  },
  {
   "cell_type": "code",
   "execution_count": 27,
   "id": "69a4ab84",
   "metadata": {},
   "outputs": [
    {
     "data": {
      "text/plain": [
       "np.int64(-32059612)"
      ]
     },
     "execution_count": 27,
     "metadata": {},
     "output_type": "execute_result"
    }
   ],
   "source": [
    "pop_urban_1998=df['POPULATION 1998 (URBAN)'].sum()\n",
    "pop_urban_2017=df['ALL SEXES (URBAN)'].sum()\n",
    "pop_delta= pop_urban_1998 - pop_urban_2017\n",
    "pop_delta"
   ]
  },
  {
   "cell_type": "code",
   "execution_count": 28,
   "id": "a78e8bbf",
   "metadata": {},
   "outputs": [
    {
     "name": "stdout",
     "output_type": "stream",
     "text": [
      "percentage of increase in population: 56.89518585330743\n"
     ]
    }
   ],
   "source": [
    "print(\"percentage of increase in population:\",pop_urban_1998/pop_urban_2017*100)"
   ]
  },
  {
   "cell_type": "code",
   "execution_count": 29,
   "id": "6f0d6f54",
   "metadata": {},
   "outputs": [],
   "source": [
    "df['urban']=df['MALE (RURAL)']+df['FEMALE (RURAL)']+df['TRANSGENDER (RURAL)']"
   ]
  },
  {
   "cell_type": "code",
   "execution_count": 30,
   "id": "f1385450",
   "metadata": {},
   "outputs": [
    {
     "name": "stdout",
     "output_type": "stream",
     "text": [
      "<class 'pandas.core.series.Series'>\n",
      "RangeIndex: 528 entries, 0 to 527\n",
      "Series name: urban\n",
      "Non-Null Count  Dtype\n",
      "--------------  -----\n",
      "528 non-null    int64\n",
      "dtypes: int64(1)\n",
      "memory usage: 4.2 KB\n"
     ]
    }
   ],
   "source": [
    "df['urban'].info()"
   ]
  },
  {
   "cell_type": "code",
   "execution_count": 71,
   "id": "df8f3e68",
   "metadata": {},
   "outputs": [
    {
     "data": {
      "text/plain": [
       "dtype('int64')"
      ]
     },
     "execution_count": 71,
     "metadata": {},
     "output_type": "execute_result"
    }
   ],
   "source": [
    "df['urban'].dtypes"
   ]
  }
 ],
 "metadata": {
  "kernelspec": {
   "display_name": "ydata_profiling",
   "language": "python",
   "name": "python3"
  },
  "language_info": {
   "codemirror_mode": {
    "name": "ipython",
    "version": 3
   },
   "file_extension": ".py",
   "mimetype": "text/x-python",
   "name": "python",
   "nbconvert_exporter": "python",
   "pygments_lexer": "ipython3",
   "version": "3.10.0"
  }
 },
 "nbformat": 4,
 "nbformat_minor": 5
}
