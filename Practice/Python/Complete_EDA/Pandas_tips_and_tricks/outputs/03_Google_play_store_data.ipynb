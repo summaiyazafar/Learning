{
 "cells": [
  {
   "cell_type": "markdown",
   "id": "553e8f47",
   "metadata": {},
   "source": [
    "## Google play store data in EDA:"
   ]
  },
  {
   "cell_type": "code",
   "execution_count": 8,
   "id": "742957b6",
   "metadata": {},
   "outputs": [],
   "source": [
    "import pandas as pd\n",
    "import ydata_profiling as yd\n",
    "import os"
   ]
  },
  {
   "cell_type": "code",
   "execution_count": 4,
   "id": "ec8903a8",
   "metadata": {},
   "outputs": [],
   "source": [
    "df=pd.read_csv('googleplaystore.csv')"
   ]
  },
  {
   "cell_type": "code",
   "execution_count": 9,
   "id": "35e6e936",
   "metadata": {},
   "outputs": [],
   "source": [
    "os.makedirs(\"Pandas_tips_and_tricks/outputs\", exist_ok=True)"
   ]
  },
  {
   "cell_type": "markdown",
   "id": "2bdd2118",
   "metadata": {},
   "source": [
    "## Run automatic EDA using ydata_profiling:"
   ]
  },
  {
   "cell_type": "code",
   "execution_count": 13,
   "id": "1523fe46",
   "metadata": {},
   "outputs": [
    {
     "name": "stderr",
     "output_type": "stream",
     "text": [
      "100%|██████████| 13/13 [00:01<00:00,  6.87it/s]2<00:01,  4.05it/s, Describe variable: Android Ver]  \n",
      "Summarize dataset: 100%|██████████| 24/24 [00:03<00:00,  6.09it/s, Completed]                     \n",
      "Generate report structure: 100%|██████████| 1/1 [00:11<00:00, 11.98s/it]\n",
      "Render HTML: 100%|██████████| 1/1 [00:02<00:00,  2.58s/it]\n",
      "Export report to file: 100%|██████████| 1/1 [00:00<00:00, 45.06it/s]\n"
     ]
    }
   ],
   "source": [
    "profile=yd.ProfileReport(df)\n",
    "profile.to_file(\"Pandas_tips_and_tricks/outputs/googleplaystore.html\")"
   ]
  }
 ],
 "metadata": {
  "kernelspec": {
   "display_name": "ydata_profiling",
   "language": "python",
   "name": "python3"
  },
  "language_info": {
   "codemirror_mode": {
    "name": "ipython",
    "version": 3
   },
   "file_extension": ".py",
   "mimetype": "text/x-python",
   "name": "python",
   "nbconvert_exporter": "python",
   "pygments_lexer": "ipython3",
   "version": "3.10.0"
  }
 },
 "nbformat": 4,
 "nbformat_minor": 5
}
