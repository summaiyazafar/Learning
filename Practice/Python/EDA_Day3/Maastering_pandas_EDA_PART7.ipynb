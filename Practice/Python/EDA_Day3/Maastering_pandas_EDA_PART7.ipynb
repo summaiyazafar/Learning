{
 "cells": [
  {
   "cell_type": "markdown",
   "id": "aff98b96",
   "metadata": {},
   "source": [
    "# Import libraries:"
   ]
  },
  {
   "cell_type": "code",
   "execution_count": 2,
   "id": "97347ce4",
   "metadata": {},
   "outputs": [
    {
     "name": "stderr",
     "output_type": "stream",
     "text": [
      "c:\\Users\\Summaiya\\.conda\\envs\\ydata_profiling\\lib\\site-packages\\tqdm\\auto.py:21: TqdmWarning: IProgress not found. Please update jupyter and ipywidgets. See https://ipywidgets.readthedocs.io/en/stable/user_install.html\n",
      "  from .autonotebook import tqdm as notebook_tqdm\n"
     ]
    },
    {
     "data": {
      "text/html": [
       "\n",
       "            <div>\n",
       "                <ins><a href=\"https://ydata.ai/register\">Upgrade to ydata-sdk</a></ins>\n",
       "                <p>\n",
       "                    Improve your data and profiling with ydata-sdk, featuring data quality scoring, redundancy detection, outlier identification, text validation, and synthetic data generation.\n",
       "                </p>\n",
       "            </div>\n",
       "            "
      ],
      "text/plain": [
       "<IPython.core.display.HTML object>"
      ]
     },
     "metadata": {},
     "output_type": "display_data"
    }
   ],
   "source": [
    "import pandas as pd \n",
    "import ydata_profiling as yd"
   ]
  },
  {
   "cell_type": "code",
   "execution_count": 3,
   "id": "c6a541ae",
   "metadata": {},
   "outputs": [],
   "source": [
    "df=pd.read_csv(\"./data/googleplaystore.csv\")"
   ]
  },
  {
   "cell_type": "code",
   "execution_count": 10,
   "id": "d6002210",
   "metadata": {},
   "outputs": [
    {
     "name": "stderr",
     "output_type": "stream",
     "text": [
      "100%|██████████| 13/13 [00:01<00:00,  9.72it/s]1<00:00,  6.88it/s, Describe variable: Android Ver]  \n",
      "Summarize dataset: 100%|██████████| 24/24 [00:03<00:00,  7.84it/s, Completed]                     \n",
      "Generate report structure: 100%|██████████| 1/1 [00:08<00:00,  8.75s/it]\n",
      "Render HTML: 100%|██████████| 1/1 [00:01<00:00,  1.28s/it]\n",
      "Export report to file: 100%|██████████| 1/1 [00:00<00:00, 46.38it/s]\n"
     ]
    }
   ],
   "source": [
    "profile= yd.ProfileReport(df)\n",
    "profile.to_file(output_file=\"./outputs/googleplaystore.html\")"
   ]
  }
 ],
 "metadata": {
  "kernelspec": {
   "display_name": "ydata_profiling",
   "language": "python",
   "name": "python3"
  },
  "language_info": {
   "codemirror_mode": {
    "name": "ipython",
    "version": 3
   },
   "file_extension": ".py",
   "mimetype": "text/x-python",
   "name": "python",
   "nbconvert_exporter": "python",
   "pygments_lexer": "ipython3",
   "version": "3.10.0"
  }
 },
 "nbformat": 4,
 "nbformat_minor": 5
}
