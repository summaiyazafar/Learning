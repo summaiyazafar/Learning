{
 "cells": [
  {
   "cell_type": "markdown",
   "id": "579a30a4",
   "metadata": {},
   "source": [
    "# EDA Using `ydata_profiling`:"
   ]
  },
  {
   "cell_type": "code",
   "execution_count": 11,
   "id": "a8154530",
   "metadata": {},
   "outputs": [],
   "source": [
    "import pandas as pd\n",
    "import seaborn as sns\n",
    "import ydata_profiling as yd"
   ]
  },
  {
   "cell_type": "code",
   "execution_count": 12,
   "id": "5b75867e",
   "metadata": {},
   "outputs": [],
   "source": [
    "df=sns.load_dataset(\"iris\")"
   ]
  },
  {
   "cell_type": "markdown",
   "id": "f3dd6357",
   "metadata": {},
   "source": [
    "# Make a profile report:"
   ]
  },
  {
   "cell_type": "code",
   "execution_count": null,
   "id": "3915ef67",
   "metadata": {},
   "outputs": [],
   "source": [
    "profile= yd.ProfileReport(df)\n",
    "profile.to_file(output_file=\"iris_profile.html\")"
   ]
  }
 ],
 "metadata": {
  "kernelspec": {
   "display_name": "ydata_profiling",
   "language": "python",
   "name": "python3"
  },
  "language_info": {
   "codemirror_mode": {
    "name": "ipython",
    "version": 3
   },
   "file_extension": ".py",
   "mimetype": "text/x-python",
   "name": "python",
   "nbconvert_exporter": "python",
   "pygments_lexer": "ipython3",
   "version": "3.10.0"
  }
 },
 "nbformat": 4,
 "nbformat_minor": 5
}
