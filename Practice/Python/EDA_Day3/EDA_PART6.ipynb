{
 "cells": [
  {
   "cell_type": "markdown",
   "id": "579a30a4",
   "metadata": {},
   "source": [
    "# EDA Using `ydata_profiling`:"
   ]
  },
  {
   "cell_type": "code",
   "execution_count": 2,
   "id": "a8154530",
   "metadata": {},
   "outputs": [
    {
     "name": "stderr",
     "output_type": "stream",
     "text": [
      "c:\\Users\\Summaiya\\.conda\\envs\\ydata_profiling\\lib\\site-packages\\tqdm\\auto.py:21: TqdmWarning: IProgress not found. Please update jupyter and ipywidgets. See https://ipywidgets.readthedocs.io/en/stable/user_install.html\n",
      "  from .autonotebook import tqdm as notebook_tqdm\n"
     ]
    },
    {
     "data": {
      "text/html": [
       "\n",
       "            <div>\n",
       "                <ins><a href=\"https://ydata.ai/register\">Upgrade to ydata-sdk</a></ins>\n",
       "                <p>\n",
       "                    Improve your data and profiling with ydata-sdk, featuring data quality scoring, redundancy detection, outlier identification, text validation, and synthetic data generation.\n",
       "                </p>\n",
       "            </div>\n",
       "            "
      ],
      "text/plain": [
       "<IPython.core.display.HTML object>"
      ]
     },
     "metadata": {},
     "output_type": "display_data"
    }
   ],
   "source": [
    "import pandas as pd\n",
    "import seaborn as sns\n",
    "import ydata_profiling as yd"
   ]
  },
  {
   "cell_type": "code",
   "execution_count": 3,
   "id": "5b75867e",
   "metadata": {},
   "outputs": [],
   "source": [
    "df=sns.load_dataset(\"iris\")"
   ]
  },
  {
   "cell_type": "markdown",
   "id": "f3dd6357",
   "metadata": {},
   "source": [
    "# Make a profile report:"
   ]
  },
  {
   "cell_type": "code",
   "execution_count": 6,
   "id": "3915ef67",
   "metadata": {},
   "outputs": [
    {
     "name": "stderr",
     "output_type": "stream",
     "text": [
      "100%|██████████| 5/5 [00:00<00:00, 44.65it/s]00<00:00, 16.84it/s, Describe variable: species]    \n",
      "Summarize dataset: 100%|██████████| 30/30 [00:04<00:00,  6.17it/s, Completed]                         \n",
      "Generate report structure: 100%|██████████| 1/1 [00:03<00:00,  3.10s/it]\n",
      "Render HTML: 100%|██████████| 1/1 [00:01<00:00,  1.12s/it]\n",
      "Export report to file: 100%|██████████| 1/1 [00:00<00:00, 125.20it/s]\n"
     ]
    }
   ],
   "source": [
    "profile= yd.ProfileReport(df)\n",
    "profile.to_file(output_file=\"./outputs/iris_profile.html\")"
   ]
  },
  {
   "cell_type": "code",
   "execution_count": 10,
   "id": "9c24145a",
   "metadata": {},
   "outputs": [],
   "source": [
    "df_pop=pd.read_csv(\"./data/sub-division_population_of_pakistan.csv\")"
   ]
  },
  {
   "cell_type": "code",
   "execution_count": 12,
   "id": "cfb31bec",
   "metadata": {},
   "outputs": [
    {
     "name": "stderr",
     "output_type": "stream",
     "text": [
      "100%|██████████| 21/21 [00:00<00:00, 44.93it/s]0<00:00, 34.21it/s, Describe variable: ANNUAL GROWTH RATE (URBAN)]\n",
      "Summarize dataset: 100%|██████████| 319/319 [02:00<00:00,  2.65it/s, Completed]                                                     \n",
      "Generate report structure: 100%|██████████| 1/1 [00:21<00:00, 21.14s/it]\n",
      "Render HTML: 100%|██████████| 1/1 [00:32<00:00, 32.01s/it]\n",
      "c:\\Users\\Summaiya\\.conda\\envs\\ydata_profiling\\lib\\site-packages\\ydata_profiling\\profile_report.py:386: UserWarning: Extension .csv not supported. For now we assume .html was intended. To remove this warning, please use .html or .json.\n",
      "  warnings.warn(\n",
      "Export report to file: 100%|██████████| 1/1 [00:00<00:00,  3.14it/s]\n"
     ]
    }
   ],
   "source": [
    "profile= yd.ProfileReport(df_pop)\n",
    "profile.to_file(output_file= \"./data/sub-division_population_of_pakistan.csv\")"
   ]
  }
 ],
 "metadata": {
  "kernelspec": {
   "display_name": "ydata_profiling",
   "language": "python",
   "name": "python3"
  },
  "language_info": {
   "codemirror_mode": {
    "name": "ipython",
    "version": 3
   },
   "file_extension": ".py",
   "mimetype": "text/x-python",
   "name": "python",
   "nbconvert_exporter": "python",
   "pygments_lexer": "ipython3",
   "version": "3.10.0"
  }
 },
 "nbformat": 4,
 "nbformat_minor": 5
}
