{
 "cells": [
  {
   "cell_type": "code",
   "execution_count": 3,
   "id": "3da6962a",
   "metadata": {},
   "outputs": [],
   "source": [
    "import pandas as pd\n",
    "import numpy as np\n",
    "import seaborn as sns\n"
   ]
  },
  {
   "cell_type": "code",
   "execution_count": 4,
   "id": "7a1eb776",
   "metadata": {},
   "outputs": [],
   "source": [
    "# Create the data\n",
    "data= pd.DataFrame({'age': [20,22,24,26,28,30,32,70]})"
   ]
  },
  {
   "cell_type": "code",
   "execution_count": 5,
   "id": "61583bb2",
   "metadata": {},
   "outputs": [
    {
     "data": {
      "text/html": [
       "<div>\n",
       "<style scoped>\n",
       "    .dataframe tbody tr th:only-of-type {\n",
       "        vertical-align: middle;\n",
       "    }\n",
       "\n",
       "    .dataframe tbody tr th {\n",
       "        vertical-align: top;\n",
       "    }\n",
       "\n",
       "    .dataframe thead th {\n",
       "        text-align: right;\n",
       "    }\n",
       "</style>\n",
       "<table border=\"1\" class=\"dataframe\">\n",
       "  <thead>\n",
       "    <tr style=\"text-align: right;\">\n",
       "      <th></th>\n",
       "      <th>age</th>\n",
       "    </tr>\n",
       "  </thead>\n",
       "  <tbody>\n",
       "    <tr>\n",
       "      <th>0</th>\n",
       "      <td>20</td>\n",
       "    </tr>\n",
       "    <tr>\n",
       "      <th>1</th>\n",
       "      <td>22</td>\n",
       "    </tr>\n",
       "    <tr>\n",
       "      <th>2</th>\n",
       "      <td>24</td>\n",
       "    </tr>\n",
       "    <tr>\n",
       "      <th>3</th>\n",
       "      <td>26</td>\n",
       "    </tr>\n",
       "    <tr>\n",
       "      <th>4</th>\n",
       "      <td>28</td>\n",
       "    </tr>\n",
       "  </tbody>\n",
       "</table>\n",
       "</div>"
      ],
      "text/plain": [
       "   age\n",
       "0   20\n",
       "1   22\n",
       "2   24\n",
       "3   26\n",
       "4   28"
      ]
     },
     "execution_count": 5,
     "metadata": {},
     "output_type": "execute_result"
    }
   ],
   "source": [
    "data.head()"
   ]
  },
  {
   "cell_type": "code",
   "execution_count": 6,
   "id": "f6815ec7",
   "metadata": {},
   "outputs": [],
   "source": [
    "# Calculate the mean and standard deviation\n",
    "mean= np.mean(data['age'])\n",
    "std= np.std(data['age'])"
   ]
  },
  {
   "cell_type": "code",
   "execution_count": 7,
   "id": "0bb99f43",
   "metadata": {},
   "outputs": [
    {
     "data": {
      "text/html": [
       "<div>\n",
       "<style scoped>\n",
       "    .dataframe tbody tr th:only-of-type {\n",
       "        vertical-align: middle;\n",
       "    }\n",
       "\n",
       "    .dataframe tbody tr th {\n",
       "        vertical-align: top;\n",
       "    }\n",
       "\n",
       "    .dataframe thead th {\n",
       "        text-align: right;\n",
       "    }\n",
       "</style>\n",
       "<table border=\"1\" class=\"dataframe\">\n",
       "  <thead>\n",
       "    <tr style=\"text-align: right;\">\n",
       "      <th></th>\n",
       "      <th>age</th>\n",
       "      <th>Z-Score</th>\n",
       "    </tr>\n",
       "  </thead>\n",
       "  <tbody>\n",
       "    <tr>\n",
       "      <th>0</th>\n",
       "      <td>20</td>\n",
       "      <td>17.903491</td>\n",
       "    </tr>\n",
       "    <tr>\n",
       "      <th>1</th>\n",
       "      <td>22</td>\n",
       "      <td>19.903491</td>\n",
       "    </tr>\n",
       "    <tr>\n",
       "      <th>2</th>\n",
       "      <td>24</td>\n",
       "      <td>21.903491</td>\n",
       "    </tr>\n",
       "    <tr>\n",
       "      <th>3</th>\n",
       "      <td>26</td>\n",
       "      <td>23.903491</td>\n",
       "    </tr>\n",
       "    <tr>\n",
       "      <th>4</th>\n",
       "      <td>28</td>\n",
       "      <td>25.903491</td>\n",
       "    </tr>\n",
       "    <tr>\n",
       "      <th>5</th>\n",
       "      <td>30</td>\n",
       "      <td>27.903491</td>\n",
       "    </tr>\n",
       "    <tr>\n",
       "      <th>6</th>\n",
       "      <td>32</td>\n",
       "      <td>29.903491</td>\n",
       "    </tr>\n",
       "    <tr>\n",
       "      <th>7</th>\n",
       "      <td>70</td>\n",
       "      <td>67.903491</td>\n",
       "    </tr>\n",
       "  </tbody>\n",
       "</table>\n",
       "</div>"
      ],
      "text/plain": [
       "   age    Z-Score\n",
       "0   20  17.903491\n",
       "1   22  19.903491\n",
       "2   24  21.903491\n",
       "3   26  23.903491\n",
       "4   28  25.903491\n",
       "5   30  27.903491\n",
       "6   32  29.903491\n",
       "7   70  67.903491"
      ]
     },
     "execution_count": 7,
     "metadata": {},
     "output_type": "execute_result"
    }
   ],
   "source": [
    "# Calculate the z-score or z-score remove the outliers\n",
    "data['Z-Score']= (data['age'] - mean/ std)\n",
    "data"
   ]
  },
  {
   "cell_type": "code",
   "execution_count": 9,
   "id": "1260771c",
   "metadata": {},
   "outputs": [
    {
     "name": "stdout",
     "output_type": "stream",
     "text": [
      "Outliers based on Z-score (threshold > 2):\n",
      "   age    Z-Score\n",
      "7   70  67.903491\n"
     ]
    }
   ],
   "source": [
    "# Identify outliers using a standard threshold (e.g., |Z-Score| > 2)\n",
    "outliers = data[np.abs(data['Z-Score']) > 67]\n",
    "print(f'Outliers based on Z-score (threshold > 2):\\n{outliers}')"
   ]
  },
  {
   "cell_type": "code",
   "execution_count": 10,
   "id": "213f82f7",
   "metadata": {},
   "outputs": [
    {
     "name": "stdout",
     "output_type": "stream",
     "text": [
      "Data without outliers:\n",
      "Empty DataFrame\n",
      "Columns: [age, Z-Score]\n",
      "Index: []\n"
     ]
    }
   ],
   "source": [
    "# Remove outliers\n",
    "data_clean = data[np.abs(data['Z-Score']) <= 2]  # Keep data within 2 standard deviations\n",
    "\n",
    "print(f'Data without outliers:\\n{data_clean}')"
   ]
  },
  {
   "cell_type": "code",
   "execution_count": 10,
   "id": "417bc159",
   "metadata": {},
   "outputs": [
    {
     "name": "stdout",
     "output_type": "stream",
     "text": [
      "Data [2.5, 2.7, 2.8, 3.0, 3.2, 3.4, 3.6, 3.8, 4.0, 110.1]\n",
      "Indicates of Outliers: [9]\n",
      "Outliers: [110.1]\n",
      "--------------------------------\n",
      "Data without outliers: [2.5, 2.7, 2.8, 3.0, 3.2, 3.4, 3.6, 3.8, 4.0]\n"
     ]
    }
   ],
   "source": [
    "import numpy as np\n",
    "from scipy import stats\n",
    "\n",
    "#sample data\n",
    "data= [2.5, 2.7, 2.8, 3.0, 3.2, 3.4, 3.6, 3.8, 4.0, 110.1]\n",
    "\n",
    "# Calculate the Z-Score for each data point\n",
    "z_scores= np.abs(stats.zscore(data))\n",
    "\n",
    "# Set a threshold for identifying outliers\n",
    "threshold= 2.5\n",
    "outliers= np.where(z_scores > threshold)[0] #is threshold ki base py outliers ko remove kr sakhty hai\n",
    "\n",
    "# print the data\n",
    "print('Data', data)\n",
    "print('Indicates of Outliers:', outliers)\n",
    "print('Outliers:', [data[i] for i in outliers])\n",
    "\n",
    "# Remove outliers\n",
    "data= [data[i] for i in range(len(data)) if i not in outliers]\n",
    "print('--------------------------------')\n",
    "print('Data without outliers:', data)"
   ]
  }
 ],
 "metadata": {
  "kernelspec": {
   "display_name": "ydata_profiling",
   "language": "python",
   "name": "python3"
  },
  "language_info": {
   "codemirror_mode": {
    "name": "ipython",
    "version": 3
   },
   "file_extension": ".py",
   "mimetype": "text/x-python",
   "name": "python",
   "nbconvert_exporter": "python",
   "pygments_lexer": "ipython3",
   "version": "3.13.7"
  }
 },
 "nbformat": 4,
 "nbformat_minor": 5
}
