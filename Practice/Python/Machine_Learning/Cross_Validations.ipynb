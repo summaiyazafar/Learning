{
 "cells": [
  {
   "cell_type": "markdown",
   "id": "31e99a4f",
   "metadata": {},
   "source": [
    "# Cross validation:\n",
    "is a technique to evaluate a model by splitting the data into a training and a test test set.\n",
    "\n",
    "1. The training set is used to train the model, while the test set is used to evaluate the model's performance.\n",
    "\n",
    "\n",
    "2. Cross-Validation is a statistical technique used in machine learning and data analysis to evaluate how well a model is able to generalize to new data.\n",
    "\n",
    "In a prediction problem, a model is usually given a dataset of known data on which training is run (training dataset), and a dataset of unknown data (or first seen data) against which the model is tested (called the validation dataset or testing set).\n",
    "\n",
    "\n",
    "The basic idea is to divide the available data into two parts:\n",
    "1. a training set, which is used to train the model, and \n",
    "2. a validation set, which is used to evaluate the model's performance.\n",
    "\n",
    "1. # K-fold Cross Validation:\n",
    "In `k-fold cross validation`, the available data is divided into k equal parts or 'folds'. The model is then trained on k-1 of the folds and validated on the remaining fold. This process is repeated k times, with each fold being used ince as the validation set. The results from each fold are then averaged to obtain an overall estimate of the model's performance.\n",
    "\n",
    "# Summary:\n",
    "\n",
    "In summary, cross-validation is a powerful technique for evaluating the performance of ml models and can help to ensure that our models are accurate, reliable, able to generalize to new data.\n",
    "\n",
    "# Types of CV:\n",
    "1. k-fold CV\n",
    "2. train-train-split\n",
    "3. leave-one-out cv (LOOCV)\n",
    "4. stratified cv\n",
    "5. times series cv\n",
    "6. group cv"
   ]
  },
  {
   "cell_type": "code",
   "execution_count": 3,
   "id": "7dcd7b74",
   "metadata": {},
   "outputs": [
    {
     "name": "stdout",
     "output_type": "stream",
     "text": [
      "Scores for each fold: [0.93333333 0.96666667 0.93333333 0.93333333 1.        ]\n",
      "Mean score: 0.9533333333333334\n",
      "Standard Deviation: 0.02666666666666666\n",
      "CPU times: total: 46.9 ms\n",
      "Wall time: 52.5 ms\n"
     ]
    }
   ],
   "source": [
    "%%time\n",
    "from sklearn.datasets import load_iris\n",
    "from sklearn.model_selection import cross_val_score\n",
    "from sklearn.naive_bayes import GaussianNB\n",
    "\n",
    "# load the iris dataset\n",
    "iris= load_iris()\n",
    "\n",
    "# Define the Gaussain Naive Bayes model\n",
    "model= GaussianNB()\n",
    "\n",
    "# Perform k-fold cv with k=5\n",
    "scores= cross_val_score(model, iris.data, iris.target, cv=5, scoring='accuracy')\n",
    "\n",
    "# Print the scores for each fold and mean score\n",
    "print('Scores for each fold:', scores)\n",
    "print('Mean score:', scores.mean())\n",
    "print(f'Standard Deviation:', scores.std())"
   ]
  },
  {
   "cell_type": "code",
   "execution_count": 6,
   "id": "5b234219",
   "metadata": {},
   "outputs": [
    {
     "name": "stdout",
     "output_type": "stream",
     "text": [
      "Scores for each fold: [0.55102041 0.55102041 0.59183673 0.65306122 0.54166667]\n",
      "Mean score: 0.5777210884353741\n",
      "Standard Deviation: 0.04147568336521195\n",
      "CPU times: total: 125 ms\n",
      "Wall time: 175 ms\n"
     ]
    }
   ],
   "source": [
    "%%time\n",
    "from sklearn.model_selection import cross_val_score\n",
    "from sklearn.model_selection import train_test_split\n",
    "from sklearn.naive_bayes import GaussianNB\n",
    "import pandas as pd\n",
    "import numpy as np\n",
    "import seaborn as sns\n",
    "\n",
    "df= sns.load_dataset('tips')\n",
    "df.head()\n",
    "\n",
    "# Define the features and target variables\n",
    "X= df[['total_bill', 'tip', 'size']]\n",
    "y= df['sex']\n",
    "\n",
    "model= GaussianNB()\n",
    "\n",
    "# Perform k-fold cv with k=5\n",
    "scores= cross_val_score(model, X, y, cv=5, scoring='accuracy')\n",
    "\n",
    "# Print the scores for each fold and mean score\n",
    "print('Scores for each fold:', scores)\n",
    "print('Mean score:', scores.mean())\n",
    "print(f'Standard Deviation:', scores.std())"
   ]
  },
  {
   "cell_type": "markdown",
   "id": "0c5d8556",
   "metadata": {},
   "source": [
    "# How to plot k-fold CV?"
   ]
  },
  {
   "cell_type": "code",
   "execution_count": 13,
   "id": "2f3db024",
   "metadata": {},
   "outputs": [
    {
     "data": {
      "image/png": "[encoded data removed]",
      "text/plain": [
       "<Figure size 800x600 with 1 Axes>"
      ]
     },
     "metadata": {},
     "output_type": "display_data"
    }
   ],
   "source": [
    "import pandas as pd\n",
    "import numpy as np\n",
    "import seaborn as sns\n",
    "import matplotlib.pyplot as plt\n",
    "from sklearn.datasets import load_iris\n",
    "from sklearn.model_selection import cross_val_score\n",
    "from sklearn.tree import DecisionTreeClassifier\n",
    "\n",
    "# load the datasets\n",
    "iris= load_iris()\n",
    "X= iris.data\n",
    "y= iris.target\n",
    "\n",
    "# Define the decision tree classifier\n",
    "clf= DecisionTreeClassifier()\n",
    "\n",
    "# perform the k-fold cross-validation with k=8\n",
    "scores= cross_val_score(clf, X, y, cv=8)\n",
    "\n",
    "# plot the results\n",
    "plt.figure(figsize=(8, 6))\n",
    "plt.plot(range(1,9), scores, color='blue', linestyle= 'dashed', marker='o', markerfacecolor='red')\n",
    "plt.title('K-fold CV Results')\n",
    "plt.xlabel('Fold Number')\n",
    "plt.ylabel('Accuracy')\n",
    "plt.ylim([0.5, 1.0])\n",
    "plt.show()"
   ]
  },
  {
   "cell_type": "code",
   "execution_count": null,
   "id": "af426147",
   "metadata": {},
   "outputs": [],
   "source": []
  }
 ],
 "metadata": {
  "kernelspec": {
   "display_name": "ydata_profiling",
   "language": "python",
   "name": "python3"
  },
  "language_info": {
   "codemirror_mode": {
    "name": "ipython",
    "version": 3
   },
   "file_extension": ".py",
   "mimetype": "text/x-python",
   "name": "python",
   "nbconvert_exporter": "python",
   "pygments_lexer": "ipython3",
   "version": "3.13.7"
  }
 },
 "nbformat": 4,
 "nbformat_minor": 5
}
