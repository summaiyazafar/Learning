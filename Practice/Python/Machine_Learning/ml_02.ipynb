{
 "cells": [
  {
   "cell_type": "code",
   "execution_count": 9,
   "id": "93c96d0e",
   "metadata": {},
   "outputs": [],
   "source": [
    "import pandas as pd\n",
    "import numpy as np\n",
    "import seaborn as sns\n",
    "\n",
    "from sklearn.experimental import enable_iterative_imputer\n",
    "from sklearn.impute import IterativeImputer"
   ]
  },
  {
   "cell_type": "code",
   "execution_count": 10,
   "id": "bddde9f5",
   "metadata": {},
   "outputs": [],
   "source": [
    "df=sns.load_dataset('titanic')"
   ]
  },
  {
   "cell_type": "code",
   "execution_count": 11,
   "id": "2a271ac0",
   "metadata": {},
   "outputs": [],
   "source": [
    "# impute age column using iterativeimputer from sklearn\n",
    "imputer= IterativeImputer(max_iter=20, n_nearest_features=5)"
   ]
  },
  {
   "cell_type": "code",
   "execution_count": 13,
   "id": "5ed97e2a",
   "metadata": {},
   "outputs": [
    {
     "data": {
      "text/plain": [
       "survived         0\n",
       "pclass           0\n",
       "sex              0\n",
       "age            177\n",
       "sibsp            0\n",
       "parch            0\n",
       "fare             0\n",
       "embarked         2\n",
       "class            0\n",
       "who              0\n",
       "adult_male       0\n",
       "deck           688\n",
       "embark_town      2\n",
       "alive            0\n",
       "alone            0\n",
       "dtype: int64"
      ]
     },
     "execution_count": 13,
     "metadata": {},
     "output_type": "execute_result"
    }
   ],
   "source": [
    "df.isnull().sum()"
   ]
  },
  {
   "cell_type": "code",
   "execution_count": 14,
   "id": "83a50cf9",
   "metadata": {},
   "outputs": [],
   "source": [
    "df['age']= imputer.fit_transform(df[['age']])"
   ]
  },
  {
   "cell_type": "code",
   "execution_count": 15,
   "id": "51d0c885",
   "metadata": {},
   "outputs": [
    {
     "data": {
      "text/plain": [
       "survived         0\n",
       "pclass           0\n",
       "sex              0\n",
       "age              0\n",
       "sibsp            0\n",
       "parch            0\n",
       "fare             0\n",
       "embarked         2\n",
       "class            0\n",
       "who              0\n",
       "adult_male       0\n",
       "deck           688\n",
       "embark_town      2\n",
       "alive            0\n",
       "alone            0\n",
       "dtype: int64"
      ]
     },
     "execution_count": 15,
     "metadata": {},
     "output_type": "execute_result"
    }
   ],
   "source": [
    "df.isnull().sum()"
   ]
  },
  {
   "cell_type": "markdown",
   "id": "6966724b",
   "metadata": {},
   "source": [
    "# Forward fill and backward fill:"
   ]
  },
  {
   "cell_type": "code",
   "execution_count": null,
   "id": "08b76606",
   "metadata": {},
   "outputs": [],
   "source": [
    "df['age']= df['age'].fillna(method='bfill')"
   ]
  },
  {
   "cell_type": "code",
   "execution_count": 21,
   "id": "76a6c1d9",
   "metadata": {},
   "outputs": [
    {
     "name": "stderr",
     "output_type": "stream",
     "text": [
      "C:\\Users\\Summaiya\\AppData\\Local\\Temp\\ipykernel_6576\\3216212342.py:1: FutureWarning: Series.fillna with 'method' is deprecated and will raise in a future version. Use obj.ffill() or obj.bfill() instead.\n",
      "  df['age']= df['age'].fillna(method='ffill')\n"
     ]
    }
   ],
   "source": [
    "df['age']= df['age'].fillna(method='ffill')"
   ]
  },
  {
   "cell_type": "code",
   "execution_count": 31,
   "id": "55610eef",
   "metadata": {},
   "outputs": [
    {
     "data": {
      "text/plain": [
       "survived         0\n",
       "pclass           0\n",
       "sex              0\n",
       "age              0\n",
       "sibsp            0\n",
       "parch            0\n",
       "fare             0\n",
       "embarked         2\n",
       "class            0\n",
       "who              0\n",
       "adult_male       0\n",
       "deck           688\n",
       "embark_town      2\n",
       "alive            0\n",
       "alone            0\n",
       "dtype: int64"
      ]
     },
     "execution_count": 31,
     "metadata": {},
     "output_type": "execute_result"
    }
   ],
   "source": [
    "df.isnull().sum()"
   ]
  },
  {
   "cell_type": "markdown",
   "id": "df7eaa4e",
   "metadata": {},
   "source": [
    "# Using KNN imputer:"
   ]
  },
  {
   "cell_type": "code",
   "execution_count": 30,
   "id": "22f5aa96",
   "metadata": {},
   "outputs": [],
   "source": [
    "from sklearn.impute import KNNImputer\n",
    "\n",
    "# impute age column using KNNimputer from sklearn\n",
    "imputer= KNNImputer(n_neighbors=5)\n",
    "df['age']= imputer.fit_transform(df[['age']])"
   ]
  },
  {
   "cell_type": "code",
   "execution_count": 16,
   "id": "880ab7a5",
   "metadata": {},
   "outputs": [],
   "source": [
    "from sklearn.impute import KNNImputer\n",
    "\n",
    "impuet= KNNImputer(n_neighbors=22)\n",
    "df['age']= impuet.fit_transform(df[['age']])"
   ]
  },
  {
   "cell_type": "code",
   "execution_count": null,
   "id": "c13da0f8",
   "metadata": {},
   "outputs": [],
   "source": [
    "df.dropna(inplace=True) # remove missing value in rows"
   ]
  },
  {
   "cell_type": "code",
   "execution_count": 37,
   "id": "91835469",
   "metadata": {},
   "outputs": [
    {
     "data": {
      "text/plain": [
       "survived       0\n",
       "pclass         0\n",
       "sex            0\n",
       "age            0\n",
       "sibsp          0\n",
       "parch          0\n",
       "fare           0\n",
       "embarked       0\n",
       "class          0\n",
       "who            0\n",
       "adult_male     0\n",
       "deck           0\n",
       "embark_town    0\n",
       "alive          0\n",
       "alone          0\n",
       "dtype: int64"
      ]
     },
     "execution_count": 37,
     "metadata": {},
     "output_type": "execute_result"
    }
   ],
   "source": [
    "df.isnull().sum()"
   ]
  },
  {
   "cell_type": "code",
   "execution_count": 38,
   "id": "4fbe33b2",
   "metadata": {},
   "outputs": [
    {
     "name": "stdout",
     "output_type": "stream",
     "text": [
      "<class 'pandas.core.frame.DataFrame'>\n",
      "Index: 201 entries, 1 to 889\n",
      "Data columns (total 15 columns):\n",
      " #   Column       Non-Null Count  Dtype   \n",
      "---  ------       --------------  -----   \n",
      " 0   survived     201 non-null    int64   \n",
      " 1   pclass       201 non-null    int64   \n",
      " 2   sex          201 non-null    object  \n",
      " 3   age          201 non-null    float64 \n",
      " 4   sibsp        201 non-null    int64   \n",
      " 5   parch        201 non-null    int64   \n",
      " 6   fare         201 non-null    float64 \n",
      " 7   embarked     201 non-null    object  \n",
      " 8   class        201 non-null    category\n",
      " 9   who          201 non-null    object  \n",
      " 10  adult_male   201 non-null    bool    \n",
      " 11  deck         201 non-null    category\n",
      " 12  embark_town  201 non-null    object  \n",
      " 13  alive        201 non-null    object  \n",
      " 14  alone        201 non-null    bool    \n",
      "dtypes: bool(2), category(2), float64(2), int64(4), object(5)\n",
      "memory usage: 20.1+ KB\n"
     ]
    }
   ],
   "source": [
    "df.info()"
   ]
  }
 ],
 "metadata": {
  "kernelspec": {
   "display_name": "ydata_profiling",
   "language": "python",
   "name": "python3"
  },
  "language_info": {
   "codemirror_mode": {
    "name": "ipython",
    "version": 3
   },
   "file_extension": ".py",
   "mimetype": "text/x-python",
   "name": "python",
   "nbconvert_exporter": "python",
   "pygments_lexer": "ipython3",
   "version": "3.13.7"
  }
 },
 "nbformat": 4,
 "nbformat_minor": 5
}
