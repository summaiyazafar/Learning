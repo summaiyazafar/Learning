{
 "cells": [
  {
   "cell_type": "code",
   "execution_count": 1,
   "id": "570b91fb",
   "metadata": {},
   "outputs": [],
   "source": [
    "import plotly.express as px\n",
    "import seaborn as sns"
   ]
  },
  {
   "cell_type": "code",
   "execution_count": 2,
   "id": "7c731f3a",
   "metadata": {},
   "outputs": [],
   "source": [
    "#import dataset:\n",
    "df= px.data.gapminder()"
   ]
  },
  {
   "cell_type": "code",
   "execution_count": 3,
   "id": "603ce99a",
   "metadata": {},
   "outputs": [
    {
     "data": {
      "text/html": [
       "<div>\n",
       "<style scoped>\n",
       "    .dataframe tbody tr th:only-of-type {\n",
       "        vertical-align: middle;\n",
       "    }\n",
       "\n",
       "    .dataframe tbody tr th {\n",
       "        vertical-align: top;\n",
       "    }\n",
       "\n",
       "    .dataframe thead th {\n",
       "        text-align: right;\n",
       "    }\n",
       "</style>\n",
       "<table border=\"1\" class=\"dataframe\">\n",
       "  <thead>\n",
       "    <tr style=\"text-align: right;\">\n",
       "      <th></th>\n",
       "      <th>country</th>\n",
       "      <th>continent</th>\n",
       "      <th>year</th>\n",
       "      <th>lifeExp</th>\n",
       "      <th>pop</th>\n",
       "      <th>gdpPercap</th>\n",
       "      <th>iso_alpha</th>\n",
       "      <th>iso_num</th>\n",
       "    </tr>\n",
       "  </thead>\n",
       "  <tbody>\n",
       "    <tr>\n",
       "      <th>0</th>\n",
       "      <td>Afghanistan</td>\n",
       "      <td>Asia</td>\n",
       "      <td>1952</td>\n",
       "      <td>28.801</td>\n",
       "      <td>8425333</td>\n",
       "      <td>779.445314</td>\n",
       "      <td>AFG</td>\n",
       "      <td>4</td>\n",
       "    </tr>\n",
       "    <tr>\n",
       "      <th>1</th>\n",
       "      <td>Afghanistan</td>\n",
       "      <td>Asia</td>\n",
       "      <td>1957</td>\n",
       "      <td>30.332</td>\n",
       "      <td>9240934</td>\n",
       "      <td>820.853030</td>\n",
       "      <td>AFG</td>\n",
       "      <td>4</td>\n",
       "    </tr>\n",
       "    <tr>\n",
       "      <th>2</th>\n",
       "      <td>Afghanistan</td>\n",
       "      <td>Asia</td>\n",
       "      <td>1962</td>\n",
       "      <td>31.997</td>\n",
       "      <td>10267083</td>\n",
       "      <td>853.100710</td>\n",
       "      <td>AFG</td>\n",
       "      <td>4</td>\n",
       "    </tr>\n",
       "    <tr>\n",
       "      <th>3</th>\n",
       "      <td>Afghanistan</td>\n",
       "      <td>Asia</td>\n",
       "      <td>1967</td>\n",
       "      <td>34.020</td>\n",
       "      <td>11537966</td>\n",
       "      <td>836.197138</td>\n",
       "      <td>AFG</td>\n",
       "      <td>4</td>\n",
       "    </tr>\n",
       "    <tr>\n",
       "      <th>4</th>\n",
       "      <td>Afghanistan</td>\n",
       "      <td>Asia</td>\n",
       "      <td>1972</td>\n",
       "      <td>36.088</td>\n",
       "      <td>13079460</td>\n",
       "      <td>739.981106</td>\n",
       "      <td>AFG</td>\n",
       "      <td>4</td>\n",
       "    </tr>\n",
       "  </tbody>\n",
       "</table>\n",
       "</div>"
      ],
      "text/plain": [
       "       country continent  year  lifeExp       pop   gdpPercap iso_alpha  \\\n",
       "0  Afghanistan      Asia  1952   28.801   8425333  779.445314       AFG   \n",
       "1  Afghanistan      Asia  1957   30.332   9240934  820.853030       AFG   \n",
       "2  Afghanistan      Asia  1962   31.997  10267083  853.100710       AFG   \n",
       "3  Afghanistan      Asia  1967   34.020  11537966  836.197138       AFG   \n",
       "4  Afghanistan      Asia  1972   36.088  13079460  739.981106       AFG   \n",
       "\n",
       "   iso_num  \n",
       "0        4  \n",
       "1        4  \n",
       "2        4  \n",
       "3        4  \n",
       "4        4  "
      ]
     },
     "execution_count": 3,
     "metadata": {},
     "output_type": "execute_result"
    }
   ],
   "source": [
    "df.head()"
   ]
  },
  {
   "cell_type": "code",
   "execution_count": 4,
   "id": "57f64f29",
   "metadata": {},
   "outputs": [
    {
     "data": {
      "application/vnd.plotly.v1+json": {
       "config": {
        "plotlyServerURL": "https://plot.ly"
       },
       "data": [
        {
         "branchvalues": "total",
         "customdata": [
          [
           "Africa"
          ],
          [
           "Africa"
          ],
          [
           "Africa"
          ],
          [
           "Africa"
          ],
          [
           "Africa"
          ],
          [
           "Africa"
          ],
          [
           "Africa"
          ],
          [
           "Africa"
          ],
          [
           "Africa"
          ],
          [
           "Africa"
          ],
          [
           "Africa"
          ],
          [
           "Africa"
          ],
          [
           "Africa"
          ],
          [
           "Africa"
          ],
          [
           "Africa"
          ],
          [
           "Africa"
          ],
          [
           "Africa"
          ],
          [
           "Africa"
          ],
          [
           "Africa"
          ],
          [
           "Africa"
          ],
          [
           "Africa"
          ],
          [
           "Africa"
          ],
          [
           "Africa"
          ],
          [
           "Africa"
          ],
          [
           "Africa"
          ],
          [
           "Africa"
          ],
          [
           "Africa"
          ],
          [
           "Africa"
          ],
          [
           "Africa"
          ],
          [
           "Africa"
          ],
          [
           "Africa"
          ],
          [
           "Africa"
          ],
          [
           "Africa"
          ],
          [
           "Africa"
          ],
          [
           "Africa"
          ],
          [
           "Africa"
          ],
          [
           "Africa"
          ],
          [
           "Africa"
          ],
          [
           "Africa"
          ],
          [
           "Africa"
          ],
          [
           "Africa"
          ],
          [
           "Africa"
          ],
          [
           "Africa"
          ],
          [
           "Africa"
          ],
          [
           "Africa"
          ],
          [
           "Africa"
          ],
          [
           "Africa"
          ],
          [
           "Africa"
          ],
          [
           "Africa"
          ],
          [
           "Africa"
          ],
          [
           "Africa"
          ],
          [
           "Africa"
          ],
          [
           "Africa"
          ],
          [
           "Africa"
          ],
          [
           "Africa"
          ],
          [
           "Africa"
          ],
          [
           "Africa"
          ],
          [
           "Africa"
          ],
          [
           "Africa"
          ],
          [
           "Africa"
          ],
          [
           "Africa"
          ],
          [
           "Africa"
          ],
          [
           "Africa"
          ],
          [
           "Africa"
          ],
          [
           "Africa"
          ],
          [
           "Africa"
          ],
          [
           "Africa"
          ],
          [
           "Africa"
          ],
          [
           "Africa"
          ],
          [
           "Africa"
          ],
          [
           "Africa"
          ],
          [
           "Africa"
          ],
          [
           "Africa"
          ],
          [
           "Africa"
          ],
          [
           "Africa"
          ],
          [
           "Africa"
          ],
          [
           "Africa"
          ],
          [
           "Africa"
          ],
          [
           "Africa"
          ],
          [
           "Africa"
          ],
          [
           "Africa"
          ],
          [
           "Africa"
          ],
          [
           "Africa"
          ],
          [
           "Africa"
          ],
          [
           "Africa"
          ],
          [
           "Africa"
          ],
          [
           "Africa"
          ],
          [
           "Africa"
          ],
          [
           "Africa"
          ],
          [
           "Africa"
          ],
          [
           "Africa"
          ],
          [
           "Africa"
          ],
          [
           "Africa"
          ],
          [
           "Africa"
          ],
          [
           "Africa"
          ],
          [
           "Africa"
          ],
          [
           "Africa"
          ],
          [
           "Africa"
          ],
          [
           "Africa"
          ],
          [
           "Africa"
          ],
          [
           "Africa"
          ],
          [
           "Africa"
          ],
          [
           "Africa"
          ],
          [
           "Africa"
          ],
          [
           "Africa"
          ],
          [
           "Africa"
          ],
          [
           "Africa"
          ],
          [
           "Africa"
          ],
          [
           "Africa"
          ],
          [
           "Africa"
          ],
          [
           "Africa"
          ],
          [
           "Africa"
          ],
          [
           "Africa"
          ],
          [
           "Africa"
          ],
          [
           "Africa"
          ],
          [
           "Africa"
          ],
          [
           "Africa"
          ],
          [
           "Africa"
          ],
          [
           "Africa"
          ],
          [
           "Africa"
          ],
          [
           "Africa"
          ],
          [
           "Africa"
          ],
          [
           "Africa"
          ],
          [
           "Africa"
          ],
          [
           "Africa"
          ],
          [
           "Africa"
          ],
          [
           "Africa"
          ],
          [
           "Africa"
          ],
          [
           "Africa"
          ],
          [
           "Africa"
          ],
          [
           "Africa"
          ],
          [
           "Africa"
          ],
          [
           "Africa"
          ],
          [
           "Africa"
          ],
          [
           "Africa"
          ],
          [
           "Africa"
          ],
          [
           "Africa"
          ],
          [
           "Africa"
          ],
          [
           "Africa"
          ],
          [
           "Africa"
          ],
          [
           "Africa"
          ],
          [
           "Africa"
          ],
          [
           "Africa"
          ],
          [
           "Africa"
          ],
          [
           "Africa"
          ],
          [
           "Africa"
          ],
          [
           "Africa"
          ],
          [
           "Africa"
          ],
          [
           "Africa"
          ],
          [
           "Africa"
          ],
          [
           "Africa"
          ],
          [
           "Africa"
          ],
          [
           "Africa"
          ],
          [
           "Africa"
          ],
          [
           "Africa"
          ],
          [
           "Africa"
          ],
          [
           "Africa"
          ],
          [
           "Africa"
          ],
          [
           "Africa"
          ],
          [
           "Africa"
          ],
          [
           "Africa"
          ],
          [
           "Africa"
          ],
          [
           "Africa"
          ],
          [
           "Africa"
          ],
          [
           "Africa"
          ],
          [
           "Africa"
          ],
          [
           "Africa"
          ],
          [
           "Africa"
          ],
          [
           "Africa"
          ],
          [
           "Africa"
          ],
          [
           "Africa"
          ],
          [
           "Africa"
          ],
          [
           "Africa"
          ],
          [
           "Africa"
          ],
          [
           "Africa"
          ],
          [
           "Africa"
          ],
          [
           "Africa"
          ],
          [
           "Africa"
          ],
          [
           "Africa"
          ],
          [
           "Africa"
          ],
          [
           "Africa"
          ],
          [
           "Africa"
          ],
          [
           "Africa"
          ],
          [
           "Africa"
          ],
          [
           "Africa"
          ],
          [
           "Africa"
          ],
          [
           "Africa"
          ],
          [
           "Africa"
          ],
          [
           "Africa"
          ],
          [
           "Africa"
          ],
          [
           "Africa"
          ],
          [
           "Africa"
          ],
          [
           "Africa"
          ],
          [
           "Africa"
          ],
          [
           "Africa"
          ],
          [
           "Africa"
          ],
          [
           "Africa"
          ],
          [
           "Africa"
          ],
          [
           "Africa"
          ],
          [
           "Africa"
          ],
          [
           "Africa"
          ],
          [
           "Africa"
          ],
          [
           "Africa"
          ],
          [
           "Africa"
          ],
          [
           "Africa"
          ],
          [
           "Africa"
          ],
          [
           "Africa"
          ],
          [
           "Africa"
          ],
          [
           "Africa"
          ],
          [
           "Africa"
          ],
          [
           "Africa"
          ],
          [
           "Africa"
          ],
          [
           "Africa"
          ],
          [
           "Africa"
          ],
          [
           "Africa"
          ],
          [
           "Africa"
          ],
          [
           "Africa"
          ],
          [
           "Africa"
          ],
          [
           "Africa"
          ],
          [
           "Africa"
          ],
          [
           "Africa"
          ],
          [
           "Africa"
          ],
          [
           "Africa"
          ],
          [
           "Africa"
          ],
          [
           "Africa"
          ],
          [
           "Africa"
          ],
          [
           "Africa"
          ],
          [
           "Africa"
          ],
          [
           "Africa"
          ],
          [
           "Africa"
          ],
          [
           "Africa"
          ],
          [
           "Africa"
          ],
          [
           "Africa"
          ],
          [
           "Africa"
          ],
          [
           "Africa"
          ],
          [
           "Africa"
          ],
          [
           "Africa"
          ],
          [
           "Africa"
          ],
          [
           "Africa"
          ],
          [
           "Africa"
          ],
          [
           "Africa"
          ],
          [
           "Africa"
          ],
          [
           "Africa"
          ],
          [
           "Africa"
          ],
          [
           "Africa"
          ],
          [
           "Africa"
          ],
          [
           "Africa"
          ],
          [
           "Africa"
          ],
          [
           "Africa"
          ],
          [
           "Africa"
          ],
          [
           "Africa"
          ],
          [
           "Africa"
          ],
          [
           "Africa"
          ],
          [
           "Africa"
          ],
          [
           "Africa"
          ],
          [
           "Africa"
          ],
          [
           "Africa"
          ],
          [
           "Africa"
          ],
          [
           "Africa"
          ],
          [
           "Africa"
          ],
          [
           "Africa"
          ],
          [
           "Africa"
          ],
          [
           "Africa"
          ],
          [
           "Africa"
          ],
          [
           "Africa"
          ],
          [
           "Africa"
          ],
          [
           "Africa"
          ],
          [
           "Africa"
          ],
          [
           "Africa"
          ],
          [
           "Africa"
          ],
          [
           "Africa"
          ],
          [
           "Africa"
          ],
          [
           "Africa"
          ],
          [
           "Africa"
          ],
          [
           "Africa"
          ],
          [
           "Africa"
          ],
          [
           "Africa"
          ],
          [
           "Africa"
          ],
          [
           "Africa"
          ],
          [
           "Africa"
          ],
          [
           "Africa"
          ],
          [
           "Africa"
          ],
          [
           "Africa"
          ],
          [
           "Africa"
          ],
          [
           "Africa"
          ],
          [
           "Africa"
          ],
          [
           "Africa"
          ],
          [
           "Africa"
          ],
          [
           "Africa"
          ],
          [
           "Africa"
          ],
          [
           "Africa"
          ],
          [
           "Africa"
          ],
          [
           "Africa"
          ],
          [
           "Africa"
          ],
          [
           "Africa"
          ],
          [
           "Africa"
          ],
          [
           "Africa"
          ],
          [
           "Africa"
          ],
          [
           "Africa"
          ],
          [
           "Africa"
          ],
          [
           "Africa"
          ],
          [
           "Africa"
          ],
          [
           "Africa"
          ],
          [
           "Africa"
          ],
          [
           "Africa"
          ],
          [
           "Africa"
          ],
          [
           "Africa"
          ],
          [
           "Africa"
          ],
          [
           "Africa"
          ],
          [
           "Africa"
          ],
          [
           "Africa"
          ],
          [
           "Africa"
          ],
          [
           "Africa"
          ],
          [
           "Africa"
          ],
          [
           "Africa"
          ],
          [
           "Africa"
          ],
          [
           "Africa"
          ],
          [
           "Africa"
          ],
          [
           "Africa"
          ],
          [
           "Africa"
          ],
          [
           "Africa"
          ],
          [
           "Africa"
          ],
          [
           "Africa"
          ],
          [
           "Africa"
          ],
          [
           "Africa"
          ],
          [
           "Africa"
          ],
          [
           "Africa"
          ],
          [
           "Africa"
          ],
          [
           "Africa"
          ],
          [
           "Africa"
          ],
          [
           "Africa"
          ],
          [
           "Africa"
          ],
          [
           "Africa"
          ],
          [
           "Africa"
          ],
          [
           "Africa"
          ],
          [
           "Africa"
          ],
          [
           "Africa"
          ],
          [
           "Africa"
          ],
          [
           "Africa"
          ],
          [
           "Africa"
          ],
          [
           "Africa"
          ],
          [
           "Africa"
          ],
          [
           "Africa"
          ],
          [
           "Africa"
          ],
          [
           "Africa"
          ],
          [
           "Africa"
          ],
          [
           "Africa"
          ],
          [
           "Africa"
          ],
          [
           "Africa"
          ],
          [
           "Africa"
          ],
          [
           "Africa"
          ],
          [
           "Africa"
          ],
          [
           "Africa"
          ],
          [
           "Africa"
          ],
          [
           "Africa"
          ],
          [
           "Africa"
          ],
          [
           "Africa"
          ],
          [
           "Africa"
          ],
          [
           "Africa"
          ],
          [
           "Africa"
          ],
          [
           "Africa"
          ],
          [
           "Africa"
          ],
          [
           "Africa"
          ],
          [
           "Africa"
          ],
          [
           "Africa"
          ],
          [
           "Africa"
          ],
          [
           "Africa"
          ],
          [
           "Africa"
          ],
          [
           "Africa"
          ],
          [
           "Africa"
          ],
          [
           "Africa"
          ],
          [
           "Africa"
          ],
          [
           "Africa"
          ],
          [
           "Africa"
          ],
          [
           "Africa"
          ],
          [
           "Africa"
          ],
          [
           "Africa"
          ],
          [
           "Africa"
          ],
          [
           "Africa"
          ],
          [
           "Africa"
          ],
          [
           "Africa"
          ],
          [
           "Africa"
          ],
          [
           "Africa"
          ],
          [
           "Africa"
          ],
          [
           "Africa"
          ],
          [
           "Africa"
          ],
          [
           "Africa"
          ],
          [
           "Africa"
          ],
          [
           "Africa"
          ],
          [
           "Africa"
          ],
          [
           "Africa"
          ],
          [
           "Africa"
          ],
          [
           "Africa"
          ],
          [
           "Africa"
          ],
          [
           "Africa"
          ],
          [
           "Africa"
          ],
          [
           "Africa"
          ],
          [
           "Africa"
          ],
          [
           "Africa"
          ],
          [
           "Africa"
          ],
          [
           "Africa"
          ],
          [
           "Africa"
          ],
          [
           "Africa"
          ],
          [
           "Africa"
          ],
          [
           "Africa"
          ],
          [
           "Africa"
          ],
          [
           "Africa"
          ],
          [
           "Africa"
          ],
          [
           "Africa"
          ],
          [
           "Africa"
          ],
          [
           "Africa"
          ],
          [
           "Africa"
          ],
          [
           "Africa"
          ],
          [
           "Africa"
          ],
          [
           "Africa"
          ],
          [
           "Africa"
          ],
          [
           "Africa"
          ],
          [
           "Africa"
          ],
          [
           "Africa"
          ],
          [
           "Africa"
          ],
          [
           "Africa"
          ],
          [
           "Africa"
          ],
          [
           "Africa"
          ],
          [
           "Africa"
          ],
          [
           "Africa"
          ],
          [
           "Africa"
          ],
          [
           "Africa"
          ],
          [
           "Africa"
          ],
          [
           "Africa"
          ],
          [
           "Africa"
          ],
          [
           "Africa"
          ],
          [
           "Africa"
          ],
          [
           "Africa"
          ],
          [
           "Africa"
          ],
          [
           "Africa"
          ],
          [
           "Africa"
          ],
          [
           "Africa"
          ],
          [
           "Africa"
          ],
          [
           "Africa"
          ],
          [
           "Africa"
          ],
          [
           "Africa"
          ],
          [
           "Africa"
          ],
          [
           "Africa"
          ],
          [
           "Africa"
          ],
          [
           "Africa"
          ],
          [
           "Africa"
          ],
          [
           "Africa"
          ],
          [
           "Africa"
          ],
          [
           "Africa"
          ],
          [
           "Africa"
          ],
          [
           "Africa"
          ],
          [
           "Africa"
          ],
          [
           "Africa"
          ],
          [
           "Africa"
          ],
          [
           "Africa"
          ],
          [
           "Africa"
          ],
          [
           "Africa"
          ],
          [
           "Africa"
          ],
          [
           "Africa"
          ],
          [
           "Africa"
          ],
          [
           "Africa"
          ],
          [
           "Africa"
          ],
          [
           "Africa"
          ],
          [
           "Africa"
          ],
          [
           "Africa"
          ],
          [
           "Africa"
          ],
          [
           "Africa"
          ],
          [
           "Africa"
          ],
          [
           "Africa"
          ],
          [
           "Africa"
          ],
          [
           "Africa"
          ],
          [
           "Africa"
          ],
          [
           "Africa"
          ],
          [
           "Africa"
          ],
          [
           "Africa"
          ],
          [
           "Africa"
          ],
          [
           "Africa"
          ],
          [
           "Africa"
          ],
          [
           "Africa"
          ],
          [
           "Africa"
          ],
          [
           "Africa"
          ],
          [
           "Africa"
          ],
          [
           "Africa"
          ],
          [
           "Africa"
          ],
          [
           "Africa"
          ],
          [
           "Africa"
          ],
          [
           "Africa"
          ],
          [
           "Africa"
          ],
          [
           "Africa"
          ],
          [
           "Africa"
          ],
          [
           "Africa"
          ],
          [
           "Africa"
          ],
          [
           "Africa"
          ],
          [
           "Africa"
          ],
          [
           "Africa"
          ],
          [
           "Africa"
          ],
          [
           "Africa"
          ],
          [
           "Africa"
          ],
          [
           "Africa"
          ],
          [
           "Africa"
          ],
          [
           "Africa"
          ],
          [
           "Africa"
          ],
          [
           "Africa"
          ],
          [
           "Africa"
          ],
          [
           "Africa"
          ],
          [
           "Africa"
          ],
          [
           "Africa"
          ],
          [
           "Africa"
          ],
          [
           "Africa"
          ],
          [
           "Africa"
          ],
          [
           "Africa"
          ],
          [
           "Africa"
          ],
          [
           "Africa"
          ],
          [
           "Africa"
          ],
          [
           "Africa"
          ],
          [
           "Africa"
          ],
          [
           "Africa"
          ],
          [
           "Africa"
          ],
          [
           "Africa"
          ],
          [
           "Africa"
          ],
          [
           "Africa"
          ],
          [
           "Africa"
          ],
          [
           "Africa"
          ],
          [
           "Africa"
          ],
          [
           "Africa"
          ],
          [
           "Africa"
          ],
          [
           "Africa"
          ],
          [
           "Africa"
          ],
          [
           "Africa"
          ],
          [
           "Africa"
          ],
          [
           "Africa"
          ],
          [
           "Africa"
          ],
          [
           "Africa"
          ],
          [
           "Africa"
          ],
          [
           "Africa"
          ],
          [
           "Africa"
          ],
          [
           "Africa"
          ],
          [
           "Africa"
          ],
          [
           "Africa"
          ],
          [
           "Africa"
          ],
          [
           "Africa"
          ],
          [
           "Africa"
          ],
          [
           "Africa"
          ],
          [
           "Africa"
          ],
          [
           "Africa"
          ],
          [
           "Africa"
          ],
          [
           "Africa"
          ],
          [
           "Africa"
          ],
          [
           "Africa"
          ],
          [
           "Africa"
          ],
          [
           "Africa"
          ],
          [
           "Africa"
          ],
          [
           "Africa"
          ],
          [
           "Africa"
          ],
          [
           "Africa"
          ],
          [
           "Africa"
          ],
          [
           "Africa"
          ],
          [
           "Africa"
          ],
          [
           "Africa"
          ],
          [
           "Africa"
          ],
          [
           "Africa"
          ],
          [
           "Africa"
          ],
          [
           "Africa"
          ],
          [
           "Africa"
          ],
          [
           "Africa"
          ],
          [
           "Africa"
          ],
          [
           "Africa"
          ],
          [
           "Africa"
          ],
          [
           "Africa"
          ],
          [
           "Africa"
          ],
          [
           "Africa"
          ],
          [
           "Africa"
          ],
          [
           "Africa"
          ],
          [
           "Africa"
          ],
          [
           "Africa"
          ],
          [
           "Africa"
          ],
          [
           "Africa"
          ],
          [
           "Africa"
          ],
          [
           "Africa"
          ],
          [
           "Africa"
          ],
          [
           "Africa"
          ],
          [
           "Africa"
          ],
          [
           "Africa"
          ],
          [
           "Africa"
          ],
          [
           "Africa"
          ],
          [
           "Africa"
          ],
          [
           "Africa"
          ],
          [
           "Africa"
          ],
          [
           "Africa"
          ],
          [
           "Africa"
          ],
          [
           "Africa"
          ],
          [
           "Africa"
          ],
          [
           "Africa"
          ],
          [
           "Africa"
          ],
          [
           "Africa"
          ],
          [
           "Africa"
          ],
          [
           "Africa"
          ],
          [
           "Africa"
          ],
          [
           "Africa"
          ],
          [
           "Africa"
          ],
          [
           "Africa"
          ],
          [
           "Africa"
          ],
          [
           "Africa"
          ],
          [
           "Africa"
          ],
          [
           "Africa"
          ],
          [
           "Africa"
          ],
          [
           "Africa"
          ],
          [
           "Africa"
          ],
          [
           "Africa"
          ],
          [
           "Africa"
          ],
          [
           "Africa"
          ],
          [
           "Africa"
          ],
          [
           "Africa"
          ],
          [
           "Africa"
          ],
          [
           "Africa"
          ],
          [
           "Africa"
          ],
          [
           "Africa"
          ],
          [
           "Africa"
          ],
          [
           "Africa"
          ],
          [
           "Africa"
          ],
          [
           "Africa"
          ],
          [
           "Africa"
          ],
          [
           "Africa"
          ],
          [
           "Africa"
          ],
          [
           "Africa"
          ],
          [
           "Africa"
          ],
          [
           "Africa"
          ],
          [
           "Africa"
          ],
          [
           "Africa"
          ],
          [
           "Africa"
          ],
          [
           "Africa"
          ],
          [
           "Africa"
          ],
          [
           "Africa"
          ],
          [
           "Africa"
          ],
          [
           "Africa"
          ],
          [
           "Africa"
          ],
          [
           "Africa"
          ],
          [
           "Africa"
          ],
          [
           "Africa"
          ],
          [
           "Africa"
          ],
          [
           "Africa"
          ],
          [
           "Africa"
          ],
          [
           "Africa"
          ],
          [
           "Africa"
          ],
          [
           "Africa"
          ],
          [
           "Africa"
          ],
          [
           "Africa"
          ],
          [
           "Africa"
          ],
          [
           "Africa"
          ],
          [
           "Africa"
          ],
          [
           "Africa"
          ],
          [
           "Africa"
          ],
          [
           "Africa"
          ],
          [
           "Africa"
          ],
          [
           "Africa"
          ],
          [
           "Africa"
          ],
          [
           "Africa"
          ],
          [
           "Africa"
          ],
          [
           "Africa"
          ],
          [
           "Africa"
          ],
          [
           "Africa"
          ],
          [
           "Africa"
          ],
          [
           "Africa"
          ],
          [
           "Africa"
          ],
          [
           "Africa"
          ],
          [
           "Africa"
          ],
          [
           "Africa"
          ],
          [
           "Africa"
          ],
          [
           "Africa"
          ],
          [
           "Africa"
          ],
          [
           "Africa"
          ],
          [
           "Africa"
          ],
          [
           "Africa"
          ],
          [
           "Africa"
          ],
          [
           "Africa"
          ],
          [
           "Africa"
          ],
          [
           "Africa"
          ],
          [
           "Americas"
          ],
          [
           "Americas"
          ],
          [
           "Americas"
          ],
          [
           "Americas"
          ],
          [
           "Americas"
          ],
          [
           "Americas"
          ],
          [
           "Americas"
          ],
          [
           "Americas"
          ],
          [
           "Americas"
          ],
          [
           "Americas"
          ],
          [
           "Americas"
          ],
          [
           "Americas"
          ],
          [
           "Americas"
          ],
          [
           "Americas"
          ],
          [
           "Americas"
          ],
          [
           "Americas"
          ],
          [
           "Americas"
          ],
          [
           "Americas"
          ],
          [
           "Americas"
          ],
          [
           "Americas"
          ],
          [
           "Americas"
          ],
          [
           "Americas"
          ],
          [
           "Americas"
          ],
          [
           "Americas"
          ],
          [
           "Americas"
          ],
          [
           "Americas"
          ],
          [
           "Americas"
          ],
          [
           "Americas"
          ],
          [
           "Americas"
          ],
          [
           "Americas"
          ],
          [
           "Americas"
          ],
          [
           "Americas"
          ],
          [
           "Americas"
          ],
          [
           "Americas"
          ],
          [
           "Americas"
          ],
          [
           "Americas"
          ],
          [
           "Americas"
          ],
          [
           "Americas"
          ],
          [
           "Americas"
          ],
          [
           "Americas"
          ],
          [
           "Americas"
          ],
          [
           "Americas"
          ],
          [
           "Americas"
          ],
          [
           "Americas"
          ],
          [
           "Americas"
          ],
          [
           "Americas"
          ],
          [
           "Americas"
          ],
          [
           "Americas"
          ],
          [
           "Americas"
          ],
          [
           "Americas"
          ],
          [
           "Americas"
          ],
          [
           "Americas"
          ],
          [
           "Americas"
          ],
          [
           "Americas"
          ],
          [
           "Americas"
          ],
          [
           "Americas"
          ],
          [
           "Americas"
          ],
          [
           "Americas"
          ],
          [
           "Americas"
          ],
          [
           "Americas"
          ],
          [
           "Americas"
          ],
          [
           "Americas"
          ],
          [
           "Americas"
          ],
          [
           "Americas"
          ],
          [
           "Americas"
          ],
          [
           "Americas"
          ],
          [
           "Americas"
          ],
          [
           "Americas"
          ],
          [
           "Americas"
          ],
          [
           "Americas"
          ],
          [
           "Americas"
          ],
          [
           "Americas"
          ],
          [
           "Americas"
          ],
          [
           "Americas"
          ],
          [
           "Americas"
          ],
          [
           "Americas"
          ],
          [
           "Americas"
          ],
          [
           "Americas"
          ],
          [
           "Americas"
          ],
          [
           "Americas"
          ],
          [
           "Americas"
          ],
          [
           "Americas"
          ],
          [
           "Americas"
          ],
          [
           "Americas"
          ],
          [
           "Americas"
          ],
          [
           "Americas"
          ],
          [
           "Americas"
          ],
          [
           "Americas"
          ],
          [
           "Americas"
          ],
          [
           "Americas"
          ],
          [
           "Americas"
          ],
          [
           "Americas"
          ],
          [
           "Americas"
          ],
          [
           "Americas"
          ],
          [
           "Americas"
          ],
          [
           "Americas"
          ],
          [
           "Americas"
          ],
          [
           "Americas"
          ],
          [
           "Americas"
          ],
          [
           "Americas"
          ],
          [
           "Americas"
          ],
          [
           "Americas"
          ],
          [
           "Americas"
          ],
          [
           "Americas"
          ],
          [
           "Americas"
          ],
          [
           "Americas"
          ],
          [
           "Americas"
          ],
          [
           "Americas"
          ],
          [
           "Americas"
          ],
          [
           "Americas"
          ],
          [
           "Americas"
          ],
          [
           "Americas"
          ],
          [
           "Americas"
          ],
          [
           "Americas"
          ],
          [
           "Americas"
          ],
          [
           "Americas"
          ],
          [
           "Americas"
          ],
          [
           "Americas"
          ],
          [
           "Americas"
          ],
          [
           "Americas"
          ],
          [
           "Americas"
          ],
          [
           "Americas"
          ],
          [
           "Americas"
          ],
          [
           "Americas"
          ],
          [
           "Americas"
          ],
          [
           "Americas"
          ],
          [
           "Americas"
          ],
          [
           "Americas"
          ],
          [
           "Americas"
          ],
          [
           "Americas"
          ],
          [
           "Americas"
          ],
          [
           "Americas"
          ],
          [
           "Americas"
          ],
          [
           "Americas"
          ],
          [
           "Americas"
          ],
          [
           "Americas"
          ],
          [
           "Americas"
          ],
          [
           "Americas"
          ],
          [
           "Americas"
          ],
          [
           "Americas"
          ],
          [
           "Americas"
          ],
          [
           "Americas"
          ],
          [
           "Americas"
          ],
          [
           "Americas"
          ],
          [
           "Americas"
          ],
          [
           "Americas"
          ],
          [
           "Americas"
          ],
          [
           "Americas"
          ],
          [
           "Americas"
          ],
          [
           "Americas"
          ],
          [
           "Americas"
          ],
          [
           "Americas"
          ],
          [
           "Americas"
          ],
          [
           "Americas"
          ],
          [
           "Americas"
          ],
          [
           "Americas"
          ],
          [
           "Americas"
          ],
          [
           "Americas"
          ],
          [
           "Americas"
          ],
          [
           "Americas"
          ],
          [
           "Americas"
          ],
          [
           "Americas"
          ],
          [
           "Americas"
          ],
          [
           "Americas"
          ],
          [
           "Americas"
          ],
          [
           "Americas"
          ],
          [
           "Americas"
          ],
          [
           "Americas"
          ],
          [
           "Americas"
          ],
          [
           "Americas"
          ],
          [
           "Americas"
          ],
          [
           "Americas"
          ],
          [
           "Americas"
          ],
          [
           "Americas"
          ],
          [
           "Americas"
          ],
          [
           "Americas"
          ],
          [
           "Americas"
          ],
          [
           "Americas"
          ],
          [
           "Americas"
          ],
          [
           "Americas"
          ],
          [
           "Americas"
          ],
          [
           "Americas"
          ],
          [
           "Americas"
          ],
          [
           "Americas"
          ],
          [
           "Americas"
          ],
          [
           "Americas"
          ],
          [
           "Americas"
          ],
          [
           "Americas"
          ],
          [
           "Americas"
          ],
          [
           "Americas"
          ],
          [
           "Americas"
          ],
          [
           "Americas"
          ],
          [
           "Americas"
          ],
          [
           "Americas"
          ],
          [
           "Americas"
          ],
          [
           "Americas"
          ],
          [
           "Americas"
          ],
          [
           "Americas"
          ],
          [
           "Americas"
          ],
          [
           "Americas"
          ],
          [
           "Americas"
          ],
          [
           "Americas"
          ],
          [
           "Americas"
          ],
          [
           "Americas"
          ],
          [
           "Americas"
          ],
          [
           "Americas"
          ],
          [
           "Americas"
          ],
          [
           "Americas"
          ],
          [
           "Americas"
          ],
          [
           "Americas"
          ],
          [
           "Americas"
          ],
          [
           "Americas"
          ],
          [
           "Americas"
          ],
          [
           "Americas"
          ],
          [
           "Americas"
          ],
          [
           "Americas"
          ],
          [
           "Americas"
          ],
          [
           "Americas"
          ],
          [
           "Americas"
          ],
          [
           "Americas"
          ],
          [
           "Americas"
          ],
          [
           "Americas"
          ],
          [
           "Americas"
          ],
          [
           "Americas"
          ],
          [
           "Americas"
          ],
          [
           "Americas"
          ],
          [
           "Americas"
          ],
          [
           "Americas"
          ],
          [
           "Americas"
          ],
          [
           "Americas"
          ],
          [
           "Americas"
          ],
          [
           "Americas"
          ],
          [
           "Americas"
          ],
          [
           "Americas"
          ],
          [
           "Americas"
          ],
          [
           "Americas"
          ],
          [
           "Americas"
          ],
          [
           "Americas"
          ],
          [
           "Americas"
          ],
          [
           "Americas"
          ],
          [
           "Americas"
          ],
          [
           "Americas"
          ],
          [
           "Americas"
          ],
          [
           "Americas"
          ],
          [
           "Americas"
          ],
          [
           "Americas"
          ],
          [
           "Americas"
          ],
          [
           "Americas"
          ],
          [
           "Americas"
          ],
          [
           "Americas"
          ],
          [
           "Americas"
          ],
          [
           "Americas"
          ],
          [
           "Americas"
          ],
          [
           "Americas"
          ],
          [
           "Americas"
          ],
          [
           "Americas"
          ],
          [
           "Americas"
          ],
          [
           "Americas"
          ],
          [
           "Americas"
          ],
          [
           "Americas"
          ],
          [
           "Americas"
          ],
          [
           "Americas"
          ],
          [
           "Americas"
          ],
          [
           "Americas"
          ],
          [
           "Americas"
          ],
          [
           "Americas"
          ],
          [
           "Americas"
          ],
          [
           "Americas"
          ],
          [
           "Americas"
          ],
          [
           "Americas"
          ],
          [
           "Americas"
          ],
          [
           "Americas"
          ],
          [
           "Americas"
          ],
          [
           "Americas"
          ],
          [
           "Americas"
          ],
          [
           "Americas"
          ],
          [
           "Americas"
          ],
          [
           "Americas"
          ],
          [
           "Americas"
          ],
          [
           "Americas"
          ],
          [
           "Americas"
          ],
          [
           "Americas"
          ],
          [
           "Americas"
          ],
          [
           "Americas"
          ],
          [
           "Americas"
          ],
          [
           "Americas"
          ],
          [
           "Americas"
          ],
          [
           "Americas"
          ],
          [
           "Americas"
          ],
          [
           "Americas"
          ],
          [
           "Americas"
          ],
          [
           "Americas"
          ],
          [
           "Americas"
          ],
          [
           "Americas"
          ],
          [
           "Americas"
          ],
          [
           "Americas"
          ],
          [
           "Americas"
          ],
          [
           "Americas"
          ],
          [
           "Americas"
          ],
          [
           "Americas"
          ],
          [
           "Americas"
          ],
          [
           "Americas"
          ],
          [
           "Americas"
          ],
          [
           "Americas"
          ],
          [
           "Americas"
          ],
          [
           "Americas"
          ],
          [
           "Americas"
          ],
          [
           "Americas"
          ],
          [
           "Americas"
          ],
          [
           "Americas"
          ],
          [
           "Americas"
          ],
          [
           "Americas"
          ],
          [
           "Americas"
          ],
          [
           "Americas"
          ],
          [
           "Americas"
          ],
          [
           "Americas"
          ],
          [
           "Americas"
          ],
          [
           "Americas"
          ],
          [
           "Americas"
          ],
          [
           "Americas"
          ],
          [
           "Americas"
          ],
          [
           "Americas"
          ],
          [
           "Americas"
          ],
          [
           "Americas"
          ],
          [
           "Americas"
          ],
          [
           "Americas"
          ],
          [
           "Asia"
          ],
          [
           "Asia"
          ],
          [
           "Asia"
          ],
          [
           "Asia"
          ],
          [
           "Asia"
          ],
          [
           "Asia"
          ],
          [
           "Asia"
          ],
          [
           "Asia"
          ],
          [
           "Asia"
          ],
          [
           "Asia"
          ],
          [
           "Asia"
          ],
          [
           "Asia"
          ],
          [
           "Asia"
          ],
          [
           "Asia"
          ],
          [
           "Asia"
          ],
          [
           "Asia"
          ],
          [
           "Asia"
          ],
          [
           "Asia"
          ],
          [
           "Asia"
          ],
          [
           "Asia"
          ],
          [
           "Asia"
          ],
          [
           "Asia"
          ],
          [
           "Asia"
          ],
          [
           "Asia"
          ],
          [
           "Asia"
          ],
          [
           "Asia"
          ],
          [
           "Asia"
          ],
          [
           "Asia"
          ],
          [
           "Asia"
          ],
          [
           "Asia"
          ],
          [
           "Asia"
          ],
          [
           "Asia"
          ],
          [
           "Asia"
          ],
          [
           "Asia"
          ],
          [
           "Asia"
          ],
          [
           "Asia"
          ],
          [
           "Asia"
          ],
          [
           "Asia"
          ],
          [
           "Asia"
          ],
          [
           "Asia"
          ],
          [
           "Asia"
          ],
          [
           "Asia"
          ],
          [
           "Asia"
          ],
          [
           "Asia"
          ],
          [
           "Asia"
          ],
          [
           "Asia"
          ],
          [
           "Asia"
          ],
          [
           "Asia"
          ],
          [
           "Asia"
          ],
          [
           "Asia"
          ],
          [
           "Asia"
          ],
          [
           "Asia"
          ],
          [
           "Asia"
          ],
          [
           "Asia"
          ],
          [
           "Asia"
          ],
          [
           "Asia"
          ],
          [
           "Asia"
          ],
          [
           "Asia"
          ],
          [
           "Asia"
          ],
          [
           "Asia"
          ],
          [
           "Asia"
          ],
          [
           "Asia"
          ],
          [
           "Asia"
          ],
          [
           "Asia"
          ],
          [
           "Asia"
          ],
          [
           "Asia"
          ],
          [
           "Asia"
          ],
          [
           "Asia"
          ],
          [
           "Asia"
          ],
          [
           "Asia"
          ],
          [
           "Asia"
          ],
          [
           "Asia"
          ],
          [
           "Asia"
          ],
          [
           "Asia"
          ],
          [
           "Asia"
          ],
          [
           "Asia"
          ],
          [
           "Asia"
          ],
          [
           "Asia"
          ],
          [
           "Asia"
          ],
          [
           "Asia"
          ],
          [
           "Asia"
          ],
          [
           "Asia"
          ],
          [
           "Asia"
          ],
          [
           "Asia"
          ],
          [
           "Asia"
          ],
          [
           "Asia"
          ],
          [
           "Asia"
          ],
          [
           "Asia"
          ],
          [
           "Asia"
          ],
          [
           "Asia"
          ],
          [
           "Asia"
          ],
          [
           "Asia"
          ],
          [
           "Asia"
          ],
          [
           "Asia"
          ],
          [
           "Asia"
          ],
          [
           "Asia"
          ],
          [
           "Asia"
          ],
          [
           "Asia"
          ],
          [
           "Asia"
          ],
          [
           "Asia"
          ],
          [
           "Asia"
          ],
          [
           "Asia"
          ],
          [
           "Asia"
          ],
          [
           "Asia"
          ],
          [
           "Asia"
          ],
          [
           "Asia"
          ],
          [
           "Asia"
          ],
          [
           "Asia"
          ],
          [
           "Asia"
          ],
          [
           "Asia"
          ],
          [
           "Asia"
          ],
          [
           "Asia"
          ],
          [
           "Asia"
          ],
          [
           "Asia"
          ],
          [
           "Asia"
          ],
          [
           "Asia"
          ],
          [
           "Asia"
          ],
          [
           "Asia"
          ],
          [
           "Asia"
          ],
          [
           "Asia"
          ],
          [
           "Asia"
          ],
          [
           "Asia"
          ],
          [
           "Asia"
          ],
          [
           "Asia"
          ],
          [
           "Asia"
          ],
          [
           "Asia"
          ],
          [
           "Asia"
          ],
          [
           "Asia"
          ],
          [
           "Asia"
          ],
          [
           "Asia"
          ],
          [
           "Asia"
          ],
          [
           "Asia"
          ],
          [
           "Asia"
          ],
          [
           "Asia"
          ],
          [
           "Asia"
          ],
          [
           "Asia"
          ],
          [
           "Asia"
          ],
          [
           "Asia"
          ],
          [
           "Asia"
          ],
          [
           "Asia"
          ],
          [
           "Asia"
          ],
          [
           "Asia"
          ],
          [
           "Asia"
          ],
          [
           "Asia"
          ],
          [
           "Asia"
          ],
          [
           "Asia"
          ],
          [
           "Asia"
          ],
          [
           "Asia"
          ],
          [
           "Asia"
          ],
          [
           "Asia"
          ],
          [
           "Asia"
          ],
          [
           "Asia"
          ],
          [
           "Asia"
          ],
          [
           "Asia"
          ],
          [
           "Asia"
          ],
          [
           "Asia"
          ],
          [
           "Asia"
          ],
          [
           "Asia"
          ],
          [
           "Asia"
          ],
          [
           "Asia"
          ],
          [
           "Asia"
          ],
          [
           "Asia"
          ],
          [
           "Asia"
          ],
          [
           "Asia"
          ],
          [
           "Asia"
          ],
          [
           "Asia"
          ],
          [
           "Asia"
          ],
          [
           "Asia"
          ],
          [
           "Asia"
          ],
          [
           "Asia"
          ],
          [
           "Asia"
          ],
          [
           "Asia"
          ],
          [
           "Asia"
          ],
          [
           "Asia"
          ],
          [
           "Asia"
          ],
          [
           "Asia"
          ],
          [
           "Asia"
          ],
          [
           "Asia"
          ],
          [
           "Asia"
          ],
          [
           "Asia"
          ],
          [
           "Asia"
          ],
          [
           "Asia"
          ],
          [
           "Asia"
          ],
          [
           "Asia"
          ],
          [
           "Asia"
          ],
          [
           "Asia"
          ],
          [
           "Asia"
          ],
          [
           "Asia"
          ],
          [
           "Asia"
          ],
          [
           "Asia"
          ],
          [
           "Asia"
          ],
          [
           "Asia"
          ],
          [
           "Asia"
          ],
          [
           "Asia"
          ],
          [
           "Asia"
          ],
          [
           "Asia"
          ],
          [
           "Asia"
          ],
          [
           "Asia"
          ],
          [
           "Asia"
          ],
          [
           "Asia"
          ],
          [
           "Asia"
          ],
          [
           "Asia"
          ],
          [
           "Asia"
          ],
          [
           "Asia"
          ],
          [
           "Asia"
          ],
          [
           "Asia"
          ],
          [
           "Asia"
          ],
          [
           "Asia"
          ],
          [
           "Asia"
          ],
          [
           "Asia"
          ],
          [
           "Asia"
          ],
          [
           "Asia"
          ],
          [
           "Asia"
          ],
          [
           "Asia"
          ],
          [
           "Asia"
          ],
          [
           "Asia"
          ],
          [
           "Asia"
          ],
          [
           "Asia"
          ],
          [
           "Asia"
          ],
          [
           "Asia"
          ],
          [
           "Asia"
          ],
          [
           "Asia"
          ],
          [
           "Asia"
          ],
          [
           "Asia"
          ],
          [
           "Asia"
          ],
          [
           "Asia"
          ],
          [
           "Asia"
          ],
          [
           "Asia"
          ],
          [
           "Asia"
          ],
          [
           "Asia"
          ],
          [
           "Asia"
          ],
          [
           "Asia"
          ],
          [
           "Asia"
          ],
          [
           "Asia"
          ],
          [
           "Asia"
          ],
          [
           "Asia"
          ],
          [
           "Asia"
          ],
          [
           "Asia"
          ],
          [
           "Asia"
          ],
          [
           "Asia"
          ],
          [
           "Asia"
          ],
          [
           "Asia"
          ],
          [
           "Asia"
          ],
          [
           "Asia"
          ],
          [
           "Asia"
          ],
          [
           "Asia"
          ],
          [
           "Asia"
          ],
          [
           "Asia"
          ],
          [
           "Asia"
          ],
          [
           "Asia"
          ],
          [
           "Asia"
          ],
          [
           "Asia"
          ],
          [
           "Asia"
          ],
          [
           "Asia"
          ],
          [
           "Asia"
          ],
          [
           "Asia"
          ],
          [
           "Asia"
          ],
          [
           "Asia"
          ],
          [
           "Asia"
          ],
          [
           "Asia"
          ],
          [
           "Asia"
          ],
          [
           "Asia"
          ],
          [
           "Asia"
          ],
          [
           "Asia"
          ],
          [
           "Asia"
          ],
          [
           "Asia"
          ],
          [
           "Asia"
          ],
          [
           "Asia"
          ],
          [
           "Asia"
          ],
          [
           "Asia"
          ],
          [
           "Asia"
          ],
          [
           "Asia"
          ],
          [
           "Asia"
          ],
          [
           "Asia"
          ],
          [
           "Asia"
          ],
          [
           "Asia"
          ],
          [
           "Asia"
          ],
          [
           "Asia"
          ],
          [
           "Asia"
          ],
          [
           "Asia"
          ],
          [
           "Asia"
          ],
          [
           "Asia"
          ],
          [
           "Asia"
          ],
          [
           "Asia"
          ],
          [
           "Asia"
          ],
          [
           "Asia"
          ],
          [
           "Asia"
          ],
          [
           "Asia"
          ],
          [
           "Asia"
          ],
          [
           "Asia"
          ],
          [
           "Asia"
          ],
          [
           "Asia"
          ],
          [
           "Asia"
          ],
          [
           "Asia"
          ],
          [
           "Asia"
          ],
          [
           "Asia"
          ],
          [
           "Asia"
          ],
          [
           "Asia"
          ],
          [
           "Asia"
          ],
          [
           "Asia"
          ],
          [
           "Asia"
          ],
          [
           "Asia"
          ],
          [
           "Asia"
          ],
          [
           "Asia"
          ],
          [
           "Asia"
          ],
          [
           "Asia"
          ],
          [
           "Asia"
          ],
          [
           "Asia"
          ],
          [
           "Asia"
          ],
          [
           "Asia"
          ],
          [
           "Asia"
          ],
          [
           "Asia"
          ],
          [
           "Asia"
          ],
          [
           "Asia"
          ],
          [
           "Asia"
          ],
          [
           "Asia"
          ],
          [
           "Asia"
          ],
          [
           "Asia"
          ],
          [
           "Asia"
          ],
          [
           "Asia"
          ],
          [
           "Asia"
          ],
          [
           "Asia"
          ],
          [
           "Asia"
          ],
          [
           "Asia"
          ],
          [
           "Asia"
          ],
          [
           "Asia"
          ],
          [
           "Asia"
          ],
          [
           "Asia"
          ],
          [
           "Asia"
          ],
          [
           "Asia"
          ],
          [
           "Asia"
          ],
          [
           "Asia"
          ],
          [
           "Asia"
          ],
          [
           "Asia"
          ],
          [
           "Asia"
          ],
          [
           "Asia"
          ],
          [
           "Asia"
          ],
          [
           "Asia"
          ],
          [
           "Asia"
          ],
          [
           "Asia"
          ],
          [
           "Asia"
          ],
          [
           "Asia"
          ],
          [
           "Asia"
          ],
          [
           "Asia"
          ],
          [
           "Asia"
          ],
          [
           "Asia"
          ],
          [
           "Asia"
          ],
          [
           "Asia"
          ],
          [
           "Asia"
          ],
          [
           "Asia"
          ],
          [
           "Asia"
          ],
          [
           "Asia"
          ],
          [
           "Asia"
          ],
          [
           "Asia"
          ],
          [
           "Asia"
          ],
          [
           "Asia"
          ],
          [
           "Asia"
          ],
          [
           "Asia"
          ],
          [
           "Asia"
          ],
          [
           "Asia"
          ],
          [
           "Asia"
          ],
          [
           "Asia"
          ],
          [
           "Asia"
          ],
          [
           "Asia"
          ],
          [
           "Asia"
          ],
          [
           "Asia"
          ],
          [
           "Asia"
          ],
          [
           "Asia"
          ],
          [
           "Asia"
          ],
          [
           "Asia"
          ],
          [
           "Asia"
          ],
          [
           "Asia"
          ],
          [
           "Asia"
          ],
          [
           "Asia"
          ],
          [
           "Asia"
          ],
          [
           "Asia"
          ],
          [
           "Asia"
          ],
          [
           "Asia"
          ],
          [
           "Asia"
          ],
          [
           "Asia"
          ],
          [
           "Asia"
          ],
          [
           "Asia"
          ],
          [
           "Asia"
          ],
          [
           "Asia"
          ],
          [
           "Asia"
          ],
          [
           "Asia"
          ],
          [
           "Asia"
          ],
          [
           "Asia"
          ],
          [
           "Asia"
          ],
          [
           "Asia"
          ],
          [
           "Asia"
          ],
          [
           "Asia"
          ],
          [
           "Asia"
          ],
          [
           "Asia"
          ],
          [
           "Asia"
          ],
          [
           "Asia"
          ],
          [
           "Asia"
          ],
          [
           "Asia"
          ],
          [
           "Asia"
          ],
          [
           "Asia"
          ],
          [
           "Asia"
          ],
          [
           "Asia"
          ],
          [
           "Asia"
          ],
          [
           "Asia"
          ],
          [
           "Asia"
          ],
          [
           "Asia"
          ],
          [
           "Asia"
          ],
          [
           "Asia"
          ],
          [
           "Asia"
          ],
          [
           "Asia"
          ],
          [
           "Asia"
          ],
          [
           "Asia"
          ],
          [
           "Asia"
          ],
          [
           "Asia"
          ],
          [
           "Asia"
          ],
          [
           "Asia"
          ],
          [
           "Asia"
          ],
          [
           "Asia"
          ],
          [
           "Asia"
          ],
          [
           "Asia"
          ],
          [
           "Asia"
          ],
          [
           "Asia"
          ],
          [
           "Asia"
          ],
          [
           "Asia"
          ],
          [
           "Asia"
          ],
          [
           "Asia"
          ],
          [
           "Asia"
          ],
          [
           "Asia"
          ],
          [
           "Asia"
          ],
          [
           "Asia"
          ],
          [
           "Europe"
          ],
          [
           "Europe"
          ],
          [
           "Europe"
          ],
          [
           "Europe"
          ],
          [
           "Europe"
          ],
          [
           "Europe"
          ],
          [
           "Europe"
          ],
          [
           "Europe"
          ],
          [
           "Europe"
          ],
          [
           "Europe"
          ],
          [
           "Europe"
          ],
          [
           "Europe"
          ],
          [
           "Europe"
          ],
          [
           "Europe"
          ],
          [
           "Europe"
          ],
          [
           "Europe"
          ],
          [
           "Europe"
          ],
          [
           "Europe"
          ],
          [
           "Europe"
          ],
          [
           "Europe"
          ],
          [
           "Europe"
          ],
          [
           "Europe"
          ],
          [
           "Europe"
          ],
          [
           "Europe"
          ],
          [
           "Europe"
          ],
          [
           "Europe"
          ],
          [
           "Europe"
          ],
          [
           "Europe"
          ],
          [
           "Europe"
          ],
          [
           "Europe"
          ],
          [
           "Europe"
          ],
          [
           "Europe"
          ],
          [
           "Europe"
          ],
          [
           "Europe"
          ],
          [
           "Europe"
          ],
          [
           "Europe"
          ],
          [
           "Europe"
          ],
          [
           "Europe"
          ],
          [
           "Europe"
          ],
          [
           "Europe"
          ],
          [
           "Europe"
          ],
          [
           "Europe"
          ],
          [
           "Europe"
          ],
          [
           "Europe"
          ],
          [
           "Europe"
          ],
          [
           "Europe"
          ],
          [
           "Europe"
          ],
          [
           "Europe"
          ],
          [
           "Europe"
          ],
          [
           "Europe"
          ],
          [
           "Europe"
          ],
          [
           "Europe"
          ],
          [
           "Europe"
          ],
          [
           "Europe"
          ],
          [
           "Europe"
          ],
          [
           "Europe"
          ],
          [
           "Europe"
          ],
          [
           "Europe"
          ],
          [
           "Europe"
          ],
          [
           "Europe"
          ],
          [
           "Europe"
          ],
          [
           "Europe"
          ],
          [
           "Europe"
          ],
          [
           "Europe"
          ],
          [
           "Europe"
          ],
          [
           "Europe"
          ],
          [
           "Europe"
          ],
          [
           "Europe"
          ],
          [
           "Europe"
          ],
          [
           "Europe"
          ],
          [
           "Europe"
          ],
          [
           "Europe"
          ],
          [
           "Europe"
          ],
          [
           "Europe"
          ],
          [
           "Europe"
          ],
          [
           "Europe"
          ],
          [
           "Europe"
          ],
          [
           "Europe"
          ],
          [
           "Europe"
          ],
          [
           "Europe"
          ],
          [
           "Europe"
          ],
          [
           "Europe"
          ],
          [
           "Europe"
          ],
          [
           "Europe"
          ],
          [
           "Europe"
          ],
          [
           "Europe"
          ],
          [
           "Europe"
          ],
          [
           "Europe"
          ],
          [
           "Europe"
          ],
          [
           "Europe"
          ],
          [
           "Europe"
          ],
          [
           "Europe"
          ],
          [
           "Europe"
          ],
          [
           "Europe"
          ],
          [
           "Europe"
          ],
          [
           "Europe"
          ],
          [
           "Europe"
          ],
          [
           "Europe"
          ],
          [
           "Europe"
          ],
          [
           "Europe"
          ],
          [
           "Europe"
          ],
          [
           "Europe"
          ],
          [
           "Europe"
          ],
          [
           "Europe"
          ],
          [
           "Europe"
          ],
          [
           "Europe"
          ],
          [
           "Europe"
          ],
          [
           "Europe"
          ],
          [
           "Europe"
          ],
          [
           "Europe"
          ],
          [
           "Europe"
          ],
          [
           "Europe"
          ],
          [
           "Europe"
          ],
          [
           "Europe"
          ],
          [
           "Europe"
          ],
          [
           "Europe"
          ],
          [
           "Europe"
          ],
          [
           "Europe"
          ],
          [
           "Europe"
          ],
          [
           "Europe"
          ],
          [
           "Europe"
          ],
          [
           "Europe"
          ],
          [
           "Europe"
          ],
          [
           "Europe"
          ],
          [
           "Europe"
          ],
          [
           "Europe"
          ],
          [
           "Europe"
          ],
          [
           "Europe"
          ],
          [
           "Europe"
          ],
          [
           "Europe"
          ],
          [
           "Europe"
          ],
          [
           "Europe"
          ],
          [
           "Europe"
          ],
          [
           "Europe"
          ],
          [
           "Europe"
          ],
          [
           "Europe"
          ],
          [
           "Europe"
          ],
          [
           "Europe"
          ],
          [
           "Europe"
          ],
          [
           "Europe"
          ],
          [
           "Europe"
          ],
          [
           "Europe"
          ],
          [
           "Europe"
          ],
          [
           "Europe"
          ],
          [
           "Europe"
          ],
          [
           "Europe"
          ],
          [
           "Europe"
          ],
          [
           "Europe"
          ],
          [
           "Europe"
          ],
          [
           "Europe"
          ],
          [
           "Europe"
          ],
          [
           "Europe"
          ],
          [
           "Europe"
          ],
          [
           "Europe"
          ],
          [
           "Europe"
          ],
          [
           "Europe"
          ],
          [
           "Europe"
          ],
          [
           "Europe"
          ],
          [
           "Europe"
          ],
          [
           "Europe"
          ],
          [
           "Europe"
          ],
          [
           "Europe"
          ],
          [
           "Europe"
          ],
          [
           "Europe"
          ],
          [
           "Europe"
          ],
          [
           "Europe"
          ],
          [
           "Europe"
          ],
          [
           "Europe"
          ],
          [
           "Europe"
          ],
          [
           "Europe"
          ],
          [
           "Europe"
          ],
          [
           "Europe"
          ],
          [
           "Europe"
          ],
          [
           "Europe"
          ],
          [
           "Europe"
          ],
          [
           "Europe"
          ],
          [
           "Europe"
          ],
          [
           "Europe"
          ],
          [
           "Europe"
          ],
          [
           "Europe"
          ],
          [
           "Europe"
          ],
          [
           "Europe"
          ],
          [
           "Europe"
          ],
          [
           "Europe"
          ],
          [
           "Europe"
          ],
          [
           "Europe"
          ],
          [
           "Europe"
          ],
          [
           "Europe"
          ],
          [
           "Europe"
          ],
          [
           "Europe"
          ],
          [
           "Europe"
          ],
          [
           "Europe"
          ],
          [
           "Europe"
          ],
          [
           "Europe"
          ],
          [
           "Europe"
          ],
          [
           "Europe"
          ],
          [
           "Europe"
          ],
          [
           "Europe"
          ],
          [
           "Europe"
          ],
          [
           "Europe"
          ],
          [
           "Europe"
          ],
          [
           "Europe"
          ],
          [
           "Europe"
          ],
          [
           "Europe"
          ],
          [
           "Europe"
          ],
          [
           "Europe"
          ],
          [
           "Europe"
          ],
          [
           "Europe"
          ],
          [
           "Europe"
          ],
          [
           "Europe"
          ],
          [
           "Europe"
          ],
          [
           "Europe"
          ],
          [
           "Europe"
          ],
          [
           "Europe"
          ],
          [
           "Europe"
          ],
          [
           "Europe"
          ],
          [
           "Europe"
          ],
          [
           "Europe"
          ],
          [
           "Europe"
          ],
          [
           "Europe"
          ],
          [
           "Europe"
          ],
          [
           "Europe"
          ],
          [
           "Europe"
          ],
          [
           "Europe"
          ],
          [
           "Europe"
          ],
          [
           "Europe"
          ],
          [
           "Europe"
          ],
          [
           "Europe"
          ],
          [
           "Europe"
          ],
          [
           "Europe"
          ],
          [
           "Europe"
          ],
          [
           "Europe"
          ],
          [
           "Europe"
          ],
          [
           "Europe"
          ],
          [
           "Europe"
          ],
          [
           "Europe"
          ],
          [
           "Europe"
          ],
          [
           "Europe"
          ],
          [
           "Europe"
          ],
          [
           "Europe"
          ],
          [
           "Europe"
          ],
          [
           "Europe"
          ],
          [
           "Europe"
          ],
          [
           "Europe"
          ],
          [
           "Europe"
          ],
          [
           "Europe"
          ],
          [
           "Europe"
          ],
          [
           "Europe"
          ],
          [
           "Europe"
          ],
          [
           "Europe"
          ],
          [
           "Europe"
          ],
          [
           "Europe"
          ],
          [
           "Europe"
          ],
          [
           "Europe"
          ],
          [
           "Europe"
          ],
          [
           "Europe"
          ],
          [
           "Europe"
          ],
          [
           "Europe"
          ],
          [
           "Europe"
          ],
          [
           "Europe"
          ],
          [
           "Europe"
          ],
          [
           "Europe"
          ],
          [
           "Europe"
          ],
          [
           "Europe"
          ],
          [
           "Europe"
          ],
          [
           "Europe"
          ],
          [
           "Europe"
          ],
          [
           "Europe"
          ],
          [
           "Europe"
          ],
          [
           "Europe"
          ],
          [
           "Europe"
          ],
          [
           "Europe"
          ],
          [
           "Europe"
          ],
          [
           "Europe"
          ],
          [
           "Europe"
          ],
          [
           "Europe"
          ],
          [
           "Europe"
          ],
          [
           "Europe"
          ],
          [
           "Europe"
          ],
          [
           "Europe"
          ],
          [
           "Europe"
          ],
          [
           "Europe"
          ],
          [
           "Europe"
          ],
          [
           "Europe"
          ],
          [
           "Europe"
          ],
          [
           "Europe"
          ],
          [
           "Europe"
          ],
          [
           "Europe"
          ],
          [
           "Europe"
          ],
          [
           "Europe"
          ],
          [
           "Europe"
          ],
          [
           "Europe"
          ],
          [
           "Europe"
          ],
          [
           "Europe"
          ],
          [
           "Europe"
          ],
          [
           "Europe"
          ],
          [
           "Europe"
          ],
          [
           "Europe"
          ],
          [
           "Europe"
          ],
          [
           "Europe"
          ],
          [
           "Europe"
          ],
          [
           "Europe"
          ],
          [
           "Europe"
          ],
          [
           "Europe"
          ],
          [
           "Europe"
          ],
          [
           "Europe"
          ],
          [
           "Europe"
          ],
          [
           "Europe"
          ],
          [
           "Europe"
          ],
          [
           "Europe"
          ],
          [
           "Europe"
          ],
          [
           "Europe"
          ],
          [
           "Europe"
          ],
          [
           "Europe"
          ],
          [
           "Europe"
          ],
          [
           "Europe"
          ],
          [
           "Europe"
          ],
          [
           "Europe"
          ],
          [
           "Europe"
          ],
          [
           "Europe"
          ],
          [
           "Europe"
          ],
          [
           "Europe"
          ],
          [
           "Europe"
          ],
          [
           "Europe"
          ],
          [
           "Europe"
          ],
          [
           "Europe"
          ],
          [
           "Europe"
          ],
          [
           "Europe"
          ],
          [
           "Europe"
          ],
          [
           "Europe"
          ],
          [
           "Europe"
          ],
          [
           "Europe"
          ],
          [
           "Europe"
          ],
          [
           "Europe"
          ],
          [
           "Europe"
          ],
          [
           "Europe"
          ],
          [
           "Europe"
          ],
          [
           "Europe"
          ],
          [
           "Europe"
          ],
          [
           "Europe"
          ],
          [
           "Europe"
          ],
          [
           "Europe"
          ],
          [
           "Europe"
          ],
          [
           "Europe"
          ],
          [
           "Europe"
          ],
          [
           "Europe"
          ],
          [
           "Europe"
          ],
          [
           "Europe"
          ],
          [
           "Europe"
          ],
          [
           "Europe"
          ],
          [
           "Europe"
          ],
          [
           "Europe"
          ],
          [
           "Europe"
          ],
          [
           "Europe"
          ],
          [
           "Europe"
          ],
          [
           "Europe"
          ],
          [
           "Europe"
          ],
          [
           "Europe"
          ],
          [
           "Europe"
          ],
          [
           "Europe"
          ],
          [
           "Europe"
          ],
          [
           "Europe"
          ],
          [
           "Europe"
          ],
          [
           "Europe"
          ],
          [
           "Europe"
          ],
          [
           "Europe"
          ],
          [
           "Europe"
          ],
          [
           "Europe"
          ],
          [
           "Europe"
          ],
          [
           "Europe"
          ],
          [
           "Europe"
          ],
          [
           "Europe"
          ],
          [
           "Europe"
          ],
          [
           "Europe"
          ],
          [
           "Europe"
          ],
          [
           "Europe"
          ],
          [
           "Europe"
          ],
          [
           "Europe"
          ],
          [
           "Europe"
          ],
          [
           "Europe"
          ],
          [
           "Europe"
          ],
          [
           "Europe"
          ],
          [
           "Europe"
          ],
          [
           "Europe"
          ],
          [
           "Europe"
          ],
          [
           "Europe"
          ],
          [
           "Europe"
          ],
          [
           "Europe"
          ],
          [
           "Europe"
          ],
          [
           "Europe"
          ],
          [
           "Europe"
          ],
          [
           "Oceania"
          ],
          [
           "Oceania"
          ],
          [
           "Oceania"
          ],
          [
           "Oceania"
          ],
          [
           "Oceania"
          ],
          [
           "Oceania"
          ],
          [
           "Oceania"
          ],
          [
           "Oceania"
          ],
          [
           "Oceania"
          ],
          [
           "Oceania"
          ],
          [
           "Oceania"
          ],
          [
           "Oceania"
          ],
          [
           "Oceania"
          ],
          [
           "Oceania"
          ],
          [
           "Oceania"
          ],
          [
           "Oceania"
          ],
          [
           "Oceania"
          ],
          [
           "Oceania"
          ],
          [
           "Oceania"
          ],
          [
           "Oceania"
          ],
          [
           "Oceania"
          ],
          [
           "Oceania"
          ],
          [
           "Oceania"
          ],
          [
           "Oceania"
          ],
          [
           "Oceania"
          ],
          [
           "Oceania"
          ],
          [
           "Oceania"
          ]
         ],
         "domain": {
          "x": [
           0,
           1
          ],
          "y": [
           0,
           1
          ]
         },
         "hovertemplate": "labels=%{label}<br>pop=%{value}<br>parent=%{parent}<br>id=%{id}<br>continent=%{customdata[0]}<extra></extra>",
         "ids": [
          "Africa/Malawi/1957",
          "Africa/Togo/1977",
          "Africa/Togo/1972",
          "Africa/Togo/1967",
          "Africa/Togo/1962",
          "Africa/Togo/1957",
          "Africa/Togo/1952",
          "Africa/Tanzania/2007",
          "Africa/Tanzania/2002",
          "Africa/Tanzania/1997",
          "Africa/Tanzania/1992",
          "Africa/Tanzania/1987",
          "Africa/Tanzania/1982",
          "Africa/Tanzania/1977",
          "Africa/Tanzania/1972",
          "Africa/Tanzania/1967",
          "Africa/Tanzania/1962",
          "Africa/Tanzania/1957",
          "Africa/Tanzania/1952",
          "Africa/Swaziland/2007",
          "Africa/Swaziland/2002",
          "Africa/Swaziland/1997",
          "Africa/Swaziland/1992",
          "Africa/Swaziland/1987",
          "Africa/Togo/1982",
          "Africa/Swaziland/1982",
          "Africa/Togo/1987",
          "Africa/Togo/1997",
          "Africa/Guinea-Bissau/1992",
          "Africa/Guinea-Bissau/1997",
          "Africa/Guinea-Bissau/2002",
          "Africa/Guinea-Bissau/2007",
          "Africa/Uganda/1972",
          "Africa/Uganda/1967",
          "Africa/Uganda/1962",
          "Africa/Uganda/1957",
          "Africa/Uganda/1952",
          "Africa/Tunisia/2007",
          "Africa/Tunisia/2002",
          "Africa/Tunisia/1997",
          "Africa/Tunisia/1992",
          "Africa/Tunisia/1987",
          "Africa/Tunisia/1982",
          "Africa/Tunisia/1977",
          "Africa/Tunisia/1972",
          "Africa/Tunisia/1967",
          "Africa/Tunisia/1962",
          "Africa/Tunisia/1957",
          "Africa/Tunisia/1952",
          "Africa/Togo/2007",
          "Africa/Togo/2002",
          "Africa/Togo/1992",
          "Africa/Guinea-Bissau/1987",
          "Africa/Swaziland/1977",
          "Africa/Swaziland/1967",
          "Africa/Somalia/2007",
          "Africa/Somalia/2002",
          "Africa/Somalia/1997",
          "Africa/Somalia/1992",
          "Africa/Somalia/1987",
          "Africa/Somalia/1982",
          "Africa/Somalia/1977",
          "Africa/Kenya/1952",
          "Africa/Kenya/1957",
          "Africa/Kenya/1962",
          "Africa/Kenya/1967",
          "Africa/Kenya/1972",
          "Africa/Kenya/1977",
          "Africa/Kenya/1982",
          "Africa/Kenya/1987",
          "Africa/Kenya/1992",
          "Africa/Kenya/1997",
          "Africa/Kenya/2002",
          "Africa/Kenya/2007",
          "Africa/Somalia/1972",
          "Africa/Somalia/1967",
          "Africa/Somalia/1962",
          "Africa/Somalia/1957",
          "Africa/South Africa/1952",
          "Africa/Swaziland/1972",
          "Africa/South Africa/1957",
          "Africa/South Africa/1967",
          "Africa/Swaziland/1962",
          "Africa/Swaziland/1957",
          "Africa/Swaziland/1952",
          "Africa/Sudan/2007",
          "Africa/Sudan/2002",
          "Africa/Sudan/1997",
          "Africa/Sudan/1992",
          "Africa/Sudan/1987",
          "Africa/Sudan/1982",
          "Africa/Sudan/1977",
          "Africa/Sudan/1972",
          "Africa/Sudan/1967",
          "Africa/Sudan/1962",
          "Africa/Sudan/1957",
          "Africa/Sudan/1952",
          "Africa/South Africa/2007",
          "Africa/South Africa/2002",
          "Africa/South Africa/1997",
          "Africa/South Africa/1992",
          "Africa/South Africa/1987",
          "Africa/South Africa/1982",
          "Africa/South Africa/1977",
          "Africa/South Africa/1972",
          "Africa/South Africa/1962",
          "Africa/Somalia/1952",
          "Africa/Guinea-Bissau/1982",
          "Africa/Guinea-Bissau/1972",
          "Africa/Eritrea/1977",
          "Africa/Eritrea/1982",
          "Africa/Eritrea/1987",
          "Africa/Eritrea/1992",
          "Africa/Eritrea/1997",
          "Africa/Eritrea/2002",
          "Africa/Eritrea/2007",
          "Africa/Ethiopia/1952",
          "Africa/Ethiopia/1957",
          "Africa/Ethiopia/1962",
          "Africa/Ethiopia/1967",
          "Africa/Ethiopia/1972",
          "Africa/Ethiopia/1977",
          "Africa/Ethiopia/1982",
          "Africa/Ethiopia/1987",
          "Africa/Ethiopia/1992",
          "Africa/Ethiopia/1997",
          "Africa/Ethiopia/2002",
          "Africa/Ethiopia/2007",
          "Africa/Gabon/1952",
          "Africa/Gabon/1957",
          "Africa/Gabon/1962",
          "Africa/Gabon/1967",
          "Africa/Eritrea/1972",
          "Africa/Gabon/1972",
          "Africa/Eritrea/1967",
          "Africa/Eritrea/1957",
          "Africa/Egypt/1962",
          "Africa/Egypt/1967",
          "Africa/Egypt/1972",
          "Africa/Egypt/1977",
          "Africa/Egypt/1982",
          "Africa/Egypt/1987",
          "Africa/Egypt/1992",
          "Africa/Egypt/1997",
          "Africa/Egypt/2002",
          "Africa/Egypt/2007",
          "Africa/Equatorial Guinea/1952",
          "Africa/Equatorial Guinea/1957",
          "Africa/Equatorial Guinea/1962",
          "Africa/Equatorial Guinea/1967",
          "Africa/Equatorial Guinea/1972",
          "Africa/Equatorial Guinea/1977",
          "Africa/Equatorial Guinea/1982",
          "Africa/Equatorial Guinea/1987",
          "Africa/Equatorial Guinea/1992",
          "Africa/Equatorial Guinea/1997",
          "Africa/Equatorial Guinea/2002",
          "Africa/Equatorial Guinea/2007",
          "Africa/Eritrea/1952",
          "Africa/Eritrea/1962",
          "Africa/Guinea-Bissau/1977",
          "Africa/Gabon/1977",
          "Africa/Gabon/1987",
          "Africa/Uganda/2007",
          "Africa/Uganda/2002",
          "Africa/Uganda/1997",
          "Africa/Uganda/1992",
          "Africa/Uganda/1987",
          "Africa/Uganda/1982",
          "Africa/Uganda/1977",
          "Africa/Guinea/1952",
          "Africa/Guinea/1957",
          "Africa/Guinea/1962",
          "Africa/Guinea/1967",
          "Africa/Guinea/1972",
          "Africa/Guinea/1977",
          "Africa/Guinea/1982",
          "Africa/Guinea/1987",
          "Africa/Guinea/1992",
          "Africa/Guinea/1997",
          "Africa/Guinea/2002",
          "Africa/Guinea/2007",
          "Africa/Guinea-Bissau/1952",
          "Africa/Guinea-Bissau/1957",
          "Africa/Guinea-Bissau/1962",
          "Africa/Guinea-Bissau/1967",
          "Africa/Ghana/2007",
          "Africa/Gabon/1982",
          "Africa/Ghana/2002",
          "Africa/Ghana/1992",
          "Africa/Gabon/1992",
          "Africa/Gabon/1997",
          "Africa/Gabon/2002",
          "Africa/Gabon/2007",
          "Africa/Gambia/1952",
          "Africa/Gambia/1957",
          "Africa/Gambia/1962",
          "Africa/Gambia/1967",
          "Africa/Gambia/1972",
          "Africa/Gambia/1977",
          "Africa/Gambia/1982",
          "Africa/Gambia/1987",
          "Africa/Gambia/1992",
          "Africa/Gambia/1997",
          "Africa/Gambia/2002",
          "Africa/Gambia/2007",
          "Africa/Ghana/1952",
          "Africa/Ghana/1957",
          "Africa/Ghana/1962",
          "Africa/Ghana/1967",
          "Africa/Ghana/1972",
          "Africa/Ghana/1977",
          "Africa/Ghana/1987",
          "Africa/Ghana/1997",
          "Africa/Egypt/1957",
          "Africa/Sierra Leone/2007",
          "Africa/Sierra Leone/1997",
          "Africa/Rwanda/1972",
          "Africa/Rwanda/1967",
          "Africa/Rwanda/1962",
          "Africa/Rwanda/1957",
          "Africa/Rwanda/1952",
          "Africa/Reunion/2007",
          "Africa/Reunion/2002",
          "Africa/Reunion/1997",
          "Africa/Reunion/1992",
          "Africa/Reunion/1987",
          "Africa/Reunion/1982",
          "Africa/Reunion/1977",
          "Africa/Morocco/1952",
          "Africa/Morocco/1957",
          "Africa/Morocco/1962",
          "Africa/Morocco/1967",
          "Africa/Morocco/1972",
          "Africa/Morocco/1977",
          "Africa/Morocco/1982",
          "Africa/Morocco/1987",
          "Africa/Morocco/1992",
          "Africa/Morocco/1997",
          "Africa/Morocco/2002",
          "Africa/Rwanda/1977",
          "Africa/Morocco/2007",
          "Africa/Rwanda/1982",
          "Africa/Rwanda/1992",
          "Africa/Mauritania/1997",
          "Africa/Mauritania/2002",
          "Africa/Mauritania/2007",
          "Africa/Mauritius/1952",
          "Africa/Mauritius/1957",
          "Africa/Mauritius/1962",
          "Africa/Mauritius/1967",
          "Africa/Mauritius/1972",
          "Africa/Mauritius/1977",
          "Africa/Mauritius/1982",
          "Africa/Mauritius/1987",
          "Africa/Mauritius/1992",
          "Africa/Mauritius/1997",
          "Africa/Mauritius/2002",
          "Africa/Mauritius/2007",
          "Africa/Sao Tome and Principe/1972",
          "Africa/Sao Tome and Principe/1967",
          "Africa/Sao Tome and Principe/1962",
          "Africa/Sao Tome and Principe/1957",
          "Africa/Sao Tome and Principe/1952",
          "Africa/Rwanda/2007",
          "Africa/Rwanda/2002",
          "Africa/Rwanda/1997",
          "Africa/Rwanda/1987",
          "Africa/Mauritania/1992",
          "Africa/Mozambique/1952",
          "Africa/Mozambique/1962",
          "Africa/Niger/1957",
          "Africa/Niger/1962",
          "Africa/Niger/1967",
          "Africa/Niger/1972",
          "Africa/Niger/1977",
          "Africa/Niger/1982",
          "Africa/Niger/1987",
          "Africa/Niger/1992",
          "Africa/Niger/1997",
          "Africa/Niger/2002",
          "Africa/Niger/2007",
          "Africa/Nigeria/1952",
          "Africa/Nigeria/1957",
          "Africa/Nigeria/1962",
          "Africa/Nigeria/1967",
          "Africa/Nigeria/1972",
          "Africa/Nigeria/1977",
          "Africa/Nigeria/1982",
          "Africa/Nigeria/1987",
          "Africa/Nigeria/1992",
          "Africa/Nigeria/1997",
          "Africa/Nigeria/2002",
          "Africa/Nigeria/2007",
          "Africa/Niger/1952",
          "Africa/Mozambique/1957",
          "Africa/Namibia/2007",
          "Africa/Namibia/1997",
          "Africa/Mozambique/1967",
          "Africa/Mozambique/1972",
          "Africa/Mozambique/1977",
          "Africa/Mozambique/1982",
          "Africa/Mozambique/1987",
          "Africa/Mozambique/1992",
          "Africa/Mozambique/1997",
          "Africa/Mozambique/2002",
          "Africa/Mozambique/2007",
          "Africa/Reunion/1972",
          "Africa/Reunion/1967",
          "Africa/Reunion/1962",
          "Africa/Reunion/1957",
          "Africa/Reunion/1952",
          "Africa/Namibia/1952",
          "Africa/Namibia/1957",
          "Africa/Namibia/1962",
          "Africa/Namibia/1967",
          "Africa/Namibia/1972",
          "Africa/Namibia/1977",
          "Africa/Namibia/1982",
          "Africa/Namibia/1987",
          "Africa/Namibia/1992",
          "Africa/Namibia/2002",
          "Africa/Sierra Leone/2002",
          "Africa/Mauritania/1987",
          "Africa/Mauritania/1977",
          "Africa/Lesotho/1982",
          "Africa/Lesotho/1987",
          "Africa/Lesotho/1992",
          "Africa/Lesotho/1997",
          "Africa/Lesotho/2002",
          "Africa/Lesotho/2007",
          "Africa/Liberia/1952",
          "Africa/Liberia/1957",
          "Africa/Liberia/1962",
          "Africa/Liberia/1967",
          "Africa/Liberia/1972",
          "Africa/Liberia/1977",
          "Africa/Liberia/1982",
          "Africa/Liberia/1987",
          "Africa/Liberia/1992",
          "Africa/Liberia/1997",
          "Africa/Liberia/2002",
          "Africa/Liberia/2007",
          "Africa/Libya/1952",
          "Africa/Libya/1957",
          "Africa/Libya/1962",
          "Africa/Libya/1967",
          "Africa/Libya/1972",
          "Africa/Lesotho/1977",
          "Africa/Libya/1977",
          "Africa/Lesotho/1972",
          "Africa/Lesotho/1962",
          "Africa/Sierra Leone/1992",
          "Africa/Sierra Leone/1987",
          "Africa/Sierra Leone/1982",
          "Africa/Sierra Leone/1977",
          "Africa/Sierra Leone/1972",
          "Africa/Sierra Leone/1967",
          "Africa/Sierra Leone/1962",
          "Africa/Sierra Leone/1957",
          "Africa/Sierra Leone/1952",
          "Africa/Senegal/2007",
          "Africa/Senegal/2002",
          "Africa/Senegal/1997",
          "Africa/Senegal/1992",
          "Africa/Senegal/1987",
          "Africa/Senegal/1982",
          "Africa/Senegal/1977",
          "Africa/Senegal/1972",
          "Africa/Senegal/1967",
          "Africa/Senegal/1962",
          "Africa/Senegal/1957",
          "Africa/Senegal/1952",
          "Africa/Lesotho/1952",
          "Africa/Lesotho/1957",
          "Africa/Lesotho/1967",
          "Africa/Mauritania/1982",
          "Africa/Libya/1982",
          "Africa/Libya/1992",
          "Africa/Sao Tome and Principe/2002",
          "Africa/Sao Tome and Principe/1997",
          "Africa/Sao Tome and Principe/1992",
          "Africa/Sao Tome and Principe/1987",
          "Africa/Sao Tome and Principe/1982",
          "Africa/Sao Tome and Principe/1977",
          "Africa/Mali/1952",
          "Africa/Mali/1957",
          "Africa/Mali/1962",
          "Africa/Mali/1967",
          "Africa/Mali/1972",
          "Africa/Mali/1977",
          "Africa/Mali/1982",
          "Africa/Mali/1987",
          "Africa/Mali/1992",
          "Africa/Mali/1997",
          "Africa/Mali/2002",
          "Africa/Mali/2007",
          "Africa/Mauritania/1952",
          "Africa/Mauritania/1957",
          "Africa/Mauritania/1962",
          "Africa/Mauritania/1967",
          "Africa/Mauritania/1972",
          "Africa/Sao Tome and Principe/2007",
          "Africa/Libya/1987",
          "Africa/Malawi/2007",
          "Africa/Malawi/1997",
          "Africa/Libya/1997",
          "Africa/Libya/2002",
          "Africa/Libya/2007",
          "Africa/Madagascar/1952",
          "Africa/Madagascar/1957",
          "Africa/Madagascar/1962",
          "Africa/Madagascar/1967",
          "Africa/Madagascar/1972",
          "Africa/Madagascar/1977",
          "Africa/Madagascar/1982",
          "Africa/Madagascar/1987",
          "Africa/Madagascar/1992",
          "Africa/Madagascar/1997",
          "Africa/Madagascar/2002",
          "Africa/Madagascar/2007",
          "Africa/Malawi/1952",
          "Africa/Malawi/1962",
          "Africa/Malawi/1967",
          "Africa/Malawi/1972",
          "Africa/Malawi/1977",
          "Africa/Malawi/1982",
          "Africa/Malawi/1987",
          "Africa/Malawi/1992",
          "Africa/Malawi/2002",
          "Africa/Egypt/1952",
          "Africa/Ghana/1982",
          "Africa/Congo, Dem. Rep./1987",
          "Africa/Djibouti",
          "Africa/Benin/2007",
          "Africa/Benin/2002",
          "Africa/Benin/1997",
          "Africa/Benin/1992",
          "Africa/Benin/1987",
          "Africa/Benin/1982",
          "Africa/Cote d'Ivoire",
          "Africa/Comoros/1952",
          "Africa/Comoros/1962",
          "Africa/Comoros/1967",
          "Africa/Comoros/1972",
          "Africa/Benin/1977",
          "Africa/Benin/1972",
          "Africa/Benin/1967",
          "Africa/Benin/1962",
          "Africa/Comoros/1957",
          "Africa/Zambia/1977",
          "Africa/Zambia/1982",
          "Africa/Zambia/1987",
          "Africa/Botswana/1972",
          "Africa/Botswana/1967",
          "Africa/Botswana/1962",
          "Africa/Botswana/1957",
          "Africa/Botswana/1952",
          "Africa/Comoros",
          "Africa/Congo, Dem. Rep.",
          "Africa/Congo, Rep.",
          "Africa/Zimbabwe/1972",
          "Africa/Zimbabwe/1967",
          "Africa/Zimbabwe/1962",
          "Africa/Zimbabwe/1957",
          "Africa/Zimbabwe/1952",
          "Africa/Zambia/2007",
          "Africa/Zambia/2002",
          "Africa/Zambia/1997",
          "Africa/Zambia/1992",
          "Africa/Benin/1957",
          "Africa/Botswana/1977",
          "Africa/Benin/1952",
          "Africa/Equatorial Guinea",
          "Africa/Congo, Dem. Rep./1967",
          "Africa/Congo, Dem. Rep./1972",
          "Africa/Congo, Dem. Rep./1977",
          "Africa/Congo, Dem. Rep./1982",
          "Africa/Cameroon/2002",
          "Africa/Congo, Dem. Rep./1992",
          "Africa/Congo, Dem. Rep./1997",
          "Africa/Congo, Dem. Rep./1962",
          "Africa/Congo, Dem. Rep./2002",
          "Africa/Congo, Rep./1952",
          "Africa/Congo, Rep./1957",
          "Africa/Congo, Rep./1962",
          "Africa/Congo, Rep./1967",
          "Africa/Congo, Rep./1972",
          "Africa/Congo, Rep./1977",
          "Africa/Congo, Rep./1982",
          "Africa/Congo, Dem. Rep./2007",
          "Africa/Congo, Dem. Rep./1957",
          "Africa/Congo, Dem. Rep./1952",
          "Africa/Comoros/2007",
          "Africa/Eritrea",
          "Africa/Ethiopia",
          "Africa/Gabon",
          "Africa/Gambia",
          "Africa/Ghana",
          "Africa/Guinea",
          "Africa/Guinea-Bissau",
          "Africa/Kenya",
          "Africa/Lesotho",
          "Africa/Liberia",
          "Africa/Libya",
          "Africa/Comoros/1977",
          "Africa/Comoros/1982",
          "Africa/Comoros/1987",
          "Africa/Comoros/1992",
          "Africa/Comoros/1997",
          "Africa/Comoros/2002",
          "Africa/Egypt",
          "Africa/Congo, Rep./1987",
          "Africa/Botswana/1982",
          "Africa/Botswana/1992",
          "Africa/Burundi/2002",
          "Africa/Burundi/1997",
          "Africa/Burundi/1992",
          "Africa/Burundi/1987",
          "Africa/Burundi/1982",
          "Africa/Burundi/1977",
          "Africa/Burundi/1972",
          "Africa/Burundi/2007",
          "Africa/Burundi/1967",
          "Africa/Burundi/1957",
          "Africa/Burundi/1952",
          "Africa/Burkina Faso/2007",
          "Africa/Burkina Faso/2002",
          "Africa/Burkina Faso/1997",
          "Africa/Burkina Faso/1992",
          "Africa/Central African Republic/1952",
          "Africa/Burundi/1962",
          "Africa/Angola",
          "Africa/Algeria",
          "Africa/Zimbabwe/2007",
          "Africa/Cameroon/2007",
          "Africa/Cameroon/1992",
          "Africa/Cameroon/1987",
          "Africa/Cameroon/1982",
          "Africa/Cameroon/1977",
          "Africa/Cameroon/1972",
          "Africa/Cameroon/1967",
          "Africa/Cameroon/1962",
          "Africa/Cameroon/1957",
          "Africa/Cameroon/1952",
          "Africa/Zimbabwe/1977",
          "Africa/Djibouti/2007",
          "Africa/Zimbabwe/1982",
          "Africa/Zimbabwe/1987",
          "Africa/Zimbabwe/1992",
          "Africa/Zimbabwe/1997",
          "Africa/Zimbabwe/2002",
          "Africa/Central African Republic/1957",
          "Africa/Botswana/1987",
          "Africa/Central African Republic/1962",
          "Africa/Central African Republic/1972",
          "Africa/Burkina Faso/1977",
          "Africa/Burkina Faso/1972",
          "Africa/Burkina Faso/1967",
          "Africa/Burkina Faso/1962",
          "Africa/Burkina Faso/1957",
          "Africa/Burkina Faso/1952",
          "Africa/Benin",
          "Africa/Burkina Faso/1982",
          "Africa/Botswana",
          "Africa/Burundi",
          "Africa/Cameroon",
          "Africa/Central African Republic",
          "Africa/Chad",
          "Africa/Botswana/2007",
          "Africa/Botswana/2002",
          "Africa/Botswana/1997",
          "Africa/Burkina Faso",
          "Africa/Burkina Faso/1987",
          "Africa/Chad/2007",
          "Africa/Chad/2002",
          "Africa/Central African Republic/1977",
          "Africa/Central African Republic/1982",
          "Africa/Central African Republic/1987",
          "Africa/Central African Republic/1992",
          "Africa/Central African Republic/1997",
          "Africa/Central African Republic/2002",
          "Africa/Central African Republic/2007",
          "Africa/Chad/1952",
          "Africa/Chad/1957",
          "Africa/Chad/1962",
          "Africa/Chad/1967",
          "Africa/Chad/1972",
          "Africa/Chad/1977",
          "Africa/Chad/1982",
          "Africa/Chad/1987",
          "Africa/Chad/1992",
          "Africa/Chad/1997",
          "Africa/Central African Republic/1967",
          "Africa/Congo, Rep./1992",
          "Africa/Cameroon/1997",
          "Africa/Congo, Rep./2002",
          "Africa/Algeria/1987",
          "Africa/Algeria/1992",
          "Africa/Congo, Rep./1997",
          "Africa/Algeria/2002",
          "Africa/Algeria/2007",
          "Africa/Angola/1952",
          "Africa/Angola/1957",
          "Africa/Angola/1962",
          "Africa/Angola/1967",
          "Africa/Angola/1972",
          "Africa/Angola/1977",
          "Africa/Algeria/1982",
          "Africa/Angola/1982",
          "Africa/Angola/1992",
          "Africa/Angola/1997",
          "Africa/Angola/2002",
          "Africa/Angola/2007",
          "Africa/Zambia/1952",
          "Africa/Zambia/1957",
          "Africa/Zambia/1962",
          "Africa/Zambia/1967",
          "Africa/Zambia/1972",
          "Africa/Cote d'Ivoire/2007",
          "Africa/Cote d'Ivoire/2002",
          "Africa/Angola/1987",
          "Africa/Algeria/1977",
          "Africa/Algeria/1972",
          "Africa/Algeria/1967",
          "Africa",
          "Africa/Zimbabwe",
          "Africa/Zambia",
          "Africa/Djibouti/2002",
          "Africa/Djibouti/1997",
          "Africa/Djibouti/1992",
          "Africa/Djibouti/1987",
          "Africa/Djibouti/1982",
          "Africa/Djibouti/1977",
          "Africa/Djibouti/1972",
          "Africa/Djibouti/1967",
          "Africa/Djibouti/1962",
          "Africa/Djibouti/1957",
          "Africa/Djibouti/1952",
          "Africa/Uganda",
          "Africa/Tunisia",
          "Africa/Togo",
          "Africa/Tanzania",
          "Africa/Swaziland",
          "Africa/Sudan",
          "Africa/South Africa",
          "Africa/Somalia",
          "Africa/Algeria/1952",
          "Africa/Algeria/1957",
          "Africa/Algeria/1962",
          "Africa/Cote d'Ivoire/1997",
          "Africa/Cote d'Ivoire/1992",
          "Africa/Algeria/1997",
          "Africa/Cote d'Ivoire/1987",
          "Africa/Sierra Leone",
          "Africa/Mauritania",
          "Africa/Sao Tome and Principe",
          "Africa/Mali",
          "Africa/Rwanda",
          "Africa/Morocco",
          "Africa/Reunion",
          "Africa/Mozambique",
          "Africa/Namibia",
          "Africa/Nigeria",
          "Africa/Niger",
          "Africa/Malawi",
          "Africa/Madagascar",
          "Africa/Congo, Rep./2007",
          "Africa/Mauritius",
          "Africa/Senegal",
          "Africa/Cote d'Ivoire/1982",
          "Africa/Cote d'Ivoire/1977",
          "Africa/Cote d'Ivoire/1972",
          "Africa/Cote d'Ivoire/1967",
          "Africa/Cote d'Ivoire/1962",
          "Africa/Cote d'Ivoire/1957",
          "Africa/Cote d'Ivoire/1952",
          "Americas/Paraguay/1987",
          "Americas/Mexico",
          "Americas/Peru/1972",
          "Americas/Peru/1967",
          "Americas/Nicaragua",
          "Americas/Nicaragua/2007",
          "Americas/Peru/1962",
          "Americas/Peru/1957",
          "Americas/Paraguay/1992",
          "Americas/Nicaragua/2002",
          "Americas/Nicaragua/1992",
          "Americas/Nicaragua/1987",
          "Americas/Nicaragua/1982",
          "Americas/Nicaragua/1977",
          "Americas/Peru/1952",
          "Americas/Paraguay/2007",
          "Americas/Paraguay/2002",
          "Americas/Paraguay/1997",
          "Americas/Nicaragua/1967",
          "Americas/Nicaragua/1962",
          "Americas/Nicaragua/1957",
          "Americas/Nicaragua/1952",
          "Americas/Paraguay/1977",
          "Americas/Paraguay/1982",
          "Americas/Nicaragua/1997",
          "Americas/Nicaragua/1972",
          "Americas/Mexico/1957",
          "Americas/Mexico/1952",
          "Americas/Paraguay/1957",
          "Americas/Paraguay/1952",
          "Americas/Panama/2007",
          "Americas/Panama/2002",
          "Americas/Panama/1997",
          "Americas/Panama/1992",
          "Americas/Paraguay/1962",
          "Americas/Panama/1987",
          "Americas/Panama/1977",
          "Americas/Panama/1972",
          "Americas/Panama/1967",
          "Americas/Panama/1962",
          "Americas/Panama/1957",
          "Americas/Panama/1952",
          "Americas/Panama/1982",
          "Americas/Trinidad and Tobago",
          "Americas/Paraguay/1967",
          "Americas/Argentina",
          "Americas/Peru/1977",
          "Americas/Mexico/1962",
          "Americas/Mexico/1967",
          "Americas/Mexico/1972",
          "Americas/Mexico/1977",
          "Americas/Mexico/1982",
          "Americas/Paraguay/1972",
          "Americas/Mexico/1987",
          "Americas/Mexico/1997",
          "Americas/Mexico/2002",
          "Americas/Mexico/2007",
          "Americas/United States",
          "Americas/Uruguay",
          "Americas/Venezuela",
          "Americas/Mexico/1992",
          "Americas/Bolivia",
          "Americas/Peru/2002",
          "Americas/Brazil",
          "Americas/Bolivia/1992",
          "Americas/Bolivia/1997",
          "Americas/Bolivia/2002",
          "Americas",
          "Americas/Bolivia/2007",
          "Americas/Ecuador",
          "Americas/Bolivia/1987",
          "Americas/Dominican Republic",
          "Americas/Cuba",
          "Americas/Argentina/1987",
          "Americas/Argentina/1992",
          "Americas/Argentina/1997",
          "Americas/Argentina/2002",
          "Americas/Puerto Rico/2007",
          "Americas/Argentina/1982",
          "Americas/Puerto Rico/2002",
          "Americas/Bolivia/1982",
          "Americas/Bolivia/1972",
          "Americas/Guatemala",
          "Americas/Argentina/1962",
          "Americas/Argentina/1957",
          "Americas/Argentina/1952",
          "Americas/Haiti",
          "Americas/Honduras",
          "Americas/Bolivia/1977",
          "Americas/Jamaica",
          "Americas/Argentina/1972",
          "Americas/Argentina/1977",
          "Americas/Bolivia/1952",
          "Americas/Bolivia/1957",
          "Americas/Bolivia/1962",
          "Americas/Bolivia/1967",
          "Americas/Argentina/1967",
          "Americas/Puerto Rico/1997",
          "Americas/Puerto Rico/1992",
          "Americas/Puerto Rico/1987",
          "Americas/Brazil/1972",
          "Americas/Brazil/1977",
          "Americas/Brazil/1982",
          "Americas/Brazil/1987",
          "Americas/Brazil/1992",
          "Americas/Brazil/1997",
          "Americas/Brazil/1967",
          "Americas/Brazil/2002",
          "Americas/Peru/2007",
          "Americas/El Salvador",
          "Americas/Canada",
          "Americas/Peru/1997",
          "Americas/Peru/1992",
          "Americas/Peru/1987",
          "Americas/Brazil/2007",
          "Americas/Brazil/1962",
          "Americas/Brazil/1957",
          "Americas/Brazil/1952",
          "Americas/Puerto Rico/1982",
          "Americas/Puerto Rico/1977",
          "Americas/Argentina/2007",
          "Americas/Costa Rica",
          "Americas/Colombia",
          "Americas/Chile",
          "Americas/Puerto Rico",
          "Americas/Peru",
          "Americas/Paraguay",
          "Americas/Panama",
          "Americas/Puerto Rico/1972",
          "Americas/Puerto Rico/1967",
          "Americas/Puerto Rico/1962",
          "Americas/Puerto Rico/1957",
          "Americas/Puerto Rico/1952",
          "Americas/Peru/1982",
          "Americas/Dominican Republic/1952",
          "Americas/Canada/2002",
          "Americas/Canada/1957",
          "Americas/Guatemala/1952",
          "Americas/United States/1952",
          "Americas/United States/1957",
          "Americas/United States/1962",
          "Americas/United States/1967",
          "Americas/United States/1972",
          "Americas/Costa Rica/1952",
          "Americas/Costa Rica/1957",
          "Americas/Costa Rica/1962",
          "Americas/Costa Rica/1967",
          "Americas/Costa Rica/1972",
          "Americas/Costa Rica/1977",
          "Americas/Costa Rica/1982",
          "Americas/Costa Rica/1987",
          "Americas/Costa Rica/1992",
          "Americas/Costa Rica/1997",
          "Americas/Costa Rica/2002",
          "Americas/United States/1977",
          "Americas/United States/1982",
          "Americas/United States/1987",
          "Americas/United States/1992",
          "Americas/United States/1997",
          "Americas/United States/2002",
          "Americas/United States/2007",
          "Americas/Uruguay/1952",
          "Americas/Uruguay/1957",
          "Americas/Uruguay/1962",
          "Americas/Uruguay/1967",
          "Americas/Uruguay/1972",
          "Americas/Guatemala/1957",
          "Americas/Guatemala/1962",
          "Americas/Guatemala/1967",
          "Americas/Guatemala/1972",
          "Americas/Honduras/2002",
          "Americas/Honduras/1997",
          "Americas/Honduras/1992",
          "Americas/Honduras/1987",
          "Americas/Honduras/1982",
          "Americas/Honduras/1977",
          "Americas/Honduras/1972",
          "Americas/Honduras/1967",
          "Americas/Honduras/1962",
          "Americas/Honduras/1957",
          "Americas/Honduras/1952",
          "Americas/Haiti/2007",
          "Americas/Haiti/2002",
          "Americas/Haiti/1997",
          "Americas/Costa Rica/2007",
          "Americas/Haiti/1992",
          "Americas/Haiti/1982",
          "Americas/Haiti/1977",
          "Americas/Haiti/1972",
          "Americas/Haiti/1967",
          "Americas/Haiti/1962",
          "Americas/Haiti/1957",
          "Americas/Haiti/1952",
          "Americas/Guatemala/2007",
          "Americas/Guatemala/2002",
          "Americas/Guatemala/1997",
          "Americas/Guatemala/1992",
          "Americas/Guatemala/1987",
          "Americas/Canada/1952",
          "Americas/Guatemala/1977",
          "Americas/Haiti/1987",
          "Americas/Honduras/2007",
          "Americas/Uruguay/1977",
          "Americas/Uruguay/1987",
          "Americas/El Salvador/1977",
          "Americas/El Salvador/1972",
          "Americas/El Salvador/1967",
          "Americas/El Salvador/1962",
          "Americas/El Salvador/1957",
          "Americas/El Salvador/1952",
          "Americas/Ecuador/2007",
          "Americas/Ecuador/2002",
          "Americas/Ecuador/1997",
          "Americas/Ecuador/1992",
          "Americas/Ecuador/1987",
          "Americas/Ecuador/1982",
          "Americas/Ecuador/1977",
          "Americas/Ecuador/1972",
          "Americas/Ecuador/1967",
          "Americas/Ecuador/1962",
          "Americas/Ecuador/1957",
          "Americas/Ecuador/1952",
          "Americas/Dominican Republic/2007",
          "Americas/Dominican Republic/2002",
          "Americas/Dominican Republic/1997",
          "Americas/Dominican Republic/1992",
          "Americas/Dominican Republic/1987",
          "Americas/Dominican Republic/1982",
          "Americas/Dominican Republic/1977",
          "Americas/Dominican Republic/1972",
          "Americas/Dominican Republic/1967",
          "Americas/Dominican Republic/1962",
          "Americas/Dominican Republic/1957",
          "Americas/El Salvador/1982",
          "Americas/El Salvador/1987",
          "Americas/El Salvador/1992",
          "Americas/El Salvador/1997",
          "Americas/Uruguay/1992",
          "Americas/Uruguay/1997",
          "Americas/Uruguay/2002",
          "Americas/Uruguay/2007",
          "Americas/Venezuela/1952",
          "Americas/Venezuela/1957",
          "Americas/Venezuela/1962",
          "Americas/Venezuela/1967",
          "Americas/Venezuela/1972",
          "Americas/Venezuela/1977",
          "Americas/Venezuela/1982",
          "Americas/Venezuela/1987",
          "Americas/Venezuela/1992",
          "Americas/Venezuela/1997",
          "Americas/Uruguay/1982",
          "Americas/Venezuela/2002",
          "Americas/Cuba/1952",
          "Americas/Cuba/1957",
          "Americas/Cuba/1962",
          "Americas/Cuba/1967",
          "Americas/Cuba/1972",
          "Americas/Cuba/1977",
          "Americas/Cuba/1982",
          "Americas/Cuba/1987",
          "Americas/Cuba/1992",
          "Americas/Cuba/1997",
          "Americas/Cuba/2002",
          "Americas/Cuba/2007",
          "Americas/El Salvador/2007",
          "Americas/El Salvador/2002",
          "Americas/Venezuela/2007",
          "Americas/Colombia/2007",
          "Americas/Guatemala/1982",
          "Americas/Colombia/1997",
          "Americas/Trinidad and Tobago/1967",
          "Americas/Trinidad and Tobago/1962",
          "Americas/Trinidad and Tobago/1957",
          "Americas/Trinidad and Tobago/1952",
          "Americas/Jamaica/2007",
          "Americas/Jamaica/2002",
          "Americas/Jamaica/1997",
          "Americas/Chile/2007",
          "Americas/Chile/2002",
          "Americas/Chile/1997",
          "Americas/Chile/1992",
          "Americas/Chile/1987",
          "Americas/Chile/1982",
          "Americas/Trinidad and Tobago/1972",
          "Americas/Chile/1972",
          "Americas/Chile/1962",
          "Americas/Chile/1957",
          "Americas/Chile/1952",
          "Americas/Jamaica/1992",
          "Americas/Jamaica/1987",
          "Americas/Jamaica/1982",
          "Americas/Jamaica/1977",
          "Americas/Jamaica/1972",
          "Americas/Colombia/2002",
          "Americas/Jamaica/1967",
          "Americas/Jamaica/1962",
          "Americas/Jamaica/1957",
          "Americas/Jamaica/1952",
          "Americas/Chile/1967",
          "Americas/Canada/2007",
          "Americas/Chile/1977",
          "Americas/Canada/1992",
          "Americas/Colombia/1962",
          "Americas/Trinidad and Tobago/2007",
          "Americas/Colombia/1967",
          "Americas/Trinidad and Tobago/2002",
          "Americas/Trinidad and Tobago/1997",
          "Americas/Trinidad and Tobago/1992",
          "Americas/Trinidad and Tobago/1987",
          "Americas/Colombia/1977",
          "Americas/Colombia/1982",
          "Americas/Colombia/1987",
          "Americas/Colombia/1992",
          "Americas/Colombia/1952",
          "Americas/Canada/1997",
          "Americas/Colombia/1957",
          "Americas/Canada/1977",
          "Americas/Canada/1967",
          "Americas/Canada/1972",
          "Americas/Colombia/1972",
          "Americas/Trinidad and Tobago/1977",
          "Americas/Canada/1987",
          "Americas/Canada/1962",
          "Americas/Trinidad and Tobago/1982",
          "Americas/Canada/1982",
          "Asia/Vietnam/2007",
          "Asia/West Bank and Gaza/2007",
          "Asia/West Bank and Gaza/2002",
          "Asia/West Bank and Gaza/1997",
          "Asia/West Bank and Gaza/1972",
          "Asia/West Bank and Gaza/1987",
          "Asia/West Bank and Gaza/1952",
          "Asia/West Bank and Gaza/1957",
          "Asia/West Bank and Gaza/1962",
          "Asia/West Bank and Gaza/1967",
          "Asia/West Bank and Gaza/1977",
          "Asia/West Bank and Gaza/1992",
          "Asia/West Bank and Gaza/1982",
          "Asia/Pakistan/1982",
          "Asia/Yemen, Rep./1957",
          "Asia/Philippines/1997",
          "Asia/Philippines/1992",
          "Asia/Philippines/1987",
          "Asia/Philippines/1982",
          "Asia/Philippines/1977",
          "Asia/Philippines/1972",
          "Asia/Philippines/1967",
          "Asia/Philippines/1962",
          "Asia/Philippines/1957",
          "Asia/Philippines/1952",
          "Asia/Pakistan/1977",
          "Asia/Vietnam/2002",
          "Asia/Yemen, Rep./1972",
          "Asia/Yemen, Rep./1967",
          "Asia/Yemen, Rep./1962",
          "Asia/Yemen, Rep./1952",
          "Asia/Vietnam/1997",
          "Asia/Sri Lanka",
          "Asia/Vietnam/1987",
          "Asia/Singapore/2002",
          "Asia/Pakistan/2002",
          "Asia/Pakistan/2007",
          "Asia/Vietnam",
          "Asia/West Bank and Gaza",
          "Asia/Yemen, Rep.",
          "Asia/Singapore/2007",
          "Asia/Bahrain",
          "Asia",
          "Asia/Afghanistan",
          "Asia/Sri Lanka/1972",
          "Asia/Sri Lanka/1967",
          "Asia/Sri Lanka/1962",
          "Asia/Sri Lanka/1957",
          "Asia/Sri Lanka/1952",
          "Asia/Singapore/1997",
          "Asia/Vietnam/1992",
          "Asia/Singapore/1992",
          "Asia/Vietnam/1977",
          "Asia/Vietnam/1982",
          "Asia/Pakistan/1987",
          "Asia/Pakistan/1992",
          "Asia/Pakistan/1997",
          "Asia/Singapore/1952",
          "Asia/Singapore/1957",
          "Asia/Singapore/1962",
          "Asia/Singapore/1967",
          "Asia/Syria",
          "Asia/Taiwan",
          "Asia/Singapore/1972",
          "Asia/Thailand",
          "Asia/Singapore/1977",
          "Asia/Singapore/1982",
          "Asia/Singapore/1987",
          "Asia/Philippines/2002",
          "Asia/Philippines/2007",
          "Asia/Syria/1967",
          "Asia/Sri Lanka/1982",
          "Asia/Thailand/1982",
          "Asia/Thailand/1977",
          "Asia/Thailand/1972",
          "Asia/Thailand/1967",
          "Asia/Thailand/1962",
          "Asia/Thailand/1957",
          "Asia/Malaysia",
          "Asia/Thailand/1952",
          "Asia/Mongolia",
          "Asia/Myanmar",
          "Asia/Nepal",
          "Asia/Pakistan/1972",
          "Asia/Oman",
          "Asia/Pakistan",
          "Asia/Philippines",
          "Asia/Taiwan/2007",
          "Asia/Taiwan/2002",
          "Asia/Taiwan/1997",
          "Asia/Saudi Arabia",
          "Asia/China",
          "Asia/Taiwan/1992",
          "Asia/Thailand/1987",
          "Asia/Thailand/1997",
          "Asia/Saudi Arabia/1952",
          "Asia/Saudi Arabia/1957",
          "Asia/Saudi Arabia/1962",
          "Asia/Saudi Arabia/1967",
          "Asia/Saudi Arabia/1972",
          "Asia/Hong Kong, China",
          "Asia/India",
          "Asia/Indonesia",
          "Asia/Iran",
          "Asia/Iraq",
          "Asia/Israel",
          "Asia/Japan",
          "Asia/Jordan",
          "Asia/Korea, Dem. Rep.",
          "Asia/Korea, Rep.",
          "Asia/Kuwait",
          "Asia/Lebanon",
          "Asia/Thailand/2007",
          "Asia/Thailand/2002",
          "Asia/Thailand/1992",
          "Asia/Taiwan/1987",
          "Asia/Singapore",
          "Asia/Taiwan/1982",
          "Asia/Saudi Arabia/2007",
          "Asia/Syria/1987",
          "Asia/Syria/1982",
          "Asia/Syria/1977",
          "Asia/Syria/1972",
          "Asia/Syria/1962",
          "Asia/Syria/1957",
          "Asia/Syria/1952",
          "Asia/Vietnam/1952",
          "Asia/Vietnam/1957",
          "Asia/Vietnam/1962",
          "Asia/Vietnam/1967",
          "Asia/Vietnam/1972",
          "Asia/Yemen, Rep./1977",
          "Asia/Sri Lanka/2007",
          "Asia/Sri Lanka/2002",
          "Asia/Sri Lanka/1997",
          "Asia/Sri Lanka/1992",
          "Asia/Sri Lanka/1987",
          "Asia/Saudi Arabia/2002",
          "Asia/Saudi Arabia/1997",
          "Asia/Saudi Arabia/1992",
          "Asia/Saudi Arabia/1987",
          "Asia/Taiwan/1977",
          "Asia/Taiwan/1972",
          "Asia/Taiwan/1967",
          "Asia/Taiwan/1962",
          "Asia/Cambodia",
          "Asia/Taiwan/1957",
          "Asia/Taiwan/1952",
          "Asia/Syria/2007",
          "Asia/Yemen, Rep./2007",
          "Asia/Sri Lanka/1977",
          "Asia/Yemen, Rep./2002",
          "Asia/Yemen, Rep./1992",
          "Asia/Yemen, Rep./1987",
          "Asia/Yemen, Rep./1982",
          "Asia/Syria/2002",
          "Asia/Syria/1997",
          "Asia/Syria/1992",
          "Asia/Bangladesh",
          "Asia/Saudi Arabia/1977",
          "Asia/Saudi Arabia/1982",
          "Asia/Yemen, Rep./1997",
          "Asia/Pakistan/1967",
          "Asia/Afghanistan/1952",
          "Asia/Pakistan/1957",
          "Asia/Iraq/1987",
          "Asia/Iraq/1992",
          "Asia/Iraq/1997",
          "Asia/Iraq/2002",
          "Asia/Iraq/2007",
          "Asia/Israel/1952",
          "Asia/Israel/1957",
          "Asia/Israel/1962",
          "Asia/Iraq/1982",
          "Asia/Israel/1967",
          "Asia/Israel/1977",
          "Asia/Israel/1982",
          "Asia/Israel/1987",
          "Asia/Israel/1992",
          "Asia/Israel/1997",
          "Asia/Israel/2002",
          "Asia/Israel/2007",
          "Asia/Japan/1952",
          "Asia/Israel/1972",
          "Asia/Iraq/1977",
          "Asia/Iraq/1972",
          "Asia/Iraq/1967",
          "Asia/Indonesia/1992",
          "Asia/Indonesia/1997",
          "Asia/Indonesia/2002",
          "Asia/Indonesia/2007",
          "Asia/Iran/1952",
          "Asia/Iran/1957",
          "Asia/Iran/1962",
          "Asia/Iran/1967",
          "Asia/Iran/1972",
          "Asia/Iran/1977",
          "Asia/Iran/1982",
          "Asia/Iran/1987",
          "Asia/Pakistan/1962",
          "Asia/Iran/1997",
          "Asia/Iran/2002",
          "Asia/Iran/2007",
          "Asia/Iraq/1952",
          "Asia/Iraq/1957",
          "Asia/Iraq/1962",
          "Asia/Japan/1957",
          "Asia/Japan/1962",
          "Asia/Japan/1967",
          "Asia/Japan/1972",
          "Asia/Korea, Dem. Rep./1972",
          "Asia/Korea, Dem. Rep./1977",
          "Asia/Korea, Dem. Rep./1982",
          "Asia/Korea, Dem. Rep./1987",
          "Asia/Korea, Dem. Rep./1992",
          "Asia/Korea, Dem. Rep./1997",
          "Asia/Korea, Dem. Rep./2002",
          "Asia/Korea, Dem. Rep./2007",
          "Asia/Korea, Rep./1952",
          "Asia/Korea, Rep./1957",
          "Asia/Korea, Rep./1962",
          "Asia/Korea, Rep./1967",
          "Asia/Korea, Rep./1972",
          "Asia/Korea, Rep./1977",
          "Asia/Korea, Rep./1982",
          "Asia/Korea, Rep./1987",
          "Asia/Korea, Rep./1992",
          "Asia/Korea, Rep./1997",
          "Asia/Korea, Rep./2002",
          "Asia/Korea, Dem. Rep./1967",
          "Asia/Indonesia/1987",
          "Asia/Korea, Dem. Rep./1962",
          "Asia/Korea, Dem. Rep./1952",
          "Asia/Japan/1977",
          "Asia/Japan/1982",
          "Asia/Japan/1987",
          "Asia/Japan/1992",
          "Asia/Japan/1997",
          "Asia/Japan/2002",
          "Asia/Japan/2007",
          "Asia/Jordan/1952",
          "Asia/Jordan/1957",
          "Asia/Jordan/1962",
          "Asia/Jordan/1967",
          "Asia/Jordan/1972",
          "Asia/Jordan/1977",
          "Asia/Jordan/1982",
          "Asia/Jordan/1987",
          "Asia/Jordan/1992",
          "Asia/Jordan/1997",
          "Asia/Jordan/2002",
          "Asia/Jordan/2007",
          "Asia/Korea, Dem. Rep./1957",
          "Asia/Korea, Rep./2007",
          "Asia/Indonesia/1982",
          "Asia/Indonesia/1972",
          "Asia/Bangladesh/1952",
          "Asia/Bangladesh/1957",
          "Asia/Bangladesh/1962",
          "Asia/Bangladesh/1967",
          "Asia/Bangladesh/1972",
          "Asia/Bangladesh/1977",
          "Asia/Bangladesh/1982",
          "Asia/Bangladesh/1987",
          "Asia/Bahrain/2007",
          "Asia/Bangladesh/1992",
          "Asia/Bangladesh/2002",
          "Asia/Bangladesh/2007",
          "Asia/Cambodia/1952",
          "Asia/Cambodia/1957",
          "Asia/Cambodia/1962",
          "Asia/Cambodia/1967",
          "Asia/Cambodia/1972",
          "Asia/Cambodia/1977",
          "Asia/Bangladesh/1997",
          "Asia/Bahrain/2002",
          "Asia/Bahrain/1997",
          "Asia/Bahrain/1992",
          "Asia/Afghanistan/1957",
          "Asia/Afghanistan/1962",
          "Asia/Afghanistan/1967",
          "Asia/Afghanistan/1972",
          "Asia/Afghanistan/1977",
          "Asia/Afghanistan/1982",
          "Asia/Afghanistan/1987",
          "Asia/Afghanistan/1992",
          "Asia/Afghanistan/1997",
          "Asia/Afghanistan/2002",
          "Asia/Afghanistan/2007",
          "Asia/Bahrain/1952",
          "Asia/Bahrain/1957",
          "Asia/Bahrain/1962",
          "Asia/Bahrain/1967",
          "Asia/Bahrain/1972",
          "Asia/Bahrain/1977",
          "Asia/Bahrain/1982",
          "Asia/Bahrain/1987",
          "Asia/Cambodia/1982",
          "Asia/Cambodia/1987",
          "Asia/Cambodia/1992",
          "Asia/Cambodia/1997",
          "Asia/Hong Kong, China/1997",
          "Asia/Hong Kong, China/2002",
          "Asia/Hong Kong, China/2007",
          "Asia/India/1952",
          "Asia/India/1957",
          "Asia/India/1962",
          "Asia/India/1967",
          "Asia/India/1972",
          "Asia/India/1977",
          "Asia/India/1982",
          "Asia/India/1987",
          "Asia/India/1992",
          "Asia/India/1997",
          "Asia/India/2002",
          "Asia/India/2007",
          "Asia/Indonesia/1952",
          "Asia/Indonesia/1957",
          "Asia/Indonesia/1962",
          "Asia/Indonesia/1967",
          "Asia/Hong Kong, China/1992",
          "Asia/Indonesia/1977",
          "Asia/Hong Kong, China/1987",
          "Asia/Hong Kong, China/1977",
          "Asia/Cambodia/2002",
          "Asia/Cambodia/2007",
          "Asia/China/1952",
          "Asia/China/1957",
          "Asia/China/1962",
          "Asia/China/1967",
          "Asia/China/1972",
          "Asia/China/1977",
          "Asia/China/1982",
          "Asia/China/1987",
          "Asia/China/1992",
          "Asia/China/1997",
          "Asia/China/2002",
          "Asia/China/2007",
          "Asia/Hong Kong, China/1952",
          "Asia/Hong Kong, China/1957",
          "Asia/Hong Kong, China/1962",
          "Asia/Hong Kong, China/1967",
          "Asia/Hong Kong, China/1972",
          "Asia/Hong Kong, China/1982",
          "Asia/Kuwait/1952",
          "Asia/Iran/1992",
          "Asia/Kuwait/1962",
          "Asia/Mongolia/1987",
          "Asia/Mongolia/1982",
          "Asia/Mongolia/1977",
          "Asia/Mongolia/1972",
          "Asia/Mongolia/1967",
          "Asia/Mongolia/1962",
          "Asia/Oman/1952",
          "Asia/Oman/1957",
          "Asia/Mongolia/1957",
          "Asia/Mongolia/1952",
          "Asia/Malaysia/2002",
          "Asia/Malaysia/1997",
          "Asia/Malaysia/1992",
          "Asia/Malaysia/1987",
          "Asia/Malaysia/1982",
          "Asia/Malaysia/1977",
          "Asia/Malaysia/1972",
          "Asia/Malaysia/1967",
          "Asia/Malaysia/1962",
          "Asia/Malaysia/1957",
          "Asia/Malaysia/1952",
          "Asia/Lebanon/2007",
          "Asia/Lebanon/2002",
          "Asia/Mongolia/1992",
          "Asia/Mongolia/1997",
          "Asia/Mongolia/2002",
          "Asia/Mongolia/2007",
          "Asia/Myanmar/1952",
          "Asia/Myanmar/1957",
          "Asia/Myanmar/1962",
          "Asia/Myanmar/1967",
          "Asia/Myanmar/1972",
          "Asia/Myanmar/1977",
          "Asia/Myanmar/1982",
          "Asia/Myanmar/1987",
          "Asia/Myanmar/1992",
          "Asia/Myanmar/1997",
          "Asia/Myanmar/2002",
          "Asia/Lebanon/1997",
          "Asia/Myanmar/2007",
          "Asia/Nepal/1957",
          "Asia/Nepal/1962",
          "Asia/Nepal/1967",
          "Asia/Nepal/1972",
          "Asia/Nepal/2007",
          "Asia/Nepal/2002",
          "Asia/Nepal/1997",
          "Asia/Nepal/1992",
          "Asia/Nepal/1987",
          "Asia/Nepal/1982",
          "Asia/Nepal/1977",
          "Asia/Nepal/1952",
          "Asia/Lebanon/1992",
          "Asia/Malaysia/2007",
          "Asia/Lebanon/1982",
          "Asia/Oman/1962",
          "Asia/Kuwait/1992",
          "Asia/Lebanon/1987",
          "Asia/Kuwait/1987",
          "Asia/Kuwait/1982",
          "Asia/Kuwait/1977",
          "Asia/Oman/1967",
          "Asia/Oman/1972",
          "Asia/Oman/1977",
          "Asia/Oman/1987",
          "Asia/Oman/1992",
          "Asia/Oman/1997",
          "Asia/Oman/2002",
          "Asia/Oman/2007",
          "Asia/Oman/1982",
          "Asia/Pakistan/1952",
          "Asia/Lebanon/1977",
          "Asia/Lebanon/1972",
          "Asia/Lebanon/1962",
          "Asia/Lebanon/1957",
          "Asia/Lebanon/1952",
          "Asia/Kuwait/2007",
          "Asia/Lebanon/1967",
          "Asia/Kuwait/1957",
          "Asia/Kuwait/1997",
          "Asia/Kuwait/1972",
          "Asia/Kuwait/1967",
          "Asia/Kuwait/2002",
          "Europe/Poland/1952",
          "Europe/Poland/1957",
          "Europe/Poland/1962",
          "Europe/Croatia/1952",
          "Europe/Croatia/1982",
          "Europe/Croatia/1967",
          "Europe/Croatia/1972",
          "Europe/Croatia/1977",
          "Europe/Croatia/1987",
          "Europe/Croatia/1992",
          "Europe/France/2002",
          "Europe/Croatia/1957",
          "Europe/Croatia/1962",
          "Europe/Netherlands/1982",
          "Europe/Germany/1952",
          "Europe/Germany/1957",
          "Europe/Germany/1962",
          "Europe/Netherlands/1952",
          "Europe/Netherlands/1957",
          "Europe/Netherlands/1962",
          "Europe/Netherlands/1967",
          "Europe/Netherlands/1972",
          "Europe/Netherlands/1977",
          "Europe/Croatia/1997",
          "Europe/Netherlands/1987",
          "Europe/Germany/1967",
          "Europe/Germany/1972",
          "Europe/Netherlands/1992",
          "Europe/France/2007",
          "Europe/Croatia/2002",
          "Europe/Czech Republic/1972",
          "Europe/Czech Republic/1952",
          "Europe/Denmark/1972",
          "Europe/Finland/2002",
          "Europe/Finland/1997",
          "Europe/Netherlands/1997",
          "Europe/Finland/1992",
          "Europe/Finland/1987",
          "Europe/Denmark/1977",
          "Europe/Denmark/1982",
          "Europe/Denmark/1987",
          "Europe/Denmark/1967",
          "Europe/Denmark/1992",
          "Europe/Denmark/2002",
          "Europe/Denmark/2007",
          "Europe/Finland/1952",
          "Europe/Finland/1957",
          "Europe/Finland/1962",
          "Europe/Finland/1967",
          "Europe/Finland/1972",
          "Europe/Finland/1982",
          "Europe/Finland/1977",
          "Europe/Denmark/1997",
          "Europe/Finland/2007",
          "Europe/France/1952",
          "Europe/Denmark/1962",
          "Europe/Czech Republic/1957",
          "Europe/Czech Republic/1962",
          "Europe/Czech Republic/1967",
          "Europe/Czech Republic/1977",
          "Europe/Czech Republic/1982",
          "Europe/France/1997",
          "Europe/France/1992",
          "Europe/France/1987",
          "Europe/France/1982",
          "Europe/France/1977",
          "Europe/France/1972",
          "Europe/France/1967",
          "Europe/France/1962",
          "Europe/France/1957",
          "Europe/Czech Republic/1987",
          "Europe/Czech Republic/1992",
          "Europe/Czech Republic/1997",
          "Europe/Czech Republic/2002",
          "Europe/Czech Republic/2007",
          "Europe/Denmark/1952",
          "Europe/Denmark/1957",
          "Europe/Croatia/2007",
          "Europe/Albania",
          "Europe/Czech Republic",
          "Europe/Netherlands/2007",
          "Europe/Austria/1962",
          "Europe/Austria/1967",
          "Europe/Austria/1972",
          "Europe/Netherlands",
          "Europe/Austria/1977",
          "Europe/Austria/1982",
          "Europe/Austria/1987",
          "Europe/Austria/1992",
          "Europe/Austria/1997",
          "Europe/Montenegro",
          "Europe/Norway",
          "Europe/Austria/2002",
          "Europe/Norway/2007",
          "Europe/Norway/2002",
          "Europe/Norway/1997",
          "Europe/Norway/1992",
          "Europe/Norway/1987",
          "Europe/Norway/1982",
          "Europe/Norway/1977",
          "Europe/Norway/1972",
          "Europe/Norway/1967",
          "Europe/Norway/1962",
          "Europe/Austria/2007",
          "Europe/Austria/1957",
          "Europe/Austria/1952",
          "Europe/Poland",
          "Europe",
          "Europe/United Kingdom",
          "Europe/Turkey",
          "Europe/Albania/1952",
          "Europe/Albania/1957",
          "Europe/Albania/1962",
          "Europe/Albania/1967",
          "Europe/Albania/1972",
          "Europe/Albania/1977",
          "Europe/Albania/1982",
          "Europe/Switzerland",
          "Europe/Sweden",
          "Europe/Albania/1987",
          "Europe/Albania/1992",
          "Europe/Albania/1997",
          "Europe/Spain",
          "Europe/Albania/2002",
          "Europe/Albania/2007",
          "Europe/Slovenia",
          "Europe/Slovak Republic",
          "Europe/Serbia",
          "Europe/Romania",
          "Europe/Portugal",
          "Europe/Norway/1957",
          "Europe/Netherlands/2002",
          "Europe/Norway/1952",
          "Europe/Ireland",
          "Europe/Bosnia and Herzegovina/1982",
          "Europe/Bosnia and Herzegovina/1987",
          "Europe/Bosnia and Herzegovina/1992",
          "Europe/Bosnia and Herzegovina/1997",
          "Europe/Bosnia and Herzegovina/2002",
          "Europe/Bosnia and Herzegovina/2007",
          "Europe/Bulgaria/1952",
          "Europe/Bulgaria/1957",
          "Europe/Bulgaria/1962",
          "Europe/Bulgaria/1967",
          "Europe/Bosnia and Herzegovina/1977",
          "Europe/Bulgaria/1972",
          "Europe/Bulgaria/1982",
          "Europe/Bulgaria",
          "Europe/Bulgaria/1987",
          "Europe/Bulgaria/1992",
          "Europe/Bosnia and Herzegovina",
          "Europe/Bulgaria/1997",
          "Europe/Bulgaria/2002",
          "Europe/Belgium",
          "Europe/Bulgaria/2007",
          "Europe/Austria",
          "Europe/Bulgaria/1977",
          "Europe/Bosnia and Herzegovina/1972",
          "Europe/Croatia",
          "Europe/Bosnia and Herzegovina/1967",
          "Europe/Iceland",
          "Europe/Hungary",
          "Europe/Belgium/1952",
          "Europe/Belgium/1957",
          "Europe/Belgium/1962",
          "Europe/Belgium/1967",
          "Europe/Greece",
          "Europe/Belgium/1972",
          "Europe/Germany",
          "Europe/Belgium/1977",
          "Europe/Belgium/1982",
          "Europe/France",
          "Europe/Finland",
          "Europe/Belgium/1987",
          "Europe/Belgium/1992",
          "Europe/Belgium/1997",
          "Europe/Belgium/2002",
          "Europe/Belgium/2007",
          "Europe/Bosnia and Herzegovina/1952",
          "Europe/Bosnia and Herzegovina/1957",
          "Europe/Bosnia and Herzegovina/1962",
          "Europe/Denmark",
          "Europe/Germany/1977",
          "Europe/Italy",
          "Europe/Germany/1982",
          "Europe/United Kingdom/1967",
          "Europe/Germany/1992",
          "Europe/Sweden/1977",
          "Europe/Sweden/1972",
          "Europe/Sweden/1967",
          "Europe/Sweden/1962",
          "Europe/Sweden/1957",
          "Europe/Sweden/1952",
          "Europe/Ireland/1977",
          "Europe/Ireland/1982",
          "Europe/Ireland/1987",
          "Europe/Ireland/1992",
          "Europe/Sweden/1982",
          "Europe/Ireland/1997",
          "Europe/Ireland/2007",
          "Europe/Montenegro/1957",
          "Europe/Montenegro/1952",
          "Europe/Italy/1952",
          "Europe/Italy/1957",
          "Europe/Italy/1962",
          "Europe/Italy/1967",
          "Europe/Italy/1972",
          "Europe/Italy/1977",
          "Europe/Italy/1982",
          "Europe/Ireland/2002",
          "Europe/Italy/1987",
          "Europe/Sweden/1987",
          "Europe/Sweden/1997",
          "Europe/Montenegro/1972",
          "Europe/Montenegro/1967",
          "Europe/Montenegro/1962",
          "Europe/Ireland/1952",
          "Europe/Ireland/1957",
          "Europe/Ireland/1962",
          "Europe/Ireland/1967",
          "Europe/Ireland/1972",
          "Europe/Switzerland/2007",
          "Europe/Germany/1987",
          "Europe/Sweden/1992",
          "Europe/Switzerland/1997",
          "Europe/Switzerland/1987",
          "Europe/Switzerland/1982",
          "Europe/Switzerland/1977",
          "Europe/Switzerland/1972",
          "Europe/Switzerland/1967",
          "Europe/Switzerland/1962",
          "Europe/Switzerland/1957",
          "Europe/Switzerland/1952",
          "Europe/Sweden/2007",
          "Europe/Sweden/2002",
          "Europe/Switzerland/1992",
          "Europe/Italy/1992",
          "Europe/Italy/1997",
          "Europe/Italy/2002",
          "Europe/Slovak Republic/1997",
          "Europe/Slovak Republic/1992",
          "Europe/Slovak Republic/1987",
          "Europe/Slovak Republic/1982",
          "Europe/Slovak Republic/1977",
          "Europe/Slovak Republic/1972",
          "Europe/Slovak Republic/1967",
          "Europe/Slovak Republic/1962",
          "Europe/Slovak Republic/1957",
          "Europe/Slovak Republic/1952",
          "Europe/Slovak Republic/2002",
          "Europe/Serbia/1952",
          "Europe/Serbia/1962",
          "Europe/Serbia/1967",
          "Europe/Serbia/1972",
          "Europe/Serbia/1977",
          "Europe/Serbia/1982",
          "Europe/Serbia/1987",
          "Europe/Serbia/1992",
          "Europe/Serbia/1997",
          "Europe/Serbia/2002",
          "Europe/Serbia/2007",
          "Europe/Serbia/1957",
          "Europe/Slovak Republic/2007",
          "Europe/Slovenia/1952",
          "Europe/Slovenia/1957",
          "Europe/Italy/2007",
          "Europe/Spain/2007",
          "Europe/Spain/2002",
          "Europe/Spain/1997",
          "Europe/Spain/1992",
          "Europe/Spain/1987",
          "Europe/Spain/1982",
          "Europe/Spain/1977",
          "Europe/Spain/1972",
          "Europe/Spain/1967",
          "Europe/Spain/1962",
          "Europe/Spain/1957",
          "Europe/Spain/1952",
          "Europe/Slovenia/2007",
          "Europe/Slovenia/2002",
          "Europe/Slovenia/1997",
          "Europe/Slovenia/1992",
          "Europe/Slovenia/1987",
          "Europe/Slovenia/1982",
          "Europe/Slovenia/1977",
          "Europe/Slovenia/1972",
          "Europe/Slovenia/1967",
          "Europe/Slovenia/1962",
          "Europe/Romania/2007",
          "Europe/Romania/2002",
          "Europe/Switzerland/2002",
          "Europe/Romania/1992",
          "Europe/Poland/1982",
          "Europe/Poland/1987",
          "Europe/Turkey/2007",
          "Europe/Turkey/2002",
          "Europe/Turkey/1997",
          "Europe/Turkey/1992",
          "Europe/Turkey/1987",
          "Europe/Turkey/1982",
          "Europe/Turkey/1977",
          "Europe/Turkey/1972",
          "Europe/Turkey/1967",
          "Europe/Poland/1977",
          "Europe/Turkey/1962",
          "Europe/Turkey/1952",
          "Europe/Poland/1992",
          "Europe/Poland/1997",
          "Europe/Poland/2002",
          "Europe/Poland/2007",
          "Europe/Portugal/1952",
          "Europe/Romania/1997",
          "Europe/Portugal/1962",
          "Europe/Hungary/1952",
          "Europe/Hungary/1957",
          "Europe/Hungary/1962",
          "Europe/Turkey/1957",
          "Europe/Poland/1972",
          "Europe/Poland/1967",
          "Europe/Greece/2007",
          "Europe/Germany/1997",
          "Europe/Germany/2002",
          "Europe/Germany/2007",
          "Europe/Greece/1952",
          "Europe/Greece/1957",
          "Europe/Greece/1962",
          "Europe/Greece/1967",
          "Europe/Greece/1972",
          "Europe/United Kingdom/2007",
          "Europe/United Kingdom/2002",
          "Europe/United Kingdom/1997",
          "Europe/United Kingdom/1992",
          "Europe/United Kingdom/1987",
          "Europe/United Kingdom/1982",
          "Europe/United Kingdom/1977",
          "Europe/United Kingdom/1972",
          "Europe/United Kingdom/1962",
          "Europe/United Kingdom/1957",
          "Europe/United Kingdom/1952",
          "Europe/Greece/1977",
          "Europe/Greece/1982",
          "Europe/Greece/1987",
          "Europe/Greece/1992",
          "Europe/Greece/1997",
          "Europe/Greece/2002",
          "Europe/Hungary/1967",
          "Europe/Hungary/1972",
          "Europe/Portugal/1957",
          "Europe/Hungary/1982",
          "Europe/Iceland/1997",
          "Europe/Iceland/2002",
          "Europe/Iceland/2007",
          "Europe/Portugal/1967",
          "Europe/Portugal/1972",
          "Europe/Portugal/1977",
          "Europe/Portugal/1982",
          "Europe/Portugal/1987",
          "Europe/Portugal/1992",
          "Europe/Portugal/1997",
          "Europe/Portugal/2002",
          "Europe/Portugal/2007",
          "Europe/Montenegro/2007",
          "Europe/Montenegro/2002",
          "Europe/Montenegro/1997",
          "Europe/Montenegro/1992",
          "Europe/Montenegro/1987",
          "Europe/Montenegro/1982",
          "Europe/Montenegro/1977",
          "Europe/Romania/1952",
          "Europe/Romania/1957",
          "Europe/Romania/1962",
          "Europe/Romania/1967",
          "Europe/Romania/1972",
          "Europe/Romania/1977",
          "Europe/Romania/1982",
          "Europe/Romania/1987",
          "Europe/Iceland/1992",
          "Europe/Hungary/1977",
          "Europe/Iceland/1987",
          "Europe/Iceland/1967",
          "Europe/Hungary/1987",
          "Europe/Hungary/1992",
          "Europe/Iceland/1982",
          "Europe/Hungary/1997",
          "Europe/Hungary/2002",
          "Europe/Hungary/2007",
          "Europe/Iceland/1952",
          "Europe/Iceland/1957",
          "Europe/Iceland/1962",
          "Europe/Iceland/1972",
          "Europe/Iceland/1977",
          "Oceania/New Zealand/1952",
          "Oceania/Australia/1972",
          "Oceania/New Zealand/1997",
          "Oceania/New Zealand/1957",
          "Oceania/New Zealand/2002",
          "Oceania/New Zealand/1992",
          "Oceania/Australia",
          "Oceania/New Zealand/2007",
          "Oceania/New Zealand/1987",
          "Oceania/Australia/1977",
          "Oceania/Australia/1967",
          "Oceania/Australia/1962",
          "Oceania/Australia/1957",
          "Oceania/Australia/1952",
          "Oceania/Australia/1982",
          "Oceania/Australia/1987",
          "Oceania/New Zealand/1962",
          "Oceania/New Zealand/1967",
          "Oceania/Australia/1992",
          "Oceania/Australia/1997",
          "Oceania/Australia/2002",
          "Oceania/Australia/2007",
          "Oceania/New Zealand/1972",
          "Oceania/New Zealand/1977",
          "Oceania/New Zealand/1982",
          "Oceania/New Zealand",
          "Oceania"
         ],
         "labels": [
          "1957",
          "1977",
          "1972",
          "1967",
          "1962",
          "1957",
          "1952",
          "2007",
          "2002",
          "1997",
          "1992",
          "1987",
          "1982",
          "1977",
          "1972",
          "1967",
          "1962",
          "1957",
          "1952",
          "2007",
          "2002",
          "1997",
          "1992",
          "1987",
          "1982",
          "1982",
          "1987",
          "1997",
          "1992",
          "1997",
          "2002",
          "2007",
          "1972",
          "1967",
          "1962",
          "1957",
          "1952",
          "2007",
          "2002",
          "1997",
          "1992",
          "1987",
          "1982",
          "1977",
          "1972",
          "1967",
          "1962",
          "1957",
          "1952",
          "2007",
          "2002",
          "1992",
          "1987",
          "1977",
          "1967",
          "2007",
          "2002",
          "1997",
          "1992",
          "1987",
          "1982",
          "1977",
          "1952",
          "1957",
          "1962",
          "1967",
          "1972",
          "1977",
          "1982",
          "1987",
          "1992",
          "1997",
          "2002",
          "2007",
          "1972",
          "1967",
          "1962",
          "1957",
          "1952",
          "1972",
          "1957",
          "1967",
          "1962",
          "1957",
          "1952",
          "2007",
          "2002",
          "1997",
          "1992",
          "1987",
          "1982",
          "1977",
          "1972",
          "1967",
          "1962",
          "1957",
          "1952",
          "2007",
          "2002",
          "1997",
          "1992",
          "1987",
          "1982",
          "1977",
          "1972",
          "1962",
          "1952",
          "1982",
          "1972",
          "1977",
          "1982",
          "1987",
          "1992",
          "1997",
          "2002",
          "2007",
          "1952",
          "1957",
          "1962",
          "1967",
          "1972",
          "1977",
          "1982",
          "1987",
          "1992",
          "1997",
          "2002",
          "2007",
          "1952",
          "1957",
          "1962",
          "1967",
          "1972",
          "1972",
          "1967",
          "1957",
          "1962",
          "1967",
          "1972",
          "1977",
          "1982",
          "1987",
          "1992",
          "1997",
          "2002",
          "2007",
          "1952",
          "1957",
          "1962",
          "1967",
          "1972",
          "1977",
          "1982",
          "1987",
          "1992",
          "1997",
          "2002",
          "2007",
          "1952",
          "1962",
          "1977",
          "1977",
          "1987",
          "2007",
          "2002",
          "1997",
          "1992",
          "1987",
          "1982",
          "1977",
          "1952",
          "1957",
          "1962",
          "1967",
          "1972",
          "1977",
          "1982",
          "1987",
          "1992",
          "1997",
          "2002",
          "2007",
          "1952",
          "1957",
          "1962",
          "1967",
          "2007",
          "1982",
          "2002",
          "1992",
          "1992",
          "1997",
          "2002",
          "2007",
          "1952",
          "1957",
          "1962",
          "1967",
          "1972",
          "1977",
          "1982",
          "1987",
          "1992",
          "1997",
          "2002",
          "2007",
          "1952",
          "1957",
          "1962",
          "1967",
          "1972",
          "1977",
          "1987",
          "1997",
          "1957",
          "2007",
          "1997",
          "1972",
          "1967",
          "1962",
          "1957",
          "1952",
          "2007",
          "2002",
          "1997",
          "1992",
          "1987",
          "1982",
          "1977",
          "1952",
          "1957",
          "1962",
          "1967",
          "1972",
          "1977",
          "1982",
          "1987",
          "1992",
          "1997",
          "2002",
          "1977",
          "2007",
          "1982",
          "1992",
          "1997",
          "2002",
          "2007",
          "1952",
          "1957",
          "1962",
          "1967",
          "1972",
          "1977",
          "1982",
          "1987",
          "1992",
          "1997",
          "2002",
          "2007",
          "1972",
          "1967",
          "1962",
          "1957",
          "1952",
          "2007",
          "2002",
          "1997",
          "1987",
          "1992",
          "1952",
          "1962",
          "1957",
          "1962",
          "1967",
          "1972",
          "1977",
          "1982",
          "1987",
          "1992",
          "1997",
          "2002",
          "2007",
          "1952",
          "1957",
          "1962",
          "1967",
          "1972",
          "1977",
          "1982",
          "1987",
          "1992",
          "1997",
          "2002",
          "2007",
          "1952",
          "1957",
          "2007",
          "1997",
          "1967",
          "1972",
          "1977",
          "1982",
          "1987",
          "1992",
          "1997",
          "2002",
          "2007",
          "1972",
          "1967",
          "1962",
          "1957",
          "1952",
          "1952",
          "1957",
          "1962",
          "1967",
          "1972",
          "1977",
          "1982",
          "1987",
          "1992",
          "2002",
          "2002",
          "1987",
          "1977",
          "1982",
          "1987",
          "1992",
          "1997",
          "2002",
          "2007",
          "1952",
          "1957",
          "1962",
          "1967",
          "1972",
          "1977",
          "1982",
          "1987",
          "1992",
          "1997",
          "2002",
          "2007",
          "1952",
          "1957",
          "1962",
          "1967",
          "1972",
          "1977",
          "1977",
          "1972",
          "1962",
          "1992",
          "1987",
          "1982",
          "1977",
          "1972",
          "1967",
          "1962",
          "1957",
          "1952",
          "2007",
          "2002",
          "1997",
          "1992",
          "1987",
          "1982",
          "1977",
          "1972",
          "1967",
          "1962",
          "1957",
          "1952",
          "1952",
          "1957",
          "1967",
          "1982",
          "1982",
          "1992",
          "2002",
          "1997",
          "1992",
          "1987",
          "1982",
          "1977",
          "1952",
          "1957",
          "1962",
          "1967",
          "1972",
          "1977",
          "1982",
          "1987",
          "1992",
          "1997",
          "2002",
          "2007",
          "1952",
          "1957",
          "1962",
          "1967",
          "1972",
          "2007",
          "1987",
          "2007",
          "1997",
          "1997",
          "2002",
          "2007",
          "1952",
          "1957",
          "1962",
          "1967",
          "1972",
          "1977",
          "1982",
          "1987",
          "1992",
          "1997",
          "2002",
          "2007",
          "1952",
          "1962",
          "1967",
          "1972",
          "1977",
          "1982",
          "1987",
          "1992",
          "2002",
          "1952",
          "1982",
          "1987",
          "Djibouti",
          "2007",
          "2002",
          "1997",
          "1992",
          "1987",
          "1982",
          "Cote d'Ivoire",
          "1952",
          "1962",
          "1967",
          "1972",
          "1977",
          "1972",
          "1967",
          "1962",
          "1957",
          "1977",
          "1982",
          "1987",
          "1972",
          "1967",
          "1962",
          "1957",
          "1952",
          "Comoros",
          "Congo, Dem. Rep.",
          "Congo, Rep.",
          "1972",
          "1967",
          "1962",
          "1957",
          "1952",
          "2007",
          "2002",
          "1997",
          "1992",
          "1957",
          "1977",
          "1952",
          "Equatorial Guinea",
          "1967",
          "1972",
          "1977",
          "1982",
          "2002",
          "1992",
          "1997",
          "1962",
          "2002",
          "1952",
          "1957",
          "1962",
          "1967",
          "1972",
          "1977",
          "1982",
          "2007",
          "1957",
          "1952",
          "2007",
          "Eritrea",
          "Ethiopia",
          "Gabon",
          "Gambia",
          "Ghana",
          "Guinea",
          "Guinea-Bissau",
          "Kenya",
          "Lesotho",
          "Liberia",
          "Libya",
          "1977",
          "1982",
          "1987",
          "1992",
          "1997",
          "2002",
          "Egypt",
          "1987",
          "1982",
          "1992",
          "2002",
          "1997",
          "1992",
          "1987",
          "1982",
          "1977",
          "1972",
          "2007",
          "1967",
          "1957",
          "1952",
          "2007",
          "2002",
          "1997",
          "1992",
          "1952",
          "1962",
          "Angola",
          "Algeria",
          "2007",
          "2007",
          "1992",
          "1987",
          "1982",
          "1977",
          "1972",
          "1967",
          "1962",
          "1957",
          "1952",
          "1977",
          "2007",
          "1982",
          "1987",
          "1992",
          "1997",
          "2002",
          "1957",
          "1987",
          "1962",
          "1972",
          "1977",
          "1972",
          "1967",
          "1962",
          "1957",
          "1952",
          "Benin",
          "1982",
          "Botswana",
          "Burundi",
          "Cameroon",
          "Central African Republic",
          "Chad",
          "2007",
          "2002",
          "1997",
          "Burkina Faso",
          "1987",
          "2007",
          "2002",
          "1977",
          "1982",
          "1987",
          "1992",
          "1997",
          "2002",
          "2007",
          "1952",
          "1957",
          "1962",
          "1967",
          "1972",
          "1977",
          "1982",
          "1987",
          "1992",
          "1997",
          "1967",
          "1992",
          "1997",
          "2002",
          "1987",
          "1992",
          "1997",
          "2002",
          "2007",
          "1952",
          "1957",
          "1962",
          "1967",
          "1972",
          "1977",
          "1982",
          "1982",
          "1992",
          "1997",
          "2002",
          "2007",
          "1952",
          "1957",
          "1962",
          "1967",
          "1972",
          "2007",
          "2002",
          "1987",
          "1977",
          "1972",
          "1967",
          "Africa",
          "Zimbabwe",
          "Zambia",
          "2002",
          "1997",
          "1992",
          "1987",
          "1982",
          "1977",
          "1972",
          "1967",
          "1962",
          "1957",
          "1952",
          "Uganda",
          "Tunisia",
          "Togo",
          "Tanzania",
          "Swaziland",
          "Sudan",
          "South Africa",
          "Somalia",
          "1952",
          "1957",
          "1962",
          "1997",
          "1992",
          "1997",
          "1987",
          "Sierra Leone",
          "Mauritania",
          "Sao Tome and Principe",
          "Mali",
          "Rwanda",
          "Morocco",
          "Reunion",
          "Mozambique",
          "Namibia",
          "Nigeria",
          "Niger",
          "Malawi",
          "Madagascar",
          "2007",
          "Mauritius",
          "Senegal",
          "1982",
          "1977",
          "1972",
          "1967",
          "1962",
          "1957",
          "1952",
          "1987",
          "Mexico",
          "1972",
          "1967",
          "Nicaragua",
          "2007",
          "1962",
          "1957",
          "1992",
          "2002",
          "1992",
          "1987",
          "1982",
          "1977",
          "1952",
          "2007",
          "2002",
          "1997",
          "1967",
          "1962",
          "1957",
          "1952",
          "1977",
          "1982",
          "1997",
          "1972",
          "1957",
          "1952",
          "1957",
          "1952",
          "2007",
          "2002",
          "1997",
          "1992",
          "1962",
          "1987",
          "1977",
          "1972",
          "1967",
          "1962",
          "1957",
          "1952",
          "1982",
          "Trinidad and Tobago",
          "1967",
          "Argentina",
          "1977",
          "1962",
          "1967",
          "1972",
          "1977",
          "1982",
          "1972",
          "1987",
          "1997",
          "2002",
          "2007",
          "United States",
          "Uruguay",
          "Venezuela",
          "1992",
          "Bolivia",
          "2002",
          "Brazil",
          "1992",
          "1997",
          "2002",
          "Americas",
          "2007",
          "Ecuador",
          "1987",
          "Dominican Republic",
          "Cuba",
          "1987",
          "1992",
          "1997",
          "2002",
          "2007",
          "1982",
          "2002",
          "1982",
          "1972",
          "Guatemala",
          "1962",
          "1957",
          "1952",
          "Haiti",
          "Honduras",
          "1977",
          "Jamaica",
          "1972",
          "1977",
          "1952",
          "1957",
          "1962",
          "1967",
          "1967",
          "1997",
          "1992",
          "1987",
          "1972",
          "1977",
          "1982",
          "1987",
          "1992",
          "1997",
          "1967",
          "2002",
          "2007",
          "El Salvador",
          "Canada",
          "1997",
          "1992",
          "1987",
          "2007",
          "1962",
          "1957",
          "1952",
          "1982",
          "1977",
          "2007",
          "Costa Rica",
          "Colombia",
          "Chile",
          "Puerto Rico",
          "Peru",
          "Paraguay",
          "Panama",
          "1972",
          "1967",
          "1962",
          "1957",
          "1952",
          "1982",
          "1952",
          "2002",
          "1957",
          "1952",
          "1952",
          "1957",
          "1962",
          "1967",
          "1972",
          "1952",
          "1957",
          "1962",
          "1967",
          "1972",
          "1977",
          "1982",
          "1987",
          "1992",
          "1997",
          "2002",
          "1977",
          "1982",
          "1987",
          "1992",
          "1997",
          "2002",
          "2007",
          "1952",
          "1957",
          "1962",
          "1967",
          "1972",
          "1957",
          "1962",
          "1967",
          "1972",
          "2002",
          "1997",
          "1992",
          "1987",
          "1982",
          "1977",
          "1972",
          "1967",
          "1962",
          "1957",
          "1952",
          "2007",
          "2002",
          "1997",
          "2007",
          "1992",
          "1982",
          "1977",
          "1972",
          "1967",
          "1962",
          "1957",
          "1952",
          "2007",
          "2002",
          "1997",
          "1992",
          "1987",
          "1952",
          "1977",
          "1987",
          "2007",
          "1977",
          "1987",
          "1977",
          "1972",
          "1967",
          "1962",
          "1957",
          "1952",
          "2007",
          "2002",
          "1997",
          "1992",
          "1987",
          "1982",
          "1977",
          "1972",
          "1967",
          "1962",
          "1957",
          "1952",
          "2007",
          "2002",
          "1997",
          "1992",
          "1987",
          "1982",
          "1977",
          "1972",
          "1967",
          "1962",
          "1957",
          "1982",
          "1987",
          "1992",
          "1997",
          "1992",
          "1997",
          "2002",
          "2007",
          "1952",
          "1957",
          "1962",
          "1967",
          "1972",
          "1977",
          "1982",
          "1987",
          "1992",
          "1997",
          "1982",
          "2002",
          "1952",
          "1957",
          "1962",
          "1967",
          "1972",
          "1977",
          "1982",
          "1987",
          "1992",
          "1997",
          "2002",
          "2007",
          "2007",
          "2002",
          "2007",
          "2007",
          "1982",
          "1997",
          "1967",
          "1962",
          "1957",
          "1952",
          "2007",
          "2002",
          "1997",
          "2007",
          "2002",
          "1997",
          "1992",
          "1987",
          "1982",
          "1972",
          "1972",
          "1962",
          "1957",
          "1952",
          "1992",
          "1987",
          "1982",
          "1977",
          "1972",
          "2002",
          "1967",
          "1962",
          "1957",
          "1952",
          "1967",
          "2007",
          "1977",
          "1992",
          "1962",
          "2007",
          "1967",
          "2002",
          "1997",
          "1992",
          "1987",
          "1977",
          "1982",
          "1987",
          "1992",
          "1952",
          "1997",
          "1957",
          "1977",
          "1967",
          "1972",
          "1972",
          "1977",
          "1987",
          "1962",
          "1982",
          "1982",
          "2007",
          "2007",
          "2002",
          "1997",
          "1972",
          "1987",
          "1952",
          "1957",
          "1962",
          "1967",
          "1977",
          "1992",
          "1982",
          "1982",
          "1957",
          "1997",
          "1992",
          "1987",
          "1982",
          "1977",
          "1972",
          "1967",
          "1962",
          "1957",
          "1952",
          "1977",
          "2002",
          "1972",
          "1967",
          "1962",
          "1952",
          "1997",
          "Sri Lanka",
          "1987",
          "2002",
          "2002",
          "2007",
          "Vietnam",
          "West Bank and Gaza",
          "Yemen, Rep.",
          "2007",
          "Bahrain",
          "Asia",
          "Afghanistan",
          "1972",
          "1967",
          "1962",
          "1957",
          "1952",
          "1997",
          "1992",
          "1992",
          "1977",
          "1982",
          "1987",
          "1992",
          "1997",
          "1952",
          "1957",
          "1962",
          "1967",
          "Syria",
          "Taiwan",
          "1972",
          "Thailand",
          "1977",
          "1982",
          "1987",
          "2002",
          "2007",
          "1967",
          "1982",
          "1982",
          "1977",
          "1972",
          "1967",
          "1962",
          "1957",
          "Malaysia",
          "1952",
          "Mongolia",
          "Myanmar",
          "Nepal",
          "1972",
          "Oman",
          "Pakistan",
          "Philippines",
          "2007",
          "2002",
          "1997",
          "Saudi Arabia",
          "China",
          "1992",
          "1987",
          "1997",
          "1952",
          "1957",
          "1962",
          "1967",
          "1972",
          "Hong Kong, China",
          "India",
          "Indonesia",
          "Iran",
          "Iraq",
          "Israel",
          "Japan",
          "Jordan",
          "Korea, Dem. Rep.",
          "Korea, Rep.",
          "Kuwait",
          "Lebanon",
          "2007",
          "2002",
          "1992",
          "1987",
          "Singapore",
          "1982",
          "2007",
          "1987",
          "1982",
          "1977",
          "1972",
          "1962",
          "1957",
          "1952",
          "1952",
          "1957",
          "1962",
          "1967",
          "1972",
          "1977",
          "2007",
          "2002",
          "1997",
          "1992",
          "1987",
          "2002",
          "1997",
          "1992",
          "1987",
          "1977",
          "1972",
          "1967",
          "1962",
          "Cambodia",
          "1957",
          "1952",
          "2007",
          "2007",
          "1977",
          "2002",
          "1992",
          "1987",
          "1982",
          "2002",
          "1997",
          "1992",
          "Bangladesh",
          "1977",
          "1982",
          "1997",
          "1967",
          "1952",
          "1957",
          "1987",
          "1992",
          "1997",
          "2002",
          "2007",
          "1952",
          "1957",
          "1962",
          "1982",
          "1967",
          "1977",
          "1982",
          "1987",
          "1992",
          "1997",
          "2002",
          "2007",
          "1952",
          "1972",
          "1977",
          "1972",
          "1967",
          "1992",
          "1997",
          "2002",
          "2007",
          "1952",
          "1957",
          "1962",
          "1967",
          "1972",
          "1977",
          "1982",
          "1987",
          "1962",
          "1997",
          "2002",
          "2007",
          "1952",
          "1957",
          "1962",
          "1957",
          "1962",
          "1967",
          "1972",
          "1972",
          "1977",
          "1982",
          "1987",
          "1992",
          "1997",
          "2002",
          "2007",
          "1952",
          "1957",
          "1962",
          "1967",
          "1972",
          "1977",
          "1982",
          "1987",
          "1992",
          "1997",
          "2002",
          "1967",
          "1987",
          "1962",
          "1952",
          "1977",
          "1982",
          "1987",
          "1992",
          "1997",
          "2002",
          "2007",
          "1952",
          "1957",
          "1962",
          "1967",
          "1972",
          "1977",
          "1982",
          "1987",
          "1992",
          "1997",
          "2002",
          "2007",
          "1957",
          "2007",
          "1982",
          "1972",
          "1952",
          "1957",
          "1962",
          "1967",
          "1972",
          "1977",
          "1982",
          "1987",
          "2007",
          "1992",
          "2002",
          "2007",
          "1952",
          "1957",
          "1962",
          "1967",
          "1972",
          "1977",
          "1997",
          "2002",
          "1997",
          "1992",
          "1957",
          "1962",
          "1967",
          "1972",
          "1977",
          "1982",
          "1987",
          "1992",
          "1997",
          "2002",
          "2007",
          "1952",
          "1957",
          "1962",
          "1967",
          "1972",
          "1977",
          "1982",
          "1987",
          "1982",
          "1987",
          "1992",
          "1997",
          "1997",
          "2002",
          "2007",
          "1952",
          "1957",
          "1962",
          "1967",
          "1972",
          "1977",
          "1982",
          "1987",
          "1992",
          "1997",
          "2002",
          "2007",
          "1952",
          "1957",
          "1962",
          "1967",
          "1992",
          "1977",
          "1987",
          "1977",
          "2002",
          "2007",
          "1952",
          "1957",
          "1962",
          "1967",
          "1972",
          "1977",
          "1982",
          "1987",
          "1992",
          "1997",
          "2002",
          "2007",
          "1952",
          "1957",
          "1962",
          "1967",
          "1972",
          "1982",
          "1952",
          "1992",
          "1962",
          "1987",
          "1982",
          "1977",
          "1972",
          "1967",
          "1962",
          "1952",
          "1957",
          "1957",
          "1952",
          "2002",
          "1997",
          "1992",
          "1987",
          "1982",
          "1977",
          "1972",
          "1967",
          "1962",
          "1957",
          "1952",
          "2007",
          "2002",
          "1992",
          "1997",
          "2002",
          "2007",
          "1952",
          "1957",
          "1962",
          "1967",
          "1972",
          "1977",
          "1982",
          "1987",
          "1992",
          "1997",
          "2002",
          "1997",
          "2007",
          "1957",
          "1962",
          "1967",
          "1972",
          "2007",
          "2002",
          "1997",
          "1992",
          "1987",
          "1982",
          "1977",
          "1952",
          "1992",
          "2007",
          "1982",
          "1962",
          "1992",
          "1987",
          "1987",
          "1982",
          "1977",
          "1967",
          "1972",
          "1977",
          "1987",
          "1992",
          "1997",
          "2002",
          "2007",
          "1982",
          "1952",
          "1977",
          "1972",
          "1962",
          "1957",
          "1952",
          "2007",
          "1967",
          "1957",
          "1997",
          "1972",
          "1967",
          "2002",
          "1952",
          "1957",
          "1962",
          "1952",
          "1982",
          "1967",
          "1972",
          "1977",
          "1987",
          "1992",
          "2002",
          "1957",
          "1962",
          "1982",
          "1952",
          "1957",
          "1962",
          "1952",
          "1957",
          "1962",
          "1967",
          "1972",
          "1977",
          "1997",
          "1987",
          "1967",
          "1972",
          "1992",
          "2007",
          "2002",
          "1972",
          "1952",
          "1972",
          "2002",
          "1997",
          "1997",
          "1992",
          "1987",
          "1977",
          "1982",
          "1987",
          "1967",
          "1992",
          "2002",
          "2007",
          "1952",
          "1957",
          "1962",
          "1967",
          "1972",
          "1982",
          "1977",
          "1997",
          "2007",
          "1952",
          "1962",
          "1957",
          "1962",
          "1967",
          "1977",
          "1982",
          "1997",
          "1992",
          "1987",
          "1982",
          "1977",
          "1972",
          "1967",
          "1962",
          "1957",
          "1987",
          "1992",
          "1997",
          "2002",
          "2007",
          "1952",
          "1957",
          "2007",
          "Albania",
          "Czech Republic",
          "2007",
          "1962",
          "1967",
          "1972",
          "Netherlands",
          "1977",
          "1982",
          "1987",
          "1992",
          "1997",
          "Montenegro",
          "Norway",
          "2002",
          "2007",
          "2002",
          "1997",
          "1992",
          "1987",
          "1982",
          "1977",
          "1972",
          "1967",
          "1962",
          "2007",
          "1957",
          "1952",
          "Poland",
          "Europe",
          "United Kingdom",
          "Turkey",
          "1952",
          "1957",
          "1962",
          "1967",
          "1972",
          "1977",
          "1982",
          "Switzerland",
          "Sweden",
          "1987",
          "1992",
          "1997",
          "Spain",
          "2002",
          "2007",
          "Slovenia",
          "Slovak Republic",
          "Serbia",
          "Romania",
          "Portugal",
          "1957",
          "2002",
          "1952",
          "Ireland",
          "1982",
          "1987",
          "1992",
          "1997",
          "2002",
          "2007",
          "1952",
          "1957",
          "1962",
          "1967",
          "1977",
          "1972",
          "1982",
          "Bulgaria",
          "1987",
          "1992",
          "Bosnia and Herzegovina",
          "1997",
          "2002",
          "Belgium",
          "2007",
          "Austria",
          "1977",
          "1972",
          "Croatia",
          "1967",
          "Iceland",
          "Hungary",
          "1952",
          "1957",
          "1962",
          "1967",
          "Greece",
          "1972",
          "Germany",
          "1977",
          "1982",
          "France",
          "Finland",
          "1987",
          "1992",
          "1997",
          "2002",
          "2007",
          "1952",
          "1957",
          "1962",
          "Denmark",
          "1977",
          "Italy",
          "1982",
          "1967",
          "1992",
          "1977",
          "1972",
          "1967",
          "1962",
          "1957",
          "1952",
          "1977",
          "1982",
          "1987",
          "1992",
          "1982",
          "1997",
          "2007",
          "1957",
          "1952",
          "1952",
          "1957",
          "1962",
          "1967",
          "1972",
          "1977",
          "1982",
          "2002",
          "1987",
          "1987",
          "1997",
          "1972",
          "1967",
          "1962",
          "1952",
          "1957",
          "1962",
          "1967",
          "1972",
          "2007",
          "1987",
          "1992",
          "1997",
          "1987",
          "1982",
          "1977",
          "1972",
          "1967",
          "1962",
          "1957",
          "1952",
          "2007",
          "2002",
          "1992",
          "1992",
          "1997",
          "2002",
          "1997",
          "1992",
          "1987",
          "1982",
          "1977",
          "1972",
          "1967",
          "1962",
          "1957",
          "1952",
          "2002",
          "1952",
          "1962",
          "1967",
          "1972",
          "1977",
          "1982",
          "1987",
          "1992",
          "1997",
          "2002",
          "2007",
          "1957",
          "2007",
          "1952",
          "1957",
          "2007",
          "2007",
          "2002",
          "1997",
          "1992",
          "1987",
          "1982",
          "1977",
          "1972",
          "1967",
          "1962",
          "1957",
          "1952",
          "2007",
          "2002",
          "1997",
          "1992",
          "1987",
          "1982",
          "1977",
          "1972",
          "1967",
          "1962",
          "2007",
          "2002",
          "2002",
          "1992",
          "1982",
          "1987",
          "2007",
          "2002",
          "1997",
          "1992",
          "1987",
          "1982",
          "1977",
          "1972",
          "1967",
          "1977",
          "1962",
          "1952",
          "1992",
          "1997",
          "2002",
          "2007",
          "1952",
          "1997",
          "1962",
          "1952",
          "1957",
          "1962",
          "1957",
          "1972",
          "1967",
          "2007",
          "1997",
          "2002",
          "2007",
          "1952",
          "1957",
          "1962",
          "1967",
          "1972",
          "2007",
          "2002",
          "1997",
          "1992",
          "1987",
          "1982",
          "1977",
          "1972",
          "1962",
          "1957",
          "1952",
          "1977",
          "1982",
          "1987",
          "1992",
          "1997",
          "2002",
          "1967",
          "1972",
          "1957",
          "1982",
          "1997",
          "2002",
          "2007",
          "1967",
          "1972",
          "1977",
          "1982",
          "1987",
          "1992",
          "1997",
          "2002",
          "2007",
          "2007",
          "2002",
          "1997",
          "1992",
          "1987",
          "1982",
          "1977",
          "1952",
          "1957",
          "1962",
          "1967",
          "1972",
          "1977",
          "1982",
          "1987",
          "1992",
          "1977",
          "1987",
          "1967",
          "1987",
          "1992",
          "1982",
          "1997",
          "2002",
          "2007",
          "1952",
          "1957",
          "1962",
          "1972",
          "1977",
          "1952",
          "1972",
          "1997",
          "1957",
          "2002",
          "1992",
          "Australia",
          "2007",
          "1987",
          "1977",
          "1967",
          "1962",
          "1957",
          "1952",
          "1982",
          "1987",
          "1962",
          "1967",
          "1992",
          "1997",
          "2002",
          "2007",
          "1972",
          "1977",
          "1982",
          "New Zealand",
          "Oceania"
         ],
         "marker": {
          "colors": [
           "#636efa",
           "#636efa",
           "#636efa",
           "#636efa",
           "#636efa",
           "#636efa",
           "#636efa",
           "#636efa",
           "#636efa",
           "#636efa",
           "#636efa",
           "#636efa",
           "#636efa",
           "#636efa",
           "#636efa",
           "#636efa",
           "#636efa",
           "#636efa",
           "#636efa",
           "#636efa",
           "#636efa",
           "#636efa",
           "#636efa",
           "#636efa",
           "#636efa",
           "#636efa",
           "#636efa",
           "#636efa",
           "#636efa",
           "#636efa",
           "#636efa",
           "#636efa",
           "#636efa",
           "#636efa",
           "#636efa",
           "#636efa",
           "#636efa",
           "#636efa",
           "#636efa",
           "#636efa",
           "#636efa",
           "#636efa",
           "#636efa",
           "#636efa",
           "#636efa",
           "#636efa",
           "#636efa",
           "#636efa",
           "#636efa",
           "#636efa",
           "#636efa",
           "#636efa",
           "#636efa",
           "#636efa",
           "#636efa",
           "#636efa",
           "#636efa",
           "#636efa",
           "#636efa",
           "#636efa",
           "#636efa",
           "#636efa",
           "#636efa",
           "#636efa",
           "#636efa",
           "#636efa",
           "#636efa",
           "#636efa",
           "#636efa",
           "#636efa",
           "#636efa",
           "#636efa",
           "#636efa",
           "#636efa",
           "#636efa",
           "#636efa",
           "#636efa",
           "#636efa",
           "#636efa",
           "#636efa",
           "#636efa",
           "#636efa",
           "#636efa",
           "#636efa",
           "#636efa",
           "#636efa",
           "#636efa",
           "#636efa",
           "#636efa",
           "#636efa",
           "#636efa",
           "#636efa",
           "#636efa",
           "#636efa",
           "#636efa",
           "#636efa",
           "#636efa",
           "#636efa",
           "#636efa",
           "#636efa",
           "#636efa",
           "#636efa",
           "#636efa",
           "#636efa",
           "#636efa",
           "#636efa",
           "#636efa",
           "#636efa",
           "#636efa",
           "#636efa",
           "#636efa",
           "#636efa",
           "#636efa",
           "#636efa",
           "#636efa",
           "#636efa",
           "#636efa",
           "#636efa",
           "#636efa",
           "#636efa",
           "#636efa",
           "#636efa",
           "#636efa",
           "#636efa",
           "#636efa",
           "#636efa",
           "#636efa",
           "#636efa",
           "#636efa",
           "#636efa",
           "#636efa",
           "#636efa",
           "#636efa",
           "#636efa",
           "#636efa",
           "#636efa",
           "#636efa",
           "#636efa",
           "#636efa",
           "#636efa",
           "#636efa",
           "#636efa",
           "#636efa",
           "#636efa",
           "#636efa",
           "#636efa",
           "#636efa",
           "#636efa",
           "#636efa",
           "#636efa",
           "#636efa",
           "#636efa",
           "#636efa",
           "#636efa",
           "#636efa",
           "#636efa",
           "#636efa",
           "#636efa",
           "#636efa",
           "#636efa",
           "#636efa",
           "#636efa",
           "#636efa",
           "#636efa",
           "#636efa",
           "#636efa",
           "#636efa",
           "#636efa",
           "#636efa",
           "#636efa",
           "#636efa",
           "#636efa",
           "#636efa",
           "#636efa",
           "#636efa",
           "#636efa",
           "#636efa",
           "#636efa",
           "#636efa",
           "#636efa",
           "#636efa",
           "#636efa",
           "#636efa",
           "#636efa",
           "#636efa",
           "#636efa",
           "#636efa",
           "#636efa",
           "#636efa",
           "#636efa",
           "#636efa",
           "#636efa",
           "#636efa",
           "#636efa",
           "#636efa",
           "#636efa",
           "#636efa",
           "#636efa",
           "#636efa",
           "#636efa",
           "#636efa",
           "#636efa",
           "#636efa",
           "#636efa",
           "#636efa",
           "#636efa",
           "#636efa",
           "#636efa",
           "#636efa",
           "#636efa",
           "#636efa",
           "#636efa",
           "#636efa",
           "#636efa",
           "#636efa",
           "#636efa",
           "#636efa",
           "#636efa",
           "#636efa",
           "#636efa",
           "#636efa",
           "#636efa",
           "#636efa",
           "#636efa",
           "#636efa",
           "#636efa",
           "#636efa",
           "#636efa",
           "#636efa",
           "#636efa",
           "#636efa",
           "#636efa",
           "#636efa",
           "#636efa",
           "#636efa",
           "#636efa",
           "#636efa",
           "#636efa",
           "#636efa",
           "#636efa",
           "#636efa",
           "#636efa",
           "#636efa",
           "#636efa",
           "#636efa",
           "#636efa",
           "#636efa",
           "#636efa",
           "#636efa",
           "#636efa",
           "#636efa",
           "#636efa",
           "#636efa",
           "#636efa",
           "#636efa",
           "#636efa",
           "#636efa",
           "#636efa",
           "#636efa",
           "#636efa",
           "#636efa",
           "#636efa",
           "#636efa",
           "#636efa",
           "#636efa",
           "#636efa",
           "#636efa",
           "#636efa",
           "#636efa",
           "#636efa",
           "#636efa",
           "#636efa",
           "#636efa",
           "#636efa",
           "#636efa",
           "#636efa",
           "#636efa",
           "#636efa",
           "#636efa",
           "#636efa",
           "#636efa",
           "#636efa",
           "#636efa",
           "#636efa",
           "#636efa",
           "#636efa",
           "#636efa",
           "#636efa",
           "#636efa",
           "#636efa",
           "#636efa",
           "#636efa",
           "#636efa",
           "#636efa",
           "#636efa",
           "#636efa",
           "#636efa",
           "#636efa",
           "#636efa",
           "#636efa",
           "#636efa",
           "#636efa",
           "#636efa",
           "#636efa",
           "#636efa",
           "#636efa",
           "#636efa",
           "#636efa",
           "#636efa",
           "#636efa",
           "#636efa",
           "#636efa",
           "#636efa",
           "#636efa",
           "#636efa",
           "#636efa",
           "#636efa",
           "#636efa",
           "#636efa",
           "#636efa",
           "#636efa",
           "#636efa",
           "#636efa",
           "#636efa",
           "#636efa",
           "#636efa",
           "#636efa",
           "#636efa",
           "#636efa",
           "#636efa",
           "#636efa",
           "#636efa",
           "#636efa",
           "#636efa",
           "#636efa",
           "#636efa",
           "#636efa",
           "#636efa",
           "#636efa",
           "#636efa",
           "#636efa",
           "#636efa",
           "#636efa",
           "#636efa",
           "#636efa",
           "#636efa",
           "#636efa",
           "#636efa",
           "#636efa",
           "#636efa",
           "#636efa",
           "#636efa",
           "#636efa",
           "#636efa",
           "#636efa",
           "#636efa",
           "#636efa",
           "#636efa",
           "#636efa",
           "#636efa",
           "#636efa",
           "#636efa",
           "#636efa",
           "#636efa",
           "#636efa",
           "#636efa",
           "#636efa",
           "#636efa",
           "#636efa",
           "#636efa",
           "#636efa",
           "#636efa",
           "#636efa",
           "#636efa",
           "#636efa",
           "#636efa",
           "#636efa",
           "#636efa",
           "#636efa",
           "#636efa",
           "#636efa",
           "#636efa",
           "#636efa",
           "#636efa",
           "#636efa",
           "#636efa",
           "#636efa",
           "#636efa",
           "#636efa",
           "#636efa",
           "#636efa",
           "#636efa",
           "#636efa",
           "#636efa",
           "#636efa",
           "#636efa",
           "#636efa",
           "#636efa",
           "#636efa",
           "#636efa",
           "#636efa",
           "#636efa",
           "#636efa",
           "#636efa",
           "#636efa",
           "#636efa",
           "#636efa",
           "#636efa",
           "#636efa",
           "#636efa",
           "#636efa",
           "#636efa",
           "#636efa",
           "#636efa",
           "#636efa",
           "#636efa",
           "#636efa",
           "#636efa",
           "#636efa",
           "#636efa",
           "#636efa",
           "#636efa",
           "#636efa",
           "#636efa",
           "#636efa",
           "#636efa",
           "#636efa",
           "#636efa",
           "#636efa",
           "#636efa",
           "#636efa",
           "#636efa",
           "#636efa",
           "#636efa",
           "#636efa",
           "#636efa",
           "#636efa",
           "#636efa",
           "#636efa",
           "#636efa",
           "#636efa",
           "#636efa",
           "#636efa",
           "#636efa",
           "#636efa",
           "#636efa",
           "#636efa",
           "#636efa",
           "#636efa",
           "#636efa",
           "#636efa",
           "#636efa",
           "#636efa",
           "#636efa",
           "#636efa",
           "#636efa",
           "#636efa",
           "#636efa",
           "#636efa",
           "#636efa",
           "#636efa",
           "#636efa",
           "#636efa",
           "#636efa",
           "#636efa",
           "#636efa",
           "#636efa",
           "#636efa",
           "#636efa",
           "#636efa",
           "#636efa",
           "#636efa",
           "#636efa",
           "#636efa",
           "#636efa",
           "#636efa",
           "#636efa",
           "#636efa",
           "#636efa",
           "#636efa",
           "#636efa",
           "#636efa",
           "#636efa",
           "#636efa",
           "#636efa",
           "#636efa",
           "#636efa",
           "#636efa",
           "#636efa",
           "#636efa",
           "#636efa",
           "#636efa",
           "#636efa",
           "#636efa",
           "#636efa",
           "#636efa",
           "#636efa",
           "#636efa",
           "#636efa",
           "#636efa",
           "#636efa",
           "#636efa",
           "#636efa",
           "#636efa",
           "#636efa",
           "#636efa",
           "#636efa",
           "#636efa",
           "#636efa",
           "#636efa",
           "#636efa",
           "#636efa",
           "#636efa",
           "#636efa",
           "#636efa",
           "#636efa",
           "#636efa",
           "#636efa",
           "#636efa",
           "#636efa",
           "#636efa",
           "#636efa",
           "#636efa",
           "#636efa",
           "#636efa",
           "#636efa",
           "#636efa",
           "#636efa",
           "#636efa",
           "#636efa",
           "#636efa",
           "#636efa",
           "#636efa",
           "#636efa",
           "#636efa",
           "#636efa",
           "#636efa",
           "#636efa",
           "#636efa",
           "#636efa",
           "#636efa",
           "#636efa",
           "#636efa",
           "#636efa",
           "#636efa",
           "#636efa",
           "#636efa",
           "#636efa",
           "#636efa",
           "#636efa",
           "#636efa",
           "#636efa",
           "#636efa",
           "#636efa",
           "#636efa",
           "#636efa",
           "#636efa",
           "#636efa",
           "#636efa",
           "#636efa",
           "#636efa",
           "#636efa",
           "#636efa",
           "#636efa",
           "#636efa",
           "#636efa",
           "#636efa",
           "#636efa",
           "#636efa",
           "#636efa",
           "#636efa",
           "#636efa",
           "#636efa",
           "#636efa",
           "#636efa",
           "#636efa",
           "#636efa",
           "#636efa",
           "#636efa",
           "#636efa",
           "#636efa",
           "#636efa",
           "#636efa",
           "#636efa",
           "#636efa",
           "#636efa",
           "#636efa",
           "#636efa",
           "#636efa",
           "#636efa",
           "#636efa",
           "#636efa",
           "#636efa",
           "#636efa",
           "#636efa",
           "#636efa",
           "#636efa",
           "#636efa",
           "#636efa",
           "#636efa",
           "#636efa",
           "#636efa",
           "#636efa",
           "#636efa",
           "#636efa",
           "#636efa",
           "#636efa",
           "#636efa",
           "#636efa",
           "#636efa",
           "#636efa",
           "#636efa",
           "#636efa",
           "#636efa",
           "#636efa",
           "#636efa",
           "#636efa",
           "#636efa",
           "#636efa",
           "#636efa",
           "#636efa",
           "#636efa",
           "#636efa",
           "#636efa",
           "#636efa",
           "#636efa",
           "#636efa",
           "#636efa",
           "#636efa",
           "#636efa",
           "#636efa",
           "#636efa",
           "#636efa",
           "#636efa",
           "#636efa",
           "#636efa",
           "#636efa",
           "#636efa",
           "#636efa",
           "#636efa",
           "#636efa",
           "#636efa",
           "#636efa",
           "#636efa",
           "#636efa",
           "#636efa",
           "#636efa",
           "#636efa",
           "#636efa",
           "#636efa",
           "#636efa",
           "#636efa",
           "#636efa",
           "#636efa",
           "#636efa",
           "#636efa",
           "#636efa",
           "#636efa",
           "#636efa",
           "#636efa",
           "#636efa",
           "#636efa",
           "#636efa",
           "#636efa",
           "#636efa",
           "#636efa",
           "#636efa",
           "#636efa",
           "#636efa",
           "#636efa",
           "#636efa",
           "#636efa",
           "#636efa",
           "#636efa",
           "#636efa",
           "#636efa",
           "#636efa",
           "#EF553B",
           "#EF553B",
           "#EF553B",
           "#EF553B",
           "#EF553B",
           "#EF553B",
           "#EF553B",
           "#EF553B",
           "#EF553B",
           "#EF553B",
           "#EF553B",
           "#EF553B",
           "#EF553B",
           "#EF553B",
           "#EF553B",
           "#EF553B",
           "#EF553B",
           "#EF553B",
           "#EF553B",
           "#EF553B",
           "#EF553B",
           "#EF553B",
           "#EF553B",
           "#EF553B",
           "#EF553B",
           "#EF553B",
           "#EF553B",
           "#EF553B",
           "#EF553B",
           "#EF553B",
           "#EF553B",
           "#EF553B",
           "#EF553B",
           "#EF553B",
           "#EF553B",
           "#EF553B",
           "#EF553B",
           "#EF553B",
           "#EF553B",
           "#EF553B",
           "#EF553B",
           "#EF553B",
           "#EF553B",
           "#EF553B",
           "#EF553B",
           "#EF553B",
           "#EF553B",
           "#EF553B",
           "#EF553B",
           "#EF553B",
           "#EF553B",
           "#EF553B",
           "#EF553B",
           "#EF553B",
           "#EF553B",
           "#EF553B",
           "#EF553B",
           "#EF553B",
           "#EF553B",
           "#EF553B",
           "#EF553B",
           "#EF553B",
           "#EF553B",
           "#EF553B",
           "#EF553B",
           "#EF553B",
           "#EF553B",
           "#EF553B",
           "#EF553B",
           "#EF553B",
           "#EF553B",
           "#EF553B",
           "#EF553B",
           "#EF553B",
           "#EF553B",
           "#EF553B",
           "#EF553B",
           "#EF553B",
           "#EF553B",
           "#EF553B",
           "#EF553B",
           "#EF553B",
           "#EF553B",
           "#EF553B",
           "#EF553B",
           "#EF553B",
           "#EF553B",
           "#EF553B",
           "#EF553B",
           "#EF553B",
           "#EF553B",
           "#EF553B",
           "#EF553B",
           "#EF553B",
           "#EF553B",
           "#EF553B",
           "#EF553B",
           "#EF553B",
           "#EF553B",
           "#EF553B",
           "#EF553B",
           "#EF553B",
           "#EF553B",
           "#EF553B",
           "#EF553B",
           "#EF553B",
           "#EF553B",
           "#EF553B",
           "#EF553B",
           "#EF553B",
           "#EF553B",
           "#EF553B",
           "#EF553B",
           "#EF553B",
           "#EF553B",
           "#EF553B",
           "#EF553B",
           "#EF553B",
           "#EF553B",
           "#EF553B",
           "#EF553B",
           "#EF553B",
           "#EF553B",
           "#EF553B",
           "#EF553B",
           "#EF553B",
           "#EF553B",
           "#EF553B",
           "#EF553B",
           "#EF553B",
           "#EF553B",
           "#EF553B",
           "#EF553B",
           "#EF553B",
           "#EF553B",
           "#EF553B",
           "#EF553B",
           "#EF553B",
           "#EF553B",
           "#EF553B",
           "#EF553B",
           "#EF553B",
           "#EF553B",
           "#EF553B",
           "#EF553B",
           "#EF553B",
           "#EF553B",
           "#EF553B",
           "#EF553B",
           "#EF553B",
           "#EF553B",
           "#EF553B",
           "#EF553B",
           "#EF553B",
           "#EF553B",
           "#EF553B",
           "#EF553B",
           "#EF553B",
           "#EF553B",
           "#EF553B",
           "#EF553B",
           "#EF553B",
           "#EF553B",
           "#EF553B",
           "#EF553B",
           "#EF553B",
           "#EF553B",
           "#EF553B",
           "#EF553B",
           "#EF553B",
           "#EF553B",
           "#EF553B",
           "#EF553B",
           "#EF553B",
           "#EF553B",
           "#EF553B",
           "#EF553B",
           "#EF553B",
           "#EF553B",
           "#EF553B",
           "#EF553B",
           "#EF553B",
           "#EF553B",
           "#EF553B",
           "#EF553B",
           "#EF553B",
           "#EF553B",
           "#EF553B",
           "#EF553B",
           "#EF553B",
           "#EF553B",
           "#EF553B",
           "#EF553B",
           "#EF553B",
           "#EF553B",
           "#EF553B",
           "#EF553B",
           "#EF553B",
           "#EF553B",
           "#EF553B",
           "#EF553B",
           "#EF553B",
           "#EF553B",
           "#EF553B",
           "#EF553B",
           "#EF553B",
           "#EF553B",
           "#EF553B",
           "#EF553B",
           "#EF553B",
           "#EF553B",
           "#EF553B",
           "#EF553B",
           "#EF553B",
           "#EF553B",
           "#EF553B",
           "#EF553B",
           "#EF553B",
           "#EF553B",
           "#EF553B",
           "#EF553B",
           "#EF553B",
           "#EF553B",
           "#EF553B",
           "#EF553B",
           "#EF553B",
           "#EF553B",
           "#EF553B",
           "#EF553B",
           "#EF553B",
           "#EF553B",
           "#EF553B",
           "#EF553B",
           "#EF553B",
           "#EF553B",
           "#EF553B",
           "#EF553B",
           "#EF553B",
           "#EF553B",
           "#EF553B",
           "#EF553B",
           "#EF553B",
           "#EF553B",
           "#EF553B",
           "#EF553B",
           "#EF553B",
           "#EF553B",
           "#EF553B",
           "#EF553B",
           "#EF553B",
           "#EF553B",
           "#EF553B",
           "#EF553B",
           "#EF553B",
           "#EF553B",
           "#EF553B",
           "#EF553B",
           "#EF553B",
           "#EF553B",
           "#EF553B",
           "#EF553B",
           "#EF553B",
           "#EF553B",
           "#EF553B",
           "#EF553B",
           "#EF553B",
           "#EF553B",
           "#EF553B",
           "#EF553B",
           "#EF553B",
           "#EF553B",
           "#EF553B",
           "#EF553B",
           "#EF553B",
           "#EF553B",
           "#EF553B",
           "#EF553B",
           "#EF553B",
           "#EF553B",
           "#EF553B",
           "#EF553B",
           "#EF553B",
           "#EF553B",
           "#EF553B",
           "#EF553B",
           "#EF553B",
           "#EF553B",
           "#EF553B",
           "#EF553B",
           "#EF553B",
           "#EF553B",
           "#EF553B",
           "#EF553B",
           "#EF553B",
           "#EF553B",
           "#EF553B",
           "#EF553B",
           "#EF553B",
           "#EF553B",
           "#EF553B",
           "#EF553B",
           "#EF553B",
           "#EF553B",
           "#EF553B",
           "#EF553B",
           "#EF553B",
           "#EF553B",
           "#EF553B",
           "#EF553B",
           "#EF553B",
           "#EF553B",
           "#EF553B",
           "#EF553B",
           "#EF553B",
           "#EF553B",
           "#EF553B",
           "#EF553B",
           "#EF553B",
           "#EF553B",
           "#EF553B",
           "#EF553B",
           "#EF553B",
           "#EF553B",
           "#EF553B",
           "#EF553B",
           "#EF553B",
           "#00cc96",
           "#00cc96",
           "#00cc96",
           "#00cc96",
           "#00cc96",
           "#00cc96",
           "#00cc96",
           "#00cc96",
           "#00cc96",
           "#00cc96",
           "#00cc96",
           "#00cc96",
           "#00cc96",
           "#00cc96",
           "#00cc96",
           "#00cc96",
           "#00cc96",
           "#00cc96",
           "#00cc96",
           "#00cc96",
           "#00cc96",
           "#00cc96",
           "#00cc96",
           "#00cc96",
           "#00cc96",
           "#00cc96",
           "#00cc96",
           "#00cc96",
           "#00cc96",
           "#00cc96",
           "#00cc96",
           "#00cc96",
           "#00cc96",
           "#00cc96",
           "#00cc96",
           "#00cc96",
           "#00cc96",
           "#00cc96",
           "#00cc96",
           "#00cc96",
           "#00cc96",
           "#00cc96",
           "#00cc96",
           "#00cc96",
           "#00cc96",
           "#00cc96",
           "#00cc96",
           "#00cc96",
           "#00cc96",
           "#00cc96",
           "#00cc96",
           "#00cc96",
           "#00cc96",
           "#00cc96",
           "#00cc96",
           "#00cc96",
           "#00cc96",
           "#00cc96",
           "#00cc96",
           "#00cc96",
           "#00cc96",
           "#00cc96",
           "#00cc96",
           "#00cc96",
           "#00cc96",
           "#00cc96",
           "#00cc96",
           "#00cc96",
           "#00cc96",
           "#00cc96",
           "#00cc96",
           "#00cc96",
           "#00cc96",
           "#00cc96",
           "#00cc96",
           "#00cc96",
           "#00cc96",
           "#00cc96",
           "#00cc96",
           "#00cc96",
           "#00cc96",
           "#00cc96",
           "#00cc96",
           "#00cc96",
           "#00cc96",
           "#00cc96",
           "#00cc96",
           "#00cc96",
           "#00cc96",
           "#00cc96",
           "#00cc96",
           "#00cc96",
           "#00cc96",
           "#00cc96",
           "#00cc96",
           "#00cc96",
           "#00cc96",
           "#00cc96",
           "#00cc96",
           "#00cc96",
           "#00cc96",
           "#00cc96",
           "#00cc96",
           "#00cc96",
           "#00cc96",
           "#00cc96",
           "#00cc96",
           "#00cc96",
           "#00cc96",
           "#00cc96",
           "#00cc96",
           "#00cc96",
           "#00cc96",
           "#00cc96",
           "#00cc96",
           "#00cc96",
           "#00cc96",
           "#00cc96",
           "#00cc96",
           "#00cc96",
           "#00cc96",
           "#00cc96",
           "#00cc96",
           "#00cc96",
           "#00cc96",
           "#00cc96",
           "#00cc96",
           "#00cc96",
           "#00cc96",
           "#00cc96",
           "#00cc96",
           "#00cc96",
           "#00cc96",
           "#00cc96",
           "#00cc96",
           "#00cc96",
           "#00cc96",
           "#00cc96",
           "#00cc96",
           "#00cc96",
           "#00cc96",
           "#00cc96",
           "#00cc96",
           "#00cc96",
           "#00cc96",
           "#00cc96",
           "#00cc96",
           "#00cc96",
           "#00cc96",
           "#00cc96",
           "#00cc96",
           "#00cc96",
           "#00cc96",
           "#00cc96",
           "#00cc96",
           "#00cc96",
           "#00cc96",
           "#00cc96",
           "#00cc96",
           "#00cc96",
           "#00cc96",
           "#00cc96",
           "#00cc96",
           "#00cc96",
           "#00cc96",
           "#00cc96",
           "#00cc96",
           "#00cc96",
           "#00cc96",
           "#00cc96",
           "#00cc96",
           "#00cc96",
           "#00cc96",
           "#00cc96",
           "#00cc96",
           "#00cc96",
           "#00cc96",
           "#00cc96",
           "#00cc96",
           "#00cc96",
           "#00cc96",
           "#00cc96",
           "#00cc96",
           "#00cc96",
           "#00cc96",
           "#00cc96",
           "#00cc96",
           "#00cc96",
           "#00cc96",
           "#00cc96",
           "#00cc96",
           "#00cc96",
           "#00cc96",
           "#00cc96",
           "#00cc96",
           "#00cc96",
           "#00cc96",
           "#00cc96",
           "#00cc96",
           "#00cc96",
           "#00cc96",
           "#00cc96",
           "#00cc96",
           "#00cc96",
           "#00cc96",
           "#00cc96",
           "#00cc96",
           "#00cc96",
           "#00cc96",
           "#00cc96",
           "#00cc96",
           "#00cc96",
           "#00cc96",
           "#00cc96",
           "#00cc96",
           "#00cc96",
           "#00cc96",
           "#00cc96",
           "#00cc96",
           "#00cc96",
           "#00cc96",
           "#00cc96",
           "#00cc96",
           "#00cc96",
           "#00cc96",
           "#00cc96",
           "#00cc96",
           "#00cc96",
           "#00cc96",
           "#00cc96",
           "#00cc96",
           "#00cc96",
           "#00cc96",
           "#00cc96",
           "#00cc96",
           "#00cc96",
           "#00cc96",
           "#00cc96",
           "#00cc96",
           "#00cc96",
           "#00cc96",
           "#00cc96",
           "#00cc96",
           "#00cc96",
           "#00cc96",
           "#00cc96",
           "#00cc96",
           "#00cc96",
           "#00cc96",
           "#00cc96",
           "#00cc96",
           "#00cc96",
           "#00cc96",
           "#00cc96",
           "#00cc96",
           "#00cc96",
           "#00cc96",
           "#00cc96",
           "#00cc96",
           "#00cc96",
           "#00cc96",
           "#00cc96",
           "#00cc96",
           "#00cc96",
           "#00cc96",
           "#00cc96",
           "#00cc96",
           "#00cc96",
           "#00cc96",
           "#00cc96",
           "#00cc96",
           "#00cc96",
           "#00cc96",
           "#00cc96",
           "#00cc96",
           "#00cc96",
           "#00cc96",
           "#00cc96",
           "#00cc96",
           "#00cc96",
           "#00cc96",
           "#00cc96",
           "#00cc96",
           "#00cc96",
           "#00cc96",
           "#00cc96",
           "#00cc96",
           "#00cc96",
           "#00cc96",
           "#00cc96",
           "#00cc96",
           "#00cc96",
           "#00cc96",
           "#00cc96",
           "#00cc96",
           "#00cc96",
           "#00cc96",
           "#00cc96",
           "#00cc96",
           "#00cc96",
           "#00cc96",
           "#00cc96",
           "#00cc96",
           "#00cc96",
           "#00cc96",
           "#00cc96",
           "#00cc96",
           "#00cc96",
           "#00cc96",
           "#00cc96",
           "#00cc96",
           "#00cc96",
           "#00cc96",
           "#00cc96",
           "#00cc96",
           "#00cc96",
           "#00cc96",
           "#00cc96",
           "#00cc96",
           "#00cc96",
           "#00cc96",
           "#00cc96",
           "#00cc96",
           "#00cc96",
           "#00cc96",
           "#00cc96",
           "#00cc96",
           "#00cc96",
           "#00cc96",
           "#00cc96",
           "#00cc96",
           "#00cc96",
           "#00cc96",
           "#00cc96",
           "#00cc96",
           "#00cc96",
           "#00cc96",
           "#00cc96",
           "#00cc96",
           "#00cc96",
           "#00cc96",
           "#00cc96",
           "#00cc96",
           "#00cc96",
           "#00cc96",
           "#00cc96",
           "#00cc96",
           "#00cc96",
           "#00cc96",
           "#00cc96",
           "#00cc96",
           "#00cc96",
           "#00cc96",
           "#00cc96",
           "#00cc96",
           "#00cc96",
           "#00cc96",
           "#00cc96",
           "#00cc96",
           "#00cc96",
           "#00cc96",
           "#00cc96",
           "#00cc96",
           "#00cc96",
           "#00cc96",
           "#00cc96",
           "#00cc96",
           "#00cc96",
           "#00cc96",
           "#00cc96",
           "#00cc96",
           "#00cc96",
           "#00cc96",
           "#00cc96",
           "#00cc96",
           "#00cc96",
           "#00cc96",
           "#00cc96",
           "#00cc96",
           "#00cc96",
           "#00cc96",
           "#00cc96",
           "#00cc96",
           "#00cc96",
           "#00cc96",
           "#00cc96",
           "#00cc96",
           "#00cc96",
           "#00cc96",
           "#00cc96",
           "#00cc96",
           "#00cc96",
           "#00cc96",
           "#00cc96",
           "#00cc96",
           "#00cc96",
           "#00cc96",
           "#00cc96",
           "#00cc96",
           "#00cc96",
           "#00cc96",
           "#00cc96",
           "#00cc96",
           "#00cc96",
           "#00cc96",
           "#00cc96",
           "#00cc96",
           "#00cc96",
           "#00cc96",
           "#00cc96",
           "#00cc96",
           "#00cc96",
           "#00cc96",
           "#00cc96",
           "#00cc96",
           "#00cc96",
           "#00cc96",
           "#00cc96",
           "#00cc96",
           "#00cc96",
           "#00cc96",
           "#00cc96",
           "#00cc96",
           "#00cc96",
           "#00cc96",
           "#00cc96",
           "#00cc96",
           "#00cc96",
           "#00cc96",
           "#00cc96",
           "#ab63fa",
           "#ab63fa",
           "#ab63fa",
           "#ab63fa",
           "#ab63fa",
           "#ab63fa",
           "#ab63fa",
           "#ab63fa",
           "#ab63fa",
           "#ab63fa",
           "#ab63fa",
           "#ab63fa",
           "#ab63fa",
           "#ab63fa",
           "#ab63fa",
           "#ab63fa",
           "#ab63fa",
           "#ab63fa",
           "#ab63fa",
           "#ab63fa",
           "#ab63fa",
           "#ab63fa",
           "#ab63fa",
           "#ab63fa",
           "#ab63fa",
           "#ab63fa",
           "#ab63fa",
           "#ab63fa",
           "#ab63fa",
           "#ab63fa",
           "#ab63fa",
           "#ab63fa",
           "#ab63fa",
           "#ab63fa",
           "#ab63fa",
           "#ab63fa",
           "#ab63fa",
           "#ab63fa",
           "#ab63fa",
           "#ab63fa",
           "#ab63fa",
           "#ab63fa",
           "#ab63fa",
           "#ab63fa",
           "#ab63fa",
           "#ab63fa",
           "#ab63fa",
           "#ab63fa",
           "#ab63fa",
           "#ab63fa",
           "#ab63fa",
           "#ab63fa",
           "#ab63fa",
           "#ab63fa",
           "#ab63fa",
           "#ab63fa",
           "#ab63fa",
           "#ab63fa",
           "#ab63fa",
           "#ab63fa",
           "#ab63fa",
           "#ab63fa",
           "#ab63fa",
           "#ab63fa",
           "#ab63fa",
           "#ab63fa",
           "#ab63fa",
           "#ab63fa",
           "#ab63fa",
           "#ab63fa",
           "#ab63fa",
           "#ab63fa",
           "#ab63fa",
           "#ab63fa",
           "#ab63fa",
           "#ab63fa",
           "#ab63fa",
           "#ab63fa",
           "#ab63fa",
           "#ab63fa",
           "#ab63fa",
           "#ab63fa",
           "#ab63fa",
           "#ab63fa",
           "#ab63fa",
           "#ab63fa",
           "#ab63fa",
           "#ab63fa",
           "#ab63fa",
           "#ab63fa",
           "#ab63fa",
           "#ab63fa",
           "#ab63fa",
           "#ab63fa",
           "#ab63fa",
           "#ab63fa",
           "#ab63fa",
           "#ab63fa",
           "#ab63fa",
           "#ab63fa",
           "#ab63fa",
           "#ab63fa",
           "#ab63fa",
           "#ab63fa",
           "#ab63fa",
           "#ab63fa",
           "#ab63fa",
           "#ab63fa",
           "#ab63fa",
           "#ab63fa",
           "#ab63fa",
           "#ab63fa",
           "#ab63fa",
           "#ab63fa",
           "#ab63fa",
           "#ab63fa",
           "#ab63fa",
           "#ab63fa",
           "#ab63fa",
           "#ab63fa",
           "#ab63fa",
           "#ab63fa",
           "#ab63fa",
           "#ab63fa",
           "#ab63fa",
           "#ab63fa",
           "#ab63fa",
           "#ab63fa",
           "#ab63fa",
           "#ab63fa",
           "#ab63fa",
           "#ab63fa",
           "#ab63fa",
           "#ab63fa",
           "#ab63fa",
           "#ab63fa",
           "#ab63fa",
           "#ab63fa",
           "#ab63fa",
           "#ab63fa",
           "#ab63fa",
           "#ab63fa",
           "#ab63fa",
           "#ab63fa",
           "#ab63fa",
           "#ab63fa",
           "#ab63fa",
           "#ab63fa",
           "#ab63fa",
           "#ab63fa",
           "#ab63fa",
           "#ab63fa",
           "#ab63fa",
           "#ab63fa",
           "#ab63fa",
           "#ab63fa",
           "#ab63fa",
           "#ab63fa",
           "#ab63fa",
           "#ab63fa",
           "#ab63fa",
           "#ab63fa",
           "#ab63fa",
           "#ab63fa",
           "#ab63fa",
           "#ab63fa",
           "#ab63fa",
           "#ab63fa",
           "#ab63fa",
           "#ab63fa",
           "#ab63fa",
           "#ab63fa",
           "#ab63fa",
           "#ab63fa",
           "#ab63fa",
           "#ab63fa",
           "#ab63fa",
           "#ab63fa",
           "#ab63fa",
           "#ab63fa",
           "#ab63fa",
           "#ab63fa",
           "#ab63fa",
           "#ab63fa",
           "#ab63fa",
           "#ab63fa",
           "#ab63fa",
           "#ab63fa",
           "#ab63fa",
           "#ab63fa",
           "#ab63fa",
           "#ab63fa",
           "#ab63fa",
           "#ab63fa",
           "#ab63fa",
           "#ab63fa",
           "#ab63fa",
           "#ab63fa",
           "#ab63fa",
           "#ab63fa",
           "#ab63fa",
           "#ab63fa",
           "#ab63fa",
           "#ab63fa",
           "#ab63fa",
           "#ab63fa",
           "#ab63fa",
           "#ab63fa",
           "#ab63fa",
           "#ab63fa",
           "#ab63fa",
           "#ab63fa",
           "#ab63fa",
           "#ab63fa",
           "#ab63fa",
           "#ab63fa",
           "#ab63fa",
           "#ab63fa",
           "#ab63fa",
           "#ab63fa",
           "#ab63fa",
           "#ab63fa",
           "#ab63fa",
           "#ab63fa",
           "#ab63fa",
           "#ab63fa",
           "#ab63fa",
           "#ab63fa",
           "#ab63fa",
           "#ab63fa",
           "#ab63fa",
           "#ab63fa",
           "#ab63fa",
           "#ab63fa",
           "#ab63fa",
           "#ab63fa",
           "#ab63fa",
           "#ab63fa",
           "#ab63fa",
           "#ab63fa",
           "#ab63fa",
           "#ab63fa",
           "#ab63fa",
           "#ab63fa",
           "#ab63fa",
           "#ab63fa",
           "#ab63fa",
           "#ab63fa",
           "#ab63fa",
           "#ab63fa",
           "#ab63fa",
           "#ab63fa",
           "#ab63fa",
           "#ab63fa",
           "#ab63fa",
           "#ab63fa",
           "#ab63fa",
           "#ab63fa",
           "#ab63fa",
           "#ab63fa",
           "#ab63fa",
           "#ab63fa",
           "#ab63fa",
           "#ab63fa",
           "#ab63fa",
           "#ab63fa",
           "#ab63fa",
           "#ab63fa",
           "#ab63fa",
           "#ab63fa",
           "#ab63fa",
           "#ab63fa",
           "#ab63fa",
           "#ab63fa",
           "#ab63fa",
           "#ab63fa",
           "#ab63fa",
           "#ab63fa",
           "#ab63fa",
           "#ab63fa",
           "#ab63fa",
           "#ab63fa",
           "#ab63fa",
           "#ab63fa",
           "#ab63fa",
           "#ab63fa",
           "#ab63fa",
           "#ab63fa",
           "#ab63fa",
           "#ab63fa",
           "#ab63fa",
           "#ab63fa",
           "#ab63fa",
           "#ab63fa",
           "#ab63fa",
           "#ab63fa",
           "#ab63fa",
           "#ab63fa",
           "#ab63fa",
           "#ab63fa",
           "#ab63fa",
           "#ab63fa",
           "#ab63fa",
           "#ab63fa",
           "#ab63fa",
           "#ab63fa",
           "#ab63fa",
           "#ab63fa",
           "#ab63fa",
           "#ab63fa",
           "#ab63fa",
           "#ab63fa",
           "#ab63fa",
           "#ab63fa",
           "#ab63fa",
           "#ab63fa",
           "#ab63fa",
           "#ab63fa",
           "#ab63fa",
           "#ab63fa",
           "#ab63fa",
           "#ab63fa",
           "#ab63fa",
           "#ab63fa",
           "#ab63fa",
           "#ab63fa",
           "#ab63fa",
           "#ab63fa",
           "#ab63fa",
           "#ab63fa",
           "#ab63fa",
           "#ab63fa",
           "#ab63fa",
           "#ab63fa",
           "#ab63fa",
           "#ab63fa",
           "#ab63fa",
           "#ab63fa",
           "#ab63fa",
           "#ab63fa",
           "#ab63fa",
           "#ab63fa",
           "#ab63fa",
           "#ab63fa",
           "#ab63fa",
           "#ab63fa",
           "#ab63fa",
           "#ab63fa",
           "#ab63fa",
           "#ab63fa",
           "#ab63fa",
           "#ab63fa",
           "#ab63fa",
           "#ab63fa",
           "#ab63fa",
           "#ab63fa",
           "#ab63fa",
           "#ab63fa",
           "#ab63fa",
           "#ab63fa",
           "#ab63fa",
           "#ab63fa",
           "#ab63fa",
           "#ab63fa",
           "#ab63fa",
           "#ab63fa",
           "#ab63fa",
           "#ab63fa",
           "#ab63fa",
           "#ab63fa",
           "#ab63fa",
           "#ab63fa",
           "#ab63fa",
           "#ab63fa",
           "#ab63fa",
           "#ab63fa",
           "#ab63fa",
           "#ab63fa",
           "#ab63fa",
           "#ab63fa",
           "#ab63fa",
           "#ab63fa",
           "#ab63fa",
           "#ab63fa",
           "#ab63fa",
           "#ab63fa",
           "#ab63fa",
           "#ab63fa",
           "#ab63fa",
           "#ab63fa",
           "#ab63fa",
           "#FFA15A",
           "#FFA15A",
           "#FFA15A",
           "#FFA15A",
           "#FFA15A",
           "#FFA15A",
           "#FFA15A",
           "#FFA15A",
           "#FFA15A",
           "#FFA15A",
           "#FFA15A",
           "#FFA15A",
           "#FFA15A",
           "#FFA15A",
           "#FFA15A",
           "#FFA15A",
           "#FFA15A",
           "#FFA15A",
           "#FFA15A",
           "#FFA15A",
           "#FFA15A",
           "#FFA15A",
           "#FFA15A",
           "#FFA15A",
           "#FFA15A",
           "#FFA15A",
           "#FFA15A"
          ]
         },
         "name": "",
         "parents": [
          "Africa/Malawi",
          "Africa/Togo",
          "Africa/Togo",
          "Africa/Togo",
          "Africa/Togo",
          "Africa/Togo",
          "Africa/Togo",
          "Africa/Tanzania",
          "Africa/Tanzania",
          "Africa/Tanzania",
          "Africa/Tanzania",
          "Africa/Tanzania",
          "Africa/Tanzania",
          "Africa/Tanzania",
          "Africa/Tanzania",
          "Africa/Tanzania",
          "Africa/Tanzania",
          "Africa/Tanzania",
          "Africa/Tanzania",
          "Africa/Swaziland",
          "Africa/Swaziland",
          "Africa/Swaziland",
          "Africa/Swaziland",
          "Africa/Swaziland",
          "Africa/Togo",
          "Africa/Swaziland",
          "Africa/Togo",
          "Africa/Togo",
          "Africa/Guinea-Bissau",
          "Africa/Guinea-Bissau",
          "Africa/Guinea-Bissau",
          "Africa/Guinea-Bissau",
          "Africa/Uganda",
          "Africa/Uganda",
          "Africa/Uganda",
          "Africa/Uganda",
          "Africa/Uganda",
          "Africa/Tunisia",
          "Africa/Tunisia",
          "Africa/Tunisia",
          "Africa/Tunisia",
          "Africa/Tunisia",
          "Africa/Tunisia",
          "Africa/Tunisia",
          "Africa/Tunisia",
          "Africa/Tunisia",
          "Africa/Tunisia",
          "Africa/Tunisia",
          "Africa/Tunisia",
          "Africa/Togo",
          "Africa/Togo",
          "Africa/Togo",
          "Africa/Guinea-Bissau",
          "Africa/Swaziland",
          "Africa/Swaziland",
          "Africa/Somalia",
          "Africa/Somalia",
          "Africa/Somalia",
          "Africa/Somalia",
          "Africa/Somalia",
          "Africa/Somalia",
          "Africa/Somalia",
          "Africa/Kenya",
          "Africa/Kenya",
          "Africa/Kenya",
          "Africa/Kenya",
          "Africa/Kenya",
          "Africa/Kenya",
          "Africa/Kenya",
          "Africa/Kenya",
          "Africa/Kenya",
          "Africa/Kenya",
          "Africa/Kenya",
          "Africa/Kenya",
          "Africa/Somalia",
          "Africa/Somalia",
          "Africa/Somalia",
          "Africa/Somalia",
          "Africa/South Africa",
          "Africa/Swaziland",
          "Africa/South Africa",
          "Africa/South Africa",
          "Africa/Swaziland",
          "Africa/Swaziland",
          "Africa/Swaziland",
          "Africa/Sudan",
          "Africa/Sudan",
          "Africa/Sudan",
          "Africa/Sudan",
          "Africa/Sudan",
          "Africa/Sudan",
          "Africa/Sudan",
          "Africa/Sudan",
          "Africa/Sudan",
          "Africa/Sudan",
          "Africa/Sudan",
          "Africa/Sudan",
          "Africa/South Africa",
          "Africa/South Africa",
          "Africa/South Africa",
          "Africa/South Africa",
          "Africa/South Africa",
          "Africa/South Africa",
          "Africa/South Africa",
          "Africa/South Africa",
          "Africa/South Africa",
          "Africa/Somalia",
          "Africa/Guinea-Bissau",
          "Africa/Guinea-Bissau",
          "Africa/Eritrea",
          "Africa/Eritrea",
          "Africa/Eritrea",
          "Africa/Eritrea",
          "Africa/Eritrea",
          "Africa/Eritrea",
          "Africa/Eritrea",
          "Africa/Ethiopia",
          "Africa/Ethiopia",
          "Africa/Ethiopia",
          "Africa/Ethiopia",
          "Africa/Ethiopia",
          "Africa/Ethiopia",
          "Africa/Ethiopia",
          "Africa/Ethiopia",
          "Africa/Ethiopia",
          "Africa/Ethiopia",
          "Africa/Ethiopia",
          "Africa/Ethiopia",
          "Africa/Gabon",
          "Africa/Gabon",
          "Africa/Gabon",
          "Africa/Gabon",
          "Africa/Eritrea",
          "Africa/Gabon",
          "Africa/Eritrea",
          "Africa/Eritrea",
          "Africa/Egypt",
          "Africa/Egypt",
          "Africa/Egypt",
          "Africa/Egypt",
          "Africa/Egypt",
          "Africa/Egypt",
          "Africa/Egypt",
          "Africa/Egypt",
          "Africa/Egypt",
          "Africa/Egypt",
          "Africa/Equatorial Guinea",
          "Africa/Equatorial Guinea",
          "Africa/Equatorial Guinea",
          "Africa/Equatorial Guinea",
          "Africa/Equatorial Guinea",
          "Africa/Equatorial Guinea",
          "Africa/Equatorial Guinea",
          "Africa/Equatorial Guinea",
          "Africa/Equatorial Guinea",
          "Africa/Equatorial Guinea",
          "Africa/Equatorial Guinea",
          "Africa/Equatorial Guinea",
          "Africa/Eritrea",
          "Africa/Eritrea",
          "Africa/Guinea-Bissau",
          "Africa/Gabon",
          "Africa/Gabon",
          "Africa/Uganda",
          "Africa/Uganda",
          "Africa/Uganda",
          "Africa/Uganda",
          "Africa/Uganda",
          "Africa/Uganda",
          "Africa/Uganda",
          "Africa/Guinea",
          "Africa/Guinea",
          "Africa/Guinea",
          "Africa/Guinea",
          "Africa/Guinea",
          "Africa/Guinea",
          "Africa/Guinea",
          "Africa/Guinea",
          "Africa/Guinea",
          "Africa/Guinea",
          "Africa/Guinea",
          "Africa/Guinea",
          "Africa/Guinea-Bissau",
          "Africa/Guinea-Bissau",
          "Africa/Guinea-Bissau",
          "Africa/Guinea-Bissau",
          "Africa/Ghana",
          "Africa/Gabon",
          "Africa/Ghana",
          "Africa/Ghana",
          "Africa/Gabon",
          "Africa/Gabon",
          "Africa/Gabon",
          "Africa/Gabon",
          "Africa/Gambia",
          "Africa/Gambia",
          "Africa/Gambia",
          "Africa/Gambia",
          "Africa/Gambia",
          "Africa/Gambia",
          "Africa/Gambia",
          "Africa/Gambia",
          "Africa/Gambia",
          "Africa/Gambia",
          "Africa/Gambia",
          "Africa/Gambia",
          "Africa/Ghana",
          "Africa/Ghana",
          "Africa/Ghana",
          "Africa/Ghana",
          "Africa/Ghana",
          "Africa/Ghana",
          "Africa/Ghana",
          "Africa/Ghana",
          "Africa/Egypt",
          "Africa/Sierra Leone",
          "Africa/Sierra Leone",
          "Africa/Rwanda",
          "Africa/Rwanda",
          "Africa/Rwanda",
          "Africa/Rwanda",
          "Africa/Rwanda",
          "Africa/Reunion",
          "Africa/Reunion",
          "Africa/Reunion",
          "Africa/Reunion",
          "Africa/Reunion",
          "Africa/Reunion",
          "Africa/Reunion",
          "Africa/Morocco",
          "Africa/Morocco",
          "Africa/Morocco",
          "Africa/Morocco",
          "Africa/Morocco",
          "Africa/Morocco",
          "Africa/Morocco",
          "Africa/Morocco",
          "Africa/Morocco",
          "Africa/Morocco",
          "Africa/Morocco",
          "Africa/Rwanda",
          "Africa/Morocco",
          "Africa/Rwanda",
          "Africa/Rwanda",
          "Africa/Mauritania",
          "Africa/Mauritania",
          "Africa/Mauritania",
          "Africa/Mauritius",
          "Africa/Mauritius",
          "Africa/Mauritius",
          "Africa/Mauritius",
          "Africa/Mauritius",
          "Africa/Mauritius",
          "Africa/Mauritius",
          "Africa/Mauritius",
          "Africa/Mauritius",
          "Africa/Mauritius",
          "Africa/Mauritius",
          "Africa/Mauritius",
          "Africa/Sao Tome and Principe",
          "Africa/Sao Tome and Principe",
          "Africa/Sao Tome and Principe",
          "Africa/Sao Tome and Principe",
          "Africa/Sao Tome and Principe",
          "Africa/Rwanda",
          "Africa/Rwanda",
          "Africa/Rwanda",
          "Africa/Rwanda",
          "Africa/Mauritania",
          "Africa/Mozambique",
          "Africa/Mozambique",
          "Africa/Niger",
          "Africa/Niger",
          "Africa/Niger",
          "Africa/Niger",
          "Africa/Niger",
          "Africa/Niger",
          "Africa/Niger",
          "Africa/Niger",
          "Africa/Niger",
          "Africa/Niger",
          "Africa/Niger",
          "Africa/Nigeria",
          "Africa/Nigeria",
          "Africa/Nigeria",
          "Africa/Nigeria",
          "Africa/Nigeria",
          "Africa/Nigeria",
          "Africa/Nigeria",
          "Africa/Nigeria",
          "Africa/Nigeria",
          "Africa/Nigeria",
          "Africa/Nigeria",
          "Africa/Nigeria",
          "Africa/Niger",
          "Africa/Mozambique",
          "Africa/Namibia",
          "Africa/Namibia",
          "Africa/Mozambique",
          "Africa/Mozambique",
          "Africa/Mozambique",
          "Africa/Mozambique",
          "Africa/Mozambique",
          "Africa/Mozambique",
          "Africa/Mozambique",
          "Africa/Mozambique",
          "Africa/Mozambique",
          "Africa/Reunion",
          "Africa/Reunion",
          "Africa/Reunion",
          "Africa/Reunion",
          "Africa/Reunion",
          "Africa/Namibia",
          "Africa/Namibia",
          "Africa/Namibia",
          "Africa/Namibia",
          "Africa/Namibia",
          "Africa/Namibia",
          "Africa/Namibia",
          "Africa/Namibia",
          "Africa/Namibia",
          "Africa/Namibia",
          "Africa/Sierra Leone",
          "Africa/Mauritania",
          "Africa/Mauritania",
          "Africa/Lesotho",
          "Africa/Lesotho",
          "Africa/Lesotho",
          "Africa/Lesotho",
          "Africa/Lesotho",
          "Africa/Lesotho",
          "Africa/Liberia",
          "Africa/Liberia",
          "Africa/Liberia",
          "Africa/Liberia",
          "Africa/Liberia",
          "Africa/Liberia",
          "Africa/Liberia",
          "Africa/Liberia",
          "Africa/Liberia",
          "Africa/Liberia",
          "Africa/Liberia",
          "Africa/Liberia",
          "Africa/Libya",
          "Africa/Libya",
          "Africa/Libya",
          "Africa/Libya",
          "Africa/Libya",
          "Africa/Lesotho",
          "Africa/Libya",
          "Africa/Lesotho",
          "Africa/Lesotho",
          "Africa/Sierra Leone",
          "Africa/Sierra Leone",
          "Africa/Sierra Leone",
          "Africa/Sierra Leone",
          "Africa/Sierra Leone",
          "Africa/Sierra Leone",
          "Africa/Sierra Leone",
          "Africa/Sierra Leone",
          "Africa/Sierra Leone",
          "Africa/Senegal",
          "Africa/Senegal",
          "Africa/Senegal",
          "Africa/Senegal",
          "Africa/Senegal",
          "Africa/Senegal",
          "Africa/Senegal",
          "Africa/Senegal",
          "Africa/Senegal",
          "Africa/Senegal",
          "Africa/Senegal",
          "Africa/Senegal",
          "Africa/Lesotho",
          "Africa/Lesotho",
          "Africa/Lesotho",
          "Africa/Mauritania",
          "Africa/Libya",
          "Africa/Libya",
          "Africa/Sao Tome and Principe",
          "Africa/Sao Tome and Principe",
          "Africa/Sao Tome and Principe",
          "Africa/Sao Tome and Principe",
          "Africa/Sao Tome and Principe",
          "Africa/Sao Tome and Principe",
          "Africa/Mali",
          "Africa/Mali",
          "Africa/Mali",
          "Africa/Mali",
          "Africa/Mali",
          "Africa/Mali",
          "Africa/Mali",
          "Africa/Mali",
          "Africa/Mali",
          "Africa/Mali",
          "Africa/Mali",
          "Africa/Mali",
          "Africa/Mauritania",
          "Africa/Mauritania",
          "Africa/Mauritania",
          "Africa/Mauritania",
          "Africa/Mauritania",
          "Africa/Sao Tome and Principe",
          "Africa/Libya",
          "Africa/Malawi",
          "Africa/Malawi",
          "Africa/Libya",
          "Africa/Libya",
          "Africa/Libya",
          "Africa/Madagascar",
          "Africa/Madagascar",
          "Africa/Madagascar",
          "Africa/Madagascar",
          "Africa/Madagascar",
          "Africa/Madagascar",
          "Africa/Madagascar",
          "Africa/Madagascar",
          "Africa/Madagascar",
          "Africa/Madagascar",
          "Africa/Madagascar",
          "Africa/Madagascar",
          "Africa/Malawi",
          "Africa/Malawi",
          "Africa/Malawi",
          "Africa/Malawi",
          "Africa/Malawi",
          "Africa/Malawi",
          "Africa/Malawi",
          "Africa/Malawi",
          "Africa/Malawi",
          "Africa/Egypt",
          "Africa/Ghana",
          "Africa/Congo, Dem. Rep.",
          "Africa",
          "Africa/Benin",
          "Africa/Benin",
          "Africa/Benin",
          "Africa/Benin",
          "Africa/Benin",
          "Africa/Benin",
          "Africa",
          "Africa/Comoros",
          "Africa/Comoros",
          "Africa/Comoros",
          "Africa/Comoros",
          "Africa/Benin",
          "Africa/Benin",
          "Africa/Benin",
          "Africa/Benin",
          "Africa/Comoros",
          "Africa/Zambia",
          "Africa/Zambia",
          "Africa/Zambia",
          "Africa/Botswana",
          "Africa/Botswana",
          "Africa/Botswana",
          "Africa/Botswana",
          "Africa/Botswana",
          "Africa",
          "Africa",
          "Africa",
          "Africa/Zimbabwe",
          "Africa/Zimbabwe",
          "Africa/Zimbabwe",
          "Africa/Zimbabwe",
          "Africa/Zimbabwe",
          "Africa/Zambia",
          "Africa/Zambia",
          "Africa/Zambia",
          "Africa/Zambia",
          "Africa/Benin",
          "Africa/Botswana",
          "Africa/Benin",
          "Africa",
          "Africa/Congo, Dem. Rep.",
          "Africa/Congo, Dem. Rep.",
          "Africa/Congo, Dem. Rep.",
          "Africa/Congo, Dem. Rep.",
          "Africa/Cameroon",
          "Africa/Congo, Dem. Rep.",
          "Africa/Congo, Dem. Rep.",
          "Africa/Congo, Dem. Rep.",
          "Africa/Congo, Dem. Rep.",
          "Africa/Congo, Rep.",
          "Africa/Congo, Rep.",
          "Africa/Congo, Rep.",
          "Africa/Congo, Rep.",
          "Africa/Congo, Rep.",
          "Africa/Congo, Rep.",
          "Africa/Congo, Rep.",
          "Africa/Congo, Dem. Rep.",
          "Africa/Congo, Dem. Rep.",
          "Africa/Congo, Dem. Rep.",
          "Africa/Comoros",
          "Africa",
          "Africa",
          "Africa",
          "Africa",
          "Africa",
          "Africa",
          "Africa",
          "Africa",
          "Africa",
          "Africa",
          "Africa",
          "Africa/Comoros",
          "Africa/Comoros",
          "Africa/Comoros",
          "Africa/Comoros",
          "Africa/Comoros",
          "Africa/Comoros",
          "Africa",
          "Africa/Congo, Rep.",
          "Africa/Botswana",
          "Africa/Botswana",
          "Africa/Burundi",
          "Africa/Burundi",
          "Africa/Burundi",
          "Africa/Burundi",
          "Africa/Burundi",
          "Africa/Burundi",
          "Africa/Burundi",
          "Africa/Burundi",
          "Africa/Burundi",
          "Africa/Burundi",
          "Africa/Burundi",
          "Africa/Burkina Faso",
          "Africa/Burkina Faso",
          "Africa/Burkina Faso",
          "Africa/Burkina Faso",
          "Africa/Central African Republic",
          "Africa/Burundi",
          "Africa",
          "Africa",
          "Africa/Zimbabwe",
          "Africa/Cameroon",
          "Africa/Cameroon",
          "Africa/Cameroon",
          "Africa/Cameroon",
          "Africa/Cameroon",
          "Africa/Cameroon",
          "Africa/Cameroon",
          "Africa/Cameroon",
          "Africa/Cameroon",
          "Africa/Cameroon",
          "Africa/Zimbabwe",
          "Africa/Djibouti",
          "Africa/Zimbabwe",
          "Africa/Zimbabwe",
          "Africa/Zimbabwe",
          "Africa/Zimbabwe",
          "Africa/Zimbabwe",
          "Africa/Central African Republic",
          "Africa/Botswana",
          "Africa/Central African Republic",
          "Africa/Central African Republic",
          "Africa/Burkina Faso",
          "Africa/Burkina Faso",
          "Africa/Burkina Faso",
          "Africa/Burkina Faso",
          "Africa/Burkina Faso",
          "Africa/Burkina Faso",
          "Africa",
          "Africa/Burkina Faso",
          "Africa",
          "Africa",
          "Africa",
          "Africa",
          "Africa",
          "Africa/Botswana",
          "Africa/Botswana",
          "Africa/Botswana",
          "Africa",
          "Africa/Burkina Faso",
          "Africa/Chad",
          "Africa/Chad",
          "Africa/Central African Republic",
          "Africa/Central African Republic",
          "Africa/Central African Republic",
          "Africa/Central African Republic",
          "Africa/Central African Republic",
          "Africa/Central African Republic",
          "Africa/Central African Republic",
          "Africa/Chad",
          "Africa/Chad",
          "Africa/Chad",
          "Africa/Chad",
          "Africa/Chad",
          "Africa/Chad",
          "Africa/Chad",
          "Africa/Chad",
          "Africa/Chad",
          "Africa/Chad",
          "Africa/Central African Republic",
          "Africa/Congo, Rep.",
          "Africa/Cameroon",
          "Africa/Congo, Rep.",
          "Africa/Algeria",
          "Africa/Algeria",
          "Africa/Congo, Rep.",
          "Africa/Algeria",
          "Africa/Algeria",
          "Africa/Angola",
          "Africa/Angola",
          "Africa/Angola",
          "Africa/Angola",
          "Africa/Angola",
          "Africa/Angola",
          "Africa/Algeria",
          "Africa/Angola",
          "Africa/Angola",
          "Africa/Angola",
          "Africa/Angola",
          "Africa/Angola",
          "Africa/Zambia",
          "Africa/Zambia",
          "Africa/Zambia",
          "Africa/Zambia",
          "Africa/Zambia",
          "Africa/Cote d'Ivoire",
          "Africa/Cote d'Ivoire",
          "Africa/Angola",
          "Africa/Algeria",
          "Africa/Algeria",
          "Africa/Algeria",
          "",
          "Africa",
          "Africa",
          "Africa/Djibouti",
          "Africa/Djibouti",
          "Africa/Djibouti",
          "Africa/Djibouti",
          "Africa/Djibouti",
          "Africa/Djibouti",
          "Africa/Djibouti",
          "Africa/Djibouti",
          "Africa/Djibouti",
          "Africa/Djibouti",
          "Africa/Djibouti",
          "Africa",
          "Africa",
          "Africa",
          "Africa",
          "Africa",
          "Africa",
          "Africa",
          "Africa",
          "Africa/Algeria",
          "Africa/Algeria",
          "Africa/Algeria",
          "Africa/Cote d'Ivoire",
          "Africa/Cote d'Ivoire",
          "Africa/Algeria",
          "Africa/Cote d'Ivoire",
          "Africa",
          "Africa",
          "Africa",
          "Africa",
          "Africa",
          "Africa",
          "Africa",
          "Africa",
          "Africa",
          "Africa",
          "Africa",
          "Africa",
          "Africa",
          "Africa/Congo, Rep.",
          "Africa",
          "Africa",
          "Africa/Cote d'Ivoire",
          "Africa/Cote d'Ivoire",
          "Africa/Cote d'Ivoire",
          "Africa/Cote d'Ivoire",
          "Africa/Cote d'Ivoire",
          "Africa/Cote d'Ivoire",
          "Africa/Cote d'Ivoire",
          "Americas/Paraguay",
          "Americas",
          "Americas/Peru",
          "Americas/Peru",
          "Americas",
          "Americas/Nicaragua",
          "Americas/Peru",
          "Americas/Peru",
          "Americas/Paraguay",
          "Americas/Nicaragua",
          "Americas/Nicaragua",
          "Americas/Nicaragua",
          "Americas/Nicaragua",
          "Americas/Nicaragua",
          "Americas/Peru",
          "Americas/Paraguay",
          "Americas/Paraguay",
          "Americas/Paraguay",
          "Americas/Nicaragua",
          "Americas/Nicaragua",
          "Americas/Nicaragua",
          "Americas/Nicaragua",
          "Americas/Paraguay",
          "Americas/Paraguay",
          "Americas/Nicaragua",
          "Americas/Nicaragua",
          "Americas/Mexico",
          "Americas/Mexico",
          "Americas/Paraguay",
          "Americas/Paraguay",
          "Americas/Panama",
          "Americas/Panama",
          "Americas/Panama",
          "Americas/Panama",
          "Americas/Paraguay",
          "Americas/Panama",
          "Americas/Panama",
          "Americas/Panama",
          "Americas/Panama",
          "Americas/Panama",
          "Americas/Panama",
          "Americas/Panama",
          "Americas/Panama",
          "Americas",
          "Americas/Paraguay",
          "Americas",
          "Americas/Peru",
          "Americas/Mexico",
          "Americas/Mexico",
          "Americas/Mexico",
          "Americas/Mexico",
          "Americas/Mexico",
          "Americas/Paraguay",
          "Americas/Mexico",
          "Americas/Mexico",
          "Americas/Mexico",
          "Americas/Mexico",
          "Americas",
          "Americas",
          "Americas",
          "Americas/Mexico",
          "Americas",
          "Americas/Peru",
          "Americas",
          "Americas/Bolivia",
          "Americas/Bolivia",
          "Americas/Bolivia",
          "",
          "Americas/Bolivia",
          "Americas",
          "Americas/Bolivia",
          "Americas",
          "Americas",
          "Americas/Argentina",
          "Americas/Argentina",
          "Americas/Argentina",
          "Americas/Argentina",
          "Americas/Puerto Rico",
          "Americas/Argentina",
          "Americas/Puerto Rico",
          "Americas/Bolivia",
          "Americas/Bolivia",
          "Americas",
          "Americas/Argentina",
          "Americas/Argentina",
          "Americas/Argentina",
          "Americas",
          "Americas",
          "Americas/Bolivia",
          "Americas",
          "Americas/Argentina",
          "Americas/Argentina",
          "Americas/Bolivia",
          "Americas/Bolivia",
          "Americas/Bolivia",
          "Americas/Bolivia",
          "Americas/Argentina",
          "Americas/Puerto Rico",
          "Americas/Puerto Rico",
          "Americas/Puerto Rico",
          "Americas/Brazil",
          "Americas/Brazil",
          "Americas/Brazil",
          "Americas/Brazil",
          "Americas/Brazil",
          "Americas/Brazil",
          "Americas/Brazil",
          "Americas/Brazil",
          "Americas/Peru",
          "Americas",
          "Americas",
          "Americas/Peru",
          "Americas/Peru",
          "Americas/Peru",
          "Americas/Brazil",
          "Americas/Brazil",
          "Americas/Brazil",
          "Americas/Brazil",
          "Americas/Puerto Rico",
          "Americas/Puerto Rico",
          "Americas/Argentina",
          "Americas",
          "Americas",
          "Americas",
          "Americas",
          "Americas",
          "Americas",
          "Americas",
          "Americas/Puerto Rico",
          "Americas/Puerto Rico",
          "Americas/Puerto Rico",
          "Americas/Puerto Rico",
          "Americas/Puerto Rico",
          "Americas/Peru",
          "Americas/Dominican Republic",
          "Americas/Canada",
          "Americas/Canada",
          "Americas/Guatemala",
          "Americas/United States",
          "Americas/United States",
          "Americas/United States",
          "Americas/United States",
          "Americas/United States",
          "Americas/Costa Rica",
          "Americas/Costa Rica",
          "Americas/Costa Rica",
          "Americas/Costa Rica",
          "Americas/Costa Rica",
          "Americas/Costa Rica",
          "Americas/Costa Rica",
          "Americas/Costa Rica",
          "Americas/Costa Rica",
          "Americas/Costa Rica",
          "Americas/Costa Rica",
          "Americas/United States",
          "Americas/United States",
          "Americas/United States",
          "Americas/United States",
          "Americas/United States",
          "Americas/United States",
          "Americas/United States",
          "Americas/Uruguay",
          "Americas/Uruguay",
          "Americas/Uruguay",
          "Americas/Uruguay",
          "Americas/Uruguay",
          "Americas/Guatemala",
          "Americas/Guatemala",
          "Americas/Guatemala",
          "Americas/Guatemala",
          "Americas/Honduras",
          "Americas/Honduras",
          "Americas/Honduras",
          "Americas/Honduras",
          "Americas/Honduras",
          "Americas/Honduras",
          "Americas/Honduras",
          "Americas/Honduras",
          "Americas/Honduras",
          "Americas/Honduras",
          "Americas/Honduras",
          "Americas/Haiti",
          "Americas/Haiti",
          "Americas/Haiti",
          "Americas/Costa Rica",
          "Americas/Haiti",
          "Americas/Haiti",
          "Americas/Haiti",
          "Americas/Haiti",
          "Americas/Haiti",
          "Americas/Haiti",
          "Americas/Haiti",
          "Americas/Haiti",
          "Americas/Guatemala",
          "Americas/Guatemala",
          "Americas/Guatemala",
          "Americas/Guatemala",
          "Americas/Guatemala",
          "Americas/Canada",
          "Americas/Guatemala",
          "Americas/Haiti",
          "Americas/Honduras",
          "Americas/Uruguay",
          "Americas/Uruguay",
          "Americas/El Salvador",
          "Americas/El Salvador",
          "Americas/El Salvador",
          "Americas/El Salvador",
          "Americas/El Salvador",
          "Americas/El Salvador",
          "Americas/Ecuador",
          "Americas/Ecuador",
          "Americas/Ecuador",
          "Americas/Ecuador",
          "Americas/Ecuador",
          "Americas/Ecuador",
          "Americas/Ecuador",
          "Americas/Ecuador",
          "Americas/Ecuador",
          "Americas/Ecuador",
          "Americas/Ecuador",
          "Americas/Ecuador",
          "Americas/Dominican Republic",
          "Americas/Dominican Republic",
          "Americas/Dominican Republic",
          "Americas/Dominican Republic",
          "Americas/Dominican Republic",
          "Americas/Dominican Republic",
          "Americas/Dominican Republic",
          "Americas/Dominican Republic",
          "Americas/Dominican Republic",
          "Americas/Dominican Republic",
          "Americas/Dominican Republic",
          "Americas/El Salvador",
          "Americas/El Salvador",
          "Americas/El Salvador",
          "Americas/El Salvador",
          "Americas/Uruguay",
          "Americas/Uruguay",
          "Americas/Uruguay",
          "Americas/Uruguay",
          "Americas/Venezuela",
          "Americas/Venezuela",
          "Americas/Venezuela",
          "Americas/Venezuela",
          "Americas/Venezuela",
          "Americas/Venezuela",
          "Americas/Venezuela",
          "Americas/Venezuela",
          "Americas/Venezuela",
          "Americas/Venezuela",
          "Americas/Uruguay",
          "Americas/Venezuela",
          "Americas/Cuba",
          "Americas/Cuba",
          "Americas/Cuba",
          "Americas/Cuba",
          "Americas/Cuba",
          "Americas/Cuba",
          "Americas/Cuba",
          "Americas/Cuba",
          "Americas/Cuba",
          "Americas/Cuba",
          "Americas/Cuba",
          "Americas/Cuba",
          "Americas/El Salvador",
          "Americas/El Salvador",
          "Americas/Venezuela",
          "Americas/Colombia",
          "Americas/Guatemala",
          "Americas/Colombia",
          "Americas/Trinidad and Tobago",
          "Americas/Trinidad and Tobago",
          "Americas/Trinidad and Tobago",
          "Americas/Trinidad and Tobago",
          "Americas/Jamaica",
          "Americas/Jamaica",
          "Americas/Jamaica",
          "Americas/Chile",
          "Americas/Chile",
          "Americas/Chile",
          "Americas/Chile",
          "Americas/Chile",
          "Americas/Chile",
          "Americas/Trinidad and Tobago",
          "Americas/Chile",
          "Americas/Chile",
          "Americas/Chile",
          "Americas/Chile",
          "Americas/Jamaica",
          "Americas/Jamaica",
          "Americas/Jamaica",
          "Americas/Jamaica",
          "Americas/Jamaica",
          "Americas/Colombia",
          "Americas/Jamaica",
          "Americas/Jamaica",
          "Americas/Jamaica",
          "Americas/Jamaica",
          "Americas/Chile",
          "Americas/Canada",
          "Americas/Chile",
          "Americas/Canada",
          "Americas/Colombia",
          "Americas/Trinidad and Tobago",
          "Americas/Colombia",
          "Americas/Trinidad and Tobago",
          "Americas/Trinidad and Tobago",
          "Americas/Trinidad and Tobago",
          "Americas/Trinidad and Tobago",
          "Americas/Colombia",
          "Americas/Colombia",
          "Americas/Colombia",
          "Americas/Colombia",
          "Americas/Colombia",
          "Americas/Canada",
          "Americas/Colombia",
          "Americas/Canada",
          "Americas/Canada",
          "Americas/Canada",
          "Americas/Colombia",
          "Americas/Trinidad and Tobago",
          "Americas/Canada",
          "Americas/Canada",
          "Americas/Trinidad and Tobago",
          "Americas/Canada",
          "Asia/Vietnam",
          "Asia/West Bank and Gaza",
          "Asia/West Bank and Gaza",
          "Asia/West Bank and Gaza",
          "Asia/West Bank and Gaza",
          "Asia/West Bank and Gaza",
          "Asia/West Bank and Gaza",
          "Asia/West Bank and Gaza",
          "Asia/West Bank and Gaza",
          "Asia/West Bank and Gaza",
          "Asia/West Bank and Gaza",
          "Asia/West Bank and Gaza",
          "Asia/West Bank and Gaza",
          "Asia/Pakistan",
          "Asia/Yemen, Rep.",
          "Asia/Philippines",
          "Asia/Philippines",
          "Asia/Philippines",
          "Asia/Philippines",
          "Asia/Philippines",
          "Asia/Philippines",
          "Asia/Philippines",
          "Asia/Philippines",
          "Asia/Philippines",
          "Asia/Philippines",
          "Asia/Pakistan",
          "Asia/Vietnam",
          "Asia/Yemen, Rep.",
          "Asia/Yemen, Rep.",
          "Asia/Yemen, Rep.",
          "Asia/Yemen, Rep.",
          "Asia/Vietnam",
          "Asia",
          "Asia/Vietnam",
          "Asia/Singapore",
          "Asia/Pakistan",
          "Asia/Pakistan",
          "Asia",
          "Asia",
          "Asia",
          "Asia/Singapore",
          "Asia",
          "",
          "Asia",
          "Asia/Sri Lanka",
          "Asia/Sri Lanka",
          "Asia/Sri Lanka",
          "Asia/Sri Lanka",
          "Asia/Sri Lanka",
          "Asia/Singapore",
          "Asia/Vietnam",
          "Asia/Singapore",
          "Asia/Vietnam",
          "Asia/Vietnam",
          "Asia/Pakistan",
          "Asia/Pakistan",
          "Asia/Pakistan",
          "Asia/Singapore",
          "Asia/Singapore",
          "Asia/Singapore",
          "Asia/Singapore",
          "Asia",
          "Asia",
          "Asia/Singapore",
          "Asia",
          "Asia/Singapore",
          "Asia/Singapore",
          "Asia/Singapore",
          "Asia/Philippines",
          "Asia/Philippines",
          "Asia/Syria",
          "Asia/Sri Lanka",
          "Asia/Thailand",
          "Asia/Thailand",
          "Asia/Thailand",
          "Asia/Thailand",
          "Asia/Thailand",
          "Asia/Thailand",
          "Asia",
          "Asia/Thailand",
          "Asia",
          "Asia",
          "Asia",
          "Asia/Pakistan",
          "Asia",
          "Asia",
          "Asia",
          "Asia/Taiwan",
          "Asia/Taiwan",
          "Asia/Taiwan",
          "Asia",
          "Asia",
          "Asia/Taiwan",
          "Asia/Thailand",
          "Asia/Thailand",
          "Asia/Saudi Arabia",
          "Asia/Saudi Arabia",
          "Asia/Saudi Arabia",
          "Asia/Saudi Arabia",
          "Asia/Saudi Arabia",
          "Asia",
          "Asia",
          "Asia",
          "Asia",
          "Asia",
          "Asia",
          "Asia",
          "Asia",
          "Asia",
          "Asia",
          "Asia",
          "Asia",
          "Asia/Thailand",
          "Asia/Thailand",
          "Asia/Thailand",
          "Asia/Taiwan",
          "Asia",
          "Asia/Taiwan",
          "Asia/Saudi Arabia",
          "Asia/Syria",
          "Asia/Syria",
          "Asia/Syria",
          "Asia/Syria",
          "Asia/Syria",
          "Asia/Syria",
          "Asia/Syria",
          "Asia/Vietnam",
          "Asia/Vietnam",
          "Asia/Vietnam",
          "Asia/Vietnam",
          "Asia/Vietnam",
          "Asia/Yemen, Rep.",
          "Asia/Sri Lanka",
          "Asia/Sri Lanka",
          "Asia/Sri Lanka",
          "Asia/Sri Lanka",
          "Asia/Sri Lanka",
          "Asia/Saudi Arabia",
          "Asia/Saudi Arabia",
          "Asia/Saudi Arabia",
          "Asia/Saudi Arabia",
          "Asia/Taiwan",
          "Asia/Taiwan",
          "Asia/Taiwan",
          "Asia/Taiwan",
          "Asia",
          "Asia/Taiwan",
          "Asia/Taiwan",
          "Asia/Syria",
          "Asia/Yemen, Rep.",
          "Asia/Sri Lanka",
          "Asia/Yemen, Rep.",
          "Asia/Yemen, Rep.",
          "Asia/Yemen, Rep.",
          "Asia/Yemen, Rep.",
          "Asia/Syria",
          "Asia/Syria",
          "Asia/Syria",
          "Asia",
          "Asia/Saudi Arabia",
          "Asia/Saudi Arabia",
          "Asia/Yemen, Rep.",
          "Asia/Pakistan",
          "Asia/Afghanistan",
          "Asia/Pakistan",
          "Asia/Iraq",
          "Asia/Iraq",
          "Asia/Iraq",
          "Asia/Iraq",
          "Asia/Iraq",
          "Asia/Israel",
          "Asia/Israel",
          "Asia/Israel",
          "Asia/Iraq",
          "Asia/Israel",
          "Asia/Israel",
          "Asia/Israel",
          "Asia/Israel",
          "Asia/Israel",
          "Asia/Israel",
          "Asia/Israel",
          "Asia/Israel",
          "Asia/Japan",
          "Asia/Israel",
          "Asia/Iraq",
          "Asia/Iraq",
          "Asia/Iraq",
          "Asia/Indonesia",
          "Asia/Indonesia",
          "Asia/Indonesia",
          "Asia/Indonesia",
          "Asia/Iran",
          "Asia/Iran",
          "Asia/Iran",
          "Asia/Iran",
          "Asia/Iran",
          "Asia/Iran",
          "Asia/Iran",
          "Asia/Iran",
          "Asia/Pakistan",
          "Asia/Iran",
          "Asia/Iran",
          "Asia/Iran",
          "Asia/Iraq",
          "Asia/Iraq",
          "Asia/Iraq",
          "Asia/Japan",
          "Asia/Japan",
          "Asia/Japan",
          "Asia/Japan",
          "Asia/Korea, Dem. Rep.",
          "Asia/Korea, Dem. Rep.",
          "Asia/Korea, Dem. Rep.",
          "Asia/Korea, Dem. Rep.",
          "Asia/Korea, Dem. Rep.",
          "Asia/Korea, Dem. Rep.",
          "Asia/Korea, Dem. Rep.",
          "Asia/Korea, Dem. Rep.",
          "Asia/Korea, Rep.",
          "Asia/Korea, Rep.",
          "Asia/Korea, Rep.",
          "Asia/Korea, Rep.",
          "Asia/Korea, Rep.",
          "Asia/Korea, Rep.",
          "Asia/Korea, Rep.",
          "Asia/Korea, Rep.",
          "Asia/Korea, Rep.",
          "Asia/Korea, Rep.",
          "Asia/Korea, Rep.",
          "Asia/Korea, Dem. Rep.",
          "Asia/Indonesia",
          "Asia/Korea, Dem. Rep.",
          "Asia/Korea, Dem. Rep.",
          "Asia/Japan",
          "Asia/Japan",
          "Asia/Japan",
          "Asia/Japan",
          "Asia/Japan",
          "Asia/Japan",
          "Asia/Japan",
          "Asia/Jordan",
          "Asia/Jordan",
          "Asia/Jordan",
          "Asia/Jordan",
          "Asia/Jordan",
          "Asia/Jordan",
          "Asia/Jordan",
          "Asia/Jordan",
          "Asia/Jordan",
          "Asia/Jordan",
          "Asia/Jordan",
          "Asia/Jordan",
          "Asia/Korea, Dem. Rep.",
          "Asia/Korea, Rep.",
          "Asia/Indonesia",
          "Asia/Indonesia",
          "Asia/Bangladesh",
          "Asia/Bangladesh",
          "Asia/Bangladesh",
          "Asia/Bangladesh",
          "Asia/Bangladesh",
          "Asia/Bangladesh",
          "Asia/Bangladesh",
          "Asia/Bangladesh",
          "Asia/Bahrain",
          "Asia/Bangladesh",
          "Asia/Bangladesh",
          "Asia/Bangladesh",
          "Asia/Cambodia",
          "Asia/Cambodia",
          "Asia/Cambodia",
          "Asia/Cambodia",
          "Asia/Cambodia",
          "Asia/Cambodia",
          "Asia/Bangladesh",
          "Asia/Bahrain",
          "Asia/Bahrain",
          "Asia/Bahrain",
          "Asia/Afghanistan",
          "Asia/Afghanistan",
          "Asia/Afghanistan",
          "Asia/Afghanistan",
          "Asia/Afghanistan",
          "Asia/Afghanistan",
          "Asia/Afghanistan",
          "Asia/Afghanistan",
          "Asia/Afghanistan",
          "Asia/Afghanistan",
          "Asia/Afghanistan",
          "Asia/Bahrain",
          "Asia/Bahrain",
          "Asia/Bahrain",
          "Asia/Bahrain",
          "Asia/Bahrain",
          "Asia/Bahrain",
          "Asia/Bahrain",
          "Asia/Bahrain",
          "Asia/Cambodia",
          "Asia/Cambodia",
          "Asia/Cambodia",
          "Asia/Cambodia",
          "Asia/Hong Kong, China",
          "Asia/Hong Kong, China",
          "Asia/Hong Kong, China",
          "Asia/India",
          "Asia/India",
          "Asia/India",
          "Asia/India",
          "Asia/India",
          "Asia/India",
          "Asia/India",
          "Asia/India",
          "Asia/India",
          "Asia/India",
          "Asia/India",
          "Asia/India",
          "Asia/Indonesia",
          "Asia/Indonesia",
          "Asia/Indonesia",
          "Asia/Indonesia",
          "Asia/Hong Kong, China",
          "Asia/Indonesia",
          "Asia/Hong Kong, China",
          "Asia/Hong Kong, China",
          "Asia/Cambodia",
          "Asia/Cambodia",
          "Asia/China",
          "Asia/China",
          "Asia/China",
          "Asia/China",
          "Asia/China",
          "Asia/China",
          "Asia/China",
          "Asia/China",
          "Asia/China",
          "Asia/China",
          "Asia/China",
          "Asia/China",
          "Asia/Hong Kong, China",
          "Asia/Hong Kong, China",
          "Asia/Hong Kong, China",
          "Asia/Hong Kong, China",
          "Asia/Hong Kong, China",
          "Asia/Hong Kong, China",
          "Asia/Kuwait",
          "Asia/Iran",
          "Asia/Kuwait",
          "Asia/Mongolia",
          "Asia/Mongolia",
          "Asia/Mongolia",
          "Asia/Mongolia",
          "Asia/Mongolia",
          "Asia/Mongolia",
          "Asia/Oman",
          "Asia/Oman",
          "Asia/Mongolia",
          "Asia/Mongolia",
          "Asia/Malaysia",
          "Asia/Malaysia",
          "Asia/Malaysia",
          "Asia/Malaysia",
          "Asia/Malaysia",
          "Asia/Malaysia",
          "Asia/Malaysia",
          "Asia/Malaysia",
          "Asia/Malaysia",
          "Asia/Malaysia",
          "Asia/Malaysia",
          "Asia/Lebanon",
          "Asia/Lebanon",
          "Asia/Mongolia",
          "Asia/Mongolia",
          "Asia/Mongolia",
          "Asia/Mongolia",
          "Asia/Myanmar",
          "Asia/Myanmar",
          "Asia/Myanmar",
          "Asia/Myanmar",
          "Asia/Myanmar",
          "Asia/Myanmar",
          "Asia/Myanmar",
          "Asia/Myanmar",
          "Asia/Myanmar",
          "Asia/Myanmar",
          "Asia/Myanmar",
          "Asia/Lebanon",
          "Asia/Myanmar",
          "Asia/Nepal",
          "Asia/Nepal",
          "Asia/Nepal",
          "Asia/Nepal",
          "Asia/Nepal",
          "Asia/Nepal",
          "Asia/Nepal",
          "Asia/Nepal",
          "Asia/Nepal",
          "Asia/Nepal",
          "Asia/Nepal",
          "Asia/Nepal",
          "Asia/Lebanon",
          "Asia/Malaysia",
          "Asia/Lebanon",
          "Asia/Oman",
          "Asia/Kuwait",
          "Asia/Lebanon",
          "Asia/Kuwait",
          "Asia/Kuwait",
          "Asia/Kuwait",
          "Asia/Oman",
          "Asia/Oman",
          "Asia/Oman",
          "Asia/Oman",
          "Asia/Oman",
          "Asia/Oman",
          "Asia/Oman",
          "Asia/Oman",
          "Asia/Oman",
          "Asia/Pakistan",
          "Asia/Lebanon",
          "Asia/Lebanon",
          "Asia/Lebanon",
          "Asia/Lebanon",
          "Asia/Lebanon",
          "Asia/Kuwait",
          "Asia/Lebanon",
          "Asia/Kuwait",
          "Asia/Kuwait",
          "Asia/Kuwait",
          "Asia/Kuwait",
          "Asia/Kuwait",
          "Europe/Poland",
          "Europe/Poland",
          "Europe/Poland",
          "Europe/Croatia",
          "Europe/Croatia",
          "Europe/Croatia",
          "Europe/Croatia",
          "Europe/Croatia",
          "Europe/Croatia",
          "Europe/Croatia",
          "Europe/France",
          "Europe/Croatia",
          "Europe/Croatia",
          "Europe/Netherlands",
          "Europe/Germany",
          "Europe/Germany",
          "Europe/Germany",
          "Europe/Netherlands",
          "Europe/Netherlands",
          "Europe/Netherlands",
          "Europe/Netherlands",
          "Europe/Netherlands",
          "Europe/Netherlands",
          "Europe/Croatia",
          "Europe/Netherlands",
          "Europe/Germany",
          "Europe/Germany",
          "Europe/Netherlands",
          "Europe/France",
          "Europe/Croatia",
          "Europe/Czech Republic",
          "Europe/Czech Republic",
          "Europe/Denmark",
          "Europe/Finland",
          "Europe/Finland",
          "Europe/Netherlands",
          "Europe/Finland",
          "Europe/Finland",
          "Europe/Denmark",
          "Europe/Denmark",
          "Europe/Denmark",
          "Europe/Denmark",
          "Europe/Denmark",
          "Europe/Denmark",
          "Europe/Denmark",
          "Europe/Finland",
          "Europe/Finland",
          "Europe/Finland",
          "Europe/Finland",
          "Europe/Finland",
          "Europe/Finland",
          "Europe/Finland",
          "Europe/Denmark",
          "Europe/Finland",
          "Europe/France",
          "Europe/Denmark",
          "Europe/Czech Republic",
          "Europe/Czech Republic",
          "Europe/Czech Republic",
          "Europe/Czech Republic",
          "Europe/Czech Republic",
          "Europe/France",
          "Europe/France",
          "Europe/France",
          "Europe/France",
          "Europe/France",
          "Europe/France",
          "Europe/France",
          "Europe/France",
          "Europe/France",
          "Europe/Czech Republic",
          "Europe/Czech Republic",
          "Europe/Czech Republic",
          "Europe/Czech Republic",
          "Europe/Czech Republic",
          "Europe/Denmark",
          "Europe/Denmark",
          "Europe/Croatia",
          "Europe",
          "Europe",
          "Europe/Netherlands",
          "Europe/Austria",
          "Europe/Austria",
          "Europe/Austria",
          "Europe",
          "Europe/Austria",
          "Europe/Austria",
          "Europe/Austria",
          "Europe/Austria",
          "Europe/Austria",
          "Europe",
          "Europe",
          "Europe/Austria",
          "Europe/Norway",
          "Europe/Norway",
          "Europe/Norway",
          "Europe/Norway",
          "Europe/Norway",
          "Europe/Norway",
          "Europe/Norway",
          "Europe/Norway",
          "Europe/Norway",
          "Europe/Norway",
          "Europe/Austria",
          "Europe/Austria",
          "Europe/Austria",
          "Europe",
          "",
          "Europe",
          "Europe",
          "Europe/Albania",
          "Europe/Albania",
          "Europe/Albania",
          "Europe/Albania",
          "Europe/Albania",
          "Europe/Albania",
          "Europe/Albania",
          "Europe",
          "Europe",
          "Europe/Albania",
          "Europe/Albania",
          "Europe/Albania",
          "Europe",
          "Europe/Albania",
          "Europe/Albania",
          "Europe",
          "Europe",
          "Europe",
          "Europe",
          "Europe",
          "Europe/Norway",
          "Europe/Netherlands",
          "Europe/Norway",
          "Europe",
          "Europe/Bosnia and Herzegovina",
          "Europe/Bosnia and Herzegovina",
          "Europe/Bosnia and Herzegovina",
          "Europe/Bosnia and Herzegovina",
          "Europe/Bosnia and Herzegovina",
          "Europe/Bosnia and Herzegovina",
          "Europe/Bulgaria",
          "Europe/Bulgaria",
          "Europe/Bulgaria",
          "Europe/Bulgaria",
          "Europe/Bosnia and Herzegovina",
          "Europe/Bulgaria",
          "Europe/Bulgaria",
          "Europe",
          "Europe/Bulgaria",
          "Europe/Bulgaria",
          "Europe",
          "Europe/Bulgaria",
          "Europe/Bulgaria",
          "Europe",
          "Europe/Bulgaria",
          "Europe",
          "Europe/Bulgaria",
          "Europe/Bosnia and Herzegovina",
          "Europe",
          "Europe/Bosnia and Herzegovina",
          "Europe",
          "Europe",
          "Europe/Belgium",
          "Europe/Belgium",
          "Europe/Belgium",
          "Europe/Belgium",
          "Europe",
          "Europe/Belgium",
          "Europe",
          "Europe/Belgium",
          "Europe/Belgium",
          "Europe",
          "Europe",
          "Europe/Belgium",
          "Europe/Belgium",
          "Europe/Belgium",
          "Europe/Belgium",
          "Europe/Belgium",
          "Europe/Bosnia and Herzegovina",
          "Europe/Bosnia and Herzegovina",
          "Europe/Bosnia and Herzegovina",
          "Europe",
          "Europe/Germany",
          "Europe",
          "Europe/Germany",
          "Europe/United Kingdom",
          "Europe/Germany",
          "Europe/Sweden",
          "Europe/Sweden",
          "Europe/Sweden",
          "Europe/Sweden",
          "Europe/Sweden",
          "Europe/Sweden",
          "Europe/Ireland",
          "Europe/Ireland",
          "Europe/Ireland",
          "Europe/Ireland",
          "Europe/Sweden",
          "Europe/Ireland",
          "Europe/Ireland",
          "Europe/Montenegro",
          "Europe/Montenegro",
          "Europe/Italy",
          "Europe/Italy",
          "Europe/Italy",
          "Europe/Italy",
          "Europe/Italy",
          "Europe/Italy",
          "Europe/Italy",
          "Europe/Ireland",
          "Europe/Italy",
          "Europe/Sweden",
          "Europe/Sweden",
          "Europe/Montenegro",
          "Europe/Montenegro",
          "Europe/Montenegro",
          "Europe/Ireland",
          "Europe/Ireland",
          "Europe/Ireland",
          "Europe/Ireland",
          "Europe/Ireland",
          "Europe/Switzerland",
          "Europe/Germany",
          "Europe/Sweden",
          "Europe/Switzerland",
          "Europe/Switzerland",
          "Europe/Switzerland",
          "Europe/Switzerland",
          "Europe/Switzerland",
          "Europe/Switzerland",
          "Europe/Switzerland",
          "Europe/Switzerland",
          "Europe/Switzerland",
          "Europe/Sweden",
          "Europe/Sweden",
          "Europe/Switzerland",
          "Europe/Italy",
          "Europe/Italy",
          "Europe/Italy",
          "Europe/Slovak Republic",
          "Europe/Slovak Republic",
          "Europe/Slovak Republic",
          "Europe/Slovak Republic",
          "Europe/Slovak Republic",
          "Europe/Slovak Republic",
          "Europe/Slovak Republic",
          "Europe/Slovak Republic",
          "Europe/Slovak Republic",
          "Europe/Slovak Republic",
          "Europe/Slovak Republic",
          "Europe/Serbia",
          "Europe/Serbia",
          "Europe/Serbia",
          "Europe/Serbia",
          "Europe/Serbia",
          "Europe/Serbia",
          "Europe/Serbia",
          "Europe/Serbia",
          "Europe/Serbia",
          "Europe/Serbia",
          "Europe/Serbia",
          "Europe/Serbia",
          "Europe/Slovak Republic",
          "Europe/Slovenia",
          "Europe/Slovenia",
          "Europe/Italy",
          "Europe/Spain",
          "Europe/Spain",
          "Europe/Spain",
          "Europe/Spain",
          "Europe/Spain",
          "Europe/Spain",
          "Europe/Spain",
          "Europe/Spain",
          "Europe/Spain",
          "Europe/Spain",
          "Europe/Spain",
          "Europe/Spain",
          "Europe/Slovenia",
          "Europe/Slovenia",
          "Europe/Slovenia",
          "Europe/Slovenia",
          "Europe/Slovenia",
          "Europe/Slovenia",
          "Europe/Slovenia",
          "Europe/Slovenia",
          "Europe/Slovenia",
          "Europe/Slovenia",
          "Europe/Romania",
          "Europe/Romania",
          "Europe/Switzerland",
          "Europe/Romania",
          "Europe/Poland",
          "Europe/Poland",
          "Europe/Turkey",
          "Europe/Turkey",
          "Europe/Turkey",
          "Europe/Turkey",
          "Europe/Turkey",
          "Europe/Turkey",
          "Europe/Turkey",
          "Europe/Turkey",
          "Europe/Turkey",
          "Europe/Poland",
          "Europe/Turkey",
          "Europe/Turkey",
          "Europe/Poland",
          "Europe/Poland",
          "Europe/Poland",
          "Europe/Poland",
          "Europe/Portugal",
          "Europe/Romania",
          "Europe/Portugal",
          "Europe/Hungary",
          "Europe/Hungary",
          "Europe/Hungary",
          "Europe/Turkey",
          "Europe/Poland",
          "Europe/Poland",
          "Europe/Greece",
          "Europe/Germany",
          "Europe/Germany",
          "Europe/Germany",
          "Europe/Greece",
          "Europe/Greece",
          "Europe/Greece",
          "Europe/Greece",
          "Europe/Greece",
          "Europe/United Kingdom",
          "Europe/United Kingdom",
          "Europe/United Kingdom",
          "Europe/United Kingdom",
          "Europe/United Kingdom",
          "Europe/United Kingdom",
          "Europe/United Kingdom",
          "Europe/United Kingdom",
          "Europe/United Kingdom",
          "Europe/United Kingdom",
          "Europe/United Kingdom",
          "Europe/Greece",
          "Europe/Greece",
          "Europe/Greece",
          "Europe/Greece",
          "Europe/Greece",
          "Europe/Greece",
          "Europe/Hungary",
          "Europe/Hungary",
          "Europe/Portugal",
          "Europe/Hungary",
          "Europe/Iceland",
          "Europe/Iceland",
          "Europe/Iceland",
          "Europe/Portugal",
          "Europe/Portugal",
          "Europe/Portugal",
          "Europe/Portugal",
          "Europe/Portugal",
          "Europe/Portugal",
          "Europe/Portugal",
          "Europe/Portugal",
          "Europe/Portugal",
          "Europe/Montenegro",
          "Europe/Montenegro",
          "Europe/Montenegro",
          "Europe/Montenegro",
          "Europe/Montenegro",
          "Europe/Montenegro",
          "Europe/Montenegro",
          "Europe/Romania",
          "Europe/Romania",
          "Europe/Romania",
          "Europe/Romania",
          "Europe/Romania",
          "Europe/Romania",
          "Europe/Romania",
          "Europe/Romania",
          "Europe/Iceland",
          "Europe/Hungary",
          "Europe/Iceland",
          "Europe/Iceland",
          "Europe/Hungary",
          "Europe/Hungary",
          "Europe/Iceland",
          "Europe/Hungary",
          "Europe/Hungary",
          "Europe/Hungary",
          "Europe/Iceland",
          "Europe/Iceland",
          "Europe/Iceland",
          "Europe/Iceland",
          "Europe/Iceland",
          "Oceania/New Zealand",
          "Oceania/Australia",
          "Oceania/New Zealand",
          "Oceania/New Zealand",
          "Oceania/New Zealand",
          "Oceania/New Zealand",
          "Oceania",
          "Oceania/New Zealand",
          "Oceania/New Zealand",
          "Oceania/Australia",
          "Oceania/Australia",
          "Oceania/Australia",
          "Oceania/Australia",
          "Oceania/Australia",
          "Oceania/Australia",
          "Oceania/Australia",
          "Oceania/New Zealand",
          "Oceania/New Zealand",
          "Oceania/Australia",
          "Oceania/Australia",
          "Oceania/Australia",
          "Oceania/Australia",
          "Oceania/New Zealand",
          "Oceania/New Zealand",
          "Oceania/New Zealand",
          "Oceania",
          ""
         ],
         "type": "sunburst",
         "values": {
          "bdata": "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",
          "dtype": "f8"
         }
        }
       ],
       "layout": {
        "legend": {
         "tracegroupgap": 0
        },
        "margin": {
         "t": 60
        },
        "template": {
         "data": {
          "bar": [
           {
            "error_x": {
             "color": "#2a3f5f"
            },
            "error_y": {
             "color": "#2a3f5f"
            },
            "marker": {
             "line": {
              "color": "#E5ECF6",
              "width": 0.5
             },
             "pattern": {
              "fillmode": "overlay",
              "size": 10,
              "solidity": 0.2
             }
            },
            "type": "bar"
           }
          ],
          "barpolar": [
           {
            "marker": {
             "line": {
              "color": "#E5ECF6",
              "width": 0.5
             },
             "pattern": {
              "fillmode": "overlay",
              "size": 10,
              "solidity": 0.2
             }
            },
            "type": "barpolar"
           }
          ],
          "carpet": [
           {
            "aaxis": {
             "endlinecolor": "#2a3f5f",
             "gridcolor": "white",
             "linecolor": "white",
             "minorgridcolor": "white",
             "startlinecolor": "#2a3f5f"
            },
            "baxis": {
             "endlinecolor": "#2a3f5f",
             "gridcolor": "white",
             "linecolor": "white",
             "minorgridcolor": "white",
             "startlinecolor": "#2a3f5f"
            },
            "type": "carpet"
           }
          ],
          "choropleth": [
           {
            "colorbar": {
             "outlinewidth": 0,
             "ticks": ""
            },
            "type": "choropleth"
           }
          ],
          "contour": [
           {
            "colorbar": {
             "outlinewidth": 0,
             "ticks": ""
            },
            "colorscale": [
             [
              0,
              "#0d0887"
             ],
             [
              0.1111111111111111,
              "#46039f"
             ],
             [
              0.2222222222222222,
              "#7201a8"
             ],
             [
              0.3333333333333333,
              "#9c179e"
             ],
             [
              0.4444444444444444,
              "#bd3786"
             ],
             [
              0.5555555555555556,
              "#d8576b"
             ],
             [
              0.6666666666666666,
              "#ed7953"
             ],
             [
              0.7777777777777778,
              "#fb9f3a"
             ],
             [
              0.8888888888888888,
              "#fdca26"
             ],
             [
              1,
              "#f0f921"
             ]
            ],
            "type": "contour"
           }
          ],
          "contourcarpet": [
           {
            "colorbar": {
             "outlinewidth": 0,
             "ticks": ""
            },
            "type": "contourcarpet"
           }
          ],
          "heatmap": [
           {
            "colorbar": {
             "outlinewidth": 0,
             "ticks": ""
            },
            "colorscale": [
             [
              0,
              "#0d0887"
             ],
             [
              0.1111111111111111,
              "#46039f"
             ],
             [
              0.2222222222222222,
              "#7201a8"
             ],
             [
              0.3333333333333333,
              "#9c179e"
             ],
             [
              0.4444444444444444,
              "#bd3786"
             ],
             [
              0.5555555555555556,
              "#d8576b"
             ],
             [
              0.6666666666666666,
              "#ed7953"
             ],
             [
              0.7777777777777778,
              "#fb9f3a"
             ],
             [
              0.8888888888888888,
              "#fdca26"
             ],
             [
              1,
              "#f0f921"
             ]
            ],
            "type": "heatmap"
           }
          ],
          "histogram": [
           {
            "marker": {
             "pattern": {
              "fillmode": "overlay",
              "size": 10,
              "solidity": 0.2
             }
            },
            "type": "histogram"
           }
          ],
          "histogram2d": [
           {
            "colorbar": {
             "outlinewidth": 0,
             "ticks": ""
            },
            "colorscale": [
             [
              0,
              "#0d0887"
             ],
             [
              0.1111111111111111,
              "#46039f"
             ],
             [
              0.2222222222222222,
              "#7201a8"
             ],
             [
              0.3333333333333333,
              "#9c179e"
             ],
             [
              0.4444444444444444,
              "#bd3786"
             ],
             [
              0.5555555555555556,
              "#d8576b"
             ],
             [
              0.6666666666666666,
              "#ed7953"
             ],
             [
              0.7777777777777778,
              "#fb9f3a"
             ],
             [
              0.8888888888888888,
              "#fdca26"
             ],
             [
              1,
              "#f0f921"
             ]
            ],
            "type": "histogram2d"
           }
          ],
          "histogram2dcontour": [
           {
            "colorbar": {
             "outlinewidth": 0,
             "ticks": ""
            },
            "colorscale": [
             [
              0,
              "#0d0887"
             ],
             [
              0.1111111111111111,
              "#46039f"
             ],
             [
              0.2222222222222222,
              "#7201a8"
             ],
             [
              0.3333333333333333,
              "#9c179e"
             ],
             [
              0.4444444444444444,
              "#bd3786"
             ],
             [
              0.5555555555555556,
              "#d8576b"
             ],
             [
              0.6666666666666666,
              "#ed7953"
             ],
             [
              0.7777777777777778,
              "#fb9f3a"
             ],
             [
              0.8888888888888888,
              "#fdca26"
             ],
             [
              1,
              "#f0f921"
             ]
            ],
            "type": "histogram2dcontour"
           }
          ],
          "mesh3d": [
           {
            "colorbar": {
             "outlinewidth": 0,
             "ticks": ""
            },
            "type": "mesh3d"
           }
          ],
          "parcoords": [
           {
            "line": {
             "colorbar": {
              "outlinewidth": 0,
              "ticks": ""
             }
            },
            "type": "parcoords"
           }
          ],
          "pie": [
           {
            "automargin": true,
            "type": "pie"
           }
          ],
          "scatter": [
           {
            "fillpattern": {
             "fillmode": "overlay",
             "size": 10,
             "solidity": 0.2
            },
            "type": "scatter"
           }
          ],
          "scatter3d": [
           {
            "line": {
             "colorbar": {
              "outlinewidth": 0,
              "ticks": ""
             }
            },
            "marker": {
             "colorbar": {
              "outlinewidth": 0,
              "ticks": ""
             }
            },
            "type": "scatter3d"
           }
          ],
          "scattercarpet": [
           {
            "marker": {
             "colorbar": {
              "outlinewidth": 0,
              "ticks": ""
             }
            },
            "type": "scattercarpet"
           }
          ],
          "scattergeo": [
           {
            "marker": {
             "colorbar": {
              "outlinewidth": 0,
              "ticks": ""
             }
            },
            "type": "scattergeo"
           }
          ],
          "scattergl": [
           {
            "marker": {
             "colorbar": {
              "outlinewidth": 0,
              "ticks": ""
             }
            },
            "type": "scattergl"
           }
          ],
          "scattermap": [
           {
            "marker": {
             "colorbar": {
              "outlinewidth": 0,
              "ticks": ""
             }
            },
            "type": "scattermap"
           }
          ],
          "scattermapbox": [
           {
            "marker": {
             "colorbar": {
              "outlinewidth": 0,
              "ticks": ""
             }
            },
            "type": "scattermapbox"
           }
          ],
          "scatterpolar": [
           {
            "marker": {
             "colorbar": {
              "outlinewidth": 0,
              "ticks": ""
             }
            },
            "type": "scatterpolar"
           }
          ],
          "scatterpolargl": [
           {
            "marker": {
             "colorbar": {
              "outlinewidth": 0,
              "ticks": ""
             }
            },
            "type": "scatterpolargl"
           }
          ],
          "scatterternary": [
           {
            "marker": {
             "colorbar": {
              "outlinewidth": 0,
              "ticks": ""
             }
            },
            "type": "scatterternary"
           }
          ],
          "surface": [
           {
            "colorbar": {
             "outlinewidth": 0,
             "ticks": ""
            },
            "colorscale": [
             [
              0,
              "#0d0887"
             ],
             [
              0.1111111111111111,
              "#46039f"
             ],
             [
              0.2222222222222222,
              "#7201a8"
             ],
             [
              0.3333333333333333,
              "#9c179e"
             ],
             [
              0.4444444444444444,
              "#bd3786"
             ],
             [
              0.5555555555555556,
              "#d8576b"
             ],
             [
              0.6666666666666666,
              "#ed7953"
             ],
             [
              0.7777777777777778,
              "#fb9f3a"
             ],
             [
              0.8888888888888888,
              "#fdca26"
             ],
             [
              1,
              "#f0f921"
             ]
            ],
            "type": "surface"
           }
          ],
          "table": [
           {
            "cells": {
             "fill": {
              "color": "#EBF0F8"
             },
             "line": {
              "color": "white"
             }
            },
            "header": {
             "fill": {
              "color": "#C8D4E3"
             },
             "line": {
              "color": "white"
             }
            },
            "type": "table"
           }
          ]
         },
         "layout": {
          "annotationdefaults": {
           "arrowcolor": "#2a3f5f",
           "arrowhead": 0,
           "arrowwidth": 1
          },
          "autotypenumbers": "strict",
          "coloraxis": {
           "colorbar": {
            "outlinewidth": 0,
            "ticks": ""
           }
          },
          "colorscale": {
           "diverging": [
            [
             0,
             "#8e0152"
            ],
            [
             0.1,
             "#c51b7d"
            ],
            [
             0.2,
             "#de77ae"
            ],
            [
             0.3,
             "#f1b6da"
            ],
            [
             0.4,
             "#fde0ef"
            ],
            [
             0.5,
             "#f7f7f7"
            ],
            [
             0.6,
             "#e6f5d0"
            ],
            [
             0.7,
             "#b8e186"
            ],
            [
             0.8,
             "#7fbc41"
            ],
            [
             0.9,
             "#4d9221"
            ],
            [
             1,
             "#276419"
            ]
           ],
           "sequential": [
            [
             0,
             "#0d0887"
            ],
            [
             0.1111111111111111,
             "#46039f"
            ],
            [
             0.2222222222222222,
             "#7201a8"
            ],
            [
             0.3333333333333333,
             "#9c179e"
            ],
            [
             0.4444444444444444,
             "#bd3786"
            ],
            [
             0.5555555555555556,
             "#d8576b"
            ],
            [
             0.6666666666666666,
             "#ed7953"
            ],
            [
             0.7777777777777778,
             "#fb9f3a"
            ],
            [
             0.8888888888888888,
             "#fdca26"
            ],
            [
             1,
             "#f0f921"
            ]
           ],
           "sequentialminus": [
            [
             0,
             "#0d0887"
            ],
            [
             0.1111111111111111,
             "#46039f"
            ],
            [
             0.2222222222222222,
             "#7201a8"
            ],
            [
             0.3333333333333333,
             "#9c179e"
            ],
            [
             0.4444444444444444,
             "#bd3786"
            ],
            [
             0.5555555555555556,
             "#d8576b"
            ],
            [
             0.6666666666666666,
             "#ed7953"
            ],
            [
             0.7777777777777778,
             "#fb9f3a"
            ],
            [
             0.8888888888888888,
             "#fdca26"
            ],
            [
             1,
             "#f0f921"
            ]
           ]
          },
          "colorway": [
           "#636efa",
           "#EF553B",
           "#00cc96",
           "#ab63fa",
           "#FFA15A",
           "#19d3f3",
           "#FF6692",
           "#B6E880",
           "#FF97FF",
           "#FECB52"
          ],
          "font": {
           "color": "#2a3f5f"
          },
          "geo": {
           "bgcolor": "white",
           "lakecolor": "white",
           "landcolor": "#E5ECF6",
           "showlakes": true,
           "showland": true,
           "subunitcolor": "white"
          },
          "hoverlabel": {
           "align": "left"
          },
          "hovermode": "closest",
          "mapbox": {
           "style": "light"
          },
          "paper_bgcolor": "white",
          "plot_bgcolor": "#E5ECF6",
          "polar": {
           "angularaxis": {
            "gridcolor": "white",
            "linecolor": "white",
            "ticks": ""
           },
           "bgcolor": "#E5ECF6",
           "radialaxis": {
            "gridcolor": "white",
            "linecolor": "white",
            "ticks": ""
           }
          },
          "scene": {
           "xaxis": {
            "backgroundcolor": "#E5ECF6",
            "gridcolor": "white",
            "gridwidth": 2,
            "linecolor": "white",
            "showbackground": true,
            "ticks": "",
            "zerolinecolor": "white"
           },
           "yaxis": {
            "backgroundcolor": "#E5ECF6",
            "gridcolor": "white",
            "gridwidth": 2,
            "linecolor": "white",
            "showbackground": true,
            "ticks": "",
            "zerolinecolor": "white"
           },
           "zaxis": {
            "backgroundcolor": "#E5ECF6",
            "gridcolor": "white",
            "gridwidth": 2,
            "linecolor": "white",
            "showbackground": true,
            "ticks": "",
            "zerolinecolor": "white"
           }
          },
          "shapedefaults": {
           "line": {
            "color": "#2a3f5f"
           }
          },
          "ternary": {
           "aaxis": {
            "gridcolor": "white",
            "linecolor": "white",
            "ticks": ""
           },
           "baxis": {
            "gridcolor": "white",
            "linecolor": "white",
            "ticks": ""
           },
           "bgcolor": "#E5ECF6",
           "caxis": {
            "gridcolor": "white",
            "linecolor": "white",
            "ticks": ""
           }
          },
          "title": {
           "x": 0.05
          },
          "xaxis": {
           "automargin": true,
           "gridcolor": "white",
           "linecolor": "white",
           "ticks": "",
           "title": {
            "standoff": 15
           },
           "zerolinecolor": "white",
           "zerolinewidth": 2
          },
          "yaxis": {
           "automargin": true,
           "gridcolor": "white",
           "linecolor": "white",
           "ticks": "",
           "title": {
            "standoff": 15
           },
           "zerolinecolor": "white",
           "zerolinewidth": 2
          }
         }
        }
       }
      }
     },
     "metadata": {},
     "output_type": "display_data"
    }
   ],
   "source": [
    "fig=px.sunburst(df, path=['continent', 'country', 'year'],\n",
    "                values='pop', color='continent')\n",
    "fig.show()"
   ]
  },
  {
   "cell_type": "code",
   "execution_count": 5,
   "id": "702a9cc2",
   "metadata": {},
   "outputs": [
    {
     "data": {
      "text/plain": [
       "Index(['country', 'continent', 'year', 'lifeExp', 'pop', 'gdpPercap',\n",
       "       'iso_alpha', 'iso_num'],\n",
       "      dtype='object')"
      ]
     },
     "execution_count": 5,
     "metadata": {},
     "output_type": "execute_result"
    }
   ],
   "source": [
    "df.columns"
   ]
  },
  {
   "cell_type": "markdown",
   "id": "18e84b43",
   "metadata": {},
   "source": [
    "# Animation plots:"
   ]
  },
  {
   "cell_type": "code",
   "execution_count": 6,
   "id": "a60ae18c",
   "metadata": {},
   "outputs": [
    {
     "data": {
      "application/vnd.plotly.v1+json": {
       "config": {
        "plotlyServerURL": "https://plot.ly"
       },
       "data": [
        {
         "hovertemplate": "continent=Asia<br>year=1952<br>gdpPercap=%{x}<br>lifeExp=%{y}<br>pop=%{marker.size}<extra></extra>",
         "ids": [
          "Afghanistan",
          "Bahrain",
          "Bangladesh",
          "Cambodia",
          "China",
          "Hong Kong, China",
          "India",
          "Indonesia",
          "Iran",
          "Iraq",
          "Israel",
          "Japan",
          "Jordan",
          "Korea, Dem. Rep.",
          "Korea, Rep.",
          "Kuwait",
          "Lebanon",
          "Malaysia",
          "Mongolia",
          "Myanmar",
          "Nepal",
          "Oman",
          "Pakistan",
          "Philippines",
          "Saudi Arabia",
          "Singapore",
          "Sri Lanka",
          "Syria",
          "Taiwan",
          "Thailand",
          "Vietnam",
          "West Bank and Gaza",
          "Yemen, Rep."
         ],
         "legendgroup": "Asia",
         "marker": {
          "color": "#636efa",
          "size": {
           "bdata": "dY+AAH/WAQDLb8sCTJ9HAGfoJyFMcCAAAEUsFqAD5ATAjAcB5ghTALK7GACRQicFqkYJANBGhwBzoj8BAHECACn3FQDa+GYAlzcMAESYMgFIHYwAub8HAADmdgIjY1YBLR89AFgyEQAGzXkA7d43ANp3ggC62UQBt36QAbm5DwD1vUsA",
           "dtype": "i4"
          },
          "sizemode": "area",
          "sizeref": 435928.2961983471,
          "symbol": "circle"
         },
         "mode": "markers",
         "name": "Asia",
         "orientation": "v",
         "showlegend": true,
         "type": "scatter",
         "x": {
          "bdata": "em8MAZBbiEBsW5TZikXDQOVkPRD0YYVAvQeeMYIHd0AEWrqCLQd5QJC/tKjX3KdA4amRp4YUgUBYsVMHdG2HQNzwu+mmtqdA6Po+HMQhsECneFxUC+2vQEFhUKbpIalAUoAomKErmEDP2JdsHAGRQF0XfnBeGpBAbHh6peV1+kDLvFXXzeKyQFdfXRWInJxA8L+V7IiUiEAAAAAAALB0QC63IADtDoFAKSSZ1euQnEARIFTzxmSFQMKjjSOG45NAElDhCI47uUDZeLDFRhaiQPfpeMwg7pBA7pOjAPGtmUDQmbSpytuSQAP2hxxhrodApefMLIjogkDiTX6LXq6XQCHPiZi9bYhA",
          "dtype": "f8"
         },
         "xaxis": "x",
         "y": {
          "bdata": "kxgEVg7NPEDUeOkmMXhJQMuhRbbzvUJATDeJQWC1Q0AAAAAAAABGQHsUrkfhek5AO7TIdr6vQkCWQ4ts57tCQKwcWmQ7b0ZAKVyPwvWoRkApXI/C9VhQQKRwPQrXg09ATmIQWDmURUC6SQwCKwdJQESLbOf7uUdAuB6F61HIS0AQWDm0yPZLQCUGgZVDO0hArBxaZDsfRUBGtvP91ChCQGq8dJMYFEJARIts5/vJQkAshxbZzrdFQMdLN4lB4EdAAAAAAADwQ0Cmm8QgsDJOQJZDi2zny0xAGy/dJAbxRkAAAAAAAEBNQAaBlUOLbElA2/l+arw0REAUrkfhepRFQKAaL90kRkBA",
          "dtype": "f8"
         },
         "yaxis": "y"
        },
        {
         "hovertemplate": "continent=Europe<br>year=1952<br>gdpPercap=%{x}<br>lifeExp=%{y}<br>pop=%{marker.size}<extra></extra>",
         "ids": [
          "Albania",
          "Austria",
          "Belgium",
          "Bosnia and Herzegovina",
          "Bulgaria",
          "Croatia",
          "Czech Republic",
          "Denmark",
          "Finland",
          "France",
          "Germany",
          "Greece",
          "Hungary",
          "Iceland",
          "Ireland",
          "Italy",
          "Montenegro",
          "Netherlands",
          "Norway",
          "Poland",
          "Portugal",
          "Romania",
          "Serbia",
          "Slovak Republic",
          "Slovenia",
          "Spain",
          "Sweden",
          "Switzerland",
          "Turkey",
          "United Kingdom"
         ],
         "legendgroup": "Europe",
         "marker": {
          "color": "#EF553B",
          "size": {
           "bdata": "iZITAJy1aQAlN4UAWJYqAJQBbwD1PDsAPz2LALAhQgCEaj4AE+KHAmAVHwQCAHYAAAWRAPpBAgDcCy0AUFPXAopQBgCkap4A8MYyAPediAHiGIIA8MD9AHOtaAD5SjYAbroWAO6iswHBtmwAmHhJAB1KUwEwgAED",
           "dtype": "i4"
          },
          "sizemode": "area",
          "sizeref": 435928.2961983471,
          "symbol": "circle"
         },
         "mode": "markers",
         "name": "Europe",
         "orientation": "v",
         "showlegend": true,
         "type": "scatter",
         "x": {
          "bdata": "gzC3ezkEmUBozvqUE/m3QHYxzXSNS8BALqOi+0NsjkDt0obDkhijQLNBJhl5XqhARIts5yPcukD5SbVPMe7CQE1J1uGEGLlAxeQNMM91u0DmEdxIHei7QBk6dlBhlatAhpM0f6yPtECnQdE8sGO8QCdok8NHWrRAgruzdmdDs0AD7+TTK6+kQPqXpDLJdsFACcTr+rW3w0AMrU7OqHqvQCSAm8Wj+KdAu/CD8zmRqEBtrMQ86/qrQKosCruo0rNA58WJrwp3sECYE7TJEfStQBdp4h3sp8BAEoPAyh3HzEAzFk1nZ8SeQLgdGhbBfcNA",
          "dtype": "f8"
         },
         "xaxis": "x",
         "y": {
          "bdata": "PQrXo3CdS0AzMzMzM7NQQAAAAAAAAFFAKVyPwvXoSkDNzMzMzMxNQHsUrkfhmk5ASOF6FK63UEBSuB6F67FRQDMzMzMzo1BACtejcD3aUEAAAAAAAOBQQNejcD0Kd1BAUrgehesBUECPwvUoXB9SQArXo3A9ulBAXI/C9Sh8UECiRbbz/ZRNQLgehetRCFJAexSuR+EqUkBI4XoUrqdOQClcj8L16E1AZmZmZmaGTkBzaJHtfP9MQNejcD0KF1BAFK5H4XpkUEBcj8L1KDxQQNejcD0K91FASOF6FK5nUUB7FK5H4cpFQOxRuB6FS1FA",
          "dtype": "f8"
         },
         "yaxis": "y"
        },
        {
         "hovertemplate": "continent=Africa<br>year=1952<br>gdpPercap=%{x}<br>lifeExp=%{y}<br>pop=%{marker.size}<extra></extra>",
         "ids": [
          "Algeria",
          "Angola",
          "Benin",
          "Botswana",
          "Burkina Faso",
          "Burundi",
          "Cameroon",
          "Central African Republic",
          "Chad",
          "Comoros",
          "Congo, Dem. Rep.",
          "Congo, Rep.",
          "Cote d'Ivoire",
          "Djibouti",
          "Egypt",
          "Equatorial Guinea",
          "Eritrea",
          "Ethiopia",
          "Gabon",
          "Gambia",
          "Ghana",
          "Guinea",
          "Guinea-Bissau",
          "Kenya",
          "Lesotho",
          "Liberia",
          "Libya",
          "Madagascar",
          "Malawi",
          "Mali",
          "Mauritania",
          "Mauritius",
          "Morocco",
          "Mozambique",
          "Namibia",
          "Niger",
          "Nigeria",
          "Reunion",
          "Rwanda",
          "Sao Tome and Principe",
          "Senegal",
          "Sierra Leone",
          "Somalia",
          "South Africa",
          "Sudan",
          "Swaziland",
          "Tanzania",
          "Togo",
          "Tunisia",
          "Uganda",
          "Zambia",
          "Zimbabwe"
         ],
         "legendgroup": "Africa",
         "marker": {
          "color": "#00cc96",
          "size": {
           "bdata": "JZiNAJ+TQABLhhoAxL8GANs0RAAyUSUAq25MAK+1EwBe7igAUFkCACUm1wBlCw0A+2wtAK32AADNGVMBhE8DACj0FQANUD4BXmsGAKBWBADJKFUAOacoAC3cCAAuomIAy2wLAEwsDQBRjw8AIK1IAKqFLADYkDoAXJoPAMzhBwARqZcA7FxiAMdpBwAMkTMAeFv5AaTuAwAPriYAa+oAAAUMKgARtCAAEo8mAGeq2QBbxYEAw20EAG3/fgApmhIA96g3AB3hWACAxSgAywIvAA==",
           "dtype": "i4"
          },
          "sizemode": "area",
          "sizeref": 435928.2961983471,
          "symbol": "circle"
         },
         "mode": "markers",
         "name": "Africa",
         "orientation": "v",
         "showlegend": true,
         "type": "scatter",
         "x": {
          "bdata": "owbTMAQio0BD4bN1OIGrQDSAt0ACm5BA4OEs2+2ZikC1YPO7CvqAQNZReku+NHVAC5jAratSkkDFdYwrPr2QQBh6xOipapJAt0Htt/Y7kUA+StuuVmSIQEsGgCo+m6BAiudsAWGylUAZ4lgXD9ukQAmnBS9KK5ZA1pxyO0p6d0BWCJqFDI90QCchRylXonZAXf5D+nnFsEBmsJjHsFN+QH1gIjlkeoxAqSYc1STjf0Cughjomr1yQEY2V81TrIpArO+yFYqtckDksfp+lfyBQH4AUpsYp6JAflcE/wuMlkB5wyIrpBJ3QCLe30VkRXxAUJYQYu04h0A8Ftuk0r+eQMlxp3TQYJpAMz/tpmpIfUDJkjmWj++iQBnHSPYIz4dAuvjbniDVkECg4GJFxT2lQMT/wpcu1X5AXOffLqt8i0DpmPOMbamWQBtXbUhNfotAq8yU1v++kUD2a+unS3WyQHhEher2P5lASwM/qoHxkUBWTABZM2WGQIgBASF43opA2xfQC+fxlkB5kJ4iB/aGQK+ytimO7ZFAjn6PVSVueUA=",
          "dtype": "f8"
         },
         "xaxis": "x",
         "y": {
          "bdata": "YOXQItuJRUCkcD0K1wM+QAaBlUOLHENAVg4tsp3PR0CamZmZmfk/QIcW2c73g0NAbef7qfFCQ0AlBoGVQ7tBQLKd76fGC0NA7FG4HoVbRED8qfHSTZJDQJHtfD81DkVAkxgEVg49REAOLbKd72dBQPyp8dJN8kRABFYOLbI9QUASWDm0yPZBQESLbOf7CUFAqvHSTWKAQkAAAAAAAAA+QFCNl24Sk0VAy6FFtvPNQEAAAAAAAEBAQMP1KFyPIkVAjWzn+6kRRUA9CtejcD1DQAaBlUOLXEVAukkMAitXQkBU46WbxCBCQEjhehSu10BAL90kBoFFRECR7Xw/NX5JQDu0yHa+b0VA8KfGSzdJP0DNzMzMzNxEQEa28/3UuEJAtvP91HgpQkDpJjEIrFxKQAAAAAAAAERAPzVeukk8R0DdJAaBlaNCQNv5fmq8VD5Ad76fGi99QED91HjpJoFGQOF6FK5HUUNAarx0kxi0REDsUbgehZtEQD81XrpJTENAzczMzMxMRkB3vp8aL/1DQL6fGi/dBEVAfT81Xro5SEA=",
          "dtype": "f8"
         },
         "yaxis": "y"
        },
        {
         "hovertemplate": "continent=Americas<br>year=1952<br>gdpPercap=%{x}<br>lifeExp=%{y}<br>pop=%{marker.size}<extra></extra>",
         "ids": [
          "Argentina",
          "Bolivia",
          "Brazil",
          "Canada",
          "Chile",
          "Colombia",
          "Costa Rica",
          "Cuba",
          "Dominican Republic",
          "Ecuador",
          "El Salvador",
          "Guatemala",
          "Haiti",
          "Honduras",
          "Jamaica",
          "Mexico",
          "Nicaragua",
          "Panama",
          "Paraguay",
          "Peru",
          "Puerto Rico",
          "Trinidad and Tobago",
          "United States",
          "Uruguay",
          "Venezuela"
         ],
         "legendgroup": "Americas",
         "marker": {
          "color": "#ab63fa",
          "size": {
           "bdata": "3McQAfP+KwDAr18DMJzhAJNQYQAzdbwAbSIOAPWrWwDSAyYAUSY2APErHwCNAjAA0NkwAI0nFwCvwhUAPffLAd7JEQAwWA4ApL0XAGR2egA4+yEAQh0KAGgRZAmlYCIAUABTAA==",
           "dtype": "i4"
          },
          "sizemode": "area",
          "sizeref": 435928.2961983471,
          "symbol": "circle"
         },
         "mode": "markers",
         "name": "Americas",
         "orientation": "v",
         "showlegend": true,
         "type": "scatter",
         "x": {
          "bdata": "gjtQp1AXt0BMOPQWp+qkQKGhf4LjeaBAXoWUn5QzxkBe8dQj9ceuQM3n3O06wKBAhwZi2QSGpEC9b3ztidK1QAJnKVne1pVAOQzmrziEq0Drc7UVm9CnQAO+27x5+KJAgnLbvnfBnEDZImk32iWhQCNqos8PpaZAZktWRUAsq0DkamRXulCoQB1XI7vCYKNA+GwdHDyBnkAIOe//C12tQGKE8GjrE6hAvJUlOouep0AIJcy0PVPLQGe0VUnEVLZAngsjvcwJvkA=",
          "dtype": "f8"
         },
         "xaxis": "x",
         "y": {
          "bdata": "rkfhehQ+T0CiRbbz/TREQEw3iUFgdUlAAAAAAAAwUUCPwvUoXF9LQPyp8dJNUklA7nw/NV6aTEDazvdT47VNQBBYObTI9kZABFYOLbItSECoxks3iaFGQG3n+6nxAkVAJzEIrBzKQkDb+X5qvPREQKRwPQrXQ01AokW28/1kSUDUeOkmMShFQJzEILBymEtAUI2XbhJTT0D6fmq8dPNFQFK4HoXrEVBAzczMzMyMTUBcj8L1KBxRQAaBlUOLhFBAJQaBlUOLS0A=",
          "dtype": "f8"
         },
         "yaxis": "y"
        },
        {
         "hovertemplate": "continent=Oceania<br>year=1952<br>gdpPercap=%{x}<br>lifeExp=%{y}<br>pop=%{marker.size}<extra></extra>",
         "ids": [
          "Australia",
          "New Zealand"
         ],
         "legendgroup": "Oceania",
         "marker": {
          "color": "#FFA15A",
          "size": {
           "bdata": "DJ6EACpwHgA=",
           "dtype": "i4"
          },
          "sizemode": "area",
          "sizeref": 435928.2961983471,
          "symbol": "circle"
         },
         "mode": "markers",
         "name": "Oceania",
         "orientation": "v",
         "showlegend": true,
         "type": "scatter",
         "x": {
          "bdata": "GHjuPcybw0DPFDqvSZ7EQA==",
          "dtype": "f8"
         },
         "xaxis": "x",
         "y": {
          "bdata": "SOF6FK5HUUApXI/C9VhRQA==",
          "dtype": "f8"
         },
         "yaxis": "y"
        }
       ],
       "frames": [
        {
         "data": [
          {
           "hovertemplate": "continent=Asia<br>year=1952<br>gdpPercap=%{x}<br>lifeExp=%{y}<br>pop=%{marker.size}<extra></extra>",
           "ids": [
            "Afghanistan",
            "Bahrain",
            "Bangladesh",
            "Cambodia",
            "China",
            "Hong Kong, China",
            "India",
            "Indonesia",
            "Iran",
            "Iraq",
            "Israel",
            "Japan",
            "Jordan",
            "Korea, Dem. Rep.",
            "Korea, Rep.",
            "Kuwait",
            "Lebanon",
            "Malaysia",
            "Mongolia",
            "Myanmar",
            "Nepal",
            "Oman",
            "Pakistan",
            "Philippines",
            "Saudi Arabia",
            "Singapore",
            "Sri Lanka",
            "Syria",
            "Taiwan",
            "Thailand",
            "Vietnam",
            "West Bank and Gaza",
            "Yemen, Rep."
           ],
           "legendgroup": "Asia",
           "marker": {
            "color": "#636efa",
            "size": {
             "bdata": "dY+AAH/WAQDLb8sCTJ9HAGfoJyFMcCAAAEUsFqAD5ATAjAcB5ghTALK7GACRQicFqkYJANBGhwBzoj8BAHECACn3FQDa+GYAlzcMAESYMgFIHYwAub8HAADmdgIjY1YBLR89AFgyEQAGzXkA7d43ANp3ggC62UQBt36QAbm5DwD1vUsA",
             "dtype": "i4"
            },
            "sizemode": "area",
            "sizeref": 435928.2961983471,
            "symbol": "circle"
           },
           "mode": "markers",
           "name": "Asia",
           "orientation": "v",
           "showlegend": true,
           "type": "scatter",
           "x": {
            "bdata": "em8MAZBbiEBsW5TZikXDQOVkPRD0YYVAvQeeMYIHd0AEWrqCLQd5QJC/tKjX3KdA4amRp4YUgUBYsVMHdG2HQNzwu+mmtqdA6Po+HMQhsECneFxUC+2vQEFhUKbpIalAUoAomKErmEDP2JdsHAGRQF0XfnBeGpBAbHh6peV1+kDLvFXXzeKyQFdfXRWInJxA8L+V7IiUiEAAAAAAALB0QC63IADtDoFAKSSZ1euQnEARIFTzxmSFQMKjjSOG45NAElDhCI47uUDZeLDFRhaiQPfpeMwg7pBA7pOjAPGtmUDQmbSpytuSQAP2hxxhrodApefMLIjogkDiTX6LXq6XQCHPiZi9bYhA",
            "dtype": "f8"
           },
           "xaxis": "x",
           "y": {
            "bdata": "kxgEVg7NPEDUeOkmMXhJQMuhRbbzvUJATDeJQWC1Q0AAAAAAAABGQHsUrkfhek5AO7TIdr6vQkCWQ4ts57tCQKwcWmQ7b0ZAKVyPwvWoRkApXI/C9VhQQKRwPQrXg09ATmIQWDmURUC6SQwCKwdJQESLbOf7uUdAuB6F61HIS0AQWDm0yPZLQCUGgZVDO0hArBxaZDsfRUBGtvP91ChCQGq8dJMYFEJARIts5/vJQkAshxbZzrdFQMdLN4lB4EdAAAAAAADwQ0Cmm8QgsDJOQJZDi2zny0xAGy/dJAbxRkAAAAAAAEBNQAaBlUOLbElA2/l+arw0REAUrkfhepRFQKAaL90kRkBA",
            "dtype": "f8"
           },
           "yaxis": "y"
          },
          {
           "hovertemplate": "continent=Europe<br>year=1952<br>gdpPercap=%{x}<br>lifeExp=%{y}<br>pop=%{marker.size}<extra></extra>",
           "ids": [
            "Albania",
            "Austria",
            "Belgium",
            "Bosnia and Herzegovina",
            "Bulgaria",
            "Croatia",
            "Czech Republic",
            "Denmark",
            "Finland",
            "France",
            "Germany",
            "Greece",
            "Hungary",
            "Iceland",
            "Ireland",
            "Italy",
            "Montenegro",
            "Netherlands",
            "Norway",
            "Poland",
            "Portugal",
            "Romania",
            "Serbia",
            "Slovak Republic",
            "Slovenia",
            "Spain",
            "Sweden",
            "Switzerland",
            "Turkey",
            "United Kingdom"
           ],
           "legendgroup": "Europe",
           "marker": {
            "color": "#EF553B",
            "size": {
             "bdata": "iZITAJy1aQAlN4UAWJYqAJQBbwD1PDsAPz2LALAhQgCEaj4AE+KHAmAVHwQCAHYAAAWRAPpBAgDcCy0AUFPXAopQBgCkap4A8MYyAPediAHiGIIA8MD9AHOtaAD5SjYAbroWAO6iswHBtmwAmHhJAB1KUwEwgAED",
             "dtype": "i4"
            },
            "sizemode": "area",
            "sizeref": 435928.2961983471,
            "symbol": "circle"
           },
           "mode": "markers",
           "name": "Europe",
           "orientation": "v",
           "showlegend": true,
           "type": "scatter",
           "x": {
            "bdata": "gzC3ezkEmUBozvqUE/m3QHYxzXSNS8BALqOi+0NsjkDt0obDkhijQLNBJhl5XqhARIts5yPcukD5SbVPMe7CQE1J1uGEGLlAxeQNMM91u0DmEdxIHei7QBk6dlBhlatAhpM0f6yPtECnQdE8sGO8QCdok8NHWrRAgruzdmdDs0AD7+TTK6+kQPqXpDLJdsFACcTr+rW3w0AMrU7OqHqvQCSAm8Wj+KdAu/CD8zmRqEBtrMQ86/qrQKosCruo0rNA58WJrwp3sECYE7TJEfStQBdp4h3sp8BAEoPAyh3HzEAzFk1nZ8SeQLgdGhbBfcNA",
            "dtype": "f8"
           },
           "xaxis": "x",
           "y": {
            "bdata": "PQrXo3CdS0AzMzMzM7NQQAAAAAAAAFFAKVyPwvXoSkDNzMzMzMxNQHsUrkfhmk5ASOF6FK63UEBSuB6F67FRQDMzMzMzo1BACtejcD3aUEAAAAAAAOBQQNejcD0Kd1BAUrgehesBUECPwvUoXB9SQArXo3A9ulBAXI/C9Sh8UECiRbbz/ZRNQLgehetRCFJAexSuR+EqUkBI4XoUrqdOQClcj8L16E1AZmZmZmaGTkBzaJHtfP9MQNejcD0KF1BAFK5H4XpkUEBcj8L1KDxQQNejcD0K91FASOF6FK5nUUB7FK5H4cpFQOxRuB6FS1FA",
            "dtype": "f8"
           },
           "yaxis": "y"
          },
          {
           "hovertemplate": "continent=Africa<br>year=1952<br>gdpPercap=%{x}<br>lifeExp=%{y}<br>pop=%{marker.size}<extra></extra>",
           "ids": [
            "Algeria",
            "Angola",
            "Benin",
            "Botswana",
            "Burkina Faso",
            "Burundi",
            "Cameroon",
            "Central African Republic",
            "Chad",
            "Comoros",
            "Congo, Dem. Rep.",
            "Congo, Rep.",
            "Cote d'Ivoire",
            "Djibouti",
            "Egypt",
            "Equatorial Guinea",
            "Eritrea",
            "Ethiopia",
            "Gabon",
            "Gambia",
            "Ghana",
            "Guinea",
            "Guinea-Bissau",
            "Kenya",
            "Lesotho",
            "Liberia",
            "Libya",
            "Madagascar",
            "Malawi",
            "Mali",
            "Mauritania",
            "Mauritius",
            "Morocco",
            "Mozambique",
            "Namibia",
            "Niger",
            "Nigeria",
            "Reunion",
            "Rwanda",
            "Sao Tome and Principe",
            "Senegal",
            "Sierra Leone",
            "Somalia",
            "South Africa",
            "Sudan",
            "Swaziland",
            "Tanzania",
            "Togo",
            "Tunisia",
            "Uganda",
            "Zambia",
            "Zimbabwe"
           ],
           "legendgroup": "Africa",
           "marker": {
            "color": "#00cc96",
            "size": {
             "bdata": "JZiNAJ+TQABLhhoAxL8GANs0RAAyUSUAq25MAK+1EwBe7igAUFkCACUm1wBlCw0A+2wtAK32AADNGVMBhE8DACj0FQANUD4BXmsGAKBWBADJKFUAOacoAC3cCAAuomIAy2wLAEwsDQBRjw8AIK1IAKqFLADYkDoAXJoPAMzhBwARqZcA7FxiAMdpBwAMkTMAeFv5AaTuAwAPriYAa+oAAAUMKgARtCAAEo8mAGeq2QBbxYEAw20EAG3/fgApmhIA96g3AB3hWACAxSgAywIvAA==",
             "dtype": "i4"
            },
            "sizemode": "area",
            "sizeref": 435928.2961983471,
            "symbol": "circle"
           },
           "mode": "markers",
           "name": "Africa",
           "orientation": "v",
           "showlegend": true,
           "type": "scatter",
           "x": {
            "bdata": "owbTMAQio0BD4bN1OIGrQDSAt0ACm5BA4OEs2+2ZikC1YPO7CvqAQNZReku+NHVAC5jAratSkkDFdYwrPr2QQBh6xOipapJAt0Htt/Y7kUA+StuuVmSIQEsGgCo+m6BAiudsAWGylUAZ4lgXD9ukQAmnBS9KK5ZA1pxyO0p6d0BWCJqFDI90QCchRylXonZAXf5D+nnFsEBmsJjHsFN+QH1gIjlkeoxAqSYc1STjf0Cughjomr1yQEY2V81TrIpArO+yFYqtckDksfp+lfyBQH4AUpsYp6JAflcE/wuMlkB5wyIrpBJ3QCLe30VkRXxAUJYQYu04h0A8Ftuk0r+eQMlxp3TQYJpAMz/tpmpIfUDJkjmWj++iQBnHSPYIz4dAuvjbniDVkECg4GJFxT2lQMT/wpcu1X5AXOffLqt8i0DpmPOMbamWQBtXbUhNfotAq8yU1v++kUD2a+unS3WyQHhEher2P5lASwM/qoHxkUBWTABZM2WGQIgBASF43opA2xfQC+fxlkB5kJ4iB/aGQK+ytimO7ZFAjn6PVSVueUA=",
            "dtype": "f8"
           },
           "xaxis": "x",
           "y": {
            "bdata": "YOXQItuJRUCkcD0K1wM+QAaBlUOLHENAVg4tsp3PR0CamZmZmfk/QIcW2c73g0NAbef7qfFCQ0AlBoGVQ7tBQLKd76fGC0NA7FG4HoVbRED8qfHSTZJDQJHtfD81DkVAkxgEVg49REAOLbKd72dBQPyp8dJN8kRABFYOLbI9QUASWDm0yPZBQESLbOf7CUFAqvHSTWKAQkAAAAAAAAA+QFCNl24Sk0VAy6FFtvPNQEAAAAAAAEBAQMP1KFyPIkVAjWzn+6kRRUA9CtejcD1DQAaBlUOLXEVAukkMAitXQkBU46WbxCBCQEjhehSu10BAL90kBoFFRECR7Xw/NX5JQDu0yHa+b0VA8KfGSzdJP0DNzMzMzNxEQEa28/3UuEJAtvP91HgpQkDpJjEIrFxKQAAAAAAAAERAPzVeukk8R0DdJAaBlaNCQNv5fmq8VD5Ad76fGi99QED91HjpJoFGQOF6FK5HUUNAarx0kxi0REDsUbgehZtEQD81XrpJTENAzczMzMxMRkB3vp8aL/1DQL6fGi/dBEVAfT81Xro5SEA=",
            "dtype": "f8"
           },
           "yaxis": "y"
          },
          {
           "hovertemplate": "continent=Americas<br>year=1952<br>gdpPercap=%{x}<br>lifeExp=%{y}<br>pop=%{marker.size}<extra></extra>",
           "ids": [
            "Argentina",
            "Bolivia",
            "Brazil",
            "Canada",
            "Chile",
            "Colombia",
            "Costa Rica",
            "Cuba",
            "Dominican Republic",
            "Ecuador",
            "El Salvador",
            "Guatemala",
            "Haiti",
            "Honduras",
            "Jamaica",
            "Mexico",
            "Nicaragua",
            "Panama",
            "Paraguay",
            "Peru",
            "Puerto Rico",
            "Trinidad and Tobago",
            "United States",
            "Uruguay",
            "Venezuela"
           ],
           "legendgroup": "Americas",
           "marker": {
            "color": "#ab63fa",
            "size": {
             "bdata": "3McQAfP+KwDAr18DMJzhAJNQYQAzdbwAbSIOAPWrWwDSAyYAUSY2APErHwCNAjAA0NkwAI0nFwCvwhUAPffLAd7JEQAwWA4ApL0XAGR2egA4+yEAQh0KAGgRZAmlYCIAUABTAA==",
             "dtype": "i4"
            },
            "sizemode": "area",
            "sizeref": 435928.2961983471,
            "symbol": "circle"
           },
           "mode": "markers",
           "name": "Americas",
           "orientation": "v",
           "showlegend": true,
           "type": "scatter",
           "x": {
            "bdata": "gjtQp1AXt0BMOPQWp+qkQKGhf4LjeaBAXoWUn5QzxkBe8dQj9ceuQM3n3O06wKBAhwZi2QSGpEC9b3ztidK1QAJnKVne1pVAOQzmrziEq0Drc7UVm9CnQAO+27x5+KJAgnLbvnfBnEDZImk32iWhQCNqos8PpaZAZktWRUAsq0DkamRXulCoQB1XI7vCYKNA+GwdHDyBnkAIOe//C12tQGKE8GjrE6hAvJUlOouep0AIJcy0PVPLQGe0VUnEVLZAngsjvcwJvkA=",
            "dtype": "f8"
           },
           "xaxis": "x",
           "y": {
            "bdata": "rkfhehQ+T0CiRbbz/TREQEw3iUFgdUlAAAAAAAAwUUCPwvUoXF9LQPyp8dJNUklA7nw/NV6aTEDazvdT47VNQBBYObTI9kZABFYOLbItSECoxks3iaFGQG3n+6nxAkVAJzEIrBzKQkDb+X5qvPREQKRwPQrXQ01AokW28/1kSUDUeOkmMShFQJzEILBymEtAUI2XbhJTT0D6fmq8dPNFQFK4HoXrEVBAzczMzMyMTUBcj8L1KBxRQAaBlUOLhFBAJQaBlUOLS0A=",
            "dtype": "f8"
           },
           "yaxis": "y"
          },
          {
           "hovertemplate": "continent=Oceania<br>year=1952<br>gdpPercap=%{x}<br>lifeExp=%{y}<br>pop=%{marker.size}<extra></extra>",
           "ids": [
            "Australia",
            "New Zealand"
           ],
           "legendgroup": "Oceania",
           "marker": {
            "color": "#FFA15A",
            "size": {
             "bdata": "DJ6EACpwHgA=",
             "dtype": "i4"
            },
            "sizemode": "area",
            "sizeref": 435928.2961983471,
            "symbol": "circle"
           },
           "mode": "markers",
           "name": "Oceania",
           "orientation": "v",
           "showlegend": true,
           "type": "scatter",
           "x": {
            "bdata": "GHjuPcybw0DPFDqvSZ7EQA==",
            "dtype": "f8"
           },
           "xaxis": "x",
           "y": {
            "bdata": "SOF6FK5HUUApXI/C9VhRQA==",
            "dtype": "f8"
           },
           "yaxis": "y"
          }
         ],
         "name": "1952"
        },
        {
         "data": [
          {
           "hovertemplate": "continent=Asia<br>year=1957<br>gdpPercap=%{x}<br>lifeExp=%{y}<br>pop=%{marker.size}<extra></extra>",
           "ids": [
            "Afghanistan",
            "Bahrain",
            "Bangladesh",
            "Cambodia",
            "China",
            "Hong Kong, China",
            "India",
            "Indonesia",
            "Iran",
            "Iraq",
            "Israel",
            "Japan",
            "Jordan",
            "Korea, Dem. Rep.",
            "Korea, Rep.",
            "Kuwait",
            "Lebanon",
            "Malaysia",
            "Mongolia",
            "Myanmar",
            "Nepal",
            "Oman",
            "Pakistan",
            "Philippines",
            "Saudi Arabia",
            "Singapore",
            "Sri Lanka",
            "Syria",
            "Taiwan",
            "Thailand",
            "Vietnam",
            "West Bank and Gaza",
            "Yemen, Rep."
           ],
           "legendgroup": "Asia",
           "marker": {
            "color": "#636efa",
            "size": {
             "bdata": "ZgGNAJ8dAgBcxg8DKDdRAAAT/iWswCkAQNhgGOAuXwWAAC4Bw1hfAFGrHQABJHUFP2QLADWbjwBgBlkBbj8DADQjGQBjF3YA1nUNAASaSwGivZMAOZMIAIhHyAKC1I0BQnBDACkQFgBiSosAlFI/APcXmwD9G34Bj3u6AWdVEADq5FMA",
             "dtype": "i4"
            },
            "sizemode": "area",
            "sizeref": 435928.2961983471,
            "symbol": "circle"
           },
           "mode": "markers",
           "name": "Asia",
           "orientation": "v",
           "showlegend": true,
           "type": "scatter",
           "x": {
            "bdata": "KdQuAdOmiUBlqmBU5rnGQKswbIMZrYRA8QOhBp0ge0D7VLpg5f+BQBo1XyUnWqxA3UPC935wgkBi8B/BM9eKQBaGyOmDtKlAMLlRZFVVuECKkpBIRwm1QH2W58Gx3bBAaHVyhlJ4nUD5FADjiYyYQN3PKchfPpdAGsBbIDK3+0AesoF0ycm3QGMEjZlESJxAamyvBU2FjEAAAAAAAOB1QFsTHKh9r4JAmMPuO36FoUAXclsRq1iHQEp/L4XHL5hA1WcHXJfdv0DRsBh1NTamQLZHb7gvwpBAHjLlQ3iKoEB9eQH2cY+XQM6RpouezIhAty3bmEgihUBDqiheRYycQHoKb8WkJolA",
            "dtype": "f8"
           },
           "xaxis": "x",
           "y": {
            "bdata": "okW28/1UPkDRItv5fupKQAaBlUOLrENAAyuHFtmuRED1Zz9SREZJQAAAAAAAMFBAHVpkO98fREAv3SQGgfVDQLpJDAIrl0dADi2yne83SED2KFyPwvVQQAAAAAAAYFBAEoPAyqHVRkDufD81XgpLQLpJDAIrV0pATmIQWDkETUA730+Nl75NQJMYBFYODUpAO7TIdr6fRkCkcD0K1/NEQCuHFtnO10JACtejcD0KRECe76fGS8dGQJhuEoPAqklAyXa+nxpvRUD0/dR46ZZPQO58PzVeuk5AMQisHFokSEAzMzMzMzNPQHE9Ctej0EpAqMZLN4lxRUDazvdT49VGQFyPwvUo/EBA",
            "dtype": "f8"
           },
           "yaxis": "y"
          },
          {
           "hovertemplate": "continent=Europe<br>year=1957<br>gdpPercap=%{x}<br>lifeExp=%{y}<br>pop=%{marker.size}<extra></extra>",
           "ids": [
            "Albania",
            "Austria",
            "Belgium",
            "Bosnia and Herzegovina",
            "Bulgaria",
            "Croatia",
            "Czech Republic",
            "Denmark",
            "Finland",
            "France",
            "Germany",
            "Greece",
            "Hungary",
            "Iceland",
            "Ireland",
            "Italy",
            "Montenegro",
            "Netherlands",
            "Norway",
            "Poland",
            "Portugal",
            "Romania",
            "Serbia",
            "Slovak Republic",
            "Slovenia",
            "Spain",
            "Sweden",
            "Switzerland",
            "Turkey",
            "United Kingdom"
           ],
           "legendgroup": "Europe",
           "marker": {
            "color": "#EF553B",
            "size": {
             "bdata": "mYcWAGRKagC3KYkAoO8uALa/dADK5jwAHiuRAJd6RACg+kEATyGkAj2qOwTaiXsAmCGWAPaEAgAM6ysAMHXuAs3BBgDPP6gAYkg1AFLWrgHyi4YAzw0QAd/ybgC1qDoAjmQXAM5YxwHaXHAAcDdOABu1hwFwwhAD",
             "dtype": "i4"
            },
            "sizemode": "area",
            "sizeref": 435928.2961983471,
            "symbol": "circle"
           },
           "mode": "markers",
           "name": "Europe",
           "orientation": "v",
           "showlegend": true,
           "type": "scatter",
           "x": {
            "bdata": "VvDbECNZnkADPj+MTEXBQGXIsfV6+cJA9KeN6vQnlUAXg4dpV4GnQDNwQEs78rBAQUmBBSwgwEBPr5Rl1K3FQDelvFZqeb1AwArw3WrrwECfzarP6eXDQG6HhsVMNLNA7G0zFS6Yt0DptkQuAA7CQEZda+8T37VAlwLS/qdouEBEigEShcSsQN5UpMIYBsZA2iCTjPzCxkBEatrFQH6yQG+df7skfa1AU5Yhjr3OrkCA8KFEF3WzQIFDqFJDzbdAIHwo0UbmtkD8471qzdSxQECmtWnwW8NAeH+8V1990UCPN/ktglWhQCnLEMeWCcZA",
            "dtype": "f8"
           },
           "xaxis": "x",
           "y": {
            "bdata": "pHA9CtejTUAfhetRuN5QQI/C9ShcT1FAmpmZmZk5TUDXo3A9CqdQQOF6FK5HMVBAUrgehetBUUCkcD0K1/NRQI/C9Shc31BA7FG4HoU7UUBmZmZmZkZRQNejcD0K91BACtejcD2aUECuR+F6FF5SQJqZmZmZOVFApHA9CtfzUEDTTWIQWLlOQI/C9ShcP1JAXI/C9ShcUkDhehSuR3FQQOF6FK5HwU5AZmZmZmYGUEBI4XoUrtdOQM3MzMzM3FBAZmZmZmb2UEAK16NwPapQQI/C9ShcH1JApHA9CtejUUAmMQisHApIQHsUrkfhmlFA",
            "dtype": "f8"
           },
           "yaxis": "y"
          },
          {
           "hovertemplate": "continent=Africa<br>year=1957<br>gdpPercap=%{x}<br>lifeExp=%{y}<br>pop=%{marker.size}<extra></extra>",
           "ids": [
            "Algeria",
            "Angola",
            "Benin",
            "Botswana",
            "Burkina Faso",
            "Burundi",
            "Cameroon",
            "Central African Republic",
            "Chad",
            "Comoros",
            "Congo, Dem. Rep.",
            "Congo, Rep.",
            "Cote d'Ivoire",
            "Djibouti",
            "Egypt",
            "Equatorial Guinea",
            "Eritrea",
            "Ethiopia",
            "Gabon",
            "Gambia",
            "Ghana",
            "Guinea",
            "Guinea-Bissau",
            "Kenya",
            "Lesotho",
            "Liberia",
            "Libya",
            "Madagascar",
            "Malawi",
            "Mali",
            "Mauritania",
            "Mauritius",
            "Morocco",
            "Mozambique",
            "Namibia",
            "Niger",
            "Nigeria",
            "Reunion",
            "Rwanda",
            "Sao Tome and Principe",
            "Senegal",
            "Sierra Leone",
            "Somalia",
            "South Africa",
            "Sudan",
            "Swaziland",
            "Tanzania",
            "Togo",
            "Tunisia",
            "Uganda",
            "Zambia",
            "Zimbabwe"
           ],
           "legendgroup": "Africa",
           "marker": {
            "color": "#00cc96",
            "size": {
             "bdata": "iLicANGZRQA1YB0ADz4HAMjrRwD+sygAM8lRAJw+FQAHLCwAsJsCAEyz7QCqWQ4AoFoyAKsYAQBNnn0B2o0DANOJFwB+I1wB2KIGAE7uBAD4hWEANuUrAAcsCQA7wHEAGmkMAE7kDgCqVRIA7xBPAPYmMQDcuUAAdG4QABhOCQAODK4AU2RrAPBcCACYVjgAXDg3Aty1BADCDysAje8AANObLgB+ByMA/2wqAP1z9gAw05QAVfwEABo9kACFthQAAUk8AC3cZQBABS4AhKM3AA==",
             "dtype": "i4"
            },
            "sizemode": "area",
            "sizeref": 435928.2961983471,
            "symbol": "circle"
           },
           "mode": "markers",
           "name": "Africa",
           "orientation": "v",
           "showlegend": true,
           "type": "scatter",
           "x": {
            "bdata": "SmJJufOLp0AR5KCE4eetQBsOSwPP/I1AbvVBO9yxjEC7n2S8d0mDQHN+ebcIuXdA4j/dQDGElEBj7ISXYJuSQJl+iXj7cZRAi4f3HJjskkA6bGzA4U6MQL1TAfccFqJArfpcbZVzl0Cvvroq8GGmQMcrED2py5ZAHUk444qhekDwYqsVl4J1QPPj1HN3rndAX7adtjJws0C5WoLnaUeAQPgpjgM/TpBA2bW93SICgkCH3tG1pfx6QLhKZquBg41Ako32LvT/dECNZyuKwmeDQEuwOJyR8KpADi2ync/UmECgnR266gV6QHUXzW8dpn5AzHOOS/ZwikB6w33kJsifQEvpmV4CqJlARXtQq2P5fkBssdtn5XqkQCphpu0vHIpAScfVyF4ykUDKxRhY56KlQCRQDrBQ4oBAs7owLeXlikBe2JqtnH6YQMd/gSDgY49ABfhu85aok0CfrBiuGm+1QFM57SlZqZtAqFZfXdVyk0D+53rsSNSFQF+KYT1E74xAd2UXDO7MlUBu9CDz9zKIQLNfd7rTf5RAAveXOB02gEA=",
            "dtype": "f8"
           },
           "xaxis": "x",
           "y": {
            "bdata": "SOF6FK7XRkA5tMh2vv8/QOf7qfHSLURAyXa+nxrPSECHFtnO93NBQE5iEFg5RERAEFg5tMg2REAIrBxaZLtCQFTjpZvE8ENAexSuR+E6RUD6fmq8dFNEQBBYObTIhkZAeekmMQg8RUBEi2zn+6lCQEa28/3UOEZA6fup8dL9QUC8dJMYBAZDQEw3iUFgVUJAHVpkO99/Q0C4HoXrUQhAQMHKoUW2Y0ZAgZVDi2xHQUA830+Nl75AQCyHFtnOV0ZAvHSTGASGRkCR7Xw/Nb5DQKJFtvP9pEZAH4XrUbhuQ0DRItv5fppCQJzvp8ZLp0FAJQaBlUMrRUAIrBxaZAtNQKAaL90ktkZAwcqhRbbjQECxcmiR7ZxGQAaBlUOLTENALbKd76fmQkDsUbgehYtLQAAAAAAAwERAKVyPwvV4SEAnMQisHKpDQFK4HoXrkT9AkxgEVg59QUCuR+F6FP5HQB1aZDvfz0NAg8DKoUW2RUDpJjEIrHxFQLTIdr6fmkRAzczMzMyMR0AOAiuHFklFQGDl0CLbCUZAeekmMQg8SUA=",
            "dtype": "f8"
           },
           "yaxis": "y"
          },
          {
           "hovertemplate": "continent=Americas<br>year=1957<br>gdpPercap=%{x}<br>lifeExp=%{y}<br>pop=%{marker.size}<extra></extra>",
           "ids": [
            "Argentina",
            "Bolivia",
            "Brazil",
            "Canada",
            "Chile",
            "Colombia",
            "Costa Rica",
            "Cuba",
            "Dominican Republic",
            "Ecuador",
            "El Salvador",
            "Guatemala",
            "Haiti",
            "Honduras",
            "Jamaica",
            "Mexico",
            "Nicaragua",
            "Panama",
            "Paraguay",
            "Peru",
            "Puerto Rico",
            "Trinidad and Tobago",
            "United States",
            "Uruguay",
            "Venezuela"
           ],
           "legendgroup": "Americas",
           "marker": {
            "color": "#ab63fa",
            "size": {
             "bdata": "qjsrAdoBMQBDO+gD6o0DAeqMawDpCd0A7PgQAHBUZQCymiwAEe09AF3yIwAsjjcA9YU1AJYDGwBybBcAfEsWAuy7FABSOhAAlgUbAPSOiwAgfCIA5KsLAIBEQAp/ACUATEZmAA==",
             "dtype": "i4"
            },
            "sizemode": "area",
            "sizeref": 435928.2961983471,
            "symbol": "circle"
           },
           "mode": "markers",
           "name": "Americas",
           "orientation": "v",
           "showlegend": true,
           "type": "scatter",
           "x": {
            "bdata": "c6q1MNvIukDKGB9mX5+gQGQD6WK7bqNAnuqQm/lkyEB4R8Zqn9uwQI/iHHWcJ6JAdvnWhwVcp0DFmsqiLMy3QM6luKqcIZhAp86j4heJrUBbzTrjC7uqQIMY6NpPcqRA1GLwMI37mkCygXSx+VihQNxnlZmGlLJApyGq8IsjsEC9UwH31AKrQGhcOBCaI6dA++k/a574n0DyyvW2QZWwQP0tAfhPhq5AP8bctWQEsEBV2XdFkP/MQNLfS+HFBrhAXrwftzslw0A=",
            "dtype": "f8"
           },
           "xaxis": "x",
           "y": {
            "bdata": "qMZLN4kZUEBSuB6F6/FEQBSuR+F6pEpAPQrXo3B9UUC28/3UeAlMQMl2vp8aj0tAF9nO91MDTkCamZmZmSlPQESLbOf76UhAIbByaJGtSUApXI/C9UhIQBkEVg4tEkZADAIrhxZZRECF61G4HlVGQK5H4XoUTk9AuB6F61GYS0Ce76fGS7dGQH0/NV66mU1ADgIrhxaZT0CNbOf7qSFHQMP1KFyPIlFAZmZmZmbmTkCPwvUoXF9RQIlBYOXQwlBAarx0kxj0TEA=",
            "dtype": "f8"
           },
           "yaxis": "y"
          },
          {
           "hovertemplate": "continent=Oceania<br>year=1957<br>gdpPercap=%{x}<br>lifeExp=%{y}<br>pop=%{marker.size}<extra></extra>",
           "ids": [
            "Australia",
            "New Zealand"
           ],
           "legendgroup": "Oceania",
           "marker": {
            "color": "#FFA15A",
            "size": {
             "bdata": "uTOUAJ8EIgA=",
             "dtype": "i4"
            },
            "sizemode": "area",
            "sizeref": 435928.2961983471,
            "symbol": "circle"
           },
           "mode": "markers",
           "name": "Oceania",
           "orientation": "v",
           "showlegend": true,
           "type": "scatter",
           "x": {
            "bdata": "6N7DJdNixUC6g9iZsuvHQA==",
            "dtype": "f8"
           },
           "xaxis": "x",
           "y": {
            "bdata": "hetRuB6VUUBxPQrXo5BRQA==",
            "dtype": "f8"
           },
           "yaxis": "y"
          }
         ],
         "name": "1957"
        },
        {
         "data": [
          {
           "hovertemplate": "continent=Asia<br>year=1962<br>gdpPercap=%{x}<br>lifeExp=%{y}<br>pop=%{marker.size}<extra></extra>",
           "ids": [
            "Afghanistan",
            "Bahrain",
            "Bangladesh",
            "Cambodia",
            "China",
            "Hong Kong, China",
            "India",
            "Indonesia",
            "Iran",
            "Iraq",
            "Israel",
            "Japan",
            "Jordan",
            "Korea, Dem. Rep.",
            "Korea, Rep.",
            "Kuwait",
            "Lebanon",
            "Malaysia",
            "Mongolia",
            "Myanmar",
            "Nepal",
            "Oman",
            "Pakistan",
            "Philippines",
            "Saudi Arabia",
            "Singapore",
            "Sri Lanka",
            "Syria",
            "Taiwan",
            "Thailand",
            "Vietnam",
            "West Bank and Gaza",
            "Yemen, Rep."
           ],
           "legendgroup": "Asia",
           "marker": {
            "color": "#636efa",
            "size": {
             "bdata": "y6mcAFefAgB5TGMDI9RcABDYrifwbjIAgH0PGyAM5wWQB10BRHpuAPhCIwDNRrYFtz4OAHaWpgBTJJMBencFAIDKHACR5ocAaGoPAASiaAGZp50AxJUJAH9AKgMQus4BtWxLALi0GgCwBp8APcVJAFretQAlhr4BLLADAk5KEQCRYl0A",
             "dtype": "i4"
            },
            "sizemode": "area",
            "sizeref": 435928.2961983471,
            "symbol": "circle"
           },
           "mode": "markers",
           "name": "Asia",
           "orientation": "v",
           "showlegend": true,
           "type": "scatter",
           "x": {
            "bdata": "CWMLQc6oikDpmsk3o+jIQJcGj4C7coVAGiHyTJ4Of0B9tmnHyHp+QOleJ/WlVLJANxIN98aShEDddvxyUYqKQChk521UW7BAwM+4cN5KwEBky/J1ocG7QAd7E0OmsLlA/nxbsARYokBJ2o0+xlaZQKxY/KZgAZhAkNrEySFO90DH1jOEj1K2QCqLwi6K059AoUj3c2qBkEAAAAAAAEB4QOiUkcQsY4RATkS/tkbZpkDHr2nvvRqJQI6VmGc1xplAPzVeujW1xkC1p+SceLWsQBV0e0njyZBANLkYAxMioUATgeofhHucQDtSfeeXUY9AIFoarmQgiECN+bmh6S2hQMiemFD8zIlA",
            "dtype": "f8"
           },
           "xaxis": "x",
           "y": {
            "bdata": "rBxaZDv/P0CgGi/dJHZMQM/3U+Olm0RAhetRuB61RUDjwoGQLEBGQJqZmZmZ6VBAPQrXo3DNRUD8qfHSTUJFQJqZmZmZqUhA0SLb+X66SUApXI/C9VhRQB+F61G4LlFA5aWbxCAQSECJFtnO91NMQEw3iUFgpUtAXI/C9Sg8TkB56SYxCAxPQHWTGARW3ktA5aWbxCAgSEDn+6nx0o1GQPyp8dJNskNAhetRuB6VRUD2KFyPwtVHQDeJQWDlYEtAokW28/30RkBQjZduEnNQQH9qvHSTGE9A16NwPQonSUDNzMzMzExQQCyHFtnOB0xAWDm0yHauRkDHSzeJQRBIQNejcD0Kl0FA",
            "dtype": "f8"
           },
           "yaxis": "y"
          },
          {
           "hovertemplate": "continent=Europe<br>year=1962<br>gdpPercap=%{x}<br>lifeExp=%{y}<br>pop=%{marker.size}<extra></extra>",
           "ids": [
            "Albania",
            "Austria",
            "Belgium",
            "Bosnia and Herzegovina",
            "Bulgaria",
            "Croatia",
            "Czech Republic",
            "Denmark",
            "Finland",
            "France",
            "Germany",
            "Greece",
            "Hungary",
            "Iceland",
            "Ireland",
            "Italy",
            "Montenegro",
            "Netherlands",
            "Norway",
            "Poland",
            "Portugal",
            "Romania",
            "Serbia",
            "Slovak Republic",
            "Slovenia",
            "Spain",
            "Sweden",
            "Switzerland",
            "Turkey",
            "United Kingdom"
           ],
           "legendgroup": "Europe",
           "marker": {
            "color": "#EF553B",
            "size": {
             "bdata": "iV4aAAjLbABgqYwACBozAJJEegANND4AOsuSAPPnRgCziEQAIA7PAm0rZQTp6IAAmIyZACXHAgCwLisAQM4HA6A9BwD5I7QAh4Y3ABHLzgGYoYkAkQsdATw2dABIqEAAcicYAC1v2wF0YXMA0HRWABeKxgHgKy0D",
             "dtype": "i4"
            },
            "sizemode": "area",
            "sizeref": 435928.2961983471,
            "symbol": "circle"
           },
           "mode": "markers",
           "name": "Europe",
           "orientation": "v",
           "showlegend": true,
           "type": "scatter",
           "x": {
            "bdata": "CcOAJccRokBpHVVNXP/EQA+XHHead8VA2QdZFry2mkBQ4J18Vp6wQNo6ONjjZbVAsacd/m7Mw0B8fhghqIfKQPHxCdnrTcJAndfYJT6gxEB/h6JAOzPJQES94NMwgbdAlSnmIFx+vUAN/RNcFDfEQHH/kemY57lAlPsdisoZwEDbM0sCmCmyQP/PYb5s+8hAgv+tZDNFykDqknGMwNq0QE8Cm3P0d7JA88zLYf9+skAN424QoZG4QB3jiosbOb1AxXJLq03qvEDIQnQI2D22QLml1ZC4FMhAFvvL7sXz00AP1ZRkvSWiQI3ROqqWXshA",
            "dtype": "f8"
           },
           "xaxis": "x",
           "y": {
            "bdata": "FK5H4Xo0UEDD9Shcj2JRQAAAAAAAkFFA16NwPQr3TkBxPQrXo2BRQLgehetRyFBAmpmZmZl5UUBmZmZmZhZSQAAAAAAAMFFAcT0K16OgUUAzMzMzM5NRQHE9CtejYFFAPQrXo3D9UEDsUbgehWtSQMP1KFyPklFAj8L1KFxPUUB3vp8aL91PQB+F61G4TlJArkfhehReUkApXI/C9ehQQClcj8L1GFBAMzMzMzOzUEBEi2zn+yFQQIXrUbgelVFAmpmZmZlJUUBcj8L1KGxRQEjhehSuV1JAFK5H4XrUUUAGgZVDiwxKQHE9CtejsFFA",
            "dtype": "f8"
           },
           "yaxis": "y"
          },
          {
           "hovertemplate": "continent=Africa<br>year=1962<br>gdpPercap=%{x}<br>lifeExp=%{y}<br>pop=%{marker.size}<extra></extra>",
           "ids": [
            "Algeria",
            "Angola",
            "Benin",
            "Botswana",
            "Burkina Faso",
            "Burundi",
            "Cameroon",
            "Central African Republic",
            "Chad",
            "Comoros",
            "Congo, Dem. Rep.",
            "Congo, Rep.",
            "Cote d'Ivoire",
            "Djibouti",
            "Egypt",
            "Equatorial Guinea",
            "Eritrea",
            "Ethiopia",
            "Gabon",
            "Gambia",
            "Ghana",
            "Guinea",
            "Guinea-Bissau",
            "Kenya",
            "Lesotho",
            "Liberia",
            "Libya",
            "Madagascar",
            "Malawi",
            "Mali",
            "Mauritania",
            "Mauritius",
            "Morocco",
            "Mozambique",
            "Namibia",
            "Niger",
            "Nigeria",
            "Reunion",
            "Rwanda",
            "Sao Tome and Principe",
            "Senegal",
            "Sierra Leone",
            "Somalia",
            "South Africa",
            "Sudan",
            "Swaziland",
            "Tanzania",
            "Togo",
            "Tunisia",
            "Uganda",
            "Zambia",
            "Zimbabwe"
           ],
           "legendgroup": "Africa",
           "marker": {
            "color": "#00cc96",
            "size": {
             "bdata": "dNynAJ+jSQDX1SAA/NIHAFARSwD7MS0AYWdYABY/FwBREjAAyewCAGLSCgF0/Q8AWHo6ACpfAQD9460BhM0DADpuGQAcsH8B7fMGAAS1BQBwO3AAo+kvAGyUCQCdbIQA16ANANz6EABHABYAnAZXAEBeNwDEkUcAhX8RAFiyCgBcOscAkNl2AFB7CQDoMT4A9+d+AvR5BQDqji4AQf8AAGNXNAA3qCUA2f8uALEZGAF7pKoAVqUFAFbFpQAiURcAWGhBAF1SdQBIMzQA6EVBAA==",
             "dtype": "i4"
            },
            "sizemode": "area",
            "sizeref": 435928.2961983471,
            "symbol": "circle"
           },
           "mode": "markers",
           "name": "Africa",
           "orientation": "v",
           "showlegend": true,
           "type": "scatter",
           "x": {
            "bdata": "g2kYPqLto0BuT5DYRq2wQN2gURX+q41A2ZL6Vzu9jkAHn0GeGJSGQHjyRGtAM3ZAAHUDBW7elUACui9nRqSSQHwqpz1Ft5VA3SIw1pf6lUDQhZFehAKMQERN9PmQQaNA6WhVS3oDm0BJEK6A+pmnQA5N2elXdZpAVVmAW7w2gkAPV2L57s93QOPt93pNN3pAm6+Sj3XnuUD9SufDM72CQBxF1hoqmJJA8969SP1yhUAO2xZlRlCAQNlN3yG7B4xA7HTWXc+8eUA/V1uxj9GDQDKwjuMHZbpA0VeQZoytmUBY7rvYar56QLAErRvKAn9AKBB2ipV/kEDR86eNIsKjQHapEfppeZhA2w8dp31lgUBdxHdibsqoQGf8sf8gLo9ACPfKvLX7kUDH155ZcsuoQAz5VtrIq4JA0QSKWDS+kEA2V81z9NuZQNiR6juPcpFA1jVaDvRllUBWurvOuoi2QMfZdARgnp5AI9v5froAnUDjJx/MB5CGQEyOO6UjrpBASKeufDbxmUArkOqFLPqHQDLKMy/nspZAiMymbS16gEA=",
            "dtype": "f8"
           },
           "xaxis": "x",
           "y": {
            "bdata": "EFg5tMgmSEAAAAAAAABBQMl2vp8aT0VAw/UoXI/CSUDVeOkmMehCQPYoXI/CBUVA/Knx0k1SRUDNzMzMzLxDQM/3U+Ol20RAsp3vp8Y7RkBWDi2ynQ9FQEjhehSuN0hA16NwPQp3RkBkEFg5tNhDQOXQItv5fkdArkfhehS+QkBOYhBYORREQGQ730+NB0RAO99PjZc+RECmm8QgsPJAQGDl0CLbOUdAqvHSTWLgQUBYObTIdj5BQLbz/dR4+UdAVg4tsp3fR0DHSzeJQUBEQIGVQ4ts50dABoGVQ4tsREAUrkfhejRDQCuHFtnOd0JAO7TIdr4fRkBzaJHtfB9OQIPAyqFF9kdA+FPjpZsUQkDFILByaDFIQHWTGARWvkNArkfhehSuQ0Boke18P9VMQAAAAAAAgEVA/Knx0k3ySUAmMQisHLpEQBkEVg4tYkBAIbByaJF9QkB9PzVeuvlIQI/C9Shcb0RA5dAi2/l+RkBzaJHtfB9GQLx0kxgE9kVAJjEIrBzKSEB56SYxCKxGQG3n+6nxAkdA5/up8dItSkA=",
            "dtype": "f8"
           },
           "yaxis": "y"
          },
          {
           "hovertemplate": "continent=Americas<br>year=1962<br>gdpPercap=%{x}<br>lifeExp=%{y}<br>pop=%{marker.size}<extra></extra>",
           "ids": [
            "Argentina",
            "Bolivia",
            "Brazil",
            "Canada",
            "Chile",
            "Colombia",
            "Costa Rica",
            "Cuba",
            "Dominican Republic",
            "Ecuador",
            "El Salvador",
            "Guatemala",
            "Haiti",
            "Honduras",
            "Jamaica",
            "Mexico",
            "Nicaragua",
            "Panama",
            "Paraguay",
            "Peru",
            "Puerto Rico",
            "Trinidad and Tobago",
            "United States",
            "Uruguay",
            "Venezuela"
           ],
           "legendgroup": "Americas",
           "marker": {
            "color": "#ab63fa",
            "size": {
             "bdata": "x8NEAb7WNgDeRIgEebMhAap6eQDdjAMBo4YUAGWxbgD6sTQA629HACftKQDaOEAAwjQ7ALLkHwBoaBkAzXZzAkVFGADtjBIA1aoeABR4oACuWiUAyooNABBYHgtCpicAD0J8AA==",
             "dtype": "i4"
            },
            "sizemode": "area",
            "sizeref": 435928.2961983471,
            "symbol": "circle"
           },
           "mode": "markers",
           "name": "Americas",
           "orientation": "v",
           "showlegend": true,
           "type": "scatter",
           "x": {
            "bdata": "ZLt7gCrdu0C2n4zx8QmhQN1fPe4rEapASZ2AJj5LykAAkBMmGKexQKoQj8SzeKNAEqW9wd8Jq0C4WFGDwTy0QD9z1qeM+JlAY35uaDrsr0Bdhv90m4GtQFGGqpi6fKVAMWE0K1sSnEC8V61MUOahQIlfsYYbfrRArMWnAJzlsUDvWGyTumSsQP4pVaIUoatAb5wU5g3IoEDWNzC5CV2zQDjzqzlY9LNAD6X2IoaFs0DmXIqrkpbPQDlgV5Nb47VA9U9wsXxzwEA=",
            "dtype": "f8"
           },
           "xaxis": "x",
           "y": {
            "bdata": "DAIrhxZJUEAQWDm0yLZFQIXrUbge1UtAMzMzMzPTUUCDwMqhRfZMQFg5tMh27kxAsp3vp8ZrT0A6tMh2vk9QQJhuEoPAukpAUrgehetRS0Ce76fGSydKQCYxCKwcekdA7FG4HoXLRUBoke18PwVIQNejcD0KZ1BAg8DKoUUmTUA3iUFg5VBIQH9qvHST6E5AyXa+nxoXUEA/NV66SYxIQEjhehSuZ1FAmpmZmZk5UEA9CtejcI1RQNV46SYxEFFAw/UoXI9iTkA=",
            "dtype": "f8"
           },
           "yaxis": "y"
          },
          {
           "hovertemplate": "continent=Oceania<br>year=1962<br>gdpPercap=%{x}<br>lifeExp=%{y}<br>pop=%{marker.size}<extra></extra>",
           "ids": [
            "Australia",
            "New Zealand"
           ],
           "legendgroup": "Oceania",
           "marker": {
            "color": "#FFA15A",
            "size": {
             "bdata": "2LekAOb4JQA=",
             "dtype": "i4"
            },
            "sizemode": "area",
            "sizeref": 435928.2961983471,
            "symbol": "circle"
           },
           "mode": "markers",
           "name": "Oceania",
           "orientation": "v",
           "showlegend": true,
           "type": "scatter",
           "x": {
            "bdata": "Y5y/CZ3cx0BYObTI1rvJQA==",
            "dtype": "f8"
           },
           "xaxis": "x",
           "y": {
            "bdata": "7FG4HoW7UUCPwvUoXM9RQA==",
            "dtype": "f8"
           },
           "yaxis": "y"
          }
         ],
         "name": "1962"
        },
        {
         "data": [
          {
           "hovertemplate": "continent=Asia<br>year=1967<br>gdpPercap=%{x}<br>lifeExp=%{y}<br>pop=%{marker.size}<extra></extra>",
           "ids": [
            "Afghanistan",
            "Bahrain",
            "Bangladesh",
            "Cambodia",
            "China",
            "Hong Kong, China",
            "India",
            "Indonesia",
            "Iran",
            "Iraq",
            "Israel",
            "Japan",
            "Jordan",
            "Korea, Dem. Rep.",
            "Korea, Rep.",
            "Kuwait",
            "Lebanon",
            "Malaysia",
            "Mongolia",
            "Myanmar",
            "Nepal",
            "Oman",
            "Pakistan",
            "Philippines",
            "Saudi Arabia",
            "Singapore",
            "Sri Lanka",
            "Syria",
            "Taiwan",
            "Thailand",
            "Vietnam",
            "West Bank and Gaza",
            "Yemen, Rep."
           ],
           "legendgroup": "Asia",
           "marker": {
            "color": "#636efa",
            "size": {
             "bdata": "Lg6wAMYVAwD8lb4DwzNqAPCE+SwwzjgAgPIoHhhxhAYQ8JQBcv6BANEZKQC/eAIGkiYTADGFwAA4w8sBG8YIAI5eIQB+85oAPIoRAL+/igH61qsAF+gKAGtSnQO4fxsCFrpVAAAtHgA0GbMArK5WADRD0AA5KwcC5itaAmxvEQAx22YA",
             "dtype": "i4"
            },
            "sizemode": "area",
            "sizeref": 435928.2961983471,
            "symbol": "circle"
           },
           "mode": "markers",
           "name": "Asia",
           "orientation": "v",
           "showlegend": true,
           "type": "scatter",
           "x": {
            "bdata": "V04xvZMhikACmggbVurMQOf5whp9iYZAxbQlYXVbgEAG0JRCpSWDQCJy+nr2NbhAllPxNSrmhUCaRu5EdNOHQAyOkle7ErdArDsW27pxwUCQhlPm3mTAQDP9EvHkO8NAwJZXrpdrpUDZ7bPKFL+gQGBzDp7ptJ9A3jzVIe6/80CY+KOo+3a3QF0ZVBt8y6FAipP7HSook0AAAAAAANB1QK9zeK2JI4VAXWvvU/FwskBvkjAdRHONQB6KAn2CWJxAhbGFIMOB0EAR/G8la3GzQO6VeasOvpFAKEaWzLFnnUBlOQmlt6ekQE1KQbfXPZRAuzPJfvzog0DSwmUVbrOkQGHU/4OJ84pA",
            "dtype": "f8"
           },
           "xaxis": "x",
           "y": {
            "bdata": "w/UoXI8CQUCgGi/dJPZNQESLbOf7uUVAhetRuB61RkD/7EeKyDBNQAAAAAAAgFFAZBBYObSYR0AIrBxaZPtGQHnpJjEIPEpAmG4Sg8A6S0AAAAAAALBRQOxRuB6F21FAjZduEoPQSUB/arx0k/hNQM/3U+Ol20xADi2yne8nUECPwvUoXO9PQHNoke18r01AqvHSTWKgSUCNl24Sg7BIQCPb+X5qvERAWDm0yHZ+R0BmZmZmZuZIQPyp8dJNMkxAF9nO91PzSEAGgZVDi/xQQBsv3SQGEVBApHA9CtfTSkAAAAAAAOBQQBSuR+F6JE1AJQaBlUPrR0BU46WbxNBJQMuhRbbzfUJA",
            "dtype": "f8"
           },
           "yaxis": "y"
          },
          {
           "hovertemplate": "continent=Europe<br>year=1967<br>gdpPercap=%{x}<br>lifeExp=%{y}<br>pop=%{marker.size}<extra></extra>",
           "ids": [
            "Albania",
            "Austria",
            "Belgium",
            "Bosnia and Herzegovina",
            "Bulgaria",
            "Croatia",
            "Czech Republic",
            "Denmark",
            "Finland",
            "France",
            "Germany",
            "Greece",
            "Hungary",
            "Iceland",
            "Ireland",
            "Italy",
            "Montenegro",
            "Netherlands",
            "Norway",
            "Poland",
            "Portugal",
            "Romania",
            "Serbia",
            "Slovak Republic",
            "Slovenia",
            "Spain",
            "Sweden",
            "Switzerland",
            "Turkey",
            "United Kingdom"
           ],
           "legendgroup": "Europe",
           "marker": {
            "color": "#EF553B",
            "size": {
             "bdata": "PEYeAGaQcAAU0pEA6LM2ANLNfgAesj8AZRKWAJDVSQAwR0YA6Fz0AkVKjQSZAIUAPv+bABQIAwCEQCwA3KIjAyulBwBWNsAAI8U5AKIB5QGY5ooATkMmAZaheQB+yEMAQCEZAGNB9QEbDngAmINcAPXQ/QGYm0YD",
             "dtype": "i4"
            },
            "sizemode": "area",
            "sizeref": 435928.2961983471,
            "symbol": "circle"
           },
           "mode": "markers",
           "name": "Europe",
           "orientation": "v",
           "showlegend": true,
           "type": "scatter",
           "x": {
            "bdata": "I9kj1GSQpUCOdXEbTRHJQHbDtkWFrslAuZbJcLT4oEBuNIC3AMm1QMFVnkBMMLtAKdAn8rhDxkD4qpUJmyDPQOC593DRVMVAbATidfVjyUAGDf0T0MzMQJgxBWuMoMBAW+uLhFI3wkDXaaSl8gPKQKIlj6eR571Ax0YgXjOTw0D12QHX2RO3QMOBkCygAc5A9kArMPD0z0Cd81McJ525QI9yMJuE2bhAg6Pk1d1GuUAdAkcCtTe/QIGxvoFzbsBA4ZaPpL5ewkDwF7Mlgzm/QPLqHAMmzc1ACvSJPIlt1kByW1t4thSmQD+p9ulsn8tA",
            "dtype": "f8"
           },
           "xaxis": "x",
           "y": {
            "bdata": "rkfhehSOUEApXI/C9YhRQFyPwvUovFFAw/UoXI8yUEB7FK5H4ZpRQAAAAAAAIFFAuB6F61GYUUA9CtejcD1SQIXrUbgedVFAMzMzMzPjUUAzMzMzM7NRQAAAAAAAwFFAAAAAAABgUUAfhetRuG5SQIXrUbgexVFApHA9CtfDUUAIrBxaZMtQQBSuR+F6dFJAhetRuB6FUkDXo3A9CmdRQGZmZmZmplBAMzMzMzOzUEDRItv5frpQQB+F61G4vlFA7FG4HoVLUUBcj8L1KNxRQArXo3A9ilJA4XoUrkcxUkBgukkMAitLQNejcD0K11FA",
            "dtype": "f8"
           },
           "yaxis": "y"
          },
          {
           "hovertemplate": "continent=Africa<br>year=1967<br>gdpPercap=%{x}<br>lifeExp=%{y}<br>pop=%{marker.size}<extra></extra>",
           "ids": [
            "Algeria",
            "Angola",
            "Benin",
            "Botswana",
            "Burkina Faso",
            "Burundi",
            "Cameroon",
            "Central African Republic",
            "Chad",
            "Comoros",
            "Congo, Dem. Rep.",
            "Congo, Rep.",
            "Cote d'Ivoire",
            "Djibouti",
            "Egypt",
            "Equatorial Guinea",
            "Eritrea",
            "Ethiopia",
            "Gabon",
            "Gambia",
            "Ghana",
            "Guinea",
            "Guinea-Bissau",
            "Kenya",
            "Lesotho",
            "Liberia",
            "Libya",
            "Madagascar",
            "Malawi",
            "Mali",
            "Mauritania",
            "Mauritius",
            "Morocco",
            "Mozambique",
            "Namibia",
            "Niger",
            "Nigeria",
            "Reunion",
            "Rwanda",
            "Sao Tome and Principe",
            "Senegal",
            "Sierra Leone",
            "Somalia",
            "South Africa",
            "Sudan",
            "Swaziland",
            "Tanzania",
            "Togo",
            "Tunisia",
            "Uganda",
            "Zambia",
            "Zimbabwe"
           ],
           "legendgroup": "Africa",
           "marker": {
            "color": "#00cc96",
            "size": {
             "bdata": "s7XCAO0RUADGCSUARXIIAP8+TgCt0zIAEqxgAAZ0GgAfWDUAIlEDANFGMAFwABIApmZIAIHyAQCkauMBGPcDAJ/GGwBJHakBLHYHACm1BgDljIEAGqo0AMcsCQCYgpsAHDQPAK6FEwD41xoAXKhgADRIPwAAiU8AzsYSAD0LDAB4YOEAzXWEAFDICgAuL0UAyI3RAkhRBgDHqDQAgxQBAJGDPAAunygA51E0AMlkQAFhCMIAUmsGAFBfwAB+exoAKgtJAMbOhwBggjsAaDlMAA==",
             "dtype": "i4"
            },
            "sizemode": "area",
            "sizeref": 435928.2961983471,
            "symbol": "circle"
           },
           "mode": "markers",
           "name": "Africa",
           "orientation": "v",
           "showlegend": true,
           "type": "scatter",
           "x": {
            "bdata": "PpRoyftdqUBvEoPAxpK1QCO6Z11TL5BA/5QqUdb6kkCI/VTLnNaIQFT2TOWjz3lA/oAHBtCRl0DaVUj5OcCRQCFZwAQ+s5JAOQ68Wh5QnUDOFN/1vuyKQOeXwRjh66RAqdiY1xkIoEAMBtfcGZinQLCSj92FW5xArW71nMScjEDfnFsyuEx9QPxGhfvyIIBAfT7KiGFTwEAQjZNnQ/aGQFGgT+TJlpFAzOstihMmhkDzbbAmpVyGQKSnyCHygpBAcOzZczkqf0BIVo9F1EyGQK9fsBswVdJAwk6xajCImUDYGZWKPPh+QCrxyj8UCIFAb0p5rZQ0lkBYxoZuxlajQF7XL9gtvJpA7SNcbVq1gUCZS6q2Y6OtQBnG3SCKeZBA8dWO4hy0j0BDU3b6WWqvQA67lF9r739A/FBpxFyjlUCp29lXnjGZQBXGFoIs2JJAVei8xu4SlEButU5cesq7QJgwmpX9X5pATFRvDTRqpEAz3IDPv4GKQD6uDRVjFpdAZziez3AxnkBVsechWWeMQJIlcyxPxJtA7w9KTlzOgUA=",
            "dtype": "f8"
           },
           "xaxis": "x",
           "y": {
            "bdata": "arx0kxi0SUCuR+F6FP5BQOF6FK5HcUZAoBov3SSmSkDwp8ZLN1lEQKAaL90kxkVAg8DKoUVmRkB3vp8aL71EQLFyaJHtzEVAI9v5fmo8R0C6SQwCKwdGQIXrUbgeBUpAzczMzMysR0C28/3UeAlFQC/dJAaBpUhAdZMYBFZ+Q0DUeOkmMRhFQB+F61G4DkVABoGVQ4tMRkAEVg4tsu1BQPCnxks3CUhA8KfGSzeZQkDl0CLb+b5BQMHKoUW2U0lA5dAi2/k+SED4U+Olm8REQJMYBFYOHUlAVOOlm8RwRUB1kxgEVr5DQHWTGARWPkNAokW28/0kR0Ce76fGS8dOQHsUrkfhKklAWDm0yHYOQ0AxCKwcWpRJQMl2vp8aD0RAhetRuB6FREBMN4lBYEVOQM3MzMzMDEZAZmZmZmY2S0Dy0k1iEMhFQFg5tMh2DkFAkxgEVg59Q0Atsp3vp/ZJQOf7qfHSbUVAGy/dJAZRR0A3iUFg5eBGQN9PjZduYkdAEFg5tMgGSkBKDAIrhwZIQPyp8dJN4kdAj8L1KFz/SkA=",
            "dtype": "f8"
           },
           "yaxis": "y"
          },
          {
           "hovertemplate": "continent=Americas<br>year=1967<br>gdpPercap=%{x}<br>lifeExp=%{y}<br>pop=%{marker.size}<extra></extra>",
           "ids": [
            "Argentina",
            "Bolivia",
            "Brazil",
            "Canada",
            "Chile",
            "Colombia",
            "Costa Rica",
            "Cuba",
            "Dominican Republic",
            "Ecuador",
            "El Salvador",
            "Guatemala",
            "Haiti",
            "Honduras",
            "Jamaica",
            "Mexico",
            "Nicaragua",
            "Panama",
            "Paraguay",
            "Peru",
            "Puerto Rico",
            "Trinidad and Tobago",
            "United States",
            "Uruguay",
            "Venezuela"
           ],
           "legendgroup": "Americas",
           "marker": {
            "color": "#ab63fa",
            "size": {
             "bdata": "0fJdAdmnPQCfiD8FN689ARwthwA7ky0B7T0YAEQyfAD6yD0AaORSAJ9UMQBVk0cAueNBAFEoJgDoZRwAp1rcAhJ3HAAuchUAcekiAGgfuQCBaygAm6YOAMAa2Auj8CkA8CeUAA==",
             "dtype": "i4"
            },
            "sizemode": "area",
            "sizeref": 435928.2961983471,
            "symbol": "circle"
           },
           "mode": "markers",
           "name": "Americas",
           "orientation": "v",
           "showlegend": true,
           "type": "scatter",
           "x": {
            "bdata": "ZSsv+fN0v0AMI72oxTWkQCMuAI26y6pAiSmRREtmz0BZiA6Bp/KzQLEYda117aRA6zpUU7pBsEDWi6GcRDq2QKL/5Vrk1plA3xXB/xLjsUBE96xrmAaxQL3kf/IPValAXcDLDDuwlkDVsUrpidSjQFZfXRW07LdAF5zB37t6tkDf66S+ZCOyQOs6VFMCRbFAQNzVq8D2oUC8kXnkF5y2QKTDQxhHEbtAflUuVF71tUCatn9llxLTQPOTap+eRLVAFEAxsryiwkA=",
            "dtype": "f8"
           },
           "xaxis": "x",
           "y": {
            "bdata": "f2q8dJNoUEBqvHSTGIRGQDeJQWDl0ExAuB6F61EIUkBt5/up8UJOQCUGgZVD+01AQWDl0CJbUEDD9ShcjxJRQOWlm8QgYExAEFg5tMhWTEA9CtejcO1LQDdeukkMAklAyXa+nxofR0CDwMqhRXZJQHE9Ctej4FBArkfhehQOTkD91HjpJvFJQAaBlUOLBFBAv58aL908UEApXI/C9bhJQGZmZmZmxlFAmpmZmZlZUEBxPQrXo7BRQMuhRbbzHVFAWmQ730+9T0A=",
            "dtype": "f8"
           },
           "yaxis": "y"
          },
          {
           "hovertemplate": "continent=Oceania<br>year=1967<br>gdpPercap=%{x}<br>lifeExp=%{y}<br>pop=%{marker.size}<extra></extra>",
           "ids": [
            "Australia",
            "New Zealand"
           ],
           "legendgroup": "Oceania",
           "marker": {
            "color": "#FFA15A",
            "size": {
             "bdata": "CCi1ANagKQA=",
             "dtype": "i4"
            },
            "sizemode": "area",
            "sizeref": 435928.2961983471,
            "symbol": "circle"
           },
           "mode": "markers",
           "name": "Oceania",
           "orientation": "v",
           "showlegend": true,
           "type": "scatter",
           "x": {
            "bdata": "ufyH9A9fzECpjH+f9T/MQA==",
            "dtype": "f8"
           },
           "xaxis": "x",
           "y": {
            "bdata": "ZmZmZmbGUUDhehSuR+FRQA==",
            "dtype": "f8"
           },
           "yaxis": "y"
          }
         ],
         "name": "1967"
        },
        {
         "data": [
          {
           "hovertemplate": "continent=Asia<br>year=1972<br>gdpPercap=%{x}<br>lifeExp=%{y}<br>pop=%{marker.size}<extra></extra>",
           "ids": [
            "Afghanistan",
            "Bahrain",
            "Bangladesh",
            "Cambodia",
            "China",
            "Hong Kong, China",
            "India",
            "Indonesia",
            "Iran",
            "Iraq",
            "Israel",
            "Japan",
            "Jordan",
            "Korea, Dem. Rep.",
            "Korea, Rep.",
            "Kuwait",
            "Lebanon",
            "Malaysia",
            "Mongolia",
            "Myanmar",
            "Nepal",
            "Oman",
            "Pakistan",
            "Philippines",
            "Saudi Arabia",
            "Singapore",
            "Sri Lanka",
            "Syria",
            "Taiwan",
            "Thailand",
            "Vietnam",
            "West Bank and Gaza",
            "Yemen, Rep."
           ],
           "legendgroup": "Asia",
           "marker": {
            "color": "#636efa",
            "size": {
             "bdata": "pJPHAJCFAwB/szcE7q9xALCIYTP0zD4AwLvLIdCdOgfwIdMBwoaZAFU9LwAxkGMG754YADmL4QDoPv8BztgMANLkKAA2la4ANCYUANZcsgGxZr0AeqYMAGHUIQTdUm8CNMRiANDXIACdnsYAdEBmALdU6AB5TlcCpmGpAiSgEADjBXEA",
             "dtype": "i4"
            },
            "sizemode": "area",
            "sizeref": 435928.2961983471,
            "symbol": "circle"
           },
           "mode": "markers",
           "name": "Asia",
           "orientation": "v",
           "showlegend": true,
           "type": "scatter",
           "x": {
            "bdata": "Umf/Tdkfh0CBzw8jKtfRQNUHknfesYNA0VVfAvxZekAbp3xjMyeFQHmSdM32PcBA5QmEnUKghkAKMCx/blyRQKM6HcjoxsJAOxvyzwS0wkAtCVBTd/nIQHHJcadk3cxAihwibrZ9oEC7JqQ1PuusQBTQRNjAradAWmQ73z2y+kCD+StkYj69QKEQAYcwQqZAzF1LyPc2lkAAAAAAAFB2QBRI5BZOFoVAodY07wS9xEBDOjyEwWeQQKnBNAx/FZ9A3GgAb1tB2ECWJTrL4MrAQFn60AWV9ZJAgH9KldgWpEDyQjo8DL2vQG4164xv0ZdA2l37XQPchUADRMGM0XqoQJj75CgwxJNA",
            "dtype": "f8"
           },
           "xaxis": "x",
           "y": {
            "bdata": "JQaBlUMLQkBmZmZmZqZPQMdLN4lBoEZAf2q8dJMoREABE7h1N49PQAAAAAAAAFJAF9nO91NTSUBEi2zn+5lIQMuhRbbznUtAmpmZmZl5TEC4HoXrUehRQHsUrkfhWlJA3SQGgZVDTEDn+6nx0v1PQHWTGARWTk9AIbByaJHtUEBt5/up8VpQQOF6FK5HgU9AjZduEoPgSkApXI/C9YhKQD81XrpJ/EVA/Knx0k0SSkD0/dR46fZJQLgehetRCE1AxSCwcmjxSkDTTWIQWGFRQKabxCCwQlBA2s73U+OlTEApXI/C9VhRQKRwPQrXM05AjZduEoMgSUBqvHSTGERMQAaBlUOL7ENA",
            "dtype": "f8"
           },
           "yaxis": "y"
          },
          {
           "hovertemplate": "continent=Europe<br>year=1972<br>gdpPercap=%{x}<br>lifeExp=%{y}<br>pop=%{marker.size}<extra></extra>",
           "ids": [
            "Albania",
            "Austria",
            "Belgium",
            "Bosnia and Herzegovina",
            "Bulgaria",
            "Croatia",
            "Czech Republic",
            "Denmark",
            "Finland",
            "France",
            "Germany",
            "Greece",
            "Hungary",
            "Iceland",
            "Ireland",
            "Italy",
            "Montenegro",
            "Netherlands",
            "Norway",
            "Poland",
            "Portugal",
            "Romania",
            "Serbia",
            "Slovak Republic",
            "Slovenia",
            "Spain",
            "Sweden",
            "Switzerland",
            "Turkey",
            "United Kingdom"
           ],
           "legendgroup": "Europe",
           "marker": {
            "color": "#EF553B",
            "size": {
             "bdata": "AooiAIkdcwAsJpQA+EU6AMjcggAeeUAADnyWAGwqTACpy0YAIF4VA6AgsQQ0oYcA65meAHsxAwAQJi4AfI09Az4NCADSZcsATAM8ALkk+AHS4IgAeEk7AcjZfgAZF0YALtsZAAmhDgK173sAeK1hANkYPAKYslcD",
             "dtype": "i4"
            },
            "sizemode": "area",
            "sizeref": 435928.2961983471,
            "symbol": "circle"
           },
           "mode": "markers",
           "name": "Europe",
           "orientation": "v",
           "showlegend": true,
           "type": "scatter",
           "x": {
            "bdata": "h4kGKdjiqUAYldQJaEXQQEFIFjAJSNBA/tR46VZYpkA1Cd6QfsW5QL4SSIkL5sFAvJaQDzqayUBau+1CjWzSQEi/fR1wC8xAKAr0iZh1z0CdLouJC5jRQN+JWS9q2shASphp+1Pcw0CwPbMkCNvOQJuRQe5incJAJhk5C6P2x0D9ogT9aWK+QOepDrmvWtJAptB5jUOF0kBOEkvKgUa/QL05XKsfn8FAZN0/FmpLv0BnJ4OjCI3EQPvNxHQV5cJAqDXNO74vyECUE+0qYMfEQIums5MBatFAyR8MPMeO2kAtW+uLZPWqQHfbheaOC89A",
            "dtype": "f8"
           },
           "xaxis": "x",
           "y": {
            "bdata": "XI/C9SjsUEC4HoXrUahRQFyPwvUo3FFAzczMzMzcUECamZmZmblRQNejcD0KZ1FAw/UoXI+SUUCuR+F6FF5SQEjhehSut1FAuB6F61EYUkAAAAAAAMBRQPYoXI/CFVJAcT0K16NwUUA9CtejcJ1SQFK4HoXr0VFAXI/C9SgMUkBkEFg5tKhRQAAAAAAAcFJA9ihcj8KVUkBmZmZmZrZRQHE9CtejUFFAPQrXo3BNUUDNzMzMzCxRQGZmZmZmllFAFK5H4Xp0UUCkcD0K10NSQK5H4XoUrlJAUrgehetxUkBxPQrXo4BMQHE9CtejAFJA",
            "dtype": "f8"
           },
           "yaxis": "y"
          },
          {
           "hovertemplate": "continent=Africa<br>year=1972<br>gdpPercap=%{x}<br>lifeExp=%{y}<br>pop=%{marker.size}<extra></extra>",
           "ids": [
            "Algeria",
            "Angola",
            "Benin",
            "Botswana",
            "Burkina Faso",
            "Burundi",
            "Cameroon",
            "Central African Republic",
            "Chad",
            "Comoros",
            "Congo, Dem. Rep.",
            "Congo, Rep.",
            "Cote d'Ivoire",
            "Djibouti",
            "Egypt",
            "Equatorial Guinea",
            "Eritrea",
            "Ethiopia",
            "Gabon",
            "Gambia",
            "Ghana",
            "Guinea",
            "Guinea-Bissau",
            "Kenya",
            "Lesotho",
            "Liberia",
            "Libya",
            "Madagascar",
            "Malawi",
            "Mali",
            "Mauritania",
            "Mauritius",
            "Morocco",
            "Mozambique",
            "Namibia",
            "Niger",
            "Nigeria",
            "Reunion",
            "Rwanda",
            "Sao Tome and Principe",
            "Senegal",
            "Sierra Leone",
            "Somalia",
            "South Africa",
            "Sudan",
            "Swaziland",
            "Tanzania",
            "Togo",
            "Tunisia",
            "Uganda",
            "Zambia",
            "Zimbabwe"
           ],
           "legendgroup": "Africa",
           "marker": {
            "color": "#00cc96",
            "size": {
             "bdata": "UzvhAMryWQC/IioAV3MJAB7qUgD/3DUA5CFrAFxoHQC8fjsAq9ADALURXwEqdBQAkKVcAKC6AgB5HhMCYzwEANt8IgDEhNUBeTUIAO3jBwCIu44AOyg6ANGKCQDxybcAawoRAISfFgDFUiEAvhFsAHUwSAA+7lgAMlYUAIb9DAC+OP4AvK6VABaKDACmNk0ANQI0A0ELBwA56jwAMysBAJgERgAl7isAoZg6AEI7bQGbu94AaVMHAKFn4ACfYB8A0+xQAM19mwCBw0QAD29ZAA==",
             "dtype": "i4"
            },
            "sizemode": "area",
            "sizeref": 435928.2961983471,
            "symbol": "circle"
           },
           "mode": "markers",
           "name": "Africa",
           "orientation": "v",
           "showlegend": true,
           "type": "scatter",
           "x": {
            "bdata": "Mo6R7KlWsEAVGLK6SWG1QHpvDAEw95BAQyjv4zivoUAO2YpH47WKQDHFZpGXAX1AzJ9vC5ZQmkBrK/aXDbiQQNZwkXtqQJFA3gIJik9GnkDOM/YlK0eMQE9XdyxOGqlAu18F+GaUokB+vma5bNysQD7qr1cIoJ9AWlBzTUwDhUDBAHj6lxKAQGVIBJnzsYFAmrZ/ZflExkDY5DrXsaCHQGq/tRPlaJJAu+DCcFQth0C0aJX0y6GJQG2Oc5twGZNAv2mfM04Jf0AxYTQrCxiJQFDkSdLfhNRA8nhafkBSm0CCFOHL+USCQDUOUHXzKoJAa0lHOWjLmEAysI7j9x6kQCfChqfHKJ5AL113qVenhkBaKQRyKUStQBfNFISs0Y1AxXWMK46JmkBbs5WXqLezQMP3DzOldIJAA7Fs5vDzl0CvQzUl2faYQPm6DP8JJ5VAX3089E2ak0D0GVBv9lW+QJayDHGc7plACKwcWqxJqkD+xLdm4Z+MQNm0UgikxplAtjnObZKCpUAfSUkP47WNQPceLjn+tZtANwNtvOX6iEA=",
            "dtype": "f8"
           },
           "xaxis": "x",
           "y": {
            "bdata": "/Knx0k1CS0AQWDm0yPZCQG8Sg8DKgUdAUI2XbhIDTEDP91PjpctFQJ7vp8ZLB0ZAg8DKoUWGR0DRItv5frpFQEa28/3UyEZARrbz/dR4SEA730+Nl/5GQGq8dJMYdEtASgwCK4fmSEADK4cW2S5GQKjGSzeJkUlANV66SQxCREAZBFYOLRJGQFK4HoXrwUVAuB6F61FYSECBlUOLbCdDQAAAAAAA8EhAsp3vp8ZrQ0CR7Xw/NT5CQGQ730+Nx0pAGQRWDi3iSEA730+Nl05FQG3n+6nxYkpAsXJoke1sRkA3XrpJDOJEQJMYBFYO/UNADi2yne83SEBGtvP91HhPQHWTGARWbkpARIts5/spREDl0CLb+e5KQNnO91PjRURADgIrhxZpRUCoxks3iRFQQM3MzMzMTEZAPQrXo3A9TEC4HoXrUehGQDMzMzMzs0FABoGVQ4t8REAOAiuHFtlKQLTIdr6fikZALbKd76fGSECPwvUoXM9HQP3UeOkm4UhAkxgEVg7NS0A3XrpJDIJJQARWDi2yDUlA4XoUrkfRS0A=",
            "dtype": "f8"
           },
           "yaxis": "y"
          },
          {
           "hovertemplate": "continent=Americas<br>year=1972<br>gdpPercap=%{x}<br>lifeExp=%{y}<br>pop=%{marker.size}<extra></extra>",
           "ids": [
            "Argentina",
            "Bolivia",
            "Brazil",
            "Canada",
            "Chile",
            "Colombia",
            "Costa Rica",
            "Cuba",
            "Dominican Republic",
            "Ecuador",
            "El Salvador",
            "Guatemala",
            "Haiti",
            "Honduras",
            "Jamaica",
            "Mexico",
            "Nicaragua",
            "Panama",
            "Paraguay",
            "Peru",
            "Puerto Rico",
            "Trinidad and Tobago",
            "United States",
            "Uruguay",
            "Venezuela"
           ],
           "legendgroup": "Americas",
           "marker": {
            "color": "#ab63fa",
            "size": {
             "bdata": "Fxx6AXCrRQB6sgIG1AhUARRHlAAq+lcBLP8bAHTBhgBhR0cAGxxgADfYOQCNk04AvbBHAJo+LQAwex4ApkBWA/xOIQAAqhgAWOMnAIzu1ACccSsAX+EOAEDCggzWLCsAAbevAA==",
             "dtype": "i4"
            },
            "sizemode": "area",
            "sizeref": 435928.2961983471,
            "symbol": "circle"
           },
           "mode": "markers",
           "name": "Americas",
           "orientation": "v",
           "showlegend": true,
           "type": "scatter",
           "x": {
            "bdata": "BoNr7oRxwkDH8UOlqUinQC+JsyK2ebNApmH4iKSG0kDQ04BBBna1QAra5PBRgalAglfLnSX+s0BZFkz8cbm0QMU6Vb6/G6FAAYdQpf6gtECOWmH6PqixQM+B5QjRfq9AJ/im6dPZmUDmBdhHr8OjQJG/tKjjCb1AnvnVHGiZukDMmljgl1CyQAcU6uk/9LRAmkNSC622o0CJldHI0zG3QG9GzVeF0cFAZKvLKY3buUAoSddMgkvVQGYRiq1oR7ZACvSJPKGExEA=",
            "dtype": "f8"
           },
           "xaxis": "x",
           "y": {
            "bdata": "XI/C9SjEUEAIrBxaZFtHQI2XbhKDwE1AuB6F61E4UkCcxCCwcrhPQDu0yHa+z05AdJMYBFb2UECDwMqhRa5RQFTjpZvE0E1A2s73U+NlTUDRItv5fhpNQFg5tMh23kpATDeJQWAFSED91HjpJvFKQAAAAAAAQFFAke18PzUuT0AX2c73U5NLQOj7qfHSjVBAXI/C9Sh0UEDTTWIQWLlLQArXo3A9ClJAmpmZmZl5UED2KFyPwtVRQFCNl24SK1FAIbByaJFtUEA=",
            "dtype": "f8"
           },
           "yaxis": "y"
          },
          {
           "hovertemplate": "continent=Oceania<br>year=1972<br>gdpPercap=%{x}<br>lifeExp=%{y}<br>pop=%{marker.size}<extra></extra>",
           "ids": [
            "Australia",
            "New Zealand"
           ],
           "legendgroup": "Oceania",
           "marker": {
            "color": "#FFA15A",
            "size": {
             "bdata": "qBDJAMyxLAA=",
             "dtype": "i4"
            },
            "sizemode": "area",
            "sizeref": 435928.2961983471,
            "symbol": "circle"
           },
           "mode": "markers",
           "name": "Oceania",
           "orientation": "v",
           "showlegend": true,
           "type": "scatter",
           "x": {
            "bdata": "X3tmSShl0EBmTpfFBFfPQA==",
            "dtype": "f8"
           },
           "xaxis": "x",
           "y": {
            "bdata": "7FG4HoX7UUApXI/C9fhRQA==",
            "dtype": "f8"
           },
           "yaxis": "y"
          }
         ],
         "name": "1972"
        },
        {
         "data": [
          {
           "hovertemplate": "continent=Asia<br>year=1977<br>gdpPercap=%{x}<br>lifeExp=%{y}<br>pop=%{marker.size}<extra></extra>",
           "ids": [
            "Afghanistan",
            "Bahrain",
            "Bangladesh",
            "Cambodia",
            "China",
            "Hong Kong, China",
            "India",
            "Indonesia",
            "Iran",
            "Iraq",
            "Israel",
            "Japan",
            "Jordan",
            "Korea, Dem. Rep.",
            "Korea, Rep.",
            "Kuwait",
            "Lebanon",
            "Malaysia",
            "Mongolia",
            "Myanmar",
            "Nepal",
            "Oman",
            "Pakistan",
            "Philippines",
            "Saudi Arabia",
            "Singapore",
            "Sri Lanka",
            "Syria",
            "Taiwan",
            "Thailand",
            "Vietnam",
            "West Bank and Gaza",
            "Yemen, Rep."
           ],
           "legendgroup": "Asia",
           "marker": {
            "color": "#636efa",
            "size": {
             "bdata": "dA7jAMKJBAASPcsEL3xqABj7OzgU8UUAgBLKJQhCJghnZB0CpFG1AO5XNQBZjskG9JAdAMga+QAg+CsChWYRAAuLLwBFAcQAwFAXAJcU4QGOmtQA9VMPAO6DqASS48oC+Qd8ADR7IwDkZ9cAVwp5ACwfAAE9pqECghQDAyM+EwAWPIAA",
             "dtype": "i4"
            },
            "sizemode": "area",
            "sizeref": 435928.2961983471,
            "symbol": "circle"
           },
           "mode": "markers",
           "name": "Asia",
           "orientation": "v",
           "showlegend": true,
           "type": "scatter",
           "x": {
            "bdata": "ZaVJKeiQiEBgPIOGBuPSQP7PUJIEn4RAw038B8dngEBGcp5W5imHQEjhehQS2cVAhKlm1rJqiUDYn8TnzpqVQEDZlCtMOMdAIxXGFh6wzECu9UVCT/3JQBGN7iCYONBApIy4ALRIpkD0iqceTQqwQMNHxJQ4MbJA9Bq7RC/w7EBWC+wx2enAQOJzJ9jX561ACObo8Qu+mUAAAAAAADB3QCZ+1kbmsIVAOBCSBSwkx0A3wTdNr1+SQP8/TphoiqJAfh04Z/iu4EDTpBR0C+XFQHB4QUQaE5VAdsQhG/j2qECcFVEThdy1QCmqtwbmpJ5AVGBcBUxMhkCk4ZS5qcWsQJs6j4oPl5xA",
            "dtype": "f8"
           },
           "xaxis": "x",
           "y": {
            "bdata": "8tJNYhA4Q0DLoUW282VQQKAaL90kdkdAuB6F61E4P0CyutVz0vtPQGZmZmZmZlJAtMh2vp8aS0Bg5dAi21lKQGDl0CLb2UxAvp8aL900TkCkcD0K10NSQLgehetR2FJA/dR46SaRTkAYBFYOLcpQQBsv3SQGMVBAy6FFtvNVUUB0kxgEVoZQQKrx0k1iUFBAAyuHFtm+S0BkO99PjQdMQDu0yHa+X0dA5dAi2/muTEAv3SQGgQVLQEjhehSuB05AuB6F61FYTUB7FK5H4bJRQNv5fmq8fFBAKVyPwvWYTkD2KFyPwqVRQKwcWmQ7P09AbxKDwMrhS0BSuB6F62FOQGZmZmZmFkZA",
            "dtype": "f8"
           },
           "yaxis": "y"
          },
          {
           "hovertemplate": "continent=Europe<br>year=1977<br>gdpPercap=%{x}<br>lifeExp=%{y}<br>pop=%{marker.size}<extra></extra>",
           "ids": [
            "Albania",
            "Austria",
            "Belgium",
            "Bosnia and Herzegovina",
            "Bulgaria",
            "Croatia",
            "Czech Republic",
            "Denmark",
            "Finland",
            "France",
            "Germany",
            "Greece",
            "Hungary",
            "Iceland",
            "Ireland",
            "Italy",
            "Montenegro",
            "Netherlands",
            "Norway",
            "Poland",
            "Portugal",
            "Romania",
            "Serbia",
            "Slovak Republic",
            "Slovenia",
            "Spain",
            "Sweden",
            "Switzerland",
            "Turkey",
            "United Kingdom"
           ],
           "legendgroup": "Europe",
           "marker": {
            "color": "#EF553B",
            "size": {
             "bdata": "+EgmAC58cwBo3pUA8Fg+AF47hgDR5UEA+w6bAKOkTQBWT0gA2zsrA4WjqAQ/CY4Ac0+iAH9iAwDc7DEAbWVXA8mLCAA9YdMAxbE9AEZHEAKIcJMA5XtKAR+LhACbqkkA56caANgDLAIA6X0AiGFgAMEIhwI4OVkD",
             "dtype": "i4"
            },
            "sizemode": "area",
            "sizeref": 435928.2961983471,
            "symbol": "circle"
           },
           "mode": "markers",
           "name": "Europe",
           "orientation": "v",
           "showlegend": true,
           "type": "scatter",
           "x": {
            "bdata": "Q9R9AAKaq0BGlPYGW0nTQKdc4V1+q9JAzeSbbfaQq0C3QliNPby9QLMkQE2xFMZAizcyjxTozEBWDi2yufHTQOIeSx+2es5AGD4ipijd0UCGrG71OgjUQPlmmxvDuctAU67wLmvNxkBYxRuZvTHTQJD3qpV9x8VAXrpJDP7Xy0CyhSAH973CQPvL7slDttRA499nXNbD1kDyJyobEpLCQIKtEiw+3sNAVaTC2DJGwkBbXyS0VVrJQJ5BQ/9UVcVAqE2c3IPWzUAHCOboddrJQC8012nuadJAtTLhl5JZ2kBzucFQH62wQJfFxOYvBdFA",
            "dtype": "f8"
           },
           "xaxis": "x",
           "y": {
            "bdata": "7FG4HoU7UUB7FK5H4QpSQDMzMzMzM1JA16NwPQp3UUCkcD0K17NRQClcj8L1qFFAPQrXo3CtUUBcj8L1KKxSQOF6FK5HIVJAhetRuB51UkAAAAAAACBSQOxRuB6Fa1JAzczMzMx8UUDXo3A9CgdTQFK4HoXrAVJAH4XrUbheUkBOYhBYOURSQI/C9Shcz1JASOF6FK7XUkB7FK5H4apRQArXo3A9mlFAPQrXo3BdUUAzMzMzM5NRQM3MzMzMnFFArkfhehS+UUApXI/C9ZhSQFyPwvUo3FJAKVyPwvXYUkA3iUFg5cBNQHE9CtejMFJA",
            "dtype": "f8"
           },
           "yaxis": "y"
          },
          {
           "hovertemplate": "continent=Africa<br>year=1977<br>gdpPercap=%{x}<br>lifeExp=%{y}<br>pop=%{marker.size}<extra></extra>",
           "ids": [
            "Algeria",
            "Angola",
            "Benin",
            "Botswana",
            "Burkina Faso",
            "Burundi",
            "Cameroon",
            "Central African Republic",
            "Chad",
            "Comoros",
            "Congo, Dem. Rep.",
            "Congo, Rep.",
            "Cote d'Ivoire",
            "Djibouti",
            "Egypt",
            "Equatorial Guinea",
            "Eritrea",
            "Ethiopia",
            "Gabon",
            "Gambia",
            "Ghana",
            "Guinea",
            "Guinea-Bissau",
            "Kenya",
            "Lesotho",
            "Liberia",
            "Libya",
            "Madagascar",
            "Malawi",
            "Mali",
            "Mauritania",
            "Mauritius",
            "Morocco",
            "Mozambique",
            "Namibia",
            "Niger",
            "Nigeria",
            "Reunion",
            "Rwanda",
            "Sao Tome and Principe",
            "Senegal",
            "Sierra Leone",
            "Somalia",
            "South Africa",
            "Sudan",
            "Swaziland",
            "Tanzania",
            "Togo",
            "Tunisia",
            "Uganda",
            "Zambia",
            "Zimbabwe"
           ],
           "legendgroup": "Africa",
           "marker": {
            "color": "#00cc96",
            "size": {
             "bdata": "JLsFAfMIXgALWDAAoOwLACbeWQAvgjoAOXV5AO0SIQCk9UIAY6YEAOYQlAEBcxcA9tJxAFZ9AwB3y08Co/ACAAJXJgDHORACP8cKABJICQBtzKAA0n9AAAxfCwA0Qt0AxBgTAMH+GQD3hykA/i16AH4EVgABDmMAMDoWAIHuDQANtxgBPMypAILoDgCms1YAlTy1Az+CBwCwD0cADFMBADdGUAAh7S8Agm5CAEz4nQFaAAUBAWoIAF1gBQHmOSMARaFbAN7UrgAmmU8Au1llAA==",
             "dtype": "i4"
            },
            "sizemode": "area",
            "sizeref": 435928.2961983471,
            "symbol": "circle"
           },
           "mode": "markers",
           "name": "Africa",
           "orientation": "v",
           "showlegend": true,
           "type": "scatter",
           "x": {
            "bdata": "a26FsGous0DOUx1yS4GnQMpt+x6lFJBA17/rM7cdqUDK8r+mGDuHQIwap3zTYIFASUkPQ7vdm0Ca7nVSf1WRQMiYu5bwt5FAzhsnhWlSkkDMft3pDt6IQGghAaNbdqlA7zmwHHmro0AT86ykhROoQMqnx7b8wqVAvYfw1Ij0jUCRr6mYD5x/QAlNt5F3ZoFA3ZiesGQ81UBBBuHACqaLQKghBarKCY9A8g9spnxVi0DloJXFzuWHQBvXv+tzzpNATZTO0fRKh0DRC4halAKEQKbQeY3Nb9VAS8lyEuogmEALD/UWyrmEQOdk84Ipc4VAW11OCfhll0BbJO1G9/2sQJyIfm09haJABgfFoB1lf0B2qnzP+EiuQAsRgTQtR4lAjGg7ps73nkDLvFXXzd+wQCyEMBKl8IRARzoDIz8mm0BSCyWTE2eYQKSMuAAkEZVAa+9TVfirlkBX0LTEply/QDpXlBL6NaFATMKFPNKKrUBY0Go38BOOQDscXaUb85dAjBNf7cBhqEDaSwl33V2KQHr7c9HA0phAjz+skrNshUA=",
            "dtype": "f8"
           },
           "xaxis": "x",
           "y": {
            "bdata": "bxKDwMoBTUDn+6nx0r1DQLgehetRmEhARrbz/dSoTUCoxks3iRFHQBSuR+F69EZAPQrXo3CtSEAzMzMzM2NHQBsv3SQGsUdA1HjpJjF4SUD0/dR46eZHQAAAAAAA0EtAHVpkO98vSkDfT42XbkJHQEa28/3UqEpAUI2XbhIDRUAUrkfhekRGQOF6FK5HQUZAhetRuB5lSkCyne+nxutEQFTjpZvE4ElAqMZLN4lhREDsUbgehbtCQKRwPQrXE0xAtMh2vp8aSkBvEoPAyuFFQH9qvHSTuExAVOOlm8RwR0AZBFYOLeJFQAisHFpk20RAkxgEVg5tSUDsUbgehTtQQD0K16Nw3UtAj8L1KFw/RUAOLbKd7zdMQGiR7Xw/pURAbxKDwMpBRkBqvHSTGMRQQAAAAAAAgEZAZmZmZmZGTUCNl24Sg3BIQL6fGi/dZEJA6SYxCKz8RED6fmq8dMNLQGZmZmZm5kdA2/l+arxESkASg8DKofVIQKjGSzeJcUpAQmDl0CLrTUDNzMzMzCxJQMUgsHJosUlAg8DKoUXWTEA=",
            "dtype": "f8"
           },
           "yaxis": "y"
          },
          {
           "hovertemplate": "continent=Americas<br>year=1977<br>gdpPercap=%{x}<br>lifeExp=%{y}<br>pop=%{marker.size}<extra></extra>",
           "ids": [
            "Argentina",
            "Bolivia",
            "Brazil",
            "Canada",
            "Chile",
            "Colombia",
            "Costa Rica",
            "Cuba",
            "Dominican Republic",
            "Ecuador",
            "El Salvador",
            "Guatemala",
            "Haiti",
            "Honduras",
            "Jamaica",
            "Mexico",
            "Nicaragua",
            "Panama",
            "Paraguay",
            "Peru",
            "Puerto Rico",
            "Trinidad and Tobago",
            "United States",
            "Uruguay",
            "Venezuela"
           ],
           "legendgroup": "Americas",
           "marker": {
            "color": "#ab63fa",
            "size": {
             "bdata": "lL2bAaSCTQDfStAGsBprAXG9oQAM6X4BKSwgAMSJkQAQ6lAAEhFvANpYQQAGB1cACuZKAIOeLgAO6SAAaObMA+b6JgCmEhwALootAFP98wB8Ai8AodoPAJiUIA2w2CsASwzOAA==",
             "dtype": "i4"
            },
            "sizemode": "area",
            "sizeref": 435928.2961983471,
            "symbol": "circle"
           },
           "mode": "markers",
           "name": "Americas",
           "orientation": "v",
           "showlegend": true,
           "type": "scatter",
           "x": {
            "bdata": "v2A3bIOvw0ABMQkXMrirQIrJG2AeBLpAGhcOhLiS1UCCj8GKw5SyQNf6IqGdz61ArMjogOAmt0Cgfhe2fuy4QAfOGVH686RA6KT3jZ8XukCu1LMg7BK0QCuhuyT+D7NAC9P3GjJJnUDScqCHagapQPt2EhEy+rlAdJoF2u36vUDoTrD/Xm61QD7pRILp57RAeZCeIr9gqUDfKHl1Som4QP5/nDBDFcNAJxqk4I3bvkA1Y9F0KILXQKuEJ/RWaLlAEce6uPmryUA=",
            "dtype": "f8"
           },
           "xaxis": "x",
           "y": {
            "bdata": "EVg5tMgeUUBt5/up8QJJQDvfT42Xvk5APQrXo3CNUkAW2c73U8NQQEJg5dAi609AAAAAAACwUUCoxks3iSlSQL6fGi/d5E5ASOF6FK6nTkAOAiuHFllMQMHKoUW2A0xAoBov3ST2SED6fmq8dLNMQNejcD0Kh1FANV66SQxCUEBcj8L1KLxMQN0kBoGVK1FAPN9PjZeWUEDwp8ZLNzlNQFyPwvUoXFJAMzMzMzMTUUC4HoXrUVhSQBFYObTIXlFAd76fGi/dUEA=",
            "dtype": "f8"
           },
           "yaxis": "y"
          },
          {
           "hovertemplate": "continent=Oceania<br>year=1977<br>gdpPercap=%{x}<br>lifeExp=%{y}<br>pop=%{marker.size}<extra></extra>",
           "ids": [
            "Australia",
            "New Zealand"
           ],
           "legendgroup": "Oceania",
           "marker": {
            "color": "#FFA15A",
            "size": {
             "bdata": "9MDWAORKMAA=",
             "dtype": "i4"
            },
            "sizemode": "area",
            "sizeref": 435928.2961983471,
            "symbol": "circle"
           },
           "mode": "markers",
           "name": "Oceania",
           "orientation": "v",
           "showlegend": true,
           "type": "scatter",
           "x": {
            "bdata": "qfsApIzn0UAr9pfd27TPQA==",
            "dtype": "f8"
           },
           "xaxis": "x",
           "y": {
            "bdata": "j8L1KFxfUkCuR+F6FA5SQA==",
            "dtype": "f8"
           },
           "yaxis": "y"
          }
         ],
         "name": "1977"
        },
        {
         "data": [
          {
           "hovertemplate": "continent=Asia<br>year=1982<br>gdpPercap=%{x}<br>lifeExp=%{y}<br>pop=%{marker.size}<extra></extra>",
           "ids": [
            "Afghanistan",
            "Bahrain",
            "Bangladesh",
            "Cambodia",
            "China",
            "Hong Kong, China",
            "India",
            "Indonesia",
            "Iran",
            "Iraq",
            "Israel",
            "Japan",
            "Jordan",
            "Korea, Dem. Rep.",
            "Korea, Rep.",
            "Kuwait",
            "Lebanon",
            "Malaysia",
            "Mongolia",
            "Myanmar",
            "Nepal",
            "Oman",
            "Pakistan",
            "Philippines",
            "Saudi Arabia",
            "Singapore",
            "Sri Lanka",
            "Syria",
            "Taiwan",
            "Thailand",
            "Vietnam",
            "West Bank and Gaza",
            "Yemen, Rep."
           ],
           "legendgroup": "Asia",
           "marker": {
            "color": "#636efa",
            "size": {
             "bdata": "mI/EAG/EBQDmM4wFJfhuAKgTnzt0VFAAADkzKhjUIwnvPJEChkTYAPXfOgC+eg8HF9AjAJ5HDQEwEVgCltkWABwaLwC8XdwAgMsaAHouEQJaCPEAONoTAMiZcwWGry8DkLurAN12KADnI+sAvpePAA5PGgEYC+kCZalYA9TBFQASXZMA",
             "dtype": "i4"
            },
            "sizemode": "area",
            "sizeref": 435928.2961983471,
            "symbol": "circle"
           },
           "mode": "markers",
           "name": "Asia",
           "orientation": "v",
           "showlegend": true,
           "type": "scatter",
           "x": {
            "bdata": "Pr85bReQjkAY7IZtycLSQIoIWtzaJ4VAo4+ex82Dg0BhVb38XhOOQBpuwOdDcMxAZDcizsm9ikA095DwfbOXQC0HeqhVuL1A8DMuHPRazECGWtO8gwPOQDfg88MG7tJAev1JfGpBsEDRH5p5hgqwQKgZUkXx9rVAX3tmSYKe3kCUCFT/hNi9QPrPmh9bOLNAxR9FnWlCn0AAAAAAAIB6QH32Ehn8coZAaNDQP2VNyUAZO+EluI2WQJQT7SqMVqRAVOOlm6Vz4EBehZSflKDNQFImNbRRwJlAvQD76KxjrUB3B3jSWgK9QJCeIodwsqJAwnrt4+IZhkDKpIY2CPCwQC5W1GA65p5A",
            "dtype": "f8"
           },
           "xaxis": "x",
           "y": {
            "bdata": "WmQ730/tQ0AW2c73U0NRQP3UeOkmAUlA0SLb+X56SUCamZmZmWFQQM3MzMzM3FJAPzVeuklMTEAxCKwcWhRMQI/C9Shcz01Avp8aL90ET0DNzMzMzJxSQNejcD0KR1NAO99PjZfeT0BmZmZmZkZRQB1aZDvfx1BAsp3vp8bTUUD0/dR46b5QQAAAAAAAAFFAO99PjZe+TEC6SQwCKwdNQHnpJjEIzEhAd76fGi9dT0BOYhBYORRMQNEi2/l+Ck9AqMZLN4mBT0BxPQrXo/BRQJzEILByMFFA9ihcj8IlUEAK16NwPQpSQJHtfD81JlBAnMQgsHJoTUBEi2zn+xlQQFg5tMh2jkhA",
            "dtype": "f8"
           },
           "yaxis": "y"
          },
          {
           "hovertemplate": "continent=Europe<br>year=1982<br>gdpPercap=%{x}<br>lifeExp=%{y}<br>pop=%{marker.size}<extra></extra>",
           "ids": [
            "Albania",
            "Austria",
            "Belgium",
            "Bosnia and Herzegovina",
            "Bulgaria",
            "Croatia",
            "Czech Republic",
            "Denmark",
            "Finland",
            "France",
            "Germany",
            "Greece",
            "Hungary",
            "Iceland",
            "Ireland",
            "Italy",
            "Montenegro",
            "Netherlands",
            "Norway",
            "Poland",
            "Portugal",
            "Romania",
            "Serbia",
            "Slovak Republic",
            "Slovenia",
            "Spain",
            "Sweden",
            "Switzerland",
            "Turkey",
            "United Kingdom"
           ],
           "legendgroup": "Europe",
           "marker": {
            "color": "#EF553B",
            "size": {
             "bdata": "wWsqAFWUcwAvZZYAlas/AMKuhwC4V0MA2DidAHIXTgA1p0kAHZc+AyJNqwRwVJUAf1qjAA2SAwDAGTUAVKpeA3SVCAABXNoAY8k+ADXJKAJCcpYA9iJVAXjUiQDrBk0AhGYcAE6UQwKMCH8AHrJiABcu0gL4rFsD",
             "dtype": "i4"
            },
            "sizemode": "area",
            "sizeref": 435928.2961983471,
            "symbol": "circle"
           },
           "mode": "markers",
           "name": "Europe",
           "orientation": "v",
           "showlegend": true,
           "type": "scatter",
           "x": {
            "bdata": "vHX+7cJdrEBTswdaRRfVQIHPDyP2fNRAUG7b95wesECwjuOHGBDAQEaZDTLp0slAwFsgQZ0IzkAJbTmXAi7VQOFASBZKGdJAXhH8b3nR00BRg2kY4oPVQJs4ud810s1Aumbyzf6AyEAUrkfhZrnWQE5/9iMppchA5/up8V4m0EA91SE3S+vFQEc4LXjd5dRANUbrqKiu2UAGZ/D3w4HAQLyReeTr9MZAG4LjMqjCwkAr9pfdi6bNQEOtad5FKsZAeekmMa5y0UCns5PBFTPLQGZmZmbYLtRALq2GxG2720AgQlw5W5GwQCDvVSsbztFA",
            "dtype": "f8"
           },
           "xaxis": "x",
           "y": {
            "bdata": "exSuR+GaUUDsUbgehUtSQOxRuB6Fe1JAXI/C9SisUUCF61G4HsVRQD0K16NwnVFAPQrXo3C9UUC4HoXrUahSQDMzMzMzo1JAKVyPwvW4UkAzMzMzM3NSQI/C9Shcz1JAKVyPwvVYUUCPwvUoXD9TQGZmZmZmRlJAH4XrUbi+UkBYObTIdoZSQDMzMzMzA1NArkfhehT+UkAUrkfhetRRQOF6FK5HMVJACtejcD1qUUDtfD81XopRQDMzMzMzs1FAeekmMQjEUUAzMzMzMxNTQHsUrkfhGlNAPQrXo3ANU0D4U+Olm4ROQMP1KFyPglJA",
            "dtype": "f8"
           },
           "yaxis": "y"
          },
          {
           "hovertemplate": "continent=Africa<br>year=1982<br>gdpPercap=%{x}<br>lifeExp=%{y}<br>pop=%{marker.size}<extra></extra>",
           "ids": [
            "Algeria",
            "Angola",
            "Benin",
            "Botswana",
            "Burkina Faso",
            "Burundi",
            "Cameroon",
            "Central African Republic",
            "Chad",
            "Comoros",
            "Congo, Dem. Rep.",
            "Congo, Rep.",
            "Cote d'Ivoire",
            "Djibouti",
            "Egypt",
            "Equatorial Guinea",
            "Eritrea",
            "Ethiopia",
            "Gabon",
            "Gambia",
            "Ghana",
            "Guinea",
            "Guinea-Bissau",
            "Kenya",
            "Lesotho",
            "Liberia",
            "Libya",
            "Madagascar",
            "Malawi",
            "Mali",
            "Mauritania",
            "Mauritius",
            "Morocco",
            "Mozambique",
            "Namibia",
            "Niger",
            "Nigeria",
            "Reunion",
            "Rwanda",
            "Sao Tome and Principe",
            "Senegal",
            "Sierra Leone",
            "Somalia",
            "South Africa",
            "Sudan",
            "Swaziland",
            "Tanzania",
            "Togo",
            "Tunisia",
            "Uganda",
            "Zambia",
            "Zimbabwe"
           ],
           "legendgroup": "Africa",
           "marker": {
            "color": "#00cc96",
            "size": {
             "bdata": "2bAxAcAPawADkTcAa84OAGQ8ZQA65EUADyiNAKvLJQBuY0oA41EFAN+g0wGPFBsAn7mJAEerBACTDLkCK1sEAPE9KAAMikUC0oALAAPrCgCS9K0AYeBHAIOaDAAMfg0B34oVAAvcHQDKBjMAFfKLAKk5YwDwyGoAeMAYACgjDwBKNTQB1xDAAALFEABEOWIAEH5aBLLmBwDtCVQAIYEBAMfOXQBK3TQAHPFYAL0o2wHNxjYBreoJAB7NLgEdWygAEsFmAIhwxQC3FV0ALIZ0AA==",
             "dtype": "i4"
            },
            "sizemode": "area",
            "sizeref": 435928.2961983471,
            "symbol": "circle"
           },
           "mode": "markers",
           "name": "Africa",
           "orientation": "v",
           "showlegend": true,
           "type": "scatter",
           "x": {
            "bdata": "ZRu4AylxtkA5RrJH6ImlQHcRpiiX95NAIEHxYyTHsUCun/6zljmJQHZHxmrTfIFAfgG9cPd/okCK9fwfBuaNQNNTP8pD74hAi28ofGbMk0DbVg6I+w2FQAA49uyBD7NARGtFm2tVpECsUnqm736mQPiL2ZJ1X6tA8ANGTZr+jEDMHUe9AWeAQAQlYM/iDoJAj8cMVK6EzUDnIzoVeh6KQOguibNCYItAaq6JuwDKikA9gnbi/TCKQO2CwTXnEJVAr3IN2BrqiEBCcte3mOGBQIBv058R9dBAejnsvoNblECRsBRubsaDQGCMo80cUINA4Cwly5kkl0CRtYZSE9CsQME3TZ89HaVAMhaX9GHjfEDjwRa7GV+wQEWy7O7GbYxA7FG4HuWjmEBIqYQnOJO0QJCQN6+QjItAzhYQWt+InUBq+uyA67mXQEj99QoL5JZAb59VZjpjkkCkVMITIrzAQIz2eCEtnp1AJ94BnsRurkBG6uLb8FGLQIBG6dJPApVAjyCVYnfQq0CLOoQ7IVKFQNdMvtm2ApZA48nJH9emiEA=",
            "dtype": "f8"
           },
           "xaxis": "x",
           "y": {
            "bdata": "yXa+nxqvTkB/arx0k/hDQMHKoUW2c0lAy6FFtvO9TkBWDi2ynQ9IQD81XrpJvEdAYLpJDAJ7SkD2KFyPwiVIQBkEVg4twkhAgZVDi2x3SkAxCKwcWuRHQClcj8L1WExA5/up8dL9SkAOLbKd72dIQFTjpZvEAExA2/l+arzURUBSuB6F6/FFQGiR7Xw/dUZA1HjpJjFITEAK16NwPcpGQKwcWmQ730pAN166SQxyRUBg5dAi26lDQDdeukkMYk1ARIts5/uJS0CTGARWDm1GQKRwPQrXE09AeekmMQh8SEAZBFYOLdJGQGiR7Xw/9UVA6SYxCKzMSkAv3SQGga1QQDMzMzMz001A9ihcj8JlRUCWQ4ts53tNQAaBlUOLTEVAfT81XrrpRkBxPQrXo3hRQJZDi2znG0dAsXJoke0sTkCNl24SgzBKQClcj8L1OENACtejcD16RUD4U+OlmxRNQCUGgZVDK0lALIcW2c7HS0Dn+6nx0k1JQD81XrpJvEtAUI2XbhIDUEDpJjEIrOxIQA4CK4cW6UlAWDm0yHYuTkA=",
            "dtype": "f8"
           },
           "yaxis": "y"
          },
          {
           "hovertemplate": "continent=Americas<br>year=1982<br>gdpPercap=%{x}<br>lifeExp=%{y}<br>pop=%{marker.size}<extra></extra>",
           "ids": [
            "Argentina",
            "Bolivia",
            "Brazil",
            "Canada",
            "Chile",
            "Colombia",
            "Costa Rica",
            "Cuba",
            "Dominican Republic",
            "Ecuador",
            "El Salvador",
            "Guatemala",
            "Haiti",
            "Honduras",
            "Jamaica",
            "Mexico",
            "Nicaragua",
            "Panama",
            "Paraguay",
            "Peru",
            "Puerto Rico",
            "Trinidad and Tobago",
            "United States",
            "Uruguay",
            "Venezuela"
           ],
           "legendgroup": "Americas",
           "marker": {
            "color": "#ab63fa",
            "size": {
             "bdata": "vra/AfAXVgB70a8H7IyAAYhHrwCkp6cBL/4kAChflQDdEVsAGqd/APlHRADulmEAP1JPAMj9NwDFESMASCdFBF92LQBREh8AJ14zAEmRFAGZCDIAPwkRALvn1g0NEy0AnlruAA==",
             "dtype": "i4"
            },
            "sizemode": "area",
            "sizeref": 435928.2961983471,
            "symbol": "circle"
           },
           "mode": "markers",
           "name": "Americas",
           "orientation": "v",
           "showlegend": true,
           "type": "scatter",
           "x": {
            "bdata": "hXtl3vKSwUBb7PZZBamoQHLBGfzVdrtAd/hrsrJc1kC2Oc5tquezQKZiY16TLbFAtDukGLyOtEA4cw8J65S8QDfBN00vWqZAZ195kMotvEAaUdobWAKwQGO0jqp+1LJAcCTQYKNsn0D+icqGhWOoQKYKRiUNtLdA6Zyf4pLFwkDmgcgirRyrQFeXUwKaYbtAIxYx7ICisEA7qMR1gCK5QGuad5x+LcRAuOhkqcPPwUB5I/PIY2zYQFjO3hk5CLtA4gZ8fjTIxUA=",
            "dtype": "f8"
           },
           "xaxis": "x",
           "y": {
            "bdata": "PzVeukl8UUDLoUW28+1KQGC6SQwCq09AcT0K16PwUkBcj8L1KKRRQG8Sg8DKqVBAzczMzMxcUkDZzvdT421SQJMYBFYO3U9A2c73U+MVUEBaZDvfT01MQKjGSzeJEU1AYLpJDAK7SUAxCKwcWnROQD0K16NwzVFAUrgehevZUECgGi/dJKZNQJHtfD81nlFADi2yne+3UECJFtnO97NOQAAAAAAAcFJAaJHtfD81UUCamZmZmalSQOxRuB6Fs1FAz/dT46UjUUA=",
            "dtype": "f8"
           },
           "yaxis": "y"
          },
          {
           "hovertemplate": "continent=Oceania<br>year=1982<br>gdpPercap=%{x}<br>lifeExp=%{y}<br>pop=%{marker.size}<extra></extra>",
           "ids": [
            "Australia",
            "New Zealand"
           ],
           "legendgroup": "Oceania",
           "marker": {
            "color": "#FFA15A",
            "size": {
             "bdata": "SLHnAJr9MAA=",
             "dtype": "i4"
            },
            "sizemode": "area",
            "sizeref": 435928.2961983471,
            "symbol": "circle"
           },
           "mode": "markers",
           "name": "Oceania",
           "orientation": "v",
           "showlegend": true,
           "type": "scatter",
           "x": {
            "bdata": "ICQLmEAF00CSXP5DGjjRQA==",
            "dtype": "f8"
           },
           "xaxis": "x",
           "y": {
            "bdata": "j8L1KFyvUkD2KFyPwnVSQA==",
            "dtype": "f8"
           },
           "yaxis": "y"
          }
         ],
         "name": "1982"
        },
        {
         "data": [
          {
           "hovertemplate": "continent=Asia<br>year=1987<br>gdpPercap=%{x}<br>lifeExp=%{y}<br>pop=%{marker.size}<extra></extra>",
           "ids": [
            "Afghanistan",
            "Bahrain",
            "Bangladesh",
            "Cambodia",
            "China",
            "Hong Kong, China",
            "India",
            "Indonesia",
            "Iran",
            "Iraq",
            "Israel",
            "Japan",
            "Jordan",
            "Korea, Dem. Rep.",
            "Korea, Rep.",
            "Kuwait",
            "Lebanon",
            "Malaysia",
            "Mongolia",
            "Myanmar",
            "Nepal",
            "Oman",
            "Pakistan",
            "Philippines",
            "Saudi Arabia",
            "Singapore",
            "Sri Lanka",
            "Syria",
            "Taiwan",
            "Thailand",
            "Vietnam",
            "West Bank and Gaza",
            "Yemen, Rep."
           ],
           "legendgroup": "Asia",
           "marker": {
            "color": "#636efa",
            "size": {
             "bdata": "tZvTANTvBgARUS8GT75/ALgPnUB+NlUAAO33LmDyFgogxhcD1W38AIwiQAA990YHygcrAKLyIgHwGXsCn9wcAMkjLwAJNPkAnb8eACJFRAL8ZBEBGlIYAEEGRQZ8zJMDYRTfADikKgDIsvsAX42rAOd6LQEGWScD+6e+A0rOGQCMMasA",
             "dtype": "i4"
            },
            "sizemode": "area",
            "sizeref": 435928.2961983471,
            "symbol": "circle"
           },
           "mode": "markers",
           "name": "Asia",
           "orientation": "v",
           "showlegend": true,
           "type": "scatter",
           "x": {
            "bdata": "Kngb5SqjikBJ9DKKARfSQLSQgNHVf4dAZilIIipfhUD7A+W2nYuVQMmOjUCekdNAqDuq9RmEjkDKMy+HbVGbQKWkh6Hh8rlAiQeUTcm9xkCqtwa2nrjQQJv+7Ef82dVAKHy2Dq5gsUBVGFsIfgqwQFxV9l2LqsBAfNXKhJt120AtXFZhFwG1QAnBqnrNgbRA2gBsQAREokAAAAAAABB4QNF+/0EPPYhAMA3DR86w0UD1K50Pv6KaQD+MEB5FG6FAH0sfupCz1ECZgcr4YWvSQMLaGDsRU51AkWEVb4xZqEBEi2znR5fFQASsVbtOTadAoiNeQ2WmiUDBAMKHMvOzQPfKvFX3zp5A",
            "dtype": "f8"
           },
           "xaxis": "x",
           "y": {
            "bdata": "8KfGSzdpREAAAAAAALBRQEa28/3UaEpAokW28/30SkCoxks3idFQQM3MzMzMDFNAEFg5tMhGTUCoxks3iRFOQIXrUbgehU9AiUFg5dBCUEBmZmZmZuZSQHsUrkfhqlNAVg4tsp13UEDDILByaKlRQKRwPQrXc1FAQGDl0CKLUkAlBoGVQ/tQQAAAAAAAYFFAI9v5fmocTkAIrBxaZCtNQNv5fmq8REpA5dAi2/nuUECPwvUoXB9NQIxs5/upCVBAexSuR+GSUECkcD0K12NSQGMQWDm0QFFAdJMYBFa+UECamZmZmVlSQEw3iUFghVBAKVyPwvVoT0Bt5/up8cJQQLx0kxgEdkpA",
            "dtype": "f8"
           },
           "yaxis": "y"
          },
          {
           "hovertemplate": "continent=Europe<br>year=1987<br>gdpPercap=%{x}<br>lifeExp=%{y}<br>pop=%{marker.size}<extra></extra>",
           "ids": [
            "Albania",
            "Austria",
            "Belgium",
            "Bosnia and Herzegovina",
            "Bulgaria",
            "Croatia",
            "Czech Republic",
            "Denmark",
            "Finland",
            "France",
            "Germany",
            "Greece",
            "Hungary",
            "Iceland",
            "Ireland",
            "Italy",
            "Montenegro",
            "Netherlands",
            "Norway",
            "Poland",
            "Portugal",
            "Romania",
            "Serbia",
            "Slovak Republic",
            "Slovenia",
            "Spain",
            "Sweden",
            "Switzerland",
            "Turkey",
            "United Kingdom"
           ],
           "legendgroup": "Europe",
           "marker": {
            "color": "#EF553B",
            "size": {
             "bdata": "+ewuABelcwB4m5YAITVCALbmiADWbEQArVedAHA7TgCRQEsAFNlQAxrjoQTaMpgABPChAMS7AwC8AzYAZ6BhA4GwCAA+xt8AI+A/AKbgPwKZS5cAoypaAb/ZjADWVU8ADrEdAL5FUQIbgIAAVnhlALDnJgN0eGUD",
             "dtype": "i4"
            },
            "sizemode": "area",
            "sizeref": 435928.2961983471,
            "symbol": "circle"
           },
           "mode": "markers",
           "name": "Europe",
           "orientation": "v",
           "showlegend": true,
           "type": "scatter",
           "x": {
            "bdata": "qyFxj901rUCNtFTe9CHXQEKygAlk/9VA/fm2YB3asEDrcd9q7RfAQGrBi75K/8pAhslUwTjbz0AUlnhAC4fYQIJWYMhApdRAEJIFTJyM1UALe9rhyw/YQMSUSKJDfM9AXhH8bz1dyUB0B7EzzUraQKqaIOpuGMtAHXdKB8/B0kCzJEBNQerGQKq3BrbUGNdACYofYz7N3kCjPzTzLL3BQCibcoWnd8lAlZ9U+yLwwkCbAwRzcP/OQIi6D0CigsdAfhghPKI90kDcLjTXfcrOQMrgKHm7CNdAxqcAGG2S3UBLdQEvC+GzQINuL2kyKNVA",
            "dtype": "f8"
           },
           "xaxis": "x",
           "y": {
            "bdata": "AAAAAAAAUkBcj8L1KLxSQGZmZmZm1lJAKVyPwvXIUUD2KFyPwtVRQOF6FK5H4VFAhetRuB7lUUAzMzMzM7NSQIXrUbgetVJA9ihcj8IVU0CR7Xw/NbZSQHsUrkfhKlNAhetRuB5lUUAfhetRuE5TQNejcD0Kl1JAexSuR+EaU0CPwvUoXLdSQIXrUbgeNVNAKVyPwvX4UkAfhetRuL5RQKRwPQrXg1JAUrgehethUUDLoUW2881RQIXrUbgexVFAAAAAAAAQUkCamZmZmTlTQFyPwvUoTFNACtejcD1aU0Dn+6nx0o1PQJzEILBywFJA",
            "dtype": "f8"
           },
           "yaxis": "y"
          },
          {
           "hovertemplate": "continent=Africa<br>year=1987<br>gdpPercap=%{x}<br>lifeExp=%{y}<br>pop=%{marker.size}<extra></extra>",
           "ids": [
            "Algeria",
            "Angola",
            "Benin",
            "Botswana",
            "Burkina Faso",
            "Burundi",
            "Cameroon",
            "Central African Republic",
            "Chad",
            "Comoros",
            "Congo, Dem. Rep.",
            "Congo, Rep.",
            "Cote d'Ivoire",
            "Djibouti",
            "Egypt",
            "Equatorial Guinea",
            "Eritrea",
            "Ethiopia",
            "Gabon",
            "Gambia",
            "Ghana",
            "Guinea",
            "Guinea-Bissau",
            "Kenya",
            "Lesotho",
            "Liberia",
            "Libya",
            "Madagascar",
            "Malawi",
            "Mali",
            "Mauritania",
            "Mauritius",
            "Morocco",
            "Mozambique",
            "Namibia",
            "Niger",
            "Nigeria",
            "Reunion",
            "Rwanda",
            "Sao Tome and Principe",
            "Senegal",
            "Sierra Leone",
            "Somalia",
            "South Africa",
            "Sudan",
            "Swaziland",
            "Tanzania",
            "Togo",
            "Tunisia",
            "Uganda",
            "Zambia",
            "Zimbabwe"
           ],
           "legendgroup": "Africa",
           "marker": {
            "color": "#00cc96",
            "size": {
             "bdata": "rNdiAbYmeABMwUAA0JARAPfCcwCHN04A+3+kAMlVKwBL6FMAagcGAC1oHQLffh8AijOkAPG+BABWpiUD/DQFAHd+LADqHpACDW8NABbyDAAlMNgAVjdWACQnDgACdUMB4GYYAOagIgAl+zkAwkOhAGtldwBYfHQAWBgcAOfoDwCFwl4BMLfEAOiAEwAe428AoGDcBHOTCAA14mAA3LABABNtbQDpCDsAgp5pAMNMJALISXkBVOQLAHaSXwFYITAAsN91AGoz6QDW924AoqGMAA==",
             "dtype": "i4"
            },
            "sizemode": "area",
            "sizeref": 435928.2961983471,
            "symbol": "circle"
           },
           "mode": "markers",
           "name": "Africa",
           "orientation": "v",
           "showlegend": true,
           "type": "scatter",
           "x": {
            "bdata": "Vz82yVsxtkDLSL2navyiQDKs4o1sJ5NAklz+Q+I9uEAchG9QgYCMQMVm7PCMboNAnQ/PElRVpECznv/DAmeKQEwYzcoWw41AGR77WeyPlEBjRKLQMgaFQMYnZOcxabBAcj/ggenZoEA7+8qDNICmQOFdLuLrWq5AhlBKrSw3jkBwxnq0EkmAQH2oIzbu7YFAMA3DRzQsx0Dc6PdYRR2DQIMUPIUMeIpADlcYbJQsiUAi5Be5UgOHQD/kLVe/R5VAZ+s7GvIviECTPghc0qF/QJf/kH5L/cZAIToEjsQNkkAsGWyPI9yDQAtLl1lfYYVAmrLTD2o2lkDtZkY/lq+yQGpQNA8YhqVAJKQk2gReeEC2os1xdtusQG+QWnJm4oRAsFjDRR6klUCitg2jYLe0QOqxLQPuf4pA0VlmERqyl0BLdmwE4oaWQCz+74jKOZRA7KaU1/oUkUCYGTbK0pG+QOXsndFGj5dAlKXW+60hr0C5TV2ek/6JQML2kzHOyJJAsB73rdbErUAUlKKVy02DQMnJxK1C9ZJAvn+YKUIRhkA=",
            "dtype": "f8"
           },
           "xaxis": "x",
           "y": {
            "bdata": "QWDl0CJzUECHFtnO9/NDQEJg5dAiK0pAVg4tsp3PT0Ce76fGS8dIQGC6SQwCG0hArkfhehR+S0CuR+F6FD5JQEoMAiuHhklASgwCK4d2S0Db+X5qvLRHQFyPwvUovExApHA9CtdTS0CF61G4HgVJQLx0kxgE5k1AokW28/3URkBEi2zn+zlHQGQ730+NV0dAuB6F61EYTkBSuB6F66FIQFpkO99P3UtALbKd76fGRkCPwvUoXJ9EQAisHFpkq01A16NwPQqXTED6fmq8dANHQOXQItv5jlBAzczMzMysSEDRItv5frpHQDvfT42XLkdAw/UoXI8STECPwvUoXC9RQC2yne+nVk9Ake18PzVuRUB7FK5H4WpOQNejcD0KR0ZAxSCwcmhxR0DfT42XbvpRQMP1KFyPAkZAd76fGi/dTkDfT42XbuJLQFTjpZvEAERA5aWbxCBARkCYbhKDwGpOQKwcWmQ730lAEFg5tMjWTEAUrkfhesRJQJzEILByeExA76fGSze5UED91HjpJsFJQA4CK4cWaUlAsXJoke0sT0A=",
            "dtype": "f8"
           },
           "yaxis": "y"
          },
          {
           "hovertemplate": "continent=Americas<br>year=1987<br>gdpPercap=%{x}<br>lifeExp=%{y}<br>pop=%{marker.size}<extra></extra>",
           "ids": [
            "Argentina",
            "Bolivia",
            "Brazil",
            "Canada",
            "Chile",
            "Colombia",
            "Costa Rica",
            "Cuba",
            "Dominican Republic",
            "Ecuador",
            "El Salvador",
            "Guatemala",
            "Haiti",
            "Honduras",
            "Jamaica",
            "Mexico",
            "Nicaragua",
            "Panama",
            "Paraguay",
            "Peru",
            "Puerto Rico",
            "Trinidad and Tobago",
            "United States",
            "Uruguay",
            "Venezuela"
           ],
           "legendgroup": "Americas",
           "marker": {
            "color": "#ab63fa",
            "size": {
             "bdata": "Nn/iAVHwXQDcD4UIxB2VAfosvgAVetgBw7gqAF8/nABBjWUAxqWRANLiSQDGym8AK9VXAOu2QgBOgCMAfJLGBOEHMwBHYyIAsE07AFQqNAH0jjQAqC0SAE3jeA4hdy4ApkkRAQ==",
             "dtype": "i4"
            },
            "sizemode": "area",
            "sizeref": 435928.2961983471,
            "symbol": "circle"
           },
           "mode": "markers",
           "name": "Americas",
           "orientation": "v",
           "showlegend": true,
           "type": "scatter",
           "x": {
            "bdata": "8iIT8NXZwUAGL/oKYoOlQGBIh4cYf75AnWNA9qAA2kD9oC5SEKu1QI4G8BY4J7NAcctHUur9tUCMmUS97Gy9QAXFjzGvp6ZAOWQD6cZRuUCp3EQtcSywQLXEymh8lrBAmUf+YBB8nEAdBYiCMZ6nQPfpeMw8z7hAigPo9xP4wEAAAAAA+BenQFJlGHfHertAi1QYW8A9r0CcxYuF8di4QBb2tMOr/MdAzJntCpncvECOEB5tFi/dQB4X1SJmHL1A1uO+1cpNw0A=",
            "dtype": "f8"
           },
           "xaxis": "x",
           "y": {
            "bdata": "qMZLN4mxUUDlpZvEIKBMQIXrUbgeTVBA16NwPQo3U0BzaJHtfB9SQP7UeOkm8VBA46WbxCCwUkBAYOXQIotSQG3n+6nxglBAEVg5tMjOUEDByqFFtpNPQGq8dJMYZE5AxSCwcmjRSkBzaJHtfB9QQOF6FK5H8VFAHVpkO99fUUAbL90kBgFPQLbz/dR44VFA1XjpJjHYUEB/arx0kwhQQLgehetRqFJAaJHtfD9lUUDhehSuR8FSQJhuEoPA+lFAXI/C9SiMUUA=",
            "dtype": "f8"
           },
           "yaxis": "y"
          },
          {
           "hovertemplate": "continent=Oceania<br>year=1987<br>gdpPercap=%{x}<br>lifeExp=%{y}<br>pop=%{marker.size}<extra></extra>",
           "ids": [
            "Australia",
            "New Zealand"
           ],
           "legendgroup": "Oceania",
           "marker": {
            "color": "#FFA15A",
            "size": {
             "bdata": "4RD4AK6dMgA=",
             "dtype": "i4"
            },
            "sizemode": "area",
            "sizeref": 435928.2961983471,
            "symbol": "circle"
           },
           "mode": "markers",
           "name": "Oceania",
           "orientation": "v",
           "showlegend": true,
           "type": "scatter",
           "x": {
            "bdata": "yhXe5Thg1UCDaRg+zI/SQA==",
            "dtype": "f8"
           },
           "xaxis": "x",
           "y": {
            "bdata": "FK5H4XoUU0AUrkfhepRSQA==",
            "dtype": "f8"
           },
           "yaxis": "y"
          }
         ],
         "name": "1987"
        },
        {
         "data": [
          {
           "hovertemplate": "continent=Asia<br>year=1992<br>gdpPercap=%{x}<br>lifeExp=%{y}<br>pop=%{marker.size}<extra></extra>",
           "ids": [
            "Afghanistan",
            "Bahrain",
            "Bangladesh",
            "Cambodia",
            "China",
            "Hong Kong, China",
            "India",
            "Indonesia",
            "Iran",
            "Iraq",
            "Israel",
            "Japan",
            "Jordan",
            "Korea, Dem. Rep.",
            "Korea, Rep.",
            "Kuwait",
            "Lebanon",
            "Malaysia",
            "Mongolia",
            "Myanmar",
            "Nepal",
            "Oman",
            "Pakistan",
            "Philippines",
            "Saudi Arabia",
            "Singapore",
            "Sri Lanka",
            "Syria",
            "Taiwan",
            "Thailand",
            "Vietnam",
            "West Bank and Gaza",
            "Yemen, Rep."
           ],
           "legendgroup": "Asia",
           "marker": {
            "color": "#636efa",
            "size": {
             "bdata": "4f34AFMUCACD/sYGzuCaABAIcEVA9FgAAKr5M4ARBAuVmZkDEY0QAWZTSwA1HWkHEQM7AM8HPAEKa5wCb6MVABoiMQCOiBcBYkojAOqwagJBJzYBSDkdAOwLKAdmLAEEwZICARlgMQB0WwwB9rTJAEaoOwHXq2AD+DUrBMsdIAC9+ssA",
             "dtype": "i4"
            },
            "sizemode": "area",
            "sizeref": 435928.2961983471,
            "symbol": "circle"
           },
           "mode": "markers",
           "name": "Asia",
           "orientation": "v",
           "showlegend": true,
           "type": "scatter",
           "x": {
            "bdata": "GRhoLbtKhEA1DB8R5ZbSQBenazd7LopAlstG52xShUCWk1D6It+ZQEpBt5dmLdhA4NqJkqAxkkAlXMgjSJ6iQCIqVDenQ7xA8l8gCEhDrUC3nEtx4aDRQBV0e0k5MtpAveR/8i/PqkAiUP2DIBytQF/SGK0jpMdA9wFIbZ0O4UCm1vuNzuq6QLlRZK3pbbxA4BEVqpvlm0AAAAAAALB1QAfKEkLsDYxAznADPi0u0kDWxAJfUc+eQLRkjuWlzqFAnS6LiWdC2ECMuWsJeTDYQPhUTnt606BAofKv5RUZqkAFNBE21LfNQGYe+YPlCLJAj+uVaC/ojkDc1haep4G3QDrP2Jf8XZ1A",
            "dtype": "f8"
           },
           "xaxis": "x",
           "y": {
            "bdata": "g8DKoUXWREBYObTIdiZSQPyp8dJNAkxAEFg5tMjmS0Bcj8L1KCxRQFg5tMh2ZlNABoGVQ4scTkC6SQwCK1dPQHNoke18b1BAYLpJDAK7TUDsUbgehTtTQNejcD0K11NAKVyPwvUAUUA830+Nl35RQFYOLbKdD1JAXI/C9SjMUkCmm8QgsFJRQDEIrBxarFFAppvEILCiTkApXI/C9ahNQJMYBFYO3UtA+FPjpZvMUUAlBoGVQ2tOQFpkO99PnVBA/tR46SYxUUDfT42XbvJSQMVLN4lBmFFADi2yne9PUUBxPQrXo5BSQFCNl24S01BA7Xw/NV7qUEDLoUW2821RQOkmMQiszEtA",
            "dtype": "f8"
           },
           "yaxis": "y"
          },
          {
           "hovertemplate": "continent=Europe<br>year=1992<br>gdpPercap=%{x}<br>lifeExp=%{y}<br>pop=%{marker.size}<extra></extra>",
           "ids": [
            "Albania",
            "Austria",
            "Belgium",
            "Bosnia and Herzegovina",
            "Bulgaria",
            "Croatia",
            "Czech Republic",
            "Denmark",
            "Finland",
            "France",
            "Germany",
            "Greece",
            "Hungary",
            "Iceland",
            "Ireland",
            "Italy",
            "Montenegro",
            "Netherlands",
            "Norway",
            "Poland",
            "Portugal",
            "Romania",
            "Serbia",
            "Slovak Republic",
            "Slovenia",
            "Spain",
            "Sweden",
            "Switzerland",
            "Turkey",
            "United Kingdom"
           ],
           "legendgroup": "Europe",
           "marker": {
            "color": "#EF553B",
            "size": {
             "bdata": "IsIyANnFeAC2SJkADfFAAEoehAC9kkQAtmedAMHoTgCP60wA43VrAwTTzQS1jZ0AjOidAMTzAwCBSTYAj1JjAzV8CQBkiucAlWdBAIl9SQIAfJcA49pbAV3wlQBo6lAAaoEeAP55WwITCoUA971qAEi+dwNt+HID",
             "dtype": "i4"
            },
            "sizemode": "area",
            "sizeref": 435928.2961983471,
            "symbol": "circle"
           },
           "mode": "markers",
           "name": "Europe",
           "orientation": "v",
           "showlegend": true,
           "type": "scatter",
           "x": {
            "bdata": "xVOPNOCCo0BGmQ0ygWjaQIpZL4bk+dhAPx2PGZDlo0AX/aGZn564QL0BZr7lf8BAA0NWt4Lsy0B90LNZr8nZQIs3Mo/KKdRALSEf9PIf2EDIJCNnU+LZQO3YCMRfIdFA845TdNCTxEBtHLEWGY7YQJCg+DG0JdFAoOBiRWl/1UAk+yDLVlu7QH0Faca8KdpAeAskKLWV4ECzRGeZ4Tq+QBKN7iCip89AiCtn72jGuUAs1QW8iDbCQEvmWN47jcJAuRluwFvDy0B8fhghxCrSQOYivhMBUtdARGlv8OEf30Aly0koWS62QGXkLOxFLNZA",
            "dtype": "f8"
           },
           "xaxis": "x",
           "y": {
            "bdata": "d76fGi/lUUDD9ShcjwJTQD0K16NwHVNACKwcWmQLUkBcj8L1KMxRQH0/NV66IVJAmpmZmZkZUkCF61G4HtVSQM3MzMzM7FJAPQrXo3BdU0AUrkfhegRTQFK4HoXrQVNAexSuR+FKUUDhehSuR7FTQNnO91Pj3VJAXI/C9ShcU0CkcD0K19tSQHsUrkfhWlNAFK5H4XpUU0CPwvUoXL9RQNejcD0Kt1JA16NwPQpXUUAXBFYOLepRQLgehetR2FFAKVyPwvVoUkAUrkfhemRTQArXo3A9ilNAUrgeheuBU0DTTWIQWIlQQHsUrkfhGlNA",
            "dtype": "f8"
           },
           "yaxis": "y"
          },
          {
           "hovertemplate": "continent=Africa<br>year=1992<br>gdpPercap=%{x}<br>lifeExp=%{y}<br>pop=%{marker.size}<extra></extra>",
           "ids": [
            "Algeria",
            "Angola",
            "Benin",
            "Botswana",
            "Burkina Faso",
            "Burundi",
            "Cameroon",
            "Central African Republic",
            "Chad",
            "Comoros",
            "Congo, Dem. Rep.",
            "Congo, Rep.",
            "Cote d'Ivoire",
            "Djibouti",
            "Egypt",
            "Equatorial Guinea",
            "Eritrea",
            "Ethiopia",
            "Gabon",
            "Gambia",
            "Ghana",
            "Guinea",
            "Guinea-Bissau",
            "Kenya",
            "Lesotho",
            "Liberia",
            "Libya",
            "Madagascar",
            "Malawi",
            "Mali",
            "Mauritania",
            "Mauritius",
            "Morocco",
            "Mozambique",
            "Namibia",
            "Niger",
            "Nigeria",
            "Reunion",
            "Rwanda",
            "Sao Tome and Principe",
            "Senegal",
            "Sierra Leone",
            "Somalia",
            "South Africa",
            "Sudan",
            "Swaziland",
            "Tanzania",
            "Togo",
            "Tunisia",
            "Uganda",
            "Zambia",
            "Zimbabwe"
           ],
           "legendgroup": "Africa",
           "marker": {
            "color": "#00cc96",
            "size": {
             "bdata": "BUiRAfRMhQCnA0wAlnwUAN94hwBUpFgA4zu+AGTSMQDpGmIAHe8GAM/dewJxwiQA9OTCAJzcBQDWZ4oD/uoFANj5NwDvzhoDiwoPAGilDwDSZPgA7qpqADoJEAB7yH0Bu4MbAI4wHQDVmEIA21C6ACnOmADXa4AAKVcgAAq6EABfpokBG9HIAE23FwByEIAAFKCQBW9+CQBbPW8A1+sBANDEfgAUBEEAVxNdAP/NYQIEuK4BKK8OAKH3lQHhLjkARQ2CAJ6BFgHr4n8A1FWjAA==",
             "dtype": "i4"
            },
            "sizemode": "area",
            "sizeref": 435928.2961983471,
            "symbol": "circle"
           },
           "mode": "markers",
           "name": "Africa",
           "orientation": "v",
           "showlegend": true,
           "type": "scatter",
           "x": {
            "bdata": "x4Mtdjefs0Bv05/9sIekQAH8U6rUnJJAw0fElBwSv0B4LuetBR6NQJIxiFmZvYNAoRhZMqcEnECi/f6DPl+HQIj029dBiJBAfO2ZJaF7k0ChJp/DgZt8QOOKi6N6YK9A9S7ej0vAmUDN12X4T5KiQDVG66iCpa1ArDjVWjiwkUBEgpg63jaCQFX8OsunVXpAPIidKRRpykCvgQjM/syEQMo1BTJ76IxAXWUSmsnSiECTWK2nUUyHQCc8odev95RAjiPW4uOLjkBvVAK9++SDQLuYZroR1MJAh78ma7RCkEDOwTOhmZmBQArXo3AdGIdAViqoqHpFlUA6LA38QKq3QFcFajEYCKdAV4wEZFmueUCQ3Jp0E7mtQEtZhjh2KYJApUv/kmRPmUCRup19QdW3QGGhe3uMCIdAfPFFexxTlkAl6C/0mF+VQLKbGf3IspBAuwPhr673jED6bOS6ETm8QJ/jo8XJUJdA3EYDeAvCq0AyWHGqdc2JQJPi4xMyKZBAwvuqXLjssEAP3sPKXSGEQNmvO92J65JABjXXxF2rhUA=",
            "dtype": "f8"
           },
           "xaxis": "x",
           "y": {
            "bdata": "Vg4tsp3vUECJQWDl0FJEQBKDwMqh9UpAj8L1KFxfT0DhehSuRyFJQJHtfD81XkZA1HjpJjEoS0Cmm8QgsLJIQOkmMQis3ElA1HjpJjH4TECgGi/dJMZGQIGVQ4tsN0xAEoPAyqEFSkBaZDvfT81JQIPAyqFF1k9A9ihcj8LFR0ADK4cW2f5IQM/3U+OlC0hAAyuHFtmuTkDfT42XblJKQOWlm8QgwExAfT81XrpJSEA3XrpJDKJFQBSuR+F6pE1ASOF6FK7XTUAtsp3vp2ZEQLgehetRMFFACKwcWmQbSkD2KFyPwrVIQI1s5/upMUhAtMh2vp8qTUBI4XoUrm9RQP7UeOkmWVBAMQisHFokRkAdWmQ73/9OQDdeukkMskdAI9v5fmq8R0CPwvUoXGdSQNNNYhBYmTdA5dAi2/leT0AOAiuHFhlNQLTIdr6fKkNATmIQWDnUQ0CNbOf7qfFOQLpJDAIrx0pA6SYxCKw8TUC4HoXrUThJQCyHFtnOB01A8tJNYhCAUUCamZmZmWlIQM3MzMzMDEdAx0s3iUEwTkA=",
            "dtype": "f8"
           },
           "yaxis": "y"
          },
          {
           "hovertemplate": "continent=Americas<br>year=1992<br>gdpPercap=%{x}<br>lifeExp=%{y}<br>pop=%{marker.size}<extra></extra>",
           "ids": [
            "Argentina",
            "Bolivia",
            "Brazil",
            "Canada",
            "Chile",
            "Colombia",
            "Costa Rica",
            "Cuba",
            "Dominican Republic",
            "Ecuador",
            "El Salvador",
            "Guatemala",
            "Haiti",
            "Honduras",
            "Jamaica",
            "Mexico",
            "Nicaragua",
            "Panama",
            "Paraguay",
            "Peru",
            "Puerto Rico",
            "Trinidad and Tobago",
            "United States",
            "Uruguay",
            "Venezuela"
           ],
           "legendgroup": "Americas",
           "marker": {
            "color": "#ab63fa",
            "size": {
             "bdata": "IywGAosvaQAmAUwJ7juzAYIbzwBh5AkCYGswALyfowCNK3AA6gGkABl8UAAlgIEAmolgAGN5TQB6SyQAtndABRNPPQAF6yUAaWtEAPFCVgGYtDYAtQ8SAO3kTw/ODTAAWzo1AQ==",
             "dtype": "i4"
            },
            "sizemode": "area",
            "sizeref": 435928.2961983471,
            "symbol": "circle"
           },
           "mode": "markers",
           "name": "Americas",
           "orientation": "v",
           "showlegend": true,
           "type": "scatter",
           "x": {
            "bdata": "QQ5KmDUuwkBqvko+ZiOnQBNzEHRIJrtASkG3l7i52UB5PC0/IKy9QKGCwwumRLVAxTvAk2oQuEAJjPUN2Ni1QLEYda1tyKdAVxNE3bO/u0B88rBQO1yxQLsPQGpzV7FAOUIG8jzBlkBoIQGjYxOoQM7Cnnbs7LxAghyUMDGAwkAJpMSuTfSgQEtZhji+2rlAG2ZoPGlksEBDOjyEYV6xQJSkaybLmMxAjzS4rf3KvEAB9tGp+0DfQNc07zgByb9A+3lTkfb2xEA=",
            "dtype": "f8"
           },
           "xaxis": "x",
           "y": {
            "bdata": "ZDvfT433UUDRItv5fvpNQM/3U+Olw1BAzczMzMx8U0Dy0k1iEIhSQG3n+6nxGlFAFIPAyqHtUkDRItv5fppSQGiR7Xw/HVFArBxaZDtnUUBQjZduErNQQDu0yHa+r09ACKwcWmSLS0Coxks3iZlQQBsv3SQG8VFAhetRuB7dUUDLoUW283VQQCGwcmiRHVJAZmZmZmYOUUBaZDvfT51QQPyp8dJNelJAukkMAit3UUD2KFyPwgVTQOOlm8QgMFJAmpmZmZnJUUA=",
            "dtype": "f8"
           },
           "yaxis": "y"
          },
          {
           "hovertemplate": "continent=Oceania<br>year=1992<br>gdpPercap=%{x}<br>lifeExp=%{y}<br>pop=%{marker.size}<extra></extra>",
           "ids": [
            "Australia",
            "New Zealand"
           ],
           "legendgroup": "Oceania",
           "marker": {
            "color": "#FFA15A",
            "size": {
             "bdata": "+cAKAWp0NAA=",
             "dtype": "i4"
            },
            "sizemode": "area",
            "sizeref": 435928.2961983471,
            "symbol": "circle"
           },
           "mode": "markers",
           "name": "Oceania",
           "orientation": "v",
           "showlegend": true,
           "type": "scatter",
           "x": {
            "bdata": "5iK+EzHg1kBKJNHL1O7RQA==",
            "dtype": "f8"
           },
           "xaxis": "x",
           "y": {
            "bdata": "pHA9CtdjU0CF61G4HhVTQA==",
            "dtype": "f8"
           },
           "yaxis": "y"
          }
         ],
         "name": "1992"
        },
        {
         "data": [
          {
           "hovertemplate": "continent=Asia<br>year=1997<br>gdpPercap=%{x}<br>lifeExp=%{y}<br>pop=%{marker.size}<extra></extra>",
           "ids": [
            "Afghanistan",
            "Bahrain",
            "Bangladesh",
            "Cambodia",
            "China",
            "Hong Kong, China",
            "India",
            "Indonesia",
            "Iran",
            "Iraq",
            "Israel",
            "Japan",
            "Jordan",
            "Korea, Dem. Rep.",
            "Korea, Rep.",
            "Kuwait",
            "Lebanon",
            "Malaysia",
            "Mongolia",
            "Myanmar",
            "Nepal",
            "Oman",
            "Pakistan",
            "Philippines",
            "Saudi Arabia",
            "Singapore",
            "Sri Lanka",
            "Syria",
            "Taiwan",
            "Thailand",
            "Vietnam",
            "West Bank and Gaza",
            "Yemen, Rep."
           ],
           "legendgroup": "Asia",
           "marker": {
            "color": "#636efa",
            "size": {
             "bdata": "1ylTASEiCQBYpFkHMsuzAHh0UUmuHmMAwC0pObC94AvzTsYDFwM9AftmVACT8YEHmxBFANFcSQF4jsAC4e8aAPRXNAC7cDgBUxEmAPvokwIZ+F4Bc9giACKOFAh8m3gEv/BDAcUEOgCfUR0BOB7mAL0GSgFl1ZYDZGqIBD4fKwBBfvEA",
             "dtype": "i4"
            },
            "sizemode": "area",
            "sizeref": 435928.2961983471,
            "symbol": "circle"
           },
           "mode": "markers",
           "name": "Asia",
           "orientation": "v",
           "showlegend": true,
           "type": "scatter",
           "x": {
            "bdata": "qKs7Frvag0A6XRYTAdHTQCcGNwgpZo5AZ341B0jyhkCifazgd+KhQLcLzXVotttAggGED0XLlkDhCijUq16oQOaw+47LI8BAfQVpxnoIqEDbxMn9JmjUQJ/leXAlJNxA9NxCV8J6rECfzD/6BmuaQMx6MZTDPM9Am1q21pOt40Ag0m9fexnBQJFhFW90ysNASZ2AJgK5nUAAAAAAAPB5QCdsPxkjl49AMxtkkoM900AhD313swKgQKCJsOER0aNAgq0SLKwa1ECppE5A713gQJONB1v00KRAUrmJWnpcr0Crsu+KtLvTQL9GkiCg3LZARNycSpanlUAwKxTpqsa7QCC4yhP4iqBA",
            "dtype": "f8"
           },
           "xaxis": "x",
           "y": {
            "bdata": "jWzn+6nhREAzMzMzM3tSQNv5fmq8tE1AMQisHFpETEAlBoGVQ5tRQAAAAAAAAFRAUrgehevhTkC0yHa+n4JQQKabxCCwAlFALIcW2c5nTUDup8ZLN5FTQFyPwvUoLFRAxCCwcmhxUUBKDAIrh+5QQMMgsHJoqVJARIts5/sJU0ApXI/C9ZBRQHnpJjEI/FFAAAAAAADQT0BEi2zn+ylOQEoMAiuHtk1ADi2yne8fUkBkEFg5tOhOQGq8dJMYJFFAJzEIrByiUUAnMQisHEpTQGiR7Xw/nVFAfT81XrrhUUAAAAAAANBSQNNNYhBY4VBAXrpJDAKrUUCgGi/dJMZRQMP1KFyPAk1A",
            "dtype": "f8"
           },
           "yaxis": "y"
          },
          {
           "hovertemplate": "continent=Europe<br>year=1997<br>gdpPercap=%{x}<br>lifeExp=%{y}<br>pop=%{marker.size}<extra></extra>",
           "ids": [
            "Albania",
            "Austria",
            "Belgium",
            "Bosnia and Herzegovina",
            "Bulgaria",
            "Croatia",
            "Czech Republic",
            "Denmark",
            "Finland",
            "France",
            "Germany",
            "Greece",
            "Hungary",
            "Iceland",
            "Ireland",
            "Italy",
            "Montenegro",
            "Netherlands",
            "Norway",
            "Poland",
            "Portugal",
            "Romania",
            "Serbia",
            "Slovak Republic",
            "Slovenia",
            "Spain",
            "Sweden",
            "Switzerland",
            "Turkey",
            "United Kingdom"
           ],
           "legendgroup": "Europe",
           "marker": {
            "color": "#EF553B",
            "size": {
             "bdata": "xk40APQiewDropsA2Ak3AAkUewCz0UMAIy2dAE+fUABGWE4AxIV+A8Fj4wTkQKAATFKcAFgjBAAh9TcALRFtA6uRCgDwGu4AqDlDAO3TTQJ/+ZoAmkZYAVK5nQBiI1IA3LEeAFIlYAJTxIcAocRtAN8HwgPKV4ED",
             "dtype": "i4"
            },
            "sizemode": "area",
            "sizeref": 435928.2961983471,
            "symbol": "circle"
           },
           "mode": "markers",
           "name": "Europe",
           "orientation": "v",
           "showlegend": true,
           "type": "scatter",
           "x": {
            "bdata": "djQO9RvyqECw6xfs+mncQNr+lZVM6tpAhEiGHFueskD+fcaFY1K3QHldv2DNScNAJsed0kFYz0BNEHUfFhvdQCqpE9D8KtdAZ2FPO3JI2UAc0xOWOCPbQAJlU67sTtJAxLEubmPgxkAvVtRgRmfbQMQlx5188tdABK3AkMEY2EAJqHAEnUG5QHjuPVyIid1A+PwwQmUo5ECqtwa2ytfDQPc7FAVCOtFAsQ+yLIyyvEDJZHH/Ueq+QGlv8IUdr8dAzojS3kbC0EC0HykiU/fTQN3vUBSmrNhAkyIyrNRh30AP0egObsm5QJpfzQGidtlA",
            "dtype": "f8"
           },
           "xaxis": "x",
           "y": {
            "bdata": "zczMzMw8UkBxPQrXo2BTQFK4HoXrYVNAVg4tsp1PUkAUrkfhepRRQOxRuB6Fa1JAcT0K16OAUkDXo3A9CgdTQLgehetRSFNAKVyPwvWoU0D2KFyPwlVTQFYOLbKdd1NAw/UoXI/CUUDNzMzMzLxTQCuHFtnOB1NAFK5H4Xq0U0AUrkfhetxSQFK4HoXrgVNAFK5H4XqUU0AAAAAAADBSQK5H4XoU/lJArkfhehRuUUACK4cW2Q5SQD0K16NwLVJAuB6F61HIUkDhehSuR7FTQClcj8L12FNASOF6FK7XU0A9CtejcDVRQMuhRbbzTVNA",
            "dtype": "f8"
           },
           "yaxis": "y"
          },
          {
           "hovertemplate": "continent=Africa<br>year=1997<br>gdpPercap=%{x}<br>lifeExp=%{y}<br>pop=%{marker.size}<extra></extra>",
           "ids": [
            "Algeria",
            "Angola",
            "Benin",
            "Botswana",
            "Burkina Faso",
            "Burundi",
            "Cameroon",
            "Central African Republic",
            "Chad",
            "Comoros",
            "Congo, Dem. Rep.",
            "Congo, Rep.",
            "Cote d'Ivoire",
            "Djibouti",
            "Egypt",
            "Equatorial Guinea",
            "Eritrea",
            "Ethiopia",
            "Gabon",
            "Gambia",
            "Ghana",
            "Guinea",
            "Guinea-Bissau",
            "Kenya",
            "Lesotho",
            "Liberia",
            "Libya",
            "Madagascar",
            "Malawi",
            "Mali",
            "Mauritania",
            "Mauritius",
            "Morocco",
            "Mozambique",
            "Namibia",
            "Niger",
            "Nigeria",
            "Reunion",
            "Rwanda",
            "Sao Tome and Principe",
            "Senegal",
            "Sierra Leone",
            "Somalia",
            "South Africa",
            "Sudan",
            "Swaziland",
            "Tanzania",
            "Togo",
            "Tunisia",
            "Uganda",
            "Zambia",
            "Zimbabwe"
           ],
           "legendgroup": "Africa",
           "marker": {
            "color": "#00cc96",
            "size": {
             "bdata": "j5q7AVCulgCgj1wAGHIXAMv4nQCKaF0AYZzYAIFnOAAbY3MAbg4IAMpa2QIzvSoAryzfAHRgBgATIfEDo7YGAM/sPQA1aZEDLS8RADfbEgBwChkBwtB6AOw2EgCTRa8BZ0EeAJWUIQB2oEgAeiTYABf/ngAYNI8AxU0lAHqLEQBdU7MBxlj9AK4UGwDMfpMAX5pUBgpzCgAnDm4AyDgCAFJ/kQCk20UAKjhlAD2cjQLZu+oBFhcQAKk+1AF67kEANd2MAI6kQwE9tI8AlAauAA==",
             "dtype": "i4"
            },
            "sizemode": "area",
            "sizeref": 435928.2961983471,
            "symbol": "circle"
           },
           "mode": "markers",
           "name": "Africa",
           "orientation": "v",
           "showlegend": true,
           "type": "scatter",
           "x": {
            "bdata": "p1t2iEu9skAPmfIhSMqhQDQw8rLmQ5NAZvhPN5LjwECOpO4UXJKNQE0zOKXX8XxAqDl5kVl5mkBtY6L3DCSHQEt319mwZ49A+IiYEnlWkkAH7dXHA4NzQH9QFylUOKtAhUTaxg/pm0A58kBkEZydQIOJP4ouTbBAx/SEJfb8pUBFKowtxIuMQCnEbX4dH4BAlU25wmvBzEAPJJRj122EQLcnSGz3aY9AmwZWH5kri0DitabUUOWIQIBTWKnwQZVABDi9i5eIkkDnKFFAZAmDQBjuXBi5fcJAPiiD/l3SjkAy0wfcNKKFQPneOloQsohAPE88Z4ssl0AKjzaOtAG9QKxVuyY0TKdAUSYkiImFfUA0hc5rDHeuQIJjhRFxIoJAK/aX3cNjmUAYsU8A8be3QD6bsFiOb4JARpVh3E3slEBSuvQvecGVQDt1QG0v9YFAP8NAfMUUjUCrP8IwMDe9QLSchNLXgJlAkdCWc4lJrkAUYolifamIQGyn955Lso5AIZT3ccwMs0CFlnX/eISJQPIKRE9qvZBA+yfJhJnDiEA=",
            "dtype": "f8"
           },
           "xaxis": "x",
           "y": {
            "bdata": "fT81XrpJUUAlBoGVQ3tEQPp+arx0Y0tAukkMAitHSkC28/3UeClJQH0/NV66qUZAtvP91HgZSkCcxCCwcghHQNNNYhBYyUlAFK5H4XpUTkBCYOXQIktFQEJg5dAie0pAAyuHFtn+R0BqvHSTGJRKQNnO91PjzVBAj8L1KFwfSECq8dJNYrBKQPp+arx0s0hAYLpJDAI7TkCR7Xw/Ne5LQLpJDAIrR01ACtejcD26SUA7tMh2vm9GQGq8dJMYNEtAgZVDi2zHS0A/NV66SRxFQOxRuB6F41FAd76fGi99S0CPwvUoXL9HQN0kBoGV80hA16NwPQo3TkDJdr6fGq9RQArXo3A96lBAeekmMQgsR0AxCKwcWnRNQPLSTWIQqElACKwcWmS7R0DDILByaLFSQEJg5dAiC0JAukkMAiunT0AOLbKd7xdOQIlBYOXQ8kNA9ihcj8LlRUCR7Xw/NR5OQDu0yHa+r0tAokW28/0kS0DP91PjpTtIQFK4HoXrMU1Ag8DKoUX+UUBEi2zn+0lGQFg5tMh2HkRAZDvfT41nR0A=",
            "dtype": "f8"
           },
           "yaxis": "y"
          },
          {
           "hovertemplate": "continent=Americas<br>year=1997<br>gdpPercap=%{x}<br>lifeExp=%{y}<br>pop=%{marker.size}<extra></extra>",
           "ids": [
            "Argentina",
            "Bolivia",
            "Brazil",
            "Canada",
            "Chile",
            "Colombia",
            "Costa Rica",
            "Cuba",
            "Dominican Republic",
            "Ecuador",
            "El Salvador",
            "Guatemala",
            "Haiti",
            "Honduras",
            "Jamaica",
            "Mexico",
            "Nicaragua",
            "Panama",
            "Paraguay",
            "Peru",
            "Puerto Rico",
            "Trinidad and Tobago",
            "United States",
            "Uruguay",
            "Venezuela"
           ],
           "legendgroup": "Americas",
           "marker": {
            "color": "#ab63fa",
            "size": {
             "bdata": "x2soAoRjdQCf0QsKM27OAfnG3gDmnD4Cm641AF+WpwAl9HkAi8K1AI8/WABjmJUACX5pALWJWQDvnyYAaj63BSRWRgDDuSkAS6VOAFqgeQFGXTkAtV0RAJBNRBB2yTEA/mdVAQ==",
             "dtype": "i4"
            },
            "sizemode": "area",
            "sizeref": 435928.2961983471,
            "symbol": "circle"
           },
           "mode": "markers",
           "name": "Americas",
           "orientation": "v",
           "showlegend": true,
           "type": "scatter",
           "x": {
            "bdata": "jgbwFqRrxUAqrFRQSfypQCAbSBf7Fb9AbCHIQbtG3EBnLJrOBsPDQHfHYptc5bdADcSymQsVukB4YtaL/Te1QCeloNszPKxA/uVatHQFvUD7srRT0yK0QELSp1VQTLJAy52ZYOj2lECCcXDp6LCoQHy+Zrns0btAyol2FaYTw0BbJy7HC5qhQJdUbTexybtA3UCBd2aXsEA6lQwAWc62QFfsL7vbmdBAP1kxXEkswUAGu2Hb7XbhQPENhc8eB8JA0egOYr/aw0A=",
            "dtype": "f8"
           },
           "xaxis": "x",
           "y": {
            "bdata": "mpmZmZlRUkBmZmZmZgZPQEa28/3UWFFA16NwPQqnU0BOYhBYOfRSQHnpJjEIlFFAcT0K16NQU0CNbOf7qQlTQGiR7Xw/fVFAhxbZzvcTUkAK16NwPWJRQPhT46WblFBA2s73U+NVTEAYBFYOLepQQFTjpZvEEFJAexSuR+FqUkAlBoGVQxtRQKwcWmQ7b1JAmpmZmZlZUUBjEFg5tBhRQKabxCCwulJA9ihcj8JdUUCkcD0K1zNTQIPAyqFFjlJA001iEFgJUkA=",
            "dtype": "f8"
           },
           "yaxis": "y"
          },
          {
           "hovertemplate": "continent=Oceania<br>year=1997<br>gdpPercap=%{x}<br>lifeExp=%{y}<br>pop=%{marker.size}<extra></extra>",
           "ids": [
            "Australia",
            "New Zealand"
           ],
           "legendgroup": "Oceania",
           "marker": {
            "color": "#FFA15A",
            "size": {
             "bdata": "e0gbARsYOAA=",
             "dtype": "i4"
            },
            "sizemode": "area",
            "sizeref": 435928.2961983471,
            "symbol": "circle"
           },
           "mode": "markers",
           "name": "Oceania",
           "orientation": "v",
           "showlegend": true,
           "type": "scatter",
           "x": {
            "bdata": "G0zD8Htd2kCEKjV7mo7UQA==",
            "dtype": "f8"
           },
           "xaxis": "x",
           "y": {
            "bdata": "hetRuB61U0AzMzMzM2NTQA==",
            "dtype": "f8"
           },
           "yaxis": "y"
          }
         ],
         "name": "1997"
        },
        {
         "data": [
          {
           "hovertemplate": "continent=Asia<br>year=2002<br>gdpPercap=%{x}<br>lifeExp=%{y}<br>pop=%{marker.size}<extra></extra>",
           "ids": [
            "Afghanistan",
            "Bahrain",
            "Bangladesh",
            "Cambodia",
            "China",
            "Hong Kong, China",
            "India",
            "Indonesia",
            "Iran",
            "Iraq",
            "Israel",
            "Japan",
            "Jordan",
            "Korea, Dem. Rep.",
            "Korea, Rep.",
            "Kuwait",
            "Lebanon",
            "Malaysia",
            "Mongolia",
            "Myanmar",
            "Nepal",
            "Oman",
            "Pakistan",
            "Philippines",
            "Saudi Arabia",
            "Singapore",
            "Sri Lanka",
            "Syria",
            "Taiwan",
            "Thailand",
            "Vietnam",
            "West Bank and Gaza",
            "Yemen, Rep."
           ],
           "legendgroup": "Asia",
           "marker": {
            "color": "#636efa",
            "size": {
             "bdata": "tZCBAQ0ECgBW9RUI8z7FAIBaUUzsL2cAgzikPSCFlAyy7vwDGD1uAdkAXADx3pIHTvxQAMX6UgF+89sCSTggAFQeOADdzFkBOs4oAIHFtwL9zYoBdmcpAITAJAmQZ/IEGt11AZANQADPtyoB5sYFAd+fVgHcWr4Dc4/SBIq4MwDJWx0B",
             "dtype": "i4"
            },
            "sizemode": "area",
            "sizeref": 435928.2961983471,
            "symbol": "circle"
           },
           "mode": "markers",
           "name": "Asia",
           "orientation": "v",
           "showlegend": true,
           "type": "scatter",
           "x": {
            "bdata": "xnsfWN+1hkDpZRTL49rWQITF4cyPwZFAKQ8c4c4BjEAou5nRj16oQA+mYfhAgN1AG9e/6xNLm0AAV7Jj03OmQK+UZYhhDMJAB13CobcmsUAjFcYWZmTVQKCJsOEl79tALbRzmtUJrkC4WbxYCLuZQKRTVz5/yNJAkBSRYcMk4UBA2ZQr+DDCQLpOIy1978NAXFSLiHq5oEAAAAAAABiDQDjXMEPThJBAQDBHj7VP00CpFhHFbFmgQMmSOZbXtaRAUHCxoqKR0kAg0m9f45bhQEsjZvbBjqdA8x38xNn1r0Cu8C4X27DWQA2K5gEwGbdAV68io9ORm0BZF7fRfKOxQFnBb0OkdaFA",
            "dtype": "f8"
           },
           "xaxis": "x",
           "y": {
            "bdata": "jZduEoMQRUB7FK5H4bJSQI1s5/upAU9Ax0s3iUFgTEBvEoPAygFSQEjhehSuX1RAjZduEoNwT0ATg8DKoSVRQL+fGi/dXFFA2s73U+OFTEAGgZVDi+xTQAAAAAAAgFRARrbz/dTQUUDtfD81XqpQQHsUrkfhQlNAYOXQIts5U0BvEoPAysFRQIlBYOXQQlJAJzEIrBxCUEBOYhBYOfRNQOxRuB6Fq05AMQisHFqMUkCuR+F6FM5PQAisHFpkk1FA8tJNYhDoUUDhehSuR7FTQFyPwvUotFFACKwcWmRDUkCPwvUoXD9TQGq8dJMYJFFADAIrhxZBUkBI4XoUrhdSQIGVQ4tsJ05A",
            "dtype": "f8"
           },
           "yaxis": "y"
          },
          {
           "hovertemplate": "continent=Europe<br>year=2002<br>gdpPercap=%{x}<br>lifeExp=%{y}<br>pop=%{marker.size}<extra></extra>",
           "ids": [
            "Albania",
            "Austria",
            "Belgium",
            "Bosnia and Herzegovina",
            "Bulgaria",
            "Croatia",
            "Czech Republic",
            "Denmark",
            "Finland",
            "France",
            "Germany",
            "Greece",
            "Hungary",
            "Iceland",
            "Ireland",
            "Italy",
            "Montenegro",
            "Netherlands",
            "Norway",
            "Poland",
            "Portugal",
            "Romania",
            "Serbia",
            "Slovak Republic",
            "Slovenia",
            "Spain",
            "Sweden",
            "Switzerland",
            "Turkey",
            "United Kingdom"
           ],
           "legendgroup": "Europe",
           "marker": {
            "color": "#EF553B",
            "size": {
             "bdata": "IIk1AFhVfAAiWZ0AKI8/AOfodAD8X0QAp3+cAOUCUgBPPU8AK2KSA0+S6ARXzaEA8duZAB5lBADzMDsAV+VzA2b9CgDOA/YAJzVFALhiTQJLNZ8A8dxVAUdKmgAEjVIAabEeAMWtZAI/oYgA3VRwAIANAwTvMJID",
             "dtype": "i4"
            },
            "sizemode": "area",
            "sizeref": 435928.2961983471,
            "symbol": "circle"
           },
           "mode": "markers",
           "name": "Europe",
           "orientation": "v",
           "showlegend": true,
           "type": "scatter",
           "x": {
            "bdata": "WmJlNDb8sUAHmWTkZqjfQPYoXI94xd1AyVpDqfmCt0BIUPwYxxC+QOQUHckxtsZAPJY+dA0v0UCCqPsAoGnfQAAd5ssli9tAl8rbEYI/3EAD7KNT81TdQMGopE6Q/NVAuRluwPf9zEDGounszG7eQFhWmpSho+BA3dJqSAZQ20A0FHe8MZ25QLLXuz+Yd+BA7nw/NX/R5UCQZiyaHnHHQMHFihq6gNNA6bZELlzNvkD+R6ZDE0S8QBfPoKFjo8pAtrkxPQEt1EC1bK0v3kDYQAY5KGFop9xAInGPpR7W4ECuZp3xFWy5QB+duvK/ydxA",
            "dtype": "f8"
           },
           "xaxis": "x",
           "y": {
            "bdata": "jWzn+6npUkAfhetRuL5TQBSuR+F6lFNA9ihcj8KFUkApXI/C9QhSQPLSTWIQuFJAcT0K16PgUkDsUbgehUtTQEjhehSul1NA9ihcj8LlU0B7FK5H4apTQKrx0k1ikFNA9ihcj8IlUkAAAAAAACBUQCcxCKwcclNAj8L1KFwPVEASWDm0yH5SQFK4HoXroVNAMzMzMzPDU0B7FK5H4apSQMP1KFyPUlNA+FPjpZvUUUAUg8DKoU1SQDMzMzMzc1JACtejcD0qU0BSuB6F6/FTQMP1KFyPAlRASOF6FK4nVECuR+F6FLZRQKAaL90knlNA",
            "dtype": "f8"
           },
           "yaxis": "y"
          },
          {
           "hovertemplate": "continent=Africa<br>year=2002<br>gdpPercap=%{x}<br>lifeExp=%{y}<br>pop=%{marker.size}<extra></extra>",
           "ids": [
            "Algeria",
            "Angola",
            "Benin",
            "Botswana",
            "Burkina Faso",
            "Burundi",
            "Cameroon",
            "Central African Republic",
            "Chad",
            "Comoros",
            "Congo, Dem. Rep.",
            "Congo, Rep.",
            "Cote d'Ivoire",
            "Djibouti",
            "Egypt",
            "Equatorial Guinea",
            "Eritrea",
            "Ethiopia",
            "Gabon",
            "Gambia",
            "Ghana",
            "Guinea",
            "Guinea-Bissau",
            "Kenya",
            "Lesotho",
            "Liberia",
            "Libya",
            "Madagascar",
            "Malawi",
            "Mali",
            "Mauritania",
            "Mauritius",
            "Morocco",
            "Mozambique",
            "Namibia",
            "Niger",
            "Nigeria",
            "Reunion",
            "Rwanda",
            "Sao Tome and Principe",
            "Senegal",
            "Sierra Leone",
            "Somalia",
            "South Africa",
            "Sudan",
            "Swaziland",
            "Tanzania",
            "Togo",
            "Tunisia",
            "Uganda",
            "Zambia",
            "Zimbabwe"
           ],
           "legendgroup": "Africa",
           "marker": {
            "color": "#00cc96",
            "size": {
             "bdata": "ZmfdAbrNpQDBNWsAi+AYAEnwugAWImsAhBLzAI3EPQCb0oYA7l8JAIwHTQMbyzIANv/3ALjTBgAvqV4EC5AHAJFdQwAtyQwEaNMTAGY+FgBflDkBimWGAOtUFADa7N4BNDsfALvyKgAJ61EAhV37AG9ttADQcKEAOiorAE5QEgAnldsBNOMZAbkXHgAv/qkAWowlBy1aCwBx0XcAhJkCABXdpQD0xVEAXk52ANYApgL68zUCHT8RAPPbDwLi8ksATxaVAB2AeQHjraEAI/y1AA==",
             "dtype": "i4"
            },
            "sizemode": "area",
            "sizeref": 435928.2961983471,
            "symbol": "circle"
           },
           "mode": "markers",
           "name": "Africa",
           "orientation": "v",
           "showlegend": true,
           "type": "scatter",
           "x": {
            "bdata": "WYl5VgqotEB/944ak6qlQJQUWACDc5VAu+1Cc819xUDFVtC0lDaQQGLIoMl05ntASmJJuQs4nkApo9tchhWHQM0Bgjm6EJJAO3MPCT/PkECZ1TvcTiVuQKsmiLofOKtAisvxCjTDmUBsBrggC9GdQD874LqakrJAFmpN834XvkBoIJbNzOqHQFj+IaJtkIBA+wW7Ydt0yEBhQOVOr6SEQHAZNzXwX5FA1E/uLauMjUBTJ/tCo/2BQNLI5xUPHpRAo5I6Ab3sk0AfmbPj25uAQI8YPbdWn8JA6W6Nvhj1i0CkKgGMYsuEQNGj8ytHu41Ad4cUAxSsmECA7zZv6J7BQNegL739dKlAZa38jfHMg0CwWMNFptCvQBrMFZSYyIJA9Bq7RCU9mUBNFYxKKqy4QDQaCuk6jYhA6fF7m14klUCRKR+Cir6XQGc7pu7q24VAzhgwkqeQi0B/aydK8h6+QCgOoN+XJZ9Af/j57x0gsEAAPP37lxiMQCKunL3DsYtAfmWlSeVatkDbepecxP2MQBi/Kax0vpBAEgtrGU8AhUA=",
            "dtype": "f8"
           },
           "xaxis": "x",
           "y": {
            "bdata": "Vg4tsp2/UUCq8dJNYoBEQIkW2c73M0tA/dR46SZRR0AzMzMzM1NJQK5H4XoUrkdAIbByaJHtSECBlUOLbKdFQDMzMzMzQ0lA6SYxCKx8T0DP91PjpXtGQFyPwvUofEpA0SLb+X5qR0A7tMh2vq9KQN0kBoGVc1FABoGVQ4usSEAfhetRuJ5LQM3MzMzMXElAxSCwcmhhTEBoke18PwVNQESLbOf7OU1ASgwCK4fWSkCNl24Sg8BGQOXQItv5fklAlkOLbOdLRkCq8dJNYuBFQLpJDAIrL1JA+FPjpZukTED91HjpJoFGQGQQWDm06ElAVg4tsp0fT0CTGARWDv1RQI/C9ShcZ1FAF9nO91MDRkBaZDvfT71JQHNoke18P0tA5/up8dJNR0BWDi2yne9SQL6fGi/dtEVAIbByaJEVUEDNzMzMzMxOQKjGSzeJgURALIcW2c73RkAfhetRuK5KQKwcWmQ7L0xArBxaZDvvRUAX2c73U9NIQCyHFtnOx0xAppvEILBCUkDy0k1iEOhHQGQQWDm0mENAO99PjZf+Q0A=",
            "dtype": "f8"
           },
           "yaxis": "y"
          },
          {
           "hovertemplate": "continent=Americas<br>year=2002<br>gdpPercap=%{x}<br>lifeExp=%{y}<br>pop=%{marker.size}<extra></extra>",
           "ids": [
            "Argentina",
            "Bolivia",
            "Brazil",
            "Canada",
            "Chile",
            "Colombia",
            "Costa Rica",
            "Cuba",
            "Dominican Republic",
            "Ecuador",
            "El Salvador",
            "Guatemala",
            "Haiti",
            "Honduras",
            "Jamaica",
            "Mexico",
            "Nicaragua",
            "Panama",
            "Paraguay",
            "Peru",
            "Puerto Rico",
            "Trinidad and Tobago",
            "United States",
            "Uruguay",
            "Venezuela"
           ],
           "legendgroup": "Americas",
           "marker": {
            "color": "#ab63fa",
            "size": {
             "bdata": "8eJIAs7cgADkRbkKPMrmAVZ37ABjvHECNoQ6AHdPqwBS/oMAkinFABHzYACakqoAYxV0AFDjZQDTqCgAN7gbBuCITgAboy0AS8pZABx4mAGW5DoACNAQAIaUJRENUTMAtplyAQ==",
             "dtype": "i4"
            },
            "sizemode": "area",
            "sizeref": 435928.2961983471,
            "symbol": "circle"
           },
           "mode": "markers",
           "name": "Americas",
           "orientation": "v",
           "showlegend": true,
           "type": "scatter",
           "x": {
            "bdata": "A137AtIuwUD5vU1/hqqqQDD84Hw2w79AC3va4R5G4EB8YTJVZA3FQDSg3oxCe7ZA8Rtfe3IrvkDhXwSNpcS4QCI4LuPO07FASHAjZQuNtkBYUBiUkee0QIasbvVY+rJADvW7sHXZk0DPa+wSdTeoQPJdSl3GUrtAdHtJYzj7xEDZ0M3+GFWjQKOd0ywIvLxAHeVgNlmPrUCIDoEjBRW3QN8yp8vmadJACi5W1ExixkBKe4MvIxfjQHeKVYMAL75AXoJTH4bOwEA=",
            "dtype": "f8"
           },
           "xaxis": "x",
           "y": {
            "bdata": "9ihcj8KVUkAbL90kBvFPQKrx0k1iwFFA4XoUrkfxU0DXo3A9CndTQM/3U+Ol61FAHVpkO9+HU0AnMQisHEpTQJHtfD81tlFAUI2XbhKLUkDl0CLb+a5RQDzfT42XPlFAqMZLN4kRTUBcj8L1KCRRQF66SQwCA1JAfT81Xrq5UkAv3SQGgbVRQCGwcmiRrVJAuB6F61GwUUBEi2zn+3lRQG8Sg8DKcVNAWDm0yHY+UUCkcD0K11NTQM/3U+Ol01JAGy/dJAYxUkA=",
            "dtype": "f8"
           },
           "yaxis": "y"
          },
          {
           "hovertemplate": "continent=Oceania<br>year=2002<br>gdpPercap=%{x}<br>lifeExp=%{y}<br>pop=%{marker.size}<extra></extra>",
           "ids": [
            "Australia",
            "New Zealand"
           ],
           "legendgroup": "Oceania",
           "marker": {
            "color": "#FFA15A",
            "size": {
             "bdata": "qEIqAcWhOwA=",
             "dtype": "i4"
            },
            "sizemode": "area",
            "sizeref": 435928.2961983471,
            "symbol": "circle"
           },
           "mode": "markers",
           "name": "Oceania",
           "orientation": "v",
           "showlegend": true,
           "type": "scatter",
           "x": {
            "bdata": "1A5/TfD33UCqglFJc6XWQA==",
            "dtype": "f8"
           },
           "xaxis": "x",
           "y": {
            "bdata": "SOF6FK4XVEDXo3A9CsdTQA==",
            "dtype": "f8"
           },
           "yaxis": "y"
          }
         ],
         "name": "2002"
        },
        {
         "data": [
          {
           "hovertemplate": "continent=Asia<br>year=2007<br>gdpPercap=%{x}<br>lifeExp=%{y}<br>pop=%{marker.size}<extra></extra>",
           "ids": [
            "Afghanistan",
            "Bahrain",
            "Bangladesh",
            "Cambodia",
            "China",
            "Hong Kong, China",
            "India",
            "Indonesia",
            "Iran",
            "Iraq",
            "Israel",
            "Japan",
            "Jordan",
            "Korea, Dem. Rep.",
            "Korea, Rep.",
            "Kuwait",
            "Lebanon",
            "Malaysia",
            "Mongolia",
            "Myanmar",
            "Nepal",
            "Oman",
            "Pakistan",
            "Philippines",
            "Saudi Arabia",
            "Singapore",
            "Sri Lanka",
            "Syria",
            "Taiwan",
            "Thailand",
            "Vietnam",
            "West Bank and Gaza",
            "Yemen, Rep."
           ],
           "legendgroup": "Asia",
           "marker": {
            "color": "#636efa",
            "size": {
             "bdata": "A5rmAd3PCgDTqPcIkqLXANiBmU48g2oAq00vQngOUw0CxyMEdpyjATcQYgDEAZkHSV1cAF2OYwE2XewCVzsmAH7VOwAmvnoBD9srADzK2AKeAbkBIecwAFndFgqnum0FjiilATF5RQB/8jYBO7gmAZacYQF13OADFAAVBZxQPQCf7FIB",
             "dtype": "i4"
            },
            "sizemode": "area",
            "sizeref": 435928.2961983471,
            "symbol": "circle"
           },
           "mode": "markers",
           "name": "Asia",
           "orientation": "v",
           "showlegend": true,
           "type": "scatter",
           "x": {
            "bdata": "54R1iKR0jkDGpwAYAxndQPLPDOIDvZVAat/cXx3HmkDRXRJnHV+zQHK/Q1GfZeNAs193umsoo0CA7suZTamrQKmHaHTbqsZAbVUS2Q93sUBuowG80ezYQItUGFsE6t5A3XpND3ansUArajANQ+SYQBMZVvEIzdZASBtHrF8Z50B3hNOCh27EQFwgQfHTUchATsEaZ4svqEAAAAAAAICNQEjfpGlwDZFAmGn7VwzL1UCwrDQp5VukQLWpukf27KhAD0WBPrUl1UCiYpy/5QTnQJ6xL9kwBK9ATIqPT4xYsECOHr+3kQvcQIOvr3VlIr1AkdJsHicTo0BqNLkYs6KnQP2FHjGK0aFA",
            "dtype": "f8"
           },
           "xaxis": "x",
           "y": {
            "bdata": "RIts5/vpRUBxPQrXo+hSQIcW2c73A1BABoGVQ4vcTUAv3SQGgT1SQFpkO99PjVRA6iYxCKwsUECamZmZmalRQARWDi2yvVFA9ihcj8LFTUBI4XoUri9UQDvfT42XplRACtejcD0iUkBeukkMAtNQQB1aZDvfp1NAFIPAyqFlU0BkO99Pjf9RQIGVQ4tsj1JACKwcWmSzUEBGtvP91AhPQBSuR+F65E9AKVyPwvXoUkD0/dR46V5QQHnpJjEI7FFAfT81XroxUkCR7Xw/Nf5TQNNNYhBYGVJA/tR46SaJUkCamZmZmZlTQIGVQ4tsp1FADi2yne+PUkBeukkMAltSQNNNYhBYWU9A",
            "dtype": "f8"
           },
           "yaxis": "y"
          },
          {
           "hovertemplate": "continent=Europe<br>year=2007<br>gdpPercap=%{x}<br>lifeExp=%{y}<br>pop=%{marker.size}<extra></extra>",
           "ids": [
            "Albania",
            "Austria",
            "Belgium",
            "Bosnia and Herzegovina",
            "Bulgaria",
            "Croatia",
            "Czech Republic",
            "Denmark",
            "Finland",
            "France",
            "Germany",
            "Greece",
            "Hungary",
            "Iceland",
            "Ireland",
            "Italy",
            "Montenegro",
            "Netherlands",
            "Norway",
            "Poland",
            "Portugal",
            "Romania",
            "Serbia",
            "Slovak Republic",
            "Slovenia",
            "Spain",
            "Sweden",
            "Switzerland",
            "Turkey",
            "United Kingdom"
           ],
           "legendgroup": "Europe",
           "marker": {
            "color": "#EF553B",
            "size": {
             "bdata": "i/A2AGcefQCikp4ABnZFAOq8bwAAkEQACBScANhvUwC87k8ADBGkA+RW6QRyXaMADOuXAGubBAAesz4AlUN3A8ByCgD12PwA1p1GAOG9SwKUZaIA2OdTAXnhmgBOH1MAnageAL8waQKwzYkAZUZzAHfLPQQuX58D",
             "dtype": "i4"
            },
            "sizemode": "area",
            "sizeref": 435928.2961983471,
            "symbol": "circle"
           },
           "mode": "markers",
           "name": "Europe",
           "orientation": "v",
           "showlegend": true,
           "type": "scatter",
           "x": {
            "bdata": "YBQEjwcxt0BYyjLEz6PhQG+70FyTc+BA8nhafkwWvUDPMSB7ZdzEQBTGFoKcjcxAH7qgvlNM1kCxbVFmzTnhQPmgZ7PiNuBAduCcEYHB3UC+TX/2l2rfQHjuPVya5NpAQni0cTyW0UALYwtBmarhQCxlGeJ/3ONAvJaQD27m20BL58Oz8hLCQJbnwd299+FAVmXfFaYZ6ECjC+pb9g7OQFVNEHVpB9RA09nJ4DwcxUBbI4JxRB3DQGB2Tx6UPdJAcsRafBAq2UAwKqkTRCXcQP+ye/J3iOBAGH0FaU1Q4kCSCI1gI4XAQOPfZ1xoNuBA",
            "dtype": "f8"
           },
           "xaxis": "x",
           "y": {
            "bdata": "UI2XbhIbU0CTGARWDvVTQE5iEFg53FNASgwCK4e2UkC4HoXrUUBSQB1aZDvf71JAyXa+nxofU0Boke18P5VTQHnpJjEI1FNANV66SQwqVEBEi2zn+9lTQPT91Hjp3lNAFIPAyqFVUkCcxCCwcnBUQHE9CtejuFNAbef7qfEiVECYbhKDwKJSQFTjpZvE8FNABoGVQ4sMVEB56SYxCORSQIPAyqFFhlNAWDm0yHYeUkDjpZvEIIBSQN9PjZduqlJAJQaBlUN7U0BOYhBYOTxUQH9qvHSTOFRAwJ8aL91sVEB9PzVeuvFRQDMzMzMz21NA",
            "dtype": "f8"
           },
           "yaxis": "y"
          },
          {
           "hovertemplate": "continent=Africa<br>year=2007<br>gdpPercap=%{x}<br>lifeExp=%{y}<br>pop=%{marker.size}<extra></extra>",
           "ids": [
            "Algeria",
            "Angola",
            "Benin",
            "Botswana",
            "Burkina Faso",
            "Burundi",
            "Cameroon",
            "Central African Republic",
            "Chad",
            "Comoros",
            "Congo, Dem. Rep.",
            "Congo, Rep.",
            "Cote d'Ivoire",
            "Djibouti",
            "Egypt",
            "Equatorial Guinea",
            "Eritrea",
            "Ethiopia",
            "Gabon",
            "Gambia",
            "Ghana",
            "Guinea",
            "Guinea-Bissau",
            "Kenya",
            "Lesotho",
            "Liberia",
            "Libya",
            "Madagascar",
            "Malawi",
            "Mali",
            "Mauritania",
            "Mauritius",
            "Morocco",
            "Mozambique",
            "Namibia",
            "Niger",
            "Nigeria",
            "Reunion",
            "Rwanda",
            "Sao Tome and Principe",
            "Senegal",
            "Sierra Leone",
            "Somalia",
            "South Africa",
            "Sudan",
            "Swaziland",
            "Tanzania",
            "Togo",
            "Tunisia",
            "Uganda",
            "Zambia",
            "Zimbabwe"
           ],
           "legendgroup": "Africa",
           "marker": {
            "color": "#00cc96",
            "size": {
             "bdata": "4J/8AXyFvQDqQ3sA2wIZALuZ2gBpB4AAJQYOAY6qQgBXO5wAMNkKACfS2QMi/jkA4dwSAfaSBwBfvcgEIWkIAFneSgCPeo8EEzMWACfDGQD6BF0BpsqXACl2FgBBXh8C6bUeAFa8MACyHVwApnkkAedaywAzl7cAseUxAEIWEwD3FwMCKHAwAahbHwCRwsQAfGkMCI4tDACsM4cAmwsDAOUvuwAywl0ANSSLAIRanwLBVoUCCkoRAPj2RQLL/1YAPs2cAN4avQHzOrMAZ9q7AA==",
             "dtype": "i4"
            },
            "sizemode": "area",
            "sizeref": 435928.2961983471,
            "symbol": "circle"
           },
           "mode": "markers",
           "name": "Africa",
           "orientation": "v",
           "showlegend": true,
           "type": "scatter",
           "x": {
            "bdata": "ba0vEl5PuEClaVA0O72yQA5qv7UjhZZA26LMBu2MyEDb2y3JIQSTQKHhg40h4XpAFjWYhmHon0BkkSbeIRCGQOI/3UBBoJpAEj5K2y7RjkA2yMlp1FhxQIwPs5cdYaxAWTFcHQAjmECsJ/OP9kSgQKSK4lUuzbVAaJHtfAu9x0DPCMrI9AqEQJEHx9FxloVAIVnABD7LyUCOc5tw/4WHQNRgGoZvvpRAcXkH0zt1jUCc8BKc2hmCQO3Vx0P/3JZAFRqIZVOFmEB15h4SHuh5QMYzaOi/jMdAMv/omxRTkEBSoKqdzLqHQAqfrYNTSpBA5nXEIZssnEA1KQXdfmbFQI4ev7dZ2K1AvceZJny9iUC7YkZ4D8uyQEgHkEZqXYNA3lSkwuh3n0DdCfZfH/a9QAWrjyy1+IpAZof4h735mEAPnZ5348GaQOgk73dT9IpABbhq6CDxjECGcw0z1BrCQCveyDzKVKRADW5rC3uhsUDhQh7B7U2RQKkf5XHCl4tAZMxdS+y0u0AXfnA+hYGQQEDc1avY3JNA2On2SFlbfUA=",
            "dtype": "f8"
           },
           "xaxis": "x",
           "y": {
            "bdata": "JQaBlUMTUkAhsHJokV1FQHe+nxovXUxAd76fGi9dSUD2KFyPwiVKQArXo3A9ykhA16NwPQo3SUADK4cW2V5GQBfZzvdTU0lAfT81XrpJUEBCYOXQIjtHQPCnxks3qUtARIts5/spSEBoke18P2VLQBSDwMqh1VFAJjEIrBzKSUCF61G4HgVNQPCnxks3eUpArkfhehReTEDTTWIQWLlNQIlBYOXQAk5AN4lBYOUATECNbOf7qTFHQK5H4XoUDktAsp3vp8ZLRUAQWDm0yNZGQLByaJHtfFJAZBBYObS4TUAQWDm0yCZIQLKd76fGO0tA0SLb+X4KUEAlBoGVQzNSQNEi2/l+ylFA0SLb+X4KRUCJFtnO93NKQOXQItv5bkxAy6FFtvNtR0A/NV66SRxTQOXQItv5HkdAbxKDwMphUEAOLbKd74dPQGQQWDm0SEVAMQisHFoUSEAIrBxaZKtIQLpJDAIrR01AWDm0yHbOQ0AZBFYOLUJKQPYoXI/CNU1AUI2XbhJ7UkBMN4lBYMVJQP3UeOkmMUVAdZMYBFa+RUA=",
            "dtype": "f8"
           },
           "yaxis": "y"
          },
          {
           "hovertemplate": "continent=Americas<br>year=2007<br>gdpPercap=%{x}<br>lifeExp=%{y}<br>pop=%{marker.size}<extra></extra>",
           "ids": [
            "Argentina",
            "Bolivia",
            "Brazil",
            "Canada",
            "Chile",
            "Colombia",
            "Costa Rica",
            "Cuba",
            "Dominican Republic",
            "Ecuador",
            "El Salvador",
            "Guatemala",
            "Haiti",
            "Honduras",
            "Jamaica",
            "Mexico",
            "Nicaragua",
            "Panama",
            "Paraguay",
            "Peru",
            "Puerto Rico",
            "Trinidad and Tobago",
            "United States",
            "Uruguay",
            "Venezuela"
           ],
           "legendgroup": "Americas",
           "marker": {
            "color": "#ab63fa",
            "size": {
             "bdata": "Z/VmArAliwAXVVMLPX79AUV8+ADe26IC/BM/AJs1rgDGNI4AIOXRACjkaQAA2b8AHr6BAHMxcgDkayoA26R6BlyZVgC9eDEAi7tlAMWKtQFbKDwAYB8QAOsH8xHImjQANgWOAQ==",
             "dtype": "i4"
            },
            "sizemode": "area",
            "sizeref": 435928.2961983471,
            "symbol": "circle"
           },
           "mode": "markers",
           "name": "Americas",
           "orientation": "v",
           "showlegend": true,
           "type": "scatter",
           "x": {
            "bdata": "ICQLmLD1yECcwd8vRtytQGkAb4HmtMFAB7Ezhee74UCGONbF0bnJQPruVpaUXrtAqU2c3IfWwkCBs5QsDXrBQB5Av+9fibdA5fbLJ0PZukCuvOR/WmC2QLQh/8wMQrRAECIZcozGkkAInKVkqbirQOu12VjhmLxAQQ5KmMlkx0BSRIZVpHqlQHui68KXKMNA4KKTpdZMsECIf9jS5/C8QKJ6a2At4NJAdF5jlyCW0UDr/xzm9PjkQDCeQUO7ucRAW5TZIOdLxkA=",
            "dtype": "f8"
           },
           "xaxis": "x",
           "y": {
            "bdata": "FK5H4XrUUkD6fmq8dGNQQClcj8L1GFJAbxKDwMopVEAIrBxaZKNTQDeJQWDlOFJANV66SQyyU0C28/3UeJFTQNejcD0KD1JAVg4tsp2/UkDVeOkmMfhRQH9qvHSTkFFAaJHtfD91TkDqJjEIrIxRQD81XrpJJFJAFK5H4XoMU0Coxks3iTlSQOx8PzVe4lJA46WbxCDwUUBt5/up8dpRQDu0yHa+r1NAI9v5fmp0UUBzaJHtfI9TQH9qvHSTGFNAK4cW2c5vUkA=",
            "dtype": "f8"
           },
           "yaxis": "y"
          },
          {
           "hovertemplate": "continent=Oceania<br>year=2007<br>gdpPercap=%{x}<br>lifeExp=%{y}<br>pop=%{marker.size}<extra></extra>",
           "ids": [
            "Australia",
            "New Zealand"
           ],
           "legendgroup": "Oceania",
           "marker": {
            "color": "#FFA15A",
            "size": {
             "bdata": "AM03ATvNPgA=",
             "dtype": "i4"
            },
            "sizemode": "area",
            "sizeref": 435928.2961983471,
            "symbol": "circle"
           },
           "mode": "markers",
           "name": "Oceania",
           "orientation": "v",
           "showlegend": true,
           "type": "scatter",
           "x": {
            "bdata": "54cRwmvQ4EAEHEKVQJjYQA==",
            "dtype": "f8"
           },
           "xaxis": "x",
           "y": {
            "bdata": "16NwPQpPVECTGARWDg1UQA==",
            "dtype": "f8"
           },
           "yaxis": "y"
          }
         ],
         "name": "2007"
        }
       ],
       "layout": {
        "legend": {
         "itemsizing": "constant",
         "title": {
          "text": "continent"
         },
         "tracegroupgap": 0
        },
        "margin": {
         "t": 60
        },
        "sliders": [
         {
          "active": 0,
          "currentvalue": {
           "prefix": "year="
          },
          "len": 0.9,
          "pad": {
           "b": 10,
           "t": 60
          },
          "steps": [
           {
            "args": [
             [
              "1952"
             ],
             {
              "frame": {
               "duration": 0,
               "redraw": false
              },
              "fromcurrent": true,
              "mode": "immediate",
              "transition": {
               "duration": 0,
               "easing": "linear"
              }
             }
            ],
            "label": "1952",
            "method": "animate"
           },
           {
            "args": [
             [
              "1957"
             ],
             {
              "frame": {
               "duration": 0,
               "redraw": false
              },
              "fromcurrent": true,
              "mode": "immediate",
              "transition": {
               "duration": 0,
               "easing": "linear"
              }
             }
            ],
            "label": "1957",
            "method": "animate"
           },
           {
            "args": [
             [
              "1962"
             ],
             {
              "frame": {
               "duration": 0,
               "redraw": false
              },
              "fromcurrent": true,
              "mode": "immediate",
              "transition": {
               "duration": 0,
               "easing": "linear"
              }
             }
            ],
            "label": "1962",
            "method": "animate"
           },
           {
            "args": [
             [
              "1967"
             ],
             {
              "frame": {
               "duration": 0,
               "redraw": false
              },
              "fromcurrent": true,
              "mode": "immediate",
              "transition": {
               "duration": 0,
               "easing": "linear"
              }
             }
            ],
            "label": "1967",
            "method": "animate"
           },
           {
            "args": [
             [
              "1972"
             ],
             {
              "frame": {
               "duration": 0,
               "redraw": false
              },
              "fromcurrent": true,
              "mode": "immediate",
              "transition": {
               "duration": 0,
               "easing": "linear"
              }
             }
            ],
            "label": "1972",
            "method": "animate"
           },
           {
            "args": [
             [
              "1977"
             ],
             {
              "frame": {
               "duration": 0,
               "redraw": false
              },
              "fromcurrent": true,
              "mode": "immediate",
              "transition": {
               "duration": 0,
               "easing": "linear"
              }
             }
            ],
            "label": "1977",
            "method": "animate"
           },
           {
            "args": [
             [
              "1982"
             ],
             {
              "frame": {
               "duration": 0,
               "redraw": false
              },
              "fromcurrent": true,
              "mode": "immediate",
              "transition": {
               "duration": 0,
               "easing": "linear"
              }
             }
            ],
            "label": "1982",
            "method": "animate"
           },
           {
            "args": [
             [
              "1987"
             ],
             {
              "frame": {
               "duration": 0,
               "redraw": false
              },
              "fromcurrent": true,
              "mode": "immediate",
              "transition": {
               "duration": 0,
               "easing": "linear"
              }
             }
            ],
            "label": "1987",
            "method": "animate"
           },
           {
            "args": [
             [
              "1992"
             ],
             {
              "frame": {
               "duration": 0,
               "redraw": false
              },
              "fromcurrent": true,
              "mode": "immediate",
              "transition": {
               "duration": 0,
               "easing": "linear"
              }
             }
            ],
            "label": "1992",
            "method": "animate"
           },
           {
            "args": [
             [
              "1997"
             ],
             {
              "frame": {
               "duration": 0,
               "redraw": false
              },
              "fromcurrent": true,
              "mode": "immediate",
              "transition": {
               "duration": 0,
               "easing": "linear"
              }
             }
            ],
            "label": "1997",
            "method": "animate"
           },
           {
            "args": [
             [
              "2002"
             ],
             {
              "frame": {
               "duration": 0,
               "redraw": false
              },
              "fromcurrent": true,
              "mode": "immediate",
              "transition": {
               "duration": 0,
               "easing": "linear"
              }
             }
            ],
            "label": "2002",
            "method": "animate"
           },
           {
            "args": [
             [
              "2007"
             ],
             {
              "frame": {
               "duration": 0,
               "redraw": false
              },
              "fromcurrent": true,
              "mode": "immediate",
              "transition": {
               "duration": 0,
               "easing": "linear"
              }
             }
            ],
            "label": "2007",
            "method": "animate"
           }
          ],
          "x": 0.1,
          "xanchor": "left",
          "y": 0,
          "yanchor": "top"
         }
        ],
        "template": {
         "data": {
          "bar": [
           {
            "error_x": {
             "color": "#2a3f5f"
            },
            "error_y": {
             "color": "#2a3f5f"
            },
            "marker": {
             "line": {
              "color": "#E5ECF6",
              "width": 0.5
             },
             "pattern": {
              "fillmode": "overlay",
              "size": 10,
              "solidity": 0.2
             }
            },
            "type": "bar"
           }
          ],
          "barpolar": [
           {
            "marker": {
             "line": {
              "color": "#E5ECF6",
              "width": 0.5
             },
             "pattern": {
              "fillmode": "overlay",
              "size": 10,
              "solidity": 0.2
             }
            },
            "type": "barpolar"
           }
          ],
          "carpet": [
           {
            "aaxis": {
             "endlinecolor": "#2a3f5f",
             "gridcolor": "white",
             "linecolor": "white",
             "minorgridcolor": "white",
             "startlinecolor": "#2a3f5f"
            },
            "baxis": {
             "endlinecolor": "#2a3f5f",
             "gridcolor": "white",
             "linecolor": "white",
             "minorgridcolor": "white",
             "startlinecolor": "#2a3f5f"
            },
            "type": "carpet"
           }
          ],
          "choropleth": [
           {
            "colorbar": {
             "outlinewidth": 0,
             "ticks": ""
            },
            "type": "choropleth"
           }
          ],
          "contour": [
           {
            "colorbar": {
             "outlinewidth": 0,
             "ticks": ""
            },
            "colorscale": [
             [
              0,
              "#0d0887"
             ],
             [
              0.1111111111111111,
              "#46039f"
             ],
             [
              0.2222222222222222,
              "#7201a8"
             ],
             [
              0.3333333333333333,
              "#9c179e"
             ],
             [
              0.4444444444444444,
              "#bd3786"
             ],
             [
              0.5555555555555556,
              "#d8576b"
             ],
             [
              0.6666666666666666,
              "#ed7953"
             ],
             [
              0.7777777777777778,
              "#fb9f3a"
             ],
             [
              0.8888888888888888,
              "#fdca26"
             ],
             [
              1,
              "#f0f921"
             ]
            ],
            "type": "contour"
           }
          ],
          "contourcarpet": [
           {
            "colorbar": {
             "outlinewidth": 0,
             "ticks": ""
            },
            "type": "contourcarpet"
           }
          ],
          "heatmap": [
           {
            "colorbar": {
             "outlinewidth": 0,
             "ticks": ""
            },
            "colorscale": [
             [
              0,
              "#0d0887"
             ],
             [
              0.1111111111111111,
              "#46039f"
             ],
             [
              0.2222222222222222,
              "#7201a8"
             ],
             [
              0.3333333333333333,
              "#9c179e"
             ],
             [
              0.4444444444444444,
              "#bd3786"
             ],
             [
              0.5555555555555556,
              "#d8576b"
             ],
             [
              0.6666666666666666,
              "#ed7953"
             ],
             [
              0.7777777777777778,
              "#fb9f3a"
             ],
             [
              0.8888888888888888,
              "#fdca26"
             ],
             [
              1,
              "#f0f921"
             ]
            ],
            "type": "heatmap"
           }
          ],
          "histogram": [
           {
            "marker": {
             "pattern": {
              "fillmode": "overlay",
              "size": 10,
              "solidity": 0.2
             }
            },
            "type": "histogram"
           }
          ],
          "histogram2d": [
           {
            "colorbar": {
             "outlinewidth": 0,
             "ticks": ""
            },
            "colorscale": [
             [
              0,
              "#0d0887"
             ],
             [
              0.1111111111111111,
              "#46039f"
             ],
             [
              0.2222222222222222,
              "#7201a8"
             ],
             [
              0.3333333333333333,
              "#9c179e"
             ],
             [
              0.4444444444444444,
              "#bd3786"
             ],
             [
              0.5555555555555556,
              "#d8576b"
             ],
             [
              0.6666666666666666,
              "#ed7953"
             ],
             [
              0.7777777777777778,
              "#fb9f3a"
             ],
             [
              0.8888888888888888,
              "#fdca26"
             ],
             [
              1,
              "#f0f921"
             ]
            ],
            "type": "histogram2d"
           }
          ],
          "histogram2dcontour": [
           {
            "colorbar": {
             "outlinewidth": 0,
             "ticks": ""
            },
            "colorscale": [
             [
              0,
              "#0d0887"
             ],
             [
              0.1111111111111111,
              "#46039f"
             ],
             [
              0.2222222222222222,
              "#7201a8"
             ],
             [
              0.3333333333333333,
              "#9c179e"
             ],
             [
              0.4444444444444444,
              "#bd3786"
             ],
             [
              0.5555555555555556,
              "#d8576b"
             ],
             [
              0.6666666666666666,
              "#ed7953"
             ],
             [
              0.7777777777777778,
              "#fb9f3a"
             ],
             [
              0.8888888888888888,
              "#fdca26"
             ],
             [
              1,
              "#f0f921"
             ]
            ],
            "type": "histogram2dcontour"
           }
          ],
          "mesh3d": [
           {
            "colorbar": {
             "outlinewidth": 0,
             "ticks": ""
            },
            "type": "mesh3d"
           }
          ],
          "parcoords": [
           {
            "line": {
             "colorbar": {
              "outlinewidth": 0,
              "ticks": ""
             }
            },
            "type": "parcoords"
           }
          ],
          "pie": [
           {
            "automargin": true,
            "type": "pie"
           }
          ],
          "scatter": [
           {
            "fillpattern": {
             "fillmode": "overlay",
             "size": 10,
             "solidity": 0.2
            },
            "type": "scatter"
           }
          ],
          "scatter3d": [
           {
            "line": {
             "colorbar": {
              "outlinewidth": 0,
              "ticks": ""
             }
            },
            "marker": {
             "colorbar": {
              "outlinewidth": 0,
              "ticks": ""
             }
            },
            "type": "scatter3d"
           }
          ],
          "scattercarpet": [
           {
            "marker": {
             "colorbar": {
              "outlinewidth": 0,
              "ticks": ""
             }
            },
            "type": "scattercarpet"
           }
          ],
          "scattergeo": [
           {
            "marker": {
             "colorbar": {
              "outlinewidth": 0,
              "ticks": ""
             }
            },
            "type": "scattergeo"
           }
          ],
          "scattergl": [
           {
            "marker": {
             "colorbar": {
              "outlinewidth": 0,
              "ticks": ""
             }
            },
            "type": "scattergl"
           }
          ],
          "scattermap": [
           {
            "marker": {
             "colorbar": {
              "outlinewidth": 0,
              "ticks": ""
             }
            },
            "type": "scattermap"
           }
          ],
          "scattermapbox": [
           {
            "marker": {
             "colorbar": {
              "outlinewidth": 0,
              "ticks": ""
             }
            },
            "type": "scattermapbox"
           }
          ],
          "scatterpolar": [
           {
            "marker": {
             "colorbar": {
              "outlinewidth": 0,
              "ticks": ""
             }
            },
            "type": "scatterpolar"
           }
          ],
          "scatterpolargl": [
           {
            "marker": {
             "colorbar": {
              "outlinewidth": 0,
              "ticks": ""
             }
            },
            "type": "scatterpolargl"
           }
          ],
          "scatterternary": [
           {
            "marker": {
             "colorbar": {
              "outlinewidth": 0,
              "ticks": ""
             }
            },
            "type": "scatterternary"
           }
          ],
          "surface": [
           {
            "colorbar": {
             "outlinewidth": 0,
             "ticks": ""
            },
            "colorscale": [
             [
              0,
              "#0d0887"
             ],
             [
              0.1111111111111111,
              "#46039f"
             ],
             [
              0.2222222222222222,
              "#7201a8"
             ],
             [
              0.3333333333333333,
              "#9c179e"
             ],
             [
              0.4444444444444444,
              "#bd3786"
             ],
             [
              0.5555555555555556,
              "#d8576b"
             ],
             [
              0.6666666666666666,
              "#ed7953"
             ],
             [
              0.7777777777777778,
              "#fb9f3a"
             ],
             [
              0.8888888888888888,
              "#fdca26"
             ],
             [
              1,
              "#f0f921"
             ]
            ],
            "type": "surface"
           }
          ],
          "table": [
           {
            "cells": {
             "fill": {
              "color": "#EBF0F8"
             },
             "line": {
              "color": "white"
             }
            },
            "header": {
             "fill": {
              "color": "#C8D4E3"
             },
             "line": {
              "color": "white"
             }
            },
            "type": "table"
           }
          ]
         },
         "layout": {
          "annotationdefaults": {
           "arrowcolor": "#2a3f5f",
           "arrowhead": 0,
           "arrowwidth": 1
          },
          "autotypenumbers": "strict",
          "coloraxis": {
           "colorbar": {
            "outlinewidth": 0,
            "ticks": ""
           }
          },
          "colorscale": {
           "diverging": [
            [
             0,
             "#8e0152"
            ],
            [
             0.1,
             "#c51b7d"
            ],
            [
             0.2,
             "#de77ae"
            ],
            [
             0.3,
             "#f1b6da"
            ],
            [
             0.4,
             "#fde0ef"
            ],
            [
             0.5,
             "#f7f7f7"
            ],
            [
             0.6,
             "#e6f5d0"
            ],
            [
             0.7,
             "#b8e186"
            ],
            [
             0.8,
             "#7fbc41"
            ],
            [
             0.9,
             "#4d9221"
            ],
            [
             1,
             "#276419"
            ]
           ],
           "sequential": [
            [
             0,
             "#0d0887"
            ],
            [
             0.1111111111111111,
             "#46039f"
            ],
            [
             0.2222222222222222,
             "#7201a8"
            ],
            [
             0.3333333333333333,
             "#9c179e"
            ],
            [
             0.4444444444444444,
             "#bd3786"
            ],
            [
             0.5555555555555556,
             "#d8576b"
            ],
            [
             0.6666666666666666,
             "#ed7953"
            ],
            [
             0.7777777777777778,
             "#fb9f3a"
            ],
            [
             0.8888888888888888,
             "#fdca26"
            ],
            [
             1,
             "#f0f921"
            ]
           ],
           "sequentialminus": [
            [
             0,
             "#0d0887"
            ],
            [
             0.1111111111111111,
             "#46039f"
            ],
            [
             0.2222222222222222,
             "#7201a8"
            ],
            [
             0.3333333333333333,
             "#9c179e"
            ],
            [
             0.4444444444444444,
             "#bd3786"
            ],
            [
             0.5555555555555556,
             "#d8576b"
            ],
            [
             0.6666666666666666,
             "#ed7953"
            ],
            [
             0.7777777777777778,
             "#fb9f3a"
            ],
            [
             0.8888888888888888,
             "#fdca26"
            ],
            [
             1,
             "#f0f921"
            ]
           ]
          },
          "colorway": [
           "#636efa",
           "#EF553B",
           "#00cc96",
           "#ab63fa",
           "#FFA15A",
           "#19d3f3",
           "#FF6692",
           "#B6E880",
           "#FF97FF",
           "#FECB52"
          ],
          "font": {
           "color": "#2a3f5f"
          },
          "geo": {
           "bgcolor": "white",
           "lakecolor": "white",
           "landcolor": "#E5ECF6",
           "showlakes": true,
           "showland": true,
           "subunitcolor": "white"
          },
          "hoverlabel": {
           "align": "left"
          },
          "hovermode": "closest",
          "mapbox": {
           "style": "light"
          },
          "paper_bgcolor": "white",
          "plot_bgcolor": "#E5ECF6",
          "polar": {
           "angularaxis": {
            "gridcolor": "white",
            "linecolor": "white",
            "ticks": ""
           },
           "bgcolor": "#E5ECF6",
           "radialaxis": {
            "gridcolor": "white",
            "linecolor": "white",
            "ticks": ""
           }
          },
          "scene": {
           "xaxis": {
            "backgroundcolor": "#E5ECF6",
            "gridcolor": "white",
            "gridwidth": 2,
            "linecolor": "white",
            "showbackground": true,
            "ticks": "",
            "zerolinecolor": "white"
           },
           "yaxis": {
            "backgroundcolor": "#E5ECF6",
            "gridcolor": "white",
            "gridwidth": 2,
            "linecolor": "white",
            "showbackground": true,
            "ticks": "",
            "zerolinecolor": "white"
           },
           "zaxis": {
            "backgroundcolor": "#E5ECF6",
            "gridcolor": "white",
            "gridwidth": 2,
            "linecolor": "white",
            "showbackground": true,
            "ticks": "",
            "zerolinecolor": "white"
           }
          },
          "shapedefaults": {
           "line": {
            "color": "#2a3f5f"
           }
          },
          "ternary": {
           "aaxis": {
            "gridcolor": "white",
            "linecolor": "white",
            "ticks": ""
           },
           "baxis": {
            "gridcolor": "white",
            "linecolor": "white",
            "ticks": ""
           },
           "bgcolor": "#E5ECF6",
           "caxis": {
            "gridcolor": "white",
            "linecolor": "white",
            "ticks": ""
           }
          },
          "title": {
           "x": 0.05
          },
          "xaxis": {
           "automargin": true,
           "gridcolor": "white",
           "linecolor": "white",
           "ticks": "",
           "title": {
            "standoff": 15
           },
           "zerolinecolor": "white",
           "zerolinewidth": 2
          },
          "yaxis": {
           "automargin": true,
           "gridcolor": "white",
           "linecolor": "white",
           "ticks": "",
           "title": {
            "standoff": 15
           },
           "zerolinecolor": "white",
           "zerolinewidth": 2
          }
         }
        },
        "updatemenus": [
         {
          "buttons": [
           {
            "args": [
             null,
             {
              "frame": {
               "duration": 500,
               "redraw": false
              },
              "fromcurrent": true,
              "mode": "immediate",
              "transition": {
               "duration": 500,
               "easing": "linear"
              }
             }
            ],
            "label": "&#9654;",
            "method": "animate"
           },
           {
            "args": [
             [
              null
             ],
             {
              "frame": {
               "duration": 0,
               "redraw": false
              },
              "fromcurrent": true,
              "mode": "immediate",
              "transition": {
               "duration": 0,
               "easing": "linear"
              }
             }
            ],
            "label": "&#9724;",
            "method": "animate"
           }
          ],
          "direction": "left",
          "pad": {
           "r": 10,
           "t": 70
          },
          "showactive": false,
          "type": "buttons",
          "x": 0.1,
          "xanchor": "right",
          "y": 0,
          "yanchor": "top"
         }
        ],
        "xaxis": {
         "anchor": "y",
         "domain": [
          0,
          1
         ],
         "range": [
          2,
          5
         ],
         "title": {
          "text": "gdpPercap"
         },
         "type": "log"
        },
        "yaxis": {
         "anchor": "x",
         "domain": [
          0,
          1
         ],
         "range": [
          20,
          100
         ],
         "title": {
          "text": "lifeExp"
         }
        }
       }
      }
     },
     "metadata": {},
     "output_type": "display_data"
    }
   ],
   "source": [
    "px.scatter(df, x='gdpPercap', y='lifeExp', size='pop', color='continent',\n",
    "           animation_frame='year', animation_group='country',\n",
    "           log_x=True, size_max=55, range_x=[100,100000], range_y=[20,100])\n"
   ]
  }
 ],
 "metadata": {
  "kernelspec": {
   "display_name": "ydata_profiling",
   "language": "python",
   "name": "python3"
  },
  "language_info": {
   "codemirror_mode": {
    "name": "ipython",
    "version": 3
   },
   "file_extension": ".py",
   "mimetype": "text/x-python",
   "name": "python",
   "nbconvert_exporter": "python",
   "pygments_lexer": "ipython3",
   "version": "3.10.0"
  }
 },
 "nbformat": 4,
 "nbformat_minor": 5
}
