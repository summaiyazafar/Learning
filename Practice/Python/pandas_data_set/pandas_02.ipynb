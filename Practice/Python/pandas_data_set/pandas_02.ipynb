{
 "cells": [
  {
   "cell_type": "markdown",
   "id": "bb101234",
   "metadata": {},
   "source": [
    "#Pandas Day-2:"
   ]
  },
  {
   "cell_type": "code",
   "execution_count": null,
   "id": "537f4fb5",
   "metadata": {},
   "outputs": [],
   "source": [
    "import pandas as pd\n",
    "pd.__version__\n",
    "pd.show_versions()"
   ]
  },
  {
   "cell_type": "markdown",
   "id": "027758ef",
   "metadata": {},
   "source": [
    "#Make a DataFrame"
   ]
  },
  {
   "cell_type": "code",
   "execution_count": null,
   "id": "ed7d9315",
   "metadata": {},
   "outputs": [],
   "source": [
    "df=pd.DataFrame({\"col_a\":[1,2,3],\"b_col\":[4,5,6]})\n",
    "df.head()"
   ]
  },
  {
   "cell_type": "markdown",
   "id": "acb47cad",
   "metadata": {},
   "source": [
    "#Numpy use in dataframe:"
   ]
  },
  {
   "cell_type": "code",
   "execution_count": null,
   "id": "c6d25091",
   "metadata": {},
   "outputs": [],
   "source": [
    "import numpy as np\n",
    "arr=np.array([[1,2,3,4],[5,6,7,8]])\n",
    "arr=pd.DataFrame(arr)\n",
    "arr"
   ]
  },
  {
   "cell_type": "markdown",
   "id": "dbea3cf0",
   "metadata": {},
   "source": [
    "#numpy array"
   ]
  },
  {
   "cell_type": "code",
   "execution_count": null,
   "id": "ac5cbbbe",
   "metadata": {},
   "outputs": [],
   "source": [
    " pd.DataFrame(np.random.rand(5,10), columns=list(\"abcdefgijh\"))\n"
   ]
  },
  {
   "cell_type": "code",
   "execution_count": null,
   "id": "6b656331",
   "metadata": {},
   "outputs": [],
   "source": [
    "pd.DataFrame(np.random.rand(50,100))"
   ]
  },
  {
   "cell_type": "markdown",
   "id": "377d5f49",
   "metadata": {},
   "source": [
    "#rename the columns:"
   ]
  },
  {
   "cell_type": "code",
   "execution_count": null,
   "id": "c909b035",
   "metadata": {},
   "outputs": [],
   "source": [
    "df=pd.DataFrame({\"a\":[1,2,3],\"b\":[4,5,6]})\n",
    "df\n",
    "df.rename(columns={\"a\":\"col_a\",\"b\":\"col_b\"}, inplace=True)\n",
    "df.columns=[\"col a\", \"col b\"]#short forms of renaming\n",
    "df"
   ]
  },
  {
   "cell_type": "markdown",
   "id": "e0bb66eb",
   "metadata": {},
   "source": [
    "#to replace any character or string:"
   ]
  },
  {
   "cell_type": "code",
   "execution_count": null,
   "id": "d864fe54",
   "metadata": {},
   "outputs": [],
   "source": [
    "df=pd.DataFrame({\"col_a\":[1,2,3],\"col_b\":[4,5,6]})\n",
    "df.columns=df.columns.str.replace(\"_\",\"-\")\n",
    "df"
   ]
  },
  {
   "cell_type": "markdown",
   "id": "e206aa82",
   "metadata": {},
   "source": [
    "#add prefix"
   ]
  },
  {
   "cell_type": "code",
   "execution_count": null,
   "id": "80fad42d",
   "metadata": {},
   "outputs": [],
   "source": [
    "df=pd.DataFrame({\"col_a\":[1,2,3],\"col_b\":[4,5,6]})\n",
    "df=df.add_prefix(\"gull_\")\n",
    "df"
   ]
  },
  {
   "cell_type": "markdown",
   "id": "7355330f",
   "metadata": {},
   "source": [
    "#add suffix:"
   ]
  },
  {
   "cell_type": "code",
   "execution_count": null,
   "id": "23cefcf8",
   "metadata": {},
   "outputs": [],
   "source": [
    "df=pd.DataFrame({'cell_1':[1,2,3,4,5,6],\"col_2\":[6,7,8,9,0,1]})\n",
    "df=df.add_suffix(\"0\")\n",
    "# df"
   ]
  },
  {
   "cell_type": "markdown",
   "id": "2809a528",
   "metadata": {},
   "source": [
    "#Using Templates data:"
   ]
  },
  {
   "cell_type": "code",
   "execution_count": 102,
   "id": "792efad8",
   "metadata": {},
   "outputs": [],
   "source": [
    "import pandas as pd\n",
    "import numpy as np\n",
    "import seaborn as sns\n",
    "df=sns.load_dataset(\"tips\")\n",
    "# df"
   ]
  },
  {
   "cell_type": "markdown",
   "id": "447f3b4d",
   "metadata": {},
   "source": [
    "#describe data"
   ]
  },
  {
   "cell_type": "code",
   "execution_count": null,
   "id": "6c2a04b5",
   "metadata": {},
   "outputs": [
    {
     "data": {
      "text/plain": [
       "Index(['total_bill', 'tip', 'sex', 'smoker', 'day', 'time', 'size'], dtype='object')"
      ]
     },
     "execution_count": 108,
     "metadata": {},
     "output_type": "execute_result"
    }
   ],
   "source": [
    "import pandas as pd\n",
    "import numpy as np\n",
    "import seaborn as sns\n",
    "df=sns.load_dataset(\"tips\")\n",
    "df.describe()\n"
   ]
  },
  {
   "cell_type": "markdown",
   "id": "e45a68e8",
   "metadata": {},
   "source": [
    "#columns name"
   ]
  },
  {
   "cell_type": "code",
   "execution_count": null,
   "id": "8cda8766",
   "metadata": {},
   "outputs": [],
   "source": [
    "import pandas as pd\n",
    "import numpy as np\n",
    "import seaborn as sns\n",
    "df=sns.load_dataset(\"tips\")\n",
    "df.columns"
   ]
  },
  {
   "cell_type": "code",
   "execution_count": null,
   "id": "a7e50f67",
   "metadata": {},
   "outputs": [],
   "source": [
    "df.to_csv(\"tips_save.csv\")#csv file mai data store\n",
    "df.to_excel(\"tips_save.xlsx\")#excel sheet mai data store"
   ]
  },
  {
   "cell_type": "markdown",
   "id": "a1efe456",
   "metadata": {},
   "source": [
    "#Using your own data:"
   ]
  },
  {
   "cell_type": "code",
   "execution_count": 112,
   "id": "9fd44653",
   "metadata": {},
   "outputs": [],
   "source": [
    "import pandas as pd\n",
    "df=pd.read_csv(\"tips_save.csv\")#csv file\n",
    "# df.head()"
   ]
  },
  {
   "cell_type": "code",
   "execution_count": 115,
   "id": "dd7e3421",
   "metadata": {},
   "outputs": [],
   "source": [
    "import pandas as pd\n",
    "df=pd.read_excel(\"tips_save.xlsx\")#csv file\n",
    "# df.head()"
   ]
  },
  {
   "cell_type": "code",
   "execution_count": 117,
   "id": "8b023cfd",
   "metadata": {},
   "outputs": [
    {
     "data": {
      "text/plain": [
       "Index(['Unnamed: 0', 'total_bill', 'tip', 'sex', 'smoker', 'day', 'time',\n",
       "       'size'],\n",
       "      dtype='object')"
      ]
     },
     "execution_count": 117,
     "metadata": {},
     "output_type": "execute_result"
    }
   ],
   "source": [
    "import pandas as pd\n",
    "df=pd.read_csv(\"tips_save.csv\")\n",
    "df.columns"
   ]
  }
 ],
 "metadata": {
  "kernelspec": {
   "display_name": "ml_env",
   "language": "python",
   "name": "python3"
  },
  "language_info": {
   "codemirror_mode": {
    "name": "ipython",
    "version": 3
   },
   "file_extension": ".py",
   "mimetype": "text/x-python",
   "name": "python",
   "nbconvert_exporter": "python",
   "pygments_lexer": "ipython3",
   "version": "3.9.23"
  }
 },
 "nbformat": 4,
 "nbformat_minor": 5
}
