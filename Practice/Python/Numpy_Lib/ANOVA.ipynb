{
 "cells": [
  {
   "cell_type": "markdown",
   "id": "95910cd4",
   "metadata": {},
   "source": [
    "# ANOVA\n",
    "Analysis of Variance "
   ]
  },
  {
   "cell_type": "code",
   "execution_count": 2,
   "id": "6687f7ef",
   "metadata": {},
   "outputs": [
    {
     "name": "stdout",
     "output_type": "stream",
     "text": [
      "p_val : 8.400216501070228e-06, variance are not equal(reject to H0)\n"
     ]
    }
   ],
   "source": [
    "import scipy.stats as stats\n",
    "\n",
    "# sample data\n",
    "a= [1.2, 3.4, 5.3, 6.4, 4.5]\n",
    "b= [11.2, 12.4, 15.3, 13.4, 14.5]\n",
    "c= [41.2, 23.4, 25.3, 26.4, 24.5]\n",
    "\n",
    "# perform one-way ANOVA\n",
    "f_stats, p_val= stats.f_oneway(a, b, c)\n",
    "\n",
    "#print the results based on if else conditions\n",
    "if p_val > 0.5:\n",
    "    print(f'p_val : {p_val}, variance are equal (fail to reject H0)')\n",
    "else:\n",
    "    print(f'p_val : {p_val}, variance are not equal(reject to H0)')"
   ]
  },
  {
   "cell_type": "markdown",
   "id": "ad2761d9",
   "metadata": {},
   "source": [
    "# One-way ANOVA:"
   ]
  },
  {
   "cell_type": "code",
   "execution_count": 3,
   "id": "3183b305",
   "metadata": {},
   "outputs": [
    {
     "name": "stdout",
     "output_type": "stream",
     "text": [
      "F-statistics: 56.81818181818174\n",
      "p-value: 7.592684063967297e-07\n",
      "Reject the null hypothesis: The means are not equal, as the p-value 7.592684063967297e-07, are less than 0.05\n"
     ]
    }
   ],
   "source": [
    "fertilizer1= [10, 13, 12, 18, 14]\n",
    "fertilizer2= [20, 23, 22, 28, 24]\n",
    "fertilizer3= [30, 33, 32, 38, 34]\n",
    "\n",
    "#perform one-way anova \n",
    "f_stat, p_val= stats.f_oneway(fertilizer1, fertilizer2, fertilizer3)\n",
    "\n",
    "print('F-statistics:', f_stat)\n",
    "print('p-value:', p_val)\n",
    "\n",
    "if p_val < 0.5:\n",
    "    print(f'Reject the null hypothesis: The means are not equal, as the p-value {p_val}, are less than 0.05')\n",
    "else:\n",
    "    print(f'Reject the null hypothesis: The means are not equal, as the p-value {p_val}, are greater than 0.05')"
   ]
  },
  {
   "cell_type": "code",
   "execution_count": 7,
   "id": "fac2613a",
   "metadata": {},
   "outputs": [],
   "source": [
    "#one-way ANOVA using statsmodels\n",
    "import pandas as pd\n",
    "import statsmodels.api as sm\n",
    "from statsmodels.formula.api import ols"
   ]
  },
  {
   "cell_type": "code",
   "execution_count": 10,
   "id": "57642606",
   "metadata": {},
   "outputs": [
    {
     "data": {
      "text/html": [
       "<div>\n",
       "<style scoped>\n",
       "    .dataframe tbody tr th:only-of-type {\n",
       "        vertical-align: middle;\n",
       "    }\n",
       "\n",
       "    .dataframe tbody tr th {\n",
       "        vertical-align: top;\n",
       "    }\n",
       "\n",
       "    .dataframe thead th {\n",
       "        text-align: right;\n",
       "    }\n",
       "</style>\n",
       "<table border=\"1\" class=\"dataframe\">\n",
       "  <thead>\n",
       "    <tr style=\"text-align: right;\">\n",
       "      <th></th>\n",
       "      <th>fertilizer</th>\n",
       "      <th>growth</th>\n",
       "    </tr>\n",
       "  </thead>\n",
       "  <tbody>\n",
       "    <tr>\n",
       "      <th>0</th>\n",
       "      <td>fertilizer1</td>\n",
       "      <td>10</td>\n",
       "    </tr>\n",
       "    <tr>\n",
       "      <th>1</th>\n",
       "      <td>fertilizer1</td>\n",
       "      <td>13</td>\n",
       "    </tr>\n",
       "    <tr>\n",
       "      <th>2</th>\n",
       "      <td>fertilizer1</td>\n",
       "      <td>12</td>\n",
       "    </tr>\n",
       "    <tr>\n",
       "      <th>3</th>\n",
       "      <td>fertilizer1</td>\n",
       "      <td>18</td>\n",
       "    </tr>\n",
       "    <tr>\n",
       "      <th>4</th>\n",
       "      <td>fertilizer1</td>\n",
       "      <td>14</td>\n",
       "    </tr>\n",
       "  </tbody>\n",
       "</table>\n",
       "</div>"
      ],
      "text/plain": [
       "    fertilizer  growth\n",
       "0  fertilizer1      10\n",
       "1  fertilizer1      13\n",
       "2  fertilizer1      12\n",
       "3  fertilizer1      18\n",
       "4  fertilizer1      14"
      ]
     },
     "execution_count": 10,
     "metadata": {},
     "output_type": "execute_result"
    }
   ],
   "source": [
    "# Create a dataframe\n",
    "df=pd.DataFrame({'fertilizer': ['fertilizer1']*5 + ['fertilizer2']*5 + ['fertilizer3']*5, \n",
    "                 'growth': fertilizer1+ fertilizer2+ fertilizer3})\n",
    "df.head()"
   ]
  },
  {
   "cell_type": "code",
   "execution_count": 13,
   "id": "6eab2e05",
   "metadata": {},
   "outputs": [
    {
     "data": {
      "text/plain": [
       "fertilizer\n",
       "fertilizer1    5\n",
       "fertilizer2    5\n",
       "fertilizer3    5\n",
       "Name: count, dtype: int64"
      ]
     },
     "execution_count": 13,
     "metadata": {},
     "output_type": "execute_result"
    }
   ],
   "source": [
    "df['fertilizer'].value_counts()"
   ]
  },
  {
   "cell_type": "code",
   "execution_count": 11,
   "id": "a34a96a7",
   "metadata": {},
   "outputs": [],
   "source": [
    "# Fit the models\n",
    "models= ols('growth ~ fertilizer', data=df).fit()"
   ]
  },
  {
   "cell_type": "code",
   "execution_count": 12,
   "id": "1b4e3844",
   "metadata": {},
   "outputs": [
    {
     "name": "stdout",
     "output_type": "stream",
     "text": [
      "            sum_sq    df          F        PR(>F)\n",
      "fertilizer  1000.0   2.0  56.818182  7.592684e-07\n",
      "Residual     105.6  12.0        NaN           NaN\n"
     ]
    }
   ],
   "source": [
    "# Perform ANOVA and print the summary table\n",
    "anova_tab= sm.stats.anova_lm(models, typ=2)\n",
    "print(anova_tab)"
   ]
  },
  {
   "cell_type": "code",
   "execution_count": 14,
   "id": "1c5442aa",
   "metadata": {},
   "outputs": [
    {
     "name": "stdout",
     "output_type": "stream",
     "text": [
      "Reject the null hypothesis: The means are not equal, as the p-value 7.592684063967297e-07, are less than 0.05\n"
     ]
    },
    {
     "name": "stderr",
     "output_type": "stream",
     "text": [
      "C:\\Users\\Summaiya\\AppData\\Local\\Temp\\ipykernel_5396\\590560378.py:2: FutureWarning: Series.__getitem__ treating keys as positions is deprecated. In a future version, integer keys will always be treated as labels (consistent with DataFrame behavior). To access a value by position, use `ser.iloc[pos]`\n",
      "  if anova_tab['PR(>F)'][0] < 0.05:\n"
     ]
    }
   ],
   "source": [
    "#print the results based on if the p-value is less than 0.05\n",
    "if anova_tab['PR(>F)'][0] < 0.05:\n",
    "    print(f'Reject the null hypothesis: The means are not equal, as the p-value {p_val}, are less than 0.05')\n",
    "else:\n",
    "    print(f'Accept the null hypothesis: The means are not equal, as the p-value {p_val}, are greater than 0.05')"
   ]
  }
 ],
 "metadata": {
  "kernelspec": {
   "display_name": "ydata_profiling",
   "language": "python",
   "name": "python3"
  },
  "language_info": {
   "codemirror_mode": {
    "name": "ipython",
    "version": 3
   },
   "file_extension": ".py",
   "mimetype": "text/x-python",
   "name": "python",
   "nbconvert_exporter": "python",
   "pygments_lexer": "ipython3",
   "version": "3.10.0"
  }
 },
 "nbformat": 4,
 "nbformat_minor": 5
}
