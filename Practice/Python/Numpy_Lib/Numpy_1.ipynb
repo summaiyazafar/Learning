{
 "cells": [
  {
   "cell_type": "markdown",
   "id": "bb30aa51",
   "metadata": {},
   "source": [
    "# `Numpy` For Data Science:"
   ]
  },
  {
   "cell_type": "code",
   "execution_count": 2,
   "id": "160d56f6",
   "metadata": {},
   "outputs": [],
   "source": [
    "import numpy as np"
   ]
  },
  {
   "cell_type": "code",
   "execution_count": 3,
   "id": "ca0f5fe8",
   "metadata": {},
   "outputs": [
    {
     "name": "stdout",
     "output_type": "stream",
     "text": [
      "[0 1 2 3 4 5]\n"
     ]
    }
   ],
   "source": [
    "a= np.arange(6)  # a range  \n",
    "print(a)"
   ]
  },
  {
   "cell_type": "code",
   "execution_count": 4,
   "id": "b0bcc26e",
   "metadata": {},
   "outputs": [
    {
     "name": "stdout",
     "output_type": "stream",
     "text": [
      "[[0 1 2 3 4 5]]\n"
     ]
    }
   ],
   "source": [
    "a2=a[np.newaxis, :]\n",
    "print(a2)"
   ]
  },
  {
   "cell_type": "code",
   "execution_count": 5,
   "id": "680ae45e",
   "metadata": {},
   "outputs": [
    {
     "name": "stdout",
     "output_type": "stream",
     "text": [
      "[[0]\n",
      " [1]\n",
      " [2]\n",
      " [3]\n",
      " [4]\n",
      " [5]]\n"
     ]
    }
   ],
   "source": [
    "a2=a[:, np.newaxis]\n",
    "print(a2)"
   ]
  },
  {
   "cell_type": "code",
   "execution_count": 6,
   "id": "b51c60dc",
   "metadata": {},
   "outputs": [
    {
     "name": "stdout",
     "output_type": "stream",
     "text": [
      "[[[0]\n",
      "  [1]\n",
      "  [2]\n",
      "  [3]\n",
      "  [4]\n",
      "  [5]]]\n"
     ]
    }
   ],
   "source": [
    "a3= a2[np.newaxis, :]\n",
    "print(a3)"
   ]
  },
  {
   "cell_type": "code",
   "execution_count": 7,
   "id": "d57c8bb2",
   "metadata": {},
   "outputs": [
    {
     "name": "stdout",
     "output_type": "stream",
     "text": [
      "[[[0]]\n",
      "\n",
      " [[1]]\n",
      "\n",
      " [[2]]\n",
      "\n",
      " [[3]]\n",
      "\n",
      " [[4]]\n",
      "\n",
      " [[5]]]\n"
     ]
    }
   ],
   "source": [
    "a3=a2[:, np.newaxis]\n",
    "print(a3)"
   ]
  },
  {
   "cell_type": "markdown",
   "id": "c0274382",
   "metadata": {},
   "source": [
    "# Creating Arrays with Numpy:"
   ]
  },
  {
   "cell_type": "code",
   "execution_count": 8,
   "id": "279807ec",
   "metadata": {},
   "outputs": [],
   "source": [
    "aa=np.array([0,1,2,3,4,5])\n",
    "bb=np.array([(0,1,2,3,4,5), (6,7,8,9,10,11)])"
   ]
  },
  {
   "cell_type": "code",
   "execution_count": 9,
   "id": "a7e57ce2",
   "metadata": {},
   "outputs": [
    {
     "data": {
      "text/plain": [
       "(6,)"
      ]
     },
     "execution_count": 9,
     "metadata": {},
     "output_type": "execute_result"
    }
   ],
   "source": [
    "aa.shape"
   ]
  },
  {
   "cell_type": "code",
   "execution_count": 10,
   "id": "c17d6d3c",
   "metadata": {},
   "outputs": [
    {
     "data": {
      "text/plain": [
       "(2, 6)"
      ]
     },
     "execution_count": 10,
     "metadata": {},
     "output_type": "execute_result"
    }
   ],
   "source": [
    "bb.shape"
   ]
  },
  {
   "cell_type": "markdown",
   "id": "5f9106f2",
   "metadata": {},
   "source": [
    "# Initialization Array:"
   ]
  },
  {
   "cell_type": "code",
   "execution_count": 11,
   "id": "9e89d71f",
   "metadata": {},
   "outputs": [
    {
     "name": "stdout",
     "output_type": "stream",
     "text": [
      "[[0. 0. 0. 0. 0.]\n",
      " [0. 0. 0. 0. 0.]]\n"
     ]
    }
   ],
   "source": [
    "a4=np.zeros([2,5])\n",
    "print(a4)"
   ]
  },
  {
   "cell_type": "code",
   "execution_count": 12,
   "id": "78fb57b0",
   "metadata": {},
   "outputs": [
    {
     "name": "stdout",
     "output_type": "stream",
     "text": [
      "[[1. 1. 1. 1.]\n",
      " [1. 1. 1. 1.]]\n"
     ]
    }
   ],
   "source": [
    "b1=np.ones([2,4])\n",
    "print(b1)"
   ]
  },
  {
   "cell_type": "code",
   "execution_count": 13,
   "id": "de247fcf",
   "metadata": {},
   "outputs": [
    {
     "name": "stdout",
     "output_type": "stream",
     "text": [
      "[[4 4 4 4 4]\n",
      " [4 4 4 4 4]]\n"
     ]
    }
   ],
   "source": [
    "c5=np.full([2,5], 4)\n",
    "print(c5)"
   ]
  },
  {
   "cell_type": "markdown",
   "id": "c2b11d35",
   "metadata": {},
   "source": [
    "# Creating a `identity matrix`:"
   ]
  },
  {
   "cell_type": "code",
   "execution_count": 14,
   "id": "68a9e785",
   "metadata": {},
   "outputs": [
    {
     "name": "stdout",
     "output_type": "stream",
     "text": [
      "[[1. 0. 0. 0. 0.]\n",
      " [0. 1. 0. 0. 0.]\n",
      " [0. 0. 1. 0. 0.]\n",
      " [0. 0. 0. 1. 0.]\n",
      " [0. 0. 0. 0. 1.]]\n"
     ]
    }
   ],
   "source": [
    "identity = np.eye(5)\n",
    "print(identity)"
   ]
  },
  {
   "cell_type": "markdown",
   "id": "73b1a72c",
   "metadata": {},
   "source": [
    "# Array Atribute:"
   ]
  },
  {
   "cell_type": "code",
   "execution_count": 15,
   "id": "5090f4de",
   "metadata": {},
   "outputs": [
    {
     "data": {
      "text/plain": [
       "(6,)"
      ]
     },
     "execution_count": 15,
     "metadata": {},
     "output_type": "execute_result"
    }
   ],
   "source": [
    "a.shape #shape of the array"
   ]
  },
  {
   "cell_type": "code",
   "execution_count": 16,
   "id": "a1de49d0",
   "metadata": {},
   "outputs": [
    {
     "data": {
      "text/plain": [
       "6"
      ]
     },
     "execution_count": 16,
     "metadata": {},
     "output_type": "execute_result"
    }
   ],
   "source": [
    "len(a)    #length of the elements of the array"
   ]
  },
  {
   "cell_type": "code",
   "execution_count": 17,
   "id": "f8065cbb",
   "metadata": {},
   "outputs": [
    {
     "data": {
      "text/plain": [
       "1"
      ]
     },
     "execution_count": 17,
     "metadata": {},
     "output_type": "execute_result"
    }
   ],
   "source": [
    "a.ndim    #diamention of the array"
   ]
  },
  {
   "cell_type": "code",
   "execution_count": 18,
   "id": "47f0d079",
   "metadata": {},
   "outputs": [
    {
     "data": {
      "text/plain": [
       "6"
      ]
     },
     "execution_count": 18,
     "metadata": {},
     "output_type": "execute_result"
    }
   ],
   "source": [
    "a.size #size which is the numbers of the elements in array"
   ]
  },
  {
   "cell_type": "code",
   "execution_count": 19,
   "id": "069ab440",
   "metadata": {},
   "outputs": [
    {
     "data": {
      "text/plain": [
       "2"
      ]
     },
     "execution_count": 19,
     "metadata": {},
     "output_type": "execute_result"
    }
   ],
   "source": [
    "a2.ndim"
   ]
  },
  {
   "cell_type": "markdown",
   "id": "ace0b4ef",
   "metadata": {},
   "source": [
    "# Basics operations:"
   ]
  },
  {
   "cell_type": "code",
   "execution_count": 20,
   "id": "340011d7",
   "metadata": {},
   "outputs": [
    {
     "name": "stdout",
     "output_type": "stream",
     "text": [
      "[0 1 2 3 4 5]\n",
      "[[ 0  1  2  3  4  5]\n",
      " [ 6  7  8  9 10 11]]\n"
     ]
    }
   ],
   "source": [
    "print(aa)\n",
    "print(bb)"
   ]
  },
  {
   "cell_type": "code",
   "execution_count": 21,
   "id": "04e72eb0",
   "metadata": {},
   "outputs": [
    {
     "data": {
      "text/plain": [
       "array([[ 0,  0,  0,  0,  0,  0],\n",
       "       [-6, -6, -6, -6, -6, -6]])"
      ]
     },
     "execution_count": 21,
     "metadata": {},
     "output_type": "execute_result"
    }
   ],
   "source": [
    "g = aa-bb\n",
    "g"
   ]
  },
  {
   "cell_type": "code",
   "execution_count": 22,
   "id": "6fc4c1d1",
   "metadata": {},
   "outputs": [
    {
     "data": {
      "text/plain": [
       "array([[0, 0, 0, 0, 0, 0],\n",
       "       [6, 6, 6, 6, 6, 6]])"
      ]
     },
     "execution_count": 22,
     "metadata": {},
     "output_type": "execute_result"
    }
   ],
   "source": [
    "g = bb- aa\n",
    "g"
   ]
  },
  {
   "cell_type": "code",
   "execution_count": 23,
   "id": "a5fcbf78",
   "metadata": {},
   "outputs": [
    {
     "data": {
      "text/plain": [
       "array([[ 0,  0,  0,  0,  0,  0],\n",
       "       [-6, -6, -6, -6, -6, -6]])"
      ]
     },
     "execution_count": 23,
     "metadata": {},
     "output_type": "execute_result"
    }
   ],
   "source": [
    "f= np.subtract(aa, bb)\n",
    "f"
   ]
  },
  {
   "cell_type": "code",
   "execution_count": 24,
   "id": "cb9a6833",
   "metadata": {},
   "outputs": [
    {
     "data": {
      "text/plain": [
       "array([[ 0,  2,  4,  6,  8, 10],\n",
       "       [ 6,  8, 10, 12, 14, 16]])"
      ]
     },
     "execution_count": 24,
     "metadata": {},
     "output_type": "execute_result"
    }
   ],
   "source": [
    "h= aa +bb\n",
    "h"
   ]
  },
  {
   "cell_type": "code",
   "execution_count": 25,
   "id": "4cf2fb7e",
   "metadata": {},
   "outputs": [
    {
     "data": {
      "text/plain": [
       "array([[ 0,  2,  4,  6,  8, 10],\n",
       "       [ 6,  8, 10, 12, 14, 16]])"
      ]
     },
     "execution_count": 25,
     "metadata": {},
     "output_type": "execute_result"
    }
   ],
   "source": [
    "s= np.add(aa, bb)\n",
    "s"
   ]
  },
  {
   "cell_type": "code",
   "execution_count": 26,
   "id": "52b1670e",
   "metadata": {},
   "outputs": [
    {
     "data": {
      "text/plain": [
       "array([[ 0,  1,  4,  9, 16, 25],\n",
       "       [ 0,  7, 16, 27, 40, 55]])"
      ]
     },
     "execution_count": 26,
     "metadata": {},
     "output_type": "execute_result"
    }
   ],
   "source": [
    "t= np.multiply(aa, bb)\n",
    "t"
   ]
  },
  {
   "cell_type": "code",
   "execution_count": 27,
   "id": "8f9a9a17",
   "metadata": {},
   "outputs": [
    {
     "data": {
      "text/plain": [
       "array([[ 0,  1,  4,  9, 16, 25],\n",
       "       [ 0,  7, 16, 27, 40, 55]])"
      ]
     },
     "execution_count": 27,
     "metadata": {},
     "output_type": "execute_result"
    }
   ],
   "source": [
    "u = aa * bb\n",
    "u"
   ]
  },
  {
   "cell_type": "code",
   "execution_count": 28,
   "id": "0737350b",
   "metadata": {},
   "outputs": [
    {
     "name": "stderr",
     "output_type": "stream",
     "text": [
      "C:\\Users\\Summaiya\\AppData\\Local\\Temp\\ipykernel_8060\\2381988521.py:1: RuntimeWarning: invalid value encountered in divide\n",
      "  v= aa / bb\n"
     ]
    },
    {
     "data": {
      "text/plain": [
       "array([[       nan, 1.        , 1.        , 1.        , 1.        ,\n",
       "        1.        ],\n",
       "       [0.        , 0.14285714, 0.25      , 0.33333333, 0.4       ,\n",
       "        0.45454545]])"
      ]
     },
     "execution_count": 28,
     "metadata": {},
     "output_type": "execute_result"
    }
   ],
   "source": [
    "v= aa / bb\n",
    "v"
   ]
  },
  {
   "cell_type": "code",
   "execution_count": 29,
   "id": "ac79f8ce",
   "metadata": {},
   "outputs": [
    {
     "data": {
      "text/plain": [
       "array([ 0,  1,  4,  9, 16, 25])"
      ]
     },
     "execution_count": 29,
     "metadata": {},
     "output_type": "execute_result"
    }
   ],
   "source": [
    "w= aa** 2\n",
    "w"
   ]
  },
  {
   "cell_type": "code",
   "execution_count": 30,
   "id": "81234637",
   "metadata": {},
   "outputs": [
    {
     "name": "stdout",
     "output_type": "stream",
     "text": [
      "[[6.23042070e-307 4.67296746e-307 1.69121096e-306]\n",
      " [1.29062229e-306 2.22521646e-306 4.79243676e-322]]\n",
      "[1.29062229e-306 2.22521646e-306 4.79243676e-322]\n"
     ]
    }
   ],
   "source": [
    "empty=np.empty((2,3))\n",
    "print(empty)\n",
    "print(empty[1])"
   ]
  },
  {
   "cell_type": "markdown",
   "id": "dbf900e4",
   "metadata": {},
   "source": [
    "## Numpy part-2:"
   ]
  },
  {
   "cell_type": "code",
   "execution_count": 31,
   "id": "2acd1f66",
   "metadata": {},
   "outputs": [
    {
     "data": {
      "text/plain": [
       "array([ 0,  3,  6,  9, 12, 15, 18, 21])"
      ]
     },
     "execution_count": 31,
     "metadata": {},
     "output_type": "execute_result"
    }
   ],
   "source": [
    "odd= np.arange(0,24,3)\n",
    "odd"
   ]
  },
  {
   "cell_type": "code",
   "execution_count": 32,
   "id": "12c47c5e",
   "metadata": {},
   "outputs": [
    {
     "data": {
      "text/plain": [
       "array([0, 2, 4, 6, 8])"
      ]
     },
     "execution_count": 32,
     "metadata": {},
     "output_type": "execute_result"
    }
   ],
   "source": [
    "even= np.arange(0,10,2)\n",
    "even"
   ]
  },
  {
   "cell_type": "markdown",
   "id": "2213d899",
   "metadata": {},
   "source": [
    "# Linear space:(sequence data):"
   ]
  },
  {
   "cell_type": "code",
   "execution_count": 33,
   "id": "863f6b28",
   "metadata": {},
   "outputs": [
    {
     "data": {
      "text/plain": [
       "array([ 0.        , 10.88888889, 21.77777778, 32.66666667, 43.55555556,\n",
       "       54.44444444, 65.33333333, 76.22222222, 87.11111111, 98.        ])"
      ]
     },
     "execution_count": 33,
     "metadata": {},
     "output_type": "execute_result"
    }
   ],
   "source": [
    "lin= np.linspace(0, 98, num=10)\n",
    "lin"
   ]
  },
  {
   "cell_type": "markdown",
   "id": "fd71a75d",
   "metadata": {},
   "source": [
    "# Define the dtype of array: "
   ]
  },
  {
   "cell_type": "code",
   "execution_count": 34,
   "id": "36694e11",
   "metadata": {},
   "outputs": [
    {
     "data": {
      "text/plain": [
       "array([1, 1])"
      ]
     },
     "execution_count": 34,
     "metadata": {},
     "output_type": "execute_result"
    }
   ],
   "source": [
    "x = np.ones(2, dtype=np.int64) \n",
    "x"
   ]
  },
  {
   "cell_type": "code",
   "execution_count": 35,
   "id": "072e3139",
   "metadata": {},
   "outputs": [
    {
     "data": {
      "text/plain": [
       "array([1., 1., 1., 1., 1.])"
      ]
     },
     "execution_count": 35,
     "metadata": {},
     "output_type": "execute_result"
    }
   ],
   "source": [
    "y= np.ones(5, dtype=np.float64)\n",
    "y"
   ]
  },
  {
   "cell_type": "markdown",
   "id": "e5a7d143",
   "metadata": {},
   "source": [
    "# Sorting the array:"
   ]
  },
  {
   "cell_type": "code",
   "execution_count": 36,
   "id": "fa6c13f8",
   "metadata": {},
   "outputs": [
    {
     "data": {
      "text/plain": [
       "array([1, 2, 3, 4, 5, 6, 7, 8])"
      ]
     },
     "execution_count": 36,
     "metadata": {},
     "output_type": "execute_result"
    }
   ],
   "source": [
    "sort=np.array([1,3,2,5,4,8,7,6])\n",
    "np.sort(sort)"
   ]
  },
  {
   "cell_type": "code",
   "execution_count": 37,
   "id": "806df0cd",
   "metadata": {},
   "outputs": [],
   "source": [
    "x=np.array([[1,2], [3,4]])\n",
    "y=np.array([[5,6], [7,8]])\n"
   ]
  },
  {
   "cell_type": "code",
   "execution_count": 38,
   "id": "6e00d041",
   "metadata": {},
   "outputs": [],
   "source": [
    "z=np.concatenate((x,y), axis=1)"
   ]
  },
  {
   "cell_type": "markdown",
   "id": "7c974f74",
   "metadata": {},
   "source": [
    "## Matrix in Numpy lib:"
   ]
  },
  {
   "cell_type": "code",
   "execution_count": 39,
   "id": "1a6ad826",
   "metadata": {},
   "outputs": [
    {
     "data": {
      "text/plain": [
       "array([[ 0,  2,  4,  6,  8, 10, 12, 14, 16, 18],\n",
       "       [20, 22, 24, 26, 28, 30, 32, 34, 36, 38],\n",
       "       [40, 42, 44, 46, 48, 50, 52, 54, 56, 58],\n",
       "       [60, 62, 64, 66, 68, 70, 72, 74, 76, 78],\n",
       "       [80, 82, 84, 86, 88, 90, 92, 94, 96, 98]])"
      ]
     },
     "execution_count": 39,
     "metadata": {},
     "output_type": "execute_result"
    }
   ],
   "source": [
    "matrixs= np.arange(0, 100, 2).reshape(5,10)\n",
    "matrixs"
   ]
  },
  {
   "cell_type": "code",
   "execution_count": 40,
   "id": "a9737753",
   "metadata": {},
   "outputs": [
    {
     "data": {
      "text/plain": [
       "array([[ 6,  8],\n",
       "       [26, 28],\n",
       "       [46, 48]])"
      ]
     },
     "execution_count": 40,
     "metadata": {},
     "output_type": "execute_result"
    }
   ],
   "source": [
    "matrixs[0:3, 3:5]"
   ]
  },
  {
   "cell_type": "code",
   "execution_count": 41,
   "id": "a1cc5149",
   "metadata": {},
   "outputs": [
    {
     "data": {
      "text/plain": [
       "array([[ 6,  8],\n",
       "       [26, 28],\n",
       "       [46, 48],\n",
       "       [66, 68],\n",
       "       [86, 88]])"
      ]
     },
     "execution_count": 41,
     "metadata": {},
     "output_type": "execute_result"
    }
   ],
   "source": [
    "matrixs[0:, 3:5 ]"
   ]
  },
  {
   "cell_type": "code",
   "execution_count": 42,
   "id": "55078ef9",
   "metadata": {},
   "outputs": [
    {
     "data": {
      "text/plain": [
       "array([[ 0,  2,  4,  6,  8, 10, 12, 14, 16, 18],\n",
       "       [20, 22, 24, 26, 28, 30, 32, 34, 36, 38],\n",
       "       [40, 42, 44, 46, 48, 50, 52, 54, 56, 58],\n",
       "       [60, 62, 64, 66, 68, 70, 72, 74, 76, 78],\n",
       "       [80, 82, 84, 86, 88, 90, 92, 94, 96, 98]])"
      ]
     },
     "execution_count": 42,
     "metadata": {},
     "output_type": "execute_result"
    }
   ],
   "source": [
    "matrixs[: , :]"
   ]
  },
  {
   "cell_type": "code",
   "execution_count": 43,
   "id": "6a5deded",
   "metadata": {},
   "outputs": [
    {
     "data": {
      "text/plain": [
       "np.int64(0)"
      ]
     },
     "execution_count": 43,
     "metadata": {},
     "output_type": "execute_result"
    }
   ],
   "source": [
    "matrixs.min()"
   ]
  },
  {
   "cell_type": "code",
   "execution_count": 44,
   "id": "2925ab67",
   "metadata": {},
   "outputs": [
    {
     "data": {
      "text/plain": [
       "np.int64(98)"
      ]
     },
     "execution_count": 44,
     "metadata": {},
     "output_type": "execute_result"
    }
   ],
   "source": [
    "matrixs.max()"
   ]
  },
  {
   "cell_type": "code",
   "execution_count": 45,
   "id": "af05b463",
   "metadata": {},
   "outputs": [
    {
     "data": {
      "text/plain": [
       "np.int64(2450)"
      ]
     },
     "execution_count": 45,
     "metadata": {},
     "output_type": "execute_result"
    }
   ],
   "source": [
    "matrixs.sum()"
   ]
  },
  {
   "cell_type": "code",
   "execution_count": 46,
   "id": "740829df",
   "metadata": {},
   "outputs": [
    {
     "data": {
      "text/plain": [
       "array([80, 82, 84, 86, 88, 90, 92, 94, 96, 98])"
      ]
     },
     "execution_count": 46,
     "metadata": {},
     "output_type": "execute_result"
    }
   ],
   "source": [
    "matrixs.max(axis=0)"
   ]
  },
  {
   "cell_type": "code",
   "execution_count": 47,
   "id": "c3c37929",
   "metadata": {},
   "outputs": [
    {
     "data": {
      "text/plain": [
       "array([ 0,  2,  4,  6,  8, 10, 12, 14, 16, 18])"
      ]
     },
     "execution_count": 47,
     "metadata": {},
     "output_type": "execute_result"
    }
   ],
   "source": [
    "matrixs.min(axis=0)"
   ]
  },
  {
   "cell_type": "code",
   "execution_count": 48,
   "id": "788d891f",
   "metadata": {},
   "outputs": [
    {
     "data": {
      "text/plain": [
       "array([18, 38, 58, 78, 98])"
      ]
     },
     "execution_count": 48,
     "metadata": {},
     "output_type": "execute_result"
    }
   ],
   "source": [
    "matrixs.max(axis=1)"
   ]
  },
  {
   "cell_type": "code",
   "execution_count": 49,
   "id": "0b5f9fa3",
   "metadata": {},
   "outputs": [
    {
     "data": {
      "text/plain": [
       "array([ 0, 20, 40, 60, 80])"
      ]
     },
     "execution_count": 49,
     "metadata": {},
     "output_type": "execute_result"
    }
   ],
   "source": [
    "matrixs.min(axis=1)"
   ]
  },
  {
   "cell_type": "code",
   "execution_count": 65,
   "id": "eb31d7fa",
   "metadata": {},
   "outputs": [
    {
     "data": {
      "text/plain": [
       "array([[ 0,  2,  4,  6,  8, 10, 12, 14, 16, 18, 20, 22, 24],\n",
       "       [26, 28, 30, 32, 34, 36, 38, 40, 42, 44, 46, 48, 50]])"
      ]
     },
     "execution_count": 65,
     "metadata": {},
     "output_type": "execute_result"
    }
   ],
   "source": [
    "arr = np.arange(0, 52, 2).reshape(2, 13)\n",
    "arr\n"
   ]
  },
  {
   "cell_type": "code",
   "execution_count": 59,
   "id": "05c093c6",
   "metadata": {},
   "outputs": [
    {
     "data": {
      "text/plain": [
       "array([[ 0,  2],\n",
       "       [ 4,  6],\n",
       "       [ 8, 10],\n",
       "       [12, 14],\n",
       "       [16, 18]])"
      ]
     },
     "execution_count": 59,
     "metadata": {},
     "output_type": "execute_result"
    }
   ],
   "source": [
    "m= np.arange(0, 20, 2).reshape(5,2)\n",
    "m"
   ]
  },
  {
   "cell_type": "code",
   "execution_count": 60,
   "id": "4428c3c0",
   "metadata": {},
   "outputs": [
    {
     "data": {
      "text/plain": [
       "array([[20, 24],\n",
       "       [24, 28],\n",
       "       [28, 32],\n",
       "       [32, 36],\n",
       "       [36, 40]])"
      ]
     },
     "execution_count": 60,
     "metadata": {},
     "output_type": "execute_result"
    }
   ],
   "source": [
    "m+np.array([20,22])"
   ]
  }
 ],
 "metadata": {
  "kernelspec": {
   "display_name": "ydata_profiling",
   "language": "python",
   "name": "python3"
  },
  "language_info": {
   "codemirror_mode": {
    "name": "ipython",
    "version": 3
   },
   "file_extension": ".py",
   "mimetype": "text/x-python",
   "name": "python",
   "nbconvert_exporter": "python",
   "pygments_lexer": "ipython3",
   "version": "3.10.0"
  }
 },
 "nbformat": 4,
 "nbformat_minor": 5
}
