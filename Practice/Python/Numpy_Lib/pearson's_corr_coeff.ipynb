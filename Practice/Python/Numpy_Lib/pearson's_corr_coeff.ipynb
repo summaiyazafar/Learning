{
 "cells": [
  {
   "cell_type": "markdown",
   "id": "97f38650",
   "metadata": {},
   "source": [
    "# Pearson's Correlation Coefficient:"
   ]
  },
  {
   "cell_type": "code",
   "execution_count": 1,
   "id": "76f1afe2",
   "metadata": {},
   "outputs": [
    {
     "name": "stdout",
     "output_type": "stream",
     "text": [
      "The Pearson correlation coefficient:0.9999999999999998\n"
     ]
    }
   ],
   "source": [
    "import pandas as pd\n",
    "import numpy as np\n",
    "\n",
    "def pearson(x,y):\n",
    "    x_mean= np.mean(x)\n",
    "    y_mean= np.mean(y)\n",
    "    x_std= np.std(x)\n",
    "    y_std= np.std(y)\n",
    "    n=len(x)\n",
    "    return sum((x-x_mean)*(y-y_mean))/(n*x_std*y_std)\n",
    "\n",
    "x=np.array([1,2,3,4,5])\n",
    "y=np.array([6,7,8,9,10])\n",
    "\n",
    "print(f'The Pearson correlation coefficient:{pearson(x,y)}')\n"
   ]
  },
  {
   "cell_type": "code",
   "execution_count": 2,
   "id": "9bcdc22f",
   "metadata": {},
   "outputs": [
    {
     "name": "stdout",
     "output_type": "stream",
     "text": [
      "Highly Positive Correlation\n"
     ]
    }
   ],
   "source": [
    "# Apply the Condition\n",
    "if pearson(x,y) < 0.8 > 0:\n",
    "    print('Positive Correlation')\n",
    "elif pearson(x,y) > 0.8:\n",
    "    print('Highly Positive Correlation')\n",
    "elif pearson(x,y) < -0.8 < 0:\n",
    "    print('Negative Corraltion')\n",
    "elif pearson(x,y) < -0.8:\n",
    "    print('Highly Negative correlation')\n",
    "else:\n",
    "    ('No Correlation')"
   ]
  },
  {
   "cell_type": "markdown",
   "id": "e0301b27",
   "metadata": {},
   "source": [
    "# Spearman's Correlation Coefficient:"
   ]
  },
  {
   "cell_type": "code",
   "execution_count": 3,
   "id": "c318e9d4",
   "metadata": {},
   "outputs": [
    {
     "name": "stdout",
     "output_type": "stream",
     "text": [
      "The Spearman correlation coefficient:0.9999999999999998\n"
     ]
    }
   ],
   "source": [
    "def spearman(x,y):\n",
    "    x_rank= pd.Series(x).rank()\n",
    "    y_rank= pd.Series(y).rank()\n",
    "    return pearson(x_rank, y_rank)\n",
    "\n",
    "print(f'The Spearman correlation coefficient:{spearman(x,y)}')\n"
   ]
  },
  {
   "cell_type": "code",
   "execution_count": 21,
   "id": "5c52bc1e",
   "metadata": {},
   "outputs": [
    {
     "name": "stdout",
     "output_type": "stream",
     "text": [
      "The pearson correlation coefficient:0.39391929857916763\n"
     ]
    }
   ],
   "source": [
    "import pandas as pd\n",
    "import numpy as np\n",
    "\n",
    "x=np.array([1,2,3,4,5])\n",
    "y=np.array([2,4,6,8,3])\n",
    "\n",
    "#pearson corr coefficient\n",
    "pearson= np.corrcoef(x,y)\n",
    "print(f'The pearson correlation coefficient:{pearson[0,1]}')"
   ]
  },
  {
   "cell_type": "code",
   "execution_count": 22,
   "id": "8c84e5e8",
   "metadata": {},
   "outputs": [
    {
     "data": {
      "text/html": [
       "<div>\n",
       "<style scoped>\n",
       "    .dataframe tbody tr th:only-of-type {\n",
       "        vertical-align: middle;\n",
       "    }\n",
       "\n",
       "    .dataframe tbody tr th {\n",
       "        vertical-align: top;\n",
       "    }\n",
       "\n",
       "    .dataframe thead th {\n",
       "        text-align: right;\n",
       "    }\n",
       "</style>\n",
       "<table border=\"1\" class=\"dataframe\">\n",
       "  <thead>\n",
       "    <tr style=\"text-align: right;\">\n",
       "      <th></th>\n",
       "      <th>x</th>\n",
       "      <th>y</th>\n",
       "    </tr>\n",
       "  </thead>\n",
       "  <tbody>\n",
       "    <tr>\n",
       "      <th>0</th>\n",
       "      <td>1</td>\n",
       "      <td>2</td>\n",
       "    </tr>\n",
       "    <tr>\n",
       "      <th>1</th>\n",
       "      <td>2</td>\n",
       "      <td>4</td>\n",
       "    </tr>\n",
       "    <tr>\n",
       "      <th>2</th>\n",
       "      <td>3</td>\n",
       "      <td>6</td>\n",
       "    </tr>\n",
       "    <tr>\n",
       "      <th>3</th>\n",
       "      <td>4</td>\n",
       "      <td>8</td>\n",
       "    </tr>\n",
       "    <tr>\n",
       "      <th>4</th>\n",
       "      <td>5</td>\n",
       "      <td>3</td>\n",
       "    </tr>\n",
       "  </tbody>\n",
       "</table>\n",
       "</div>"
      ],
      "text/plain": [
       "   x  y\n",
       "0  1  2\n",
       "1  2  4\n",
       "2  3  6\n",
       "3  4  8\n",
       "4  5  3"
      ]
     },
     "execution_count": 22,
     "metadata": {},
     "output_type": "execute_result"
    }
   ],
   "source": [
    "# using correlation matrix in pandas\n",
    "df= pd.DataFrame({'x':x, 'y':y})\n",
    "df"
   ]
  },
  {
   "cell_type": "code",
   "execution_count": 24,
   "id": "54bbe616",
   "metadata": {},
   "outputs": [
    {
     "name": "stdout",
     "output_type": "stream",
     "text": [
      "Pearson correlation coefficient:\n",
      "           x         y\n",
      "x  1.000000  0.393919\n",
      "y  0.393919  1.000000\n",
      "=============================\n",
      "Spearman correlation coefficient:\n",
      "      x    y\n",
      "x  1.0  0.4\n",
      "y  0.4  1.0\n",
      "=============================\n",
      "Kendall correlation coefficient: \n",
      "      x    y\n",
      "x  1.0  0.4\n",
      "y  0.4  1.0\n",
      "=============================\n"
     ]
    }
   ],
   "source": [
    "# using correlation matrix in pandas\n",
    "df= pd.DataFrame({'x':x, 'y':y})\n",
    "\n",
    "# pearson's correlation coefficient\n",
    "pearson_corr= df.corr(method='pearson')\n",
    "spearman_corr= df.corr(method='spearman')\n",
    "kendall_corr= df.corr(method= 'kendall')\n",
    "\n",
    "print(f'Pearson correlation coefficient:\\n {pearson_corr}')\n",
    "print('=============================')\n",
    "print(f'Spearman correlation coefficient:\\n {spearman_corr}')\n",
    "print('=============================')\n",
    "print(f'Kendall correlation coefficient: \\n {kendall_corr}')\n",
    "print('=============================')\n"
   ]
  },
  {
   "cell_type": "code",
   "execution_count": 33,
   "id": "d1cb3265",
   "metadata": {},
   "outputs": [
    {
     "data": {
      "image/png": "[encoded data removed]",
      "text/plain": [
       "<Figure size 640x480 with 2 Axes>"
      ]
     },
     "metadata": {},
     "output_type": "display_data"
    }
   ],
   "source": [
    "# Make heatmap with numeric values in each cells \n",
    "import matplotlib.pyplot as plt \n",
    "import seaborn as sns\n",
    "sns.heatmap(pearson_corr, annot=True, cmap=sns.light_palette(\"#fc5603\", as_cmap=True))\n",
    "plt.title('pearson correlation coefficient')\n",
    "plt.show()\n"
   ]
  },
  {
   "cell_type": "code",
   "execution_count": 32,
   "id": "18d0a6cd",
   "metadata": {},
   "outputs": [
    {
     "data": {
      "image/png": "[encoded data removed]",
      "text/plain": [
       "<Figure size 640x480 with 2 Axes>"
      ]
     },
     "metadata": {},
     "output_type": "display_data"
    }
   ],
   "source": [
    "sns.heatmap(kendall_corr, annot=True, cmap='Blues')\n",
    "plt.title('Kendall correlation coefficient')\n",
    "plt.show()"
   ]
  },
  {
   "cell_type": "code",
   "execution_count": 35,
   "id": "30c8ade7",
   "metadata": {},
   "outputs": [
    {
     "data": {
      "image/png": "[encoded data removed]",
      "text/plain": [
       "<Figure size 640x480 with 2 Axes>"
      ]
     },
     "metadata": {},
     "output_type": "display_data"
    }
   ],
   "source": [
    "sns.heatmap(spearman_corr, annot=True, cmap='Blues')\n",
    "plt.title('spearman correlation coefficient')\n",
    "plt.show()"
   ]
  }
 ],
 "metadata": {
  "kernelspec": {
   "display_name": "ydata_profiling",
   "language": "python",
   "name": "python3"
  },
  "language_info": {
   "codemirror_mode": {
    "name": "ipython",
    "version": 3
   },
   "file_extension": ".py",
   "mimetype": "text/x-python",
   "name": "python",
   "nbconvert_exporter": "python",
   "pygments_lexer": "ipython3",
   "version": "3.13.7"
  }
 },
 "nbformat": 4,
 "nbformat_minor": 5
}
